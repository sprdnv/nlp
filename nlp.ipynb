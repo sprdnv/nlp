{
  "nbformat": 4,
  "nbformat_minor": 0,
  "metadata": {
    "colab": {
      "name": "nlp.ipynb",
      "provenance": [],
      "collapsed_sections": [],
      "mount_file_id": "1GeKHGJdReAeUws2g5x4cnUjtQ5h68z6r",
      "authorship_tag": "ABX9TyMXtHCy7th3KW9iSv8bYq4I",
      "include_colab_link": true
    },
    "kernelspec": {
      "name": "python3",
      "display_name": "Python 3"
    },
    "accelerator": "GPU"
  },
  "cells": [
    {
      "cell_type": "markdown",
      "metadata": {
        "id": "view-in-github",
        "colab_type": "text"
      },
      "source": [
        "<a href=\"https://colab.research.google.com/github/sprdnv/nlp/blob/master/nlp.ipynb\" target=\"_parent\"><img src=\"https://colab.research.google.com/assets/colab-badge.svg\" alt=\"Open In Colab\"/></a>"
      ]
    },
    {
      "cell_type": "code",
      "metadata": {
        "id": "L9kSJ_64th8Z",
        "colab_type": "code",
        "colab": {
          "base_uri": "https://localhost:8080/",
          "height": 156
        },
        "outputId": "16ca56f7-49d1-4938-f74f-69c64e6d7d1c"
      },
      "source": [
        "from google.colab import drive\n",
        "drive.mount('/gdrive')\n",
        "%cd /gdrive/'My Drive'/nlp\n",
        "import os\n",
        "os.getcwd()"
      ],
      "execution_count": 1,
      "outputs": [
        {
          "output_type": "stream",
          "text": [
            "Go to this URL in a browser: https://accounts.google.com/o/oauth2/auth?client_id=947318989803-6bn6qk8qdgf4n4g3pfee6491hc0brc4i.apps.googleusercontent.com&redirect_uri=urn%3aietf%3awg%3aoauth%3a2.0%3aoob&response_type=code&scope=email%20https%3a%2f%2fwww.googleapis.com%2fauth%2fdocs.test%20https%3a%2f%2fwww.googleapis.com%2fauth%2fdrive%20https%3a%2f%2fwww.googleapis.com%2fauth%2fdrive.photos.readonly%20https%3a%2f%2fwww.googleapis.com%2fauth%2fpeopleapi.readonly\n",
            "\n",
            "Enter your authorization code:\n",
            "··········\n",
            "Mounted at /gdrive\n",
            "/gdrive/My Drive/nlp\n"
          ],
          "name": "stdout"
        },
        {
          "output_type": "execute_result",
          "data": {
            "text/plain": [
              "'/gdrive/My Drive/nlp'"
            ]
          },
          "metadata": {
            "tags": []
          },
          "execution_count": 1
        }
      ]
    },
    {
      "cell_type": "markdown",
      "metadata": {
        "id": "JcPhYXyft31S",
        "colab_type": "text"
      },
      "source": [
        "Загрузка необходимых библиотек"
      ]
    },
    {
      "cell_type": "code",
      "metadata": {
        "id": "zd1Fd8NJtqLn",
        "colab_type": "code",
        "colab": {
          "base_uri": "https://localhost:8080/",
          "height": 238
        },
        "outputId": "31001518-e47f-4842-faba-1a8adcb8bb5e"
      },
      "source": [
        "!pip install pymorphy2\n",
        "import numpy as np\n",
        "import pandas as pd\n",
        "import re\n",
        "import math\n",
        "from gensim.models import Word2Vec\n",
        "from bs4 import BeautifulSoup\n",
        "from nltk.corpus import stopwords\n",
        "from pymorphy2 import MorphAnalyzer\n",
        "from sklearn.feature_extraction.text import CountVectorizer, TfidfVectorizer\n",
        "from sklearn.model_selection import train_test_split\n",
        "from sklearn.pipeline import make_pipeline\n",
        "from sklearn.metrics import classification_report, roc_auc_score\n",
        "from sklearn.linear_model import LogisticRegression"
      ],
      "execution_count": null,
      "outputs": [
        {
          "output_type": "stream",
          "text": [
            "Collecting pymorphy2\n",
            "\u001b[?25l  Downloading https://files.pythonhosted.org/packages/a3/33/fff9675c68b5f6c63ec8c6e6ff57827dda28a1fa5b2c2d727dffff92dd47/pymorphy2-0.8-py2.py3-none-any.whl (46kB)\n",
            "\r\u001b[K     |███████                         | 10kB 29.7MB/s eta 0:00:01\r\u001b[K     |██████████████▏                 | 20kB 36.0MB/s eta 0:00:01\r\u001b[K     |█████████████████████▎          | 30kB 40.7MB/s eta 0:00:01\r\u001b[K     |████████████████████████████▍   | 40kB 36.4MB/s eta 0:00:01\r\u001b[K     |████████████████████████████████| 51kB 7.1MB/s \n",
            "\u001b[?25hCollecting dawg-python>=0.7\n",
            "  Downloading https://files.pythonhosted.org/packages/6a/84/ff1ce2071d4c650ec85745766c0047ccc3b5036f1d03559fd46bb38b5eeb/DAWG_Python-0.7.2-py2.py3-none-any.whl\n",
            "Collecting pymorphy2-dicts<3.0,>=2.4\n",
            "\u001b[?25l  Downloading https://files.pythonhosted.org/packages/02/51/2465fd4f72328ab50877b54777764d928da8cb15b74e2680fc1bd8cb3173/pymorphy2_dicts-2.4.393442.3710985-py2.py3-none-any.whl (7.1MB)\n",
            "\u001b[K     |████████████████████████████████| 7.1MB 21.0MB/s \n",
            "\u001b[?25hRequirement already satisfied: docopt>=0.6 in /usr/local/lib/python3.6/dist-packages (from pymorphy2) (0.6.2)\n",
            "Installing collected packages: dawg-python, pymorphy2-dicts, pymorphy2\n",
            "Successfully installed dawg-python-0.7.2 pymorphy2-0.8 pymorphy2-dicts-2.4.393442.3710985\n",
            "[nltk_data] Downloading package stopwords to /root/nltk_data...\n",
            "[nltk_data]   Unzipping corpora/stopwords.zip.\n"
          ],
          "name": "stdout"
        }
      ]
    },
    {
      "cell_type": "markdown",
      "metadata": {
        "id": "YDlHugG9uMTS",
        "colab_type": "text"
      },
      "source": [
        "Загрузка и просмотр данных"
      ]
    },
    {
      "cell_type": "code",
      "metadata": {
        "id": "zeV6eOinuJ5r",
        "colab_type": "code",
        "colab": {
          "base_uri": "https://localhost:8080/",
          "height": 513
        },
        "outputId": "912859bf-40c5-4993-d31c-3e59722ddf3c"
      },
      "source": [
        "data = pd.read_csv('train_content.csv')\n",
        "print('Data shape:{}'.format(data.shape))\n",
        "data.head()"
      ],
      "execution_count": null,
      "outputs": [
        {
          "output_type": "stream",
          "text": [
            "Data shape:(172913, 13)\n"
          ],
          "name": "stdout"
        },
        {
          "output_type": "execute_result",
          "data": {
            "text/html": [
              "<div>\n",
              "<style scoped>\n",
              "    .dataframe tbody tr th:only-of-type {\n",
              "        vertical-align: middle;\n",
              "    }\n",
              "\n",
              "    .dataframe tbody tr th {\n",
              "        vertical-align: top;\n",
              "    }\n",
              "\n",
              "    .dataframe thead th {\n",
              "        text-align: right;\n",
              "    }\n",
              "</style>\n",
              "<table border=\"1\" class=\"dataframe\">\n",
              "  <thead>\n",
              "    <tr style=\"text-align: right;\">\n",
              "      <th></th>\n",
              "      <th>_id</th>\n",
              "      <th>date</th>\n",
              "      <th>tags</th>\n",
              "      <th>title</th>\n",
              "      <th>hubs_title</th>\n",
              "      <th>description</th>\n",
              "      <th>name</th>\n",
              "      <th>hub</th>\n",
              "      <th>png</th>\n",
              "      <th>nick</th>\n",
              "      <th>url</th>\n",
              "      <th>content</th>\n",
              "      <th>favs_lognorm</th>\n",
              "    </tr>\n",
              "  </thead>\n",
              "  <tbody>\n",
              "    <tr>\n",
              "      <th>0</th>\n",
              "      <td>https://geektimes.ru/post/21866/</td>\n",
              "      <td>2008-03-17T18:55:00.000Z</td>\n",
              "      <td>['eeepc', 'asus', 'ЭТО', 'эльдорадо', 'ура']</td>\n",
              "      <td>eeePC в продаже. Да. Правда.</td>\n",
              "      <td>Железо</td>\n",
              "      <td>Итак, если 3 дня назад я отписался то что в пр...</td>\n",
              "      <td>Сергей 'pokatusher'</td>\n",
              "      <td>hub/hardware</td>\n",
              "      <td>https://habrastorage.org/getpro/habr/olpicture...</td>\n",
              "      <td>@M_org</td>\n",
              "      <td>https://geektimes.ru/users/M_org</td>\n",
              "      <td>Итак, если 3 дня назад я &lt;a href=\"http://habra...</td>\n",
              "      <td>2.484907</td>\n",
              "    </tr>\n",
              "    <tr>\n",
              "      <th>1</th>\n",
              "      <td>https://habrahabr.ru/company/aladdinrd/blog/30...</td>\n",
              "      <td>2016-06-24T13:02:00.000Z</td>\n",
              "      <td>['Интеграция', 'шифрование', 'Windows', 'Win32...</td>\n",
              "      <td>«Разрубить Гордиев узел» или преодоление пробл...</td>\n",
              "      <td>Системное программирование</td>\n",
              "      <td>Современная операционная система это сложный и...</td>\n",
              "      <td>Аладдин Р.Д.</td>\n",
              "      <td>hub/system_programming</td>\n",
              "      <td>https://habrastorage.org/files/cbd/cf9/5ff/cbd...</td>\n",
              "      <td>NaN</td>\n",
              "      <td>https://habrahabr.ru/company/aladdinrd</td>\n",
              "      <td>Современная операционная система это сложный и...</td>\n",
              "      <td>4.174387</td>\n",
              "    </tr>\n",
              "    <tr>\n",
              "      <th>2</th>\n",
              "      <td>https://geektimes.ru/post/92887/</td>\n",
              "      <td>2010-05-06T10:00:00.000Z</td>\n",
              "      <td>['mc', 'midnight commander', 'diffview', 'merg...</td>\n",
              "      <td>Релиз Midnight Commander 4.7.2 и 4.7.0.5</td>\n",
              "      <td>Чёрная дыра</td>\n",
              "      <td>Спустя 2 месяца упорных трудов вышла новая вер...</td>\n",
              "      <td>Илья Маслаков</td>\n",
              "      <td>hub/closet</td>\n",
              "      <td>https://geektimes.ru/images/logo.png</td>\n",
              "      <td>@smind</td>\n",
              "      <td>https://geektimes.ru/users/smind</td>\n",
              "      <td>Спустя 2 месяца упорных трудов вышла новая вер...</td>\n",
              "      <td>0.000000</td>\n",
              "    </tr>\n",
              "    <tr>\n",
              "      <th>3</th>\n",
              "      <td>https://habrahabr.ru/post/290824/</td>\n",
              "      <td>2015-05-22T11:01:00.000Z</td>\n",
              "      <td>['бизнес-модель', 'бизнес-моделирование']</td>\n",
              "      <td>7 шагов для постройки правильной бизнес-модели</td>\n",
              "      <td>Интернет-маркетинг</td>\n",
              "      <td>Большинство IT предпринимателей сосредотачиваю...</td>\n",
              "      <td>Александр</td>\n",
              "      <td>hub/internetmarketing</td>\n",
              "      <td>https://habrastorage.org/files/50e/211/9a0/50e...</td>\n",
              "      <td>@jasiejames</td>\n",
              "      <td>https://habrahabr.ru/users/jasiejames</td>\n",
              "      <td>&lt;img src=\"https://habrastorage.org/files/50e/2...</td>\n",
              "      <td>3.496508</td>\n",
              "    </tr>\n",
              "    <tr>\n",
              "      <th>4</th>\n",
              "      <td>https://habrahabr.ru/post/190088/</td>\n",
              "      <td>2014-09-04T00:32:00.000Z</td>\n",
              "      <td>['python', 'flask', 'mongodb', 'pet-project']</td>\n",
              "      <td>Thunderargs: практика использования. Часть 2</td>\n",
              "      <td>Программирование</td>\n",
              "      <td>История создания Часть 1  Добрый день. Вкратце...</td>\n",
              "      <td>Данияр Супиев</td>\n",
              "      <td>hub/programming</td>\n",
              "      <td>https://habrahabr.ru/i/habralogo.jpg</td>\n",
              "      <td>@uthunderbird</td>\n",
              "      <td>https://habrahabr.ru/users/uthunderbird</td>\n",
              "      <td>&lt;a href=\"http://habrahabr.ru/post/223041/\"&gt;Ист...</td>\n",
              "      <td>3.688879</td>\n",
              "    </tr>\n",
              "  </tbody>\n",
              "</table>\n",
              "</div>"
            ],
            "text/plain": [
              "                                                 _id  ... favs_lognorm\n",
              "0                   https://geektimes.ru/post/21866/  ...     2.484907\n",
              "1  https://habrahabr.ru/company/aladdinrd/blog/30...  ...     4.174387\n",
              "2                   https://geektimes.ru/post/92887/  ...     0.000000\n",
              "3                  https://habrahabr.ru/post/290824/  ...     3.496508\n",
              "4                  https://habrahabr.ru/post/190088/  ...     3.688879\n",
              "\n",
              "[5 rows x 13 columns]"
            ]
          },
          "metadata": {
            "tags": []
          },
          "execution_count": 3
        }
      ]
    },
    {
      "cell_type": "markdown",
      "metadata": {
        "id": "k-Zrx2NAufik",
        "colab_type": "text"
      },
      "source": [
        "Добавим новый столбец, соответствущий длине статьи"
      ]
    },
    {
      "cell_type": "code",
      "metadata": {
        "id": "yaTScQkUuJ3D",
        "colab_type": "code",
        "colab": {}
      },
      "source": [
        "data['content'] = data['content'].apply(str)\n",
        "data['len_of_rev'] = [len(text) for text in data['content']]"
      ],
      "execution_count": null,
      "outputs": []
    },
    {
      "cell_type": "markdown",
      "metadata": {
        "id": "OAoY9t7muq7S",
        "colab_type": "text"
      },
      "source": [
        "Преобразуем дату к более удобному формату и посмотрим на то, как распределены количество и средние длины статей по годам"
      ]
    },
    {
      "cell_type": "code",
      "metadata": {
        "id": "x5XisQ-_uJ1z",
        "colab_type": "code",
        "colab": {
          "base_uri": "https://localhost:8080/",
          "height": 514
        },
        "outputId": "86471db3-1c29-403b-9995-7657199f86da"
      },
      "source": [
        "data['date'] = data['date'].apply(pd.to_datetime)\n",
        "data['year'] = data['date'].apply(lambda x: x.year)\n",
        "data['month'] = data['date'].apply(lambda x: x.month)\n",
        "data.pivot_table(index='month', columns='year', values=['content', 'len_of_rev'], aggfunc={'content' : 'count', 'len_of_rev' : 'mean'}, margins=True).round()"
      ],
      "execution_count": null,
      "outputs": [
        {
          "output_type": "execute_result",
          "data": {
            "text/html": [
              "<div>\n",
              "<style scoped>\n",
              "    .dataframe tbody tr th:only-of-type {\n",
              "        vertical-align: middle;\n",
              "    }\n",
              "\n",
              "    .dataframe tbody tr th {\n",
              "        vertical-align: top;\n",
              "    }\n",
              "\n",
              "    .dataframe thead tr th {\n",
              "        text-align: left;\n",
              "    }\n",
              "\n",
              "    .dataframe thead tr:last-of-type th {\n",
              "        text-align: right;\n",
              "    }\n",
              "</style>\n",
              "<table border=\"1\" class=\"dataframe\">\n",
              "  <thead>\n",
              "    <tr>\n",
              "      <th></th>\n",
              "      <th colspan=\"12\" halign=\"left\">content</th>\n",
              "      <th colspan=\"12\" halign=\"left\">len_of_rev</th>\n",
              "    </tr>\n",
              "    <tr>\n",
              "      <th>year</th>\n",
              "      <th>2006</th>\n",
              "      <th>2007</th>\n",
              "      <th>2008</th>\n",
              "      <th>2009</th>\n",
              "      <th>2010</th>\n",
              "      <th>2011</th>\n",
              "      <th>2012</th>\n",
              "      <th>2013</th>\n",
              "      <th>2014</th>\n",
              "      <th>2015</th>\n",
              "      <th>2016</th>\n",
              "      <th>All</th>\n",
              "      <th>2006</th>\n",
              "      <th>2007</th>\n",
              "      <th>2008</th>\n",
              "      <th>2009</th>\n",
              "      <th>2010</th>\n",
              "      <th>2011</th>\n",
              "      <th>2012</th>\n",
              "      <th>2013</th>\n",
              "      <th>2014</th>\n",
              "      <th>2015</th>\n",
              "      <th>2016</th>\n",
              "      <th>All</th>\n",
              "    </tr>\n",
              "    <tr>\n",
              "      <th>month</th>\n",
              "      <th></th>\n",
              "      <th></th>\n",
              "      <th></th>\n",
              "      <th></th>\n",
              "      <th></th>\n",
              "      <th></th>\n",
              "      <th></th>\n",
              "      <th></th>\n",
              "      <th></th>\n",
              "      <th></th>\n",
              "      <th></th>\n",
              "      <th></th>\n",
              "      <th></th>\n",
              "      <th></th>\n",
              "      <th></th>\n",
              "      <th></th>\n",
              "      <th></th>\n",
              "      <th></th>\n",
              "      <th></th>\n",
              "      <th></th>\n",
              "      <th></th>\n",
              "      <th></th>\n",
              "      <th></th>\n",
              "      <th></th>\n",
              "    </tr>\n",
              "  </thead>\n",
              "  <tbody>\n",
              "    <tr>\n",
              "      <th>1</th>\n",
              "      <td>2.0</td>\n",
              "      <td>667.0</td>\n",
              "      <td>996.0</td>\n",
              "      <td>1373.0</td>\n",
              "      <td>1509.0</td>\n",
              "      <td>1252.0</td>\n",
              "      <td>1259.0</td>\n",
              "      <td>1215.0</td>\n",
              "      <td>1132.0</td>\n",
              "      <td>1501.0</td>\n",
              "      <td>1713.0</td>\n",
              "      <td>12619</td>\n",
              "      <td>1352.0</td>\n",
              "      <td>1691.0</td>\n",
              "      <td>2329.0</td>\n",
              "      <td>3727.0</td>\n",
              "      <td>4447.0</td>\n",
              "      <td>6735.0</td>\n",
              "      <td>6328.0</td>\n",
              "      <td>8285.0</td>\n",
              "      <td>10062.0</td>\n",
              "      <td>8955.0</td>\n",
              "      <td>8998.0</td>\n",
              "      <td>6497.0</td>\n",
              "    </tr>\n",
              "    <tr>\n",
              "      <th>2</th>\n",
              "      <td>NaN</td>\n",
              "      <td>950.0</td>\n",
              "      <td>1137.0</td>\n",
              "      <td>1402.0</td>\n",
              "      <td>1743.0</td>\n",
              "      <td>1193.0</td>\n",
              "      <td>1237.0</td>\n",
              "      <td>1214.0</td>\n",
              "      <td>1219.0</td>\n",
              "      <td>1791.0</td>\n",
              "      <td>1818.0</td>\n",
              "      <td>13704</td>\n",
              "      <td>NaN</td>\n",
              "      <td>1530.0</td>\n",
              "      <td>2281.0</td>\n",
              "      <td>3569.0</td>\n",
              "      <td>4167.0</td>\n",
              "      <td>5592.0</td>\n",
              "      <td>6094.0</td>\n",
              "      <td>8455.0</td>\n",
              "      <td>9669.0</td>\n",
              "      <td>8230.0</td>\n",
              "      <td>9695.0</td>\n",
              "      <td>6198.0</td>\n",
              "    </tr>\n",
              "    <tr>\n",
              "      <th>3</th>\n",
              "      <td>3.0</td>\n",
              "      <td>1153.0</td>\n",
              "      <td>1191.0</td>\n",
              "      <td>1646.0</td>\n",
              "      <td>1891.0</td>\n",
              "      <td>1290.0</td>\n",
              "      <td>1445.0</td>\n",
              "      <td>1365.0</td>\n",
              "      <td>1238.0</td>\n",
              "      <td>2187.0</td>\n",
              "      <td>2116.0</td>\n",
              "      <td>15525</td>\n",
              "      <td>977.0</td>\n",
              "      <td>2042.0</td>\n",
              "      <td>2377.0</td>\n",
              "      <td>3350.0</td>\n",
              "      <td>4758.0</td>\n",
              "      <td>5346.0</td>\n",
              "      <td>6194.0</td>\n",
              "      <td>7908.0</td>\n",
              "      <td>9340.0</td>\n",
              "      <td>8318.0</td>\n",
              "      <td>9399.0</td>\n",
              "      <td>6183.0</td>\n",
              "    </tr>\n",
              "    <tr>\n",
              "      <th>4</th>\n",
              "      <td>7.0</td>\n",
              "      <td>1383.0</td>\n",
              "      <td>1406.0</td>\n",
              "      <td>1501.0</td>\n",
              "      <td>1491.0</td>\n",
              "      <td>1274.0</td>\n",
              "      <td>1383.0</td>\n",
              "      <td>1314.0</td>\n",
              "      <td>1398.0</td>\n",
              "      <td>2109.0</td>\n",
              "      <td>1909.0</td>\n",
              "      <td>15175</td>\n",
              "      <td>989.0</td>\n",
              "      <td>1774.0</td>\n",
              "      <td>2447.0</td>\n",
              "      <td>3378.0</td>\n",
              "      <td>4826.0</td>\n",
              "      <td>5439.0</td>\n",
              "      <td>6175.0</td>\n",
              "      <td>9096.0</td>\n",
              "      <td>9507.0</td>\n",
              "      <td>8555.0</td>\n",
              "      <td>9661.0</td>\n",
              "      <td>6284.0</td>\n",
              "    </tr>\n",
              "    <tr>\n",
              "      <th>5</th>\n",
              "      <td>39.0</td>\n",
              "      <td>1189.0</td>\n",
              "      <td>1419.0</td>\n",
              "      <td>1254.0</td>\n",
              "      <td>1443.0</td>\n",
              "      <td>1239.0</td>\n",
              "      <td>1442.0</td>\n",
              "      <td>1140.0</td>\n",
              "      <td>1192.0</td>\n",
              "      <td>1794.0</td>\n",
              "      <td>1724.0</td>\n",
              "      <td>13875</td>\n",
              "      <td>2328.0</td>\n",
              "      <td>1979.0</td>\n",
              "      <td>2632.0</td>\n",
              "      <td>3316.0</td>\n",
              "      <td>4109.0</td>\n",
              "      <td>5603.0</td>\n",
              "      <td>6498.0</td>\n",
              "      <td>8250.0</td>\n",
              "      <td>9483.0</td>\n",
              "      <td>8907.0</td>\n",
              "      <td>9549.0</td>\n",
              "      <td>6179.0</td>\n",
              "    </tr>\n",
              "    <tr>\n",
              "      <th>6</th>\n",
              "      <td>125.0</td>\n",
              "      <td>1396.0</td>\n",
              "      <td>1174.0</td>\n",
              "      <td>1232.0</td>\n",
              "      <td>1545.0</td>\n",
              "      <td>1524.0</td>\n",
              "      <td>1386.0</td>\n",
              "      <td>1255.0</td>\n",
              "      <td>1238.0</td>\n",
              "      <td>1998.0</td>\n",
              "      <td>1495.0</td>\n",
              "      <td>14368</td>\n",
              "      <td>1666.0</td>\n",
              "      <td>2031.0</td>\n",
              "      <td>2908.0</td>\n",
              "      <td>3522.0</td>\n",
              "      <td>4660.0</td>\n",
              "      <td>5955.0</td>\n",
              "      <td>6443.0</td>\n",
              "      <td>8822.0</td>\n",
              "      <td>9678.0</td>\n",
              "      <td>8720.0</td>\n",
              "      <td>11997.0</td>\n",
              "      <td>6571.0</td>\n",
              "    </tr>\n",
              "    <tr>\n",
              "      <th>7</th>\n",
              "      <td>321.0</td>\n",
              "      <td>960.0</td>\n",
              "      <td>1368.0</td>\n",
              "      <td>1450.0</td>\n",
              "      <td>1535.0</td>\n",
              "      <td>1374.0</td>\n",
              "      <td>1397.0</td>\n",
              "      <td>1260.0</td>\n",
              "      <td>1371.0</td>\n",
              "      <td>2111.0</td>\n",
              "      <td>1278.0</td>\n",
              "      <td>14425</td>\n",
              "      <td>1865.0</td>\n",
              "      <td>2046.0</td>\n",
              "      <td>2800.0</td>\n",
              "      <td>3861.0</td>\n",
              "      <td>4665.0</td>\n",
              "      <td>6184.0</td>\n",
              "      <td>6384.0</td>\n",
              "      <td>8569.0</td>\n",
              "      <td>9947.0</td>\n",
              "      <td>9405.0</td>\n",
              "      <td>11609.0</td>\n",
              "      <td>6634.0</td>\n",
              "    </tr>\n",
              "    <tr>\n",
              "      <th>8</th>\n",
              "      <td>328.0</td>\n",
              "      <td>911.0</td>\n",
              "      <td>1365.0</td>\n",
              "      <td>1453.0</td>\n",
              "      <td>1386.0</td>\n",
              "      <td>1432.0</td>\n",
              "      <td>1354.0</td>\n",
              "      <td>1292.0</td>\n",
              "      <td>1229.0</td>\n",
              "      <td>1849.0</td>\n",
              "      <td>1276.0</td>\n",
              "      <td>13875</td>\n",
              "      <td>1904.0</td>\n",
              "      <td>1954.0</td>\n",
              "      <td>3147.0</td>\n",
              "      <td>4031.0</td>\n",
              "      <td>5357.0</td>\n",
              "      <td>5910.0</td>\n",
              "      <td>7369.0</td>\n",
              "      <td>8831.0</td>\n",
              "      <td>9957.0</td>\n",
              "      <td>9208.0</td>\n",
              "      <td>12566.0</td>\n",
              "      <td>6856.0</td>\n",
              "    </tr>\n",
              "    <tr>\n",
              "      <th>9</th>\n",
              "      <td>284.0</td>\n",
              "      <td>713.0</td>\n",
              "      <td>1535.0</td>\n",
              "      <td>1515.0</td>\n",
              "      <td>1277.0</td>\n",
              "      <td>1452.0</td>\n",
              "      <td>1369.0</td>\n",
              "      <td>1364.0</td>\n",
              "      <td>1404.0</td>\n",
              "      <td>1945.0</td>\n",
              "      <td>1479.0</td>\n",
              "      <td>14337</td>\n",
              "      <td>1626.0</td>\n",
              "      <td>2073.0</td>\n",
              "      <td>3012.0</td>\n",
              "      <td>3846.0</td>\n",
              "      <td>4699.0</td>\n",
              "      <td>6323.0</td>\n",
              "      <td>6822.0</td>\n",
              "      <td>8777.0</td>\n",
              "      <td>9772.0</td>\n",
              "      <td>9225.0</td>\n",
              "      <td>12872.0</td>\n",
              "      <td>6946.0</td>\n",
              "    </tr>\n",
              "    <tr>\n",
              "      <th>10</th>\n",
              "      <td>605.0</td>\n",
              "      <td>885.0</td>\n",
              "      <td>1342.0</td>\n",
              "      <td>1539.0</td>\n",
              "      <td>1220.0</td>\n",
              "      <td>1428.0</td>\n",
              "      <td>1460.0</td>\n",
              "      <td>1462.0</td>\n",
              "      <td>1594.0</td>\n",
              "      <td>2029.0</td>\n",
              "      <td>1485.0</td>\n",
              "      <td>15049</td>\n",
              "      <td>1318.0</td>\n",
              "      <td>2221.0</td>\n",
              "      <td>2506.0</td>\n",
              "      <td>3864.0</td>\n",
              "      <td>4558.0</td>\n",
              "      <td>5562.0</td>\n",
              "      <td>7446.0</td>\n",
              "      <td>9518.0</td>\n",
              "      <td>9579.0</td>\n",
              "      <td>9105.0</td>\n",
              "      <td>12228.0</td>\n",
              "      <td>6796.0</td>\n",
              "    </tr>\n",
              "    <tr>\n",
              "      <th>11</th>\n",
              "      <td>587.0</td>\n",
              "      <td>991.0</td>\n",
              "      <td>1149.0</td>\n",
              "      <td>1593.0</td>\n",
              "      <td>1090.0</td>\n",
              "      <td>1473.0</td>\n",
              "      <td>1457.0</td>\n",
              "      <td>1466.0</td>\n",
              "      <td>1461.0</td>\n",
              "      <td>2029.0</td>\n",
              "      <td>1511.0</td>\n",
              "      <td>14807</td>\n",
              "      <td>1375.0</td>\n",
              "      <td>2163.0</td>\n",
              "      <td>3142.0</td>\n",
              "      <td>4115.0</td>\n",
              "      <td>4999.0</td>\n",
              "      <td>5761.0</td>\n",
              "      <td>6821.0</td>\n",
              "      <td>9430.0</td>\n",
              "      <td>9620.0</td>\n",
              "      <td>9412.0</td>\n",
              "      <td>12790.0</td>\n",
              "      <td>6976.0</td>\n",
              "    </tr>\n",
              "    <tr>\n",
              "      <th>12</th>\n",
              "      <td>632.0</td>\n",
              "      <td>1041.0</td>\n",
              "      <td>1381.0</td>\n",
              "      <td>1631.0</td>\n",
              "      <td>1187.0</td>\n",
              "      <td>1335.0</td>\n",
              "      <td>1329.0</td>\n",
              "      <td>1369.0</td>\n",
              "      <td>1691.0</td>\n",
              "      <td>2082.0</td>\n",
              "      <td>1476.0</td>\n",
              "      <td>15154</td>\n",
              "      <td>1709.0</td>\n",
              "      <td>2329.0</td>\n",
              "      <td>3155.0</td>\n",
              "      <td>4040.0</td>\n",
              "      <td>4957.0</td>\n",
              "      <td>6090.0</td>\n",
              "      <td>7964.0</td>\n",
              "      <td>9266.0</td>\n",
              "      <td>9276.0</td>\n",
              "      <td>10037.0</td>\n",
              "      <td>12547.0</td>\n",
              "      <td>7050.0</td>\n",
              "    </tr>\n",
              "    <tr>\n",
              "      <th>All</th>\n",
              "      <td>2933.0</td>\n",
              "      <td>12239.0</td>\n",
              "      <td>15463.0</td>\n",
              "      <td>17589.0</td>\n",
              "      <td>17317.0</td>\n",
              "      <td>16266.0</td>\n",
              "      <td>16518.0</td>\n",
              "      <td>15716.0</td>\n",
              "      <td>16167.0</td>\n",
              "      <td>23425.0</td>\n",
              "      <td>19280.0</td>\n",
              "      <td>172913</td>\n",
              "      <td>1596.0</td>\n",
              "      <td>1988.0</td>\n",
              "      <td>2743.0</td>\n",
              "      <td>3728.0</td>\n",
              "      <td>4665.0</td>\n",
              "      <td>5880.0</td>\n",
              "      <td>6715.0</td>\n",
              "      <td>8791.0</td>\n",
              "      <td>9645.0</td>\n",
              "      <td>9012.0</td>\n",
              "      <td>10979.0</td>\n",
              "      <td>6600.0</td>\n",
              "    </tr>\n",
              "  </tbody>\n",
              "</table>\n",
              "</div>"
            ],
            "text/plain": [
              "      content                             ... len_of_rev                          \n",
              "year     2006     2007     2008     2009  ...       2014     2015     2016     All\n",
              "month                                     ...                                     \n",
              "1         2.0    667.0    996.0   1373.0  ...    10062.0   8955.0   8998.0  6497.0\n",
              "2         NaN    950.0   1137.0   1402.0  ...     9669.0   8230.0   9695.0  6198.0\n",
              "3         3.0   1153.0   1191.0   1646.0  ...     9340.0   8318.0   9399.0  6183.0\n",
              "4         7.0   1383.0   1406.0   1501.0  ...     9507.0   8555.0   9661.0  6284.0\n",
              "5        39.0   1189.0   1419.0   1254.0  ...     9483.0   8907.0   9549.0  6179.0\n",
              "6       125.0   1396.0   1174.0   1232.0  ...     9678.0   8720.0  11997.0  6571.0\n",
              "7       321.0    960.0   1368.0   1450.0  ...     9947.0   9405.0  11609.0  6634.0\n",
              "8       328.0    911.0   1365.0   1453.0  ...     9957.0   9208.0  12566.0  6856.0\n",
              "9       284.0    713.0   1535.0   1515.0  ...     9772.0   9225.0  12872.0  6946.0\n",
              "10      605.0    885.0   1342.0   1539.0  ...     9579.0   9105.0  12228.0  6796.0\n",
              "11      587.0    991.0   1149.0   1593.0  ...     9620.0   9412.0  12790.0  6976.0\n",
              "12      632.0   1041.0   1381.0   1631.0  ...     9276.0  10037.0  12547.0  7050.0\n",
              "All    2933.0  12239.0  15463.0  17589.0  ...     9645.0   9012.0  10979.0  6600.0\n",
              "\n",
              "[13 rows x 24 columns]"
            ]
          },
          "metadata": {
            "tags": []
          },
          "execution_count": 5
        }
      ]
    },
    {
      "cell_type": "markdown",
      "metadata": {
        "id": "EUNgls4scL4P",
        "colab_type": "text"
      },
      "source": [
        "Будем работать только с текстами 2016 года "
      ]
    },
    {
      "cell_type": "code",
      "metadata": {
        "id": "ccwtYkrucLb_",
        "colab_type": "code",
        "colab": {}
      },
      "source": [
        "data = data[data.year == 2016]"
      ],
      "execution_count": null,
      "outputs": []
    },
    {
      "cell_type": "markdown",
      "metadata": {
        "id": "taqCZ5a0vTWq",
        "colab_type": "text"
      },
      "source": [
        "Для большей наглядности дискретезируем значения оценки популярности статьи и будем предсказывать уже их. Все статьи, оценки которых ниже 20 перцентиля распределения оценок, пометим 0; статьи с оценками в диапазоне от 20 до 40 перцентеля пометим 1 и т.д. В итоге получаем достаточно сбалансированный набор классов"
      ]
    },
    {
      "cell_type": "code",
      "metadata": {
        "id": "F67vVhlOuJz3",
        "colab_type": "code",
        "colab": {
          "base_uri": "https://localhost:8080/",
          "height": 282
        },
        "outputId": "23ddc2ab-5d82-420f-fac2-c28a5e595a37"
      },
      "source": [
        "data['label'] = np.digitize(data.favs_lognorm, data.favs_lognorm.quantile([0.2,0.4,0.6,0.8]))\n",
        "data.label.hist(bins=9)"
      ],
      "execution_count": null,
      "outputs": [
        {
          "output_type": "execute_result",
          "data": {
            "text/plain": [
              "<matplotlib.axes._subplots.AxesSubplot at 0x7fa8c3102358>"
            ]
          },
          "metadata": {
            "tags": []
          },
          "execution_count": 7
        },
        {
          "output_type": "display_data",
          "data": {
            "image/png": "[encoded data removed]",
            "text/plain": [
              "<Figure size 432x288 with 1 Axes>"
            ]
          },
          "metadata": {
            "tags": [],
            "needs_background": "light"
          }
        }
      ]
    },
    {
      "cell_type": "markdown",
      "metadata": {
        "id": "s6xT9VwlvtFq",
        "colab_type": "text"
      },
      "source": [
        "Очистка данных: удаление лишних столбоц, сортировка по дате"
      ]
    },
    {
      "cell_type": "code",
      "metadata": {
        "id": "Y6kW88SOuJxT",
        "colab_type": "code",
        "colab": {
          "base_uri": "https://localhost:8080/",
          "height": 221
        },
        "outputId": "a47895af-c489-42c2-a3ef-7828f2285f86"
      },
      "source": [
        "droped = ['_id','tags','title','hubs_title','description','name','hub','png','nick','url', 'date', 'len_of_rev', 'index']\n",
        "data.sort_values(by=['month'], inplace=True)\n",
        "data.reset_index(inplace=True)\n",
        "data.drop(columns=droped, inplace=True)\n",
        "print('Data shape:{}'.format(data.shape))\n",
        "data.head()"
      ],
      "execution_count": null,
      "outputs": [
        {
          "output_type": "stream",
          "text": [
            "Data shape:(19280, 5)\n"
          ],
          "name": "stdout"
        },
        {
          "output_type": "execute_result",
          "data": {
            "text/html": [
              "<div>\n",
              "<style scoped>\n",
              "    .dataframe tbody tr th:only-of-type {\n",
              "        vertical-align: middle;\n",
              "    }\n",
              "\n",
              "    .dataframe tbody tr th {\n",
              "        vertical-align: top;\n",
              "    }\n",
              "\n",
              "    .dataframe thead th {\n",
              "        text-align: right;\n",
              "    }\n",
              "</style>\n",
              "<table border=\"1\" class=\"dataframe\">\n",
              "  <thead>\n",
              "    <tr style=\"text-align: right;\">\n",
              "      <th></th>\n",
              "      <th>content</th>\n",
              "      <th>favs_lognorm</th>\n",
              "      <th>year</th>\n",
              "      <th>month</th>\n",
              "      <th>label</th>\n",
              "    </tr>\n",
              "  </thead>\n",
              "  <tbody>\n",
              "    <tr>\n",
              "      <th>0</th>\n",
              "      <td>Совсем недавно, а точнее 14 января 2016 года, ...</td>\n",
              "      <td>3.583519</td>\n",
              "      <td>2016</td>\n",
              "      <td>1</td>\n",
              "      <td>2</td>\n",
              "    </tr>\n",
              "    <tr>\n",
              "      <th>1</th>\n",
              "      <td>Разработчик Илья Григорик из Google в своём бл...</td>\n",
              "      <td>2.833213</td>\n",
              "      <td>2016</td>\n",
              "      <td>1</td>\n",
              "      <td>1</td>\n",
              "    </tr>\n",
              "    <tr>\n",
              "      <th>2</th>\n",
              "      <td>&lt;img src=\"https://habrastorage.org/getpro/habr...</td>\n",
              "      <td>4.369448</td>\n",
              "      <td>2016</td>\n",
              "      <td>1</td>\n",
              "      <td>3</td>\n",
              "    </tr>\n",
              "    <tr>\n",
              "      <th>3</th>\n",
              "      <td>Помните свою первую программу? Наверняка она б...</td>\n",
              "      <td>3.178054</td>\n",
              "      <td>2016</td>\n",
              "      <td>1</td>\n",
              "      <td>1</td>\n",
              "    </tr>\n",
              "    <tr>\n",
              "      <th>4</th>\n",
              "      <td>&lt;a href=\"https://habrahabr.ru/company/latera/b...</td>\n",
              "      <td>4.852030</td>\n",
              "      <td>2016</td>\n",
              "      <td>1</td>\n",
              "      <td>4</td>\n",
              "    </tr>\n",
              "  </tbody>\n",
              "</table>\n",
              "</div>"
            ],
            "text/plain": [
              "                                             content  ...  label\n",
              "0  Совсем недавно, а точнее 14 января 2016 года, ...  ...      2\n",
              "1  Разработчик Илья Григорик из Google в своём бл...  ...      1\n",
              "2  <img src=\"https://habrastorage.org/getpro/habr...  ...      3\n",
              "3  Помните свою первую программу? Наверняка она б...  ...      1\n",
              "4  <a href=\"https://habrahabr.ru/company/latera/b...  ...      4\n",
              "\n",
              "[5 rows x 5 columns]"
            ]
          },
          "metadata": {
            "tags": []
          },
          "execution_count": 8
        }
      ]
    },
    {
      "cell_type": "markdown",
      "metadata": {
        "id": "qhN-c21LwQu9",
        "colab_type": "text"
      },
      "source": [
        "Функция для предварительной обработки текста: удаление пунктуации, html тегов, токенизация, удаление стоп-слов, лемматизация"
      ]
    },
    {
      "cell_type": "code",
      "metadata": {
        "id": "r2SjhKTEuJvB",
        "colab_type": "code",
        "colab": {}
      },
      "source": [
        "def text_preprocessing(text, stops, morph):\n",
        "    new_text = BeautifulSoup(text, 'html.parser').get_text(separator=' ')\n",
        "    new_text = re.sub('[^а-яА-Яa-zA-Z\\s]', ' ', new_text)\n",
        "    new_text = re.sub('[^\\w+]', ' ', new_text).lower().split()\n",
        "    new_text = [w for w in new_text if not w in stops]\n",
        "    new_text = [morph.parse(w)[0].normal_form for w in new_text]\n",
        "    return new_text"
      ],
      "execution_count": null,
      "outputs": []
    },
    {
      "cell_type": "markdown",
      "metadata": {
        "id": "NW4kWU3VwtZW",
        "colab_type": "text"
      },
      "source": [
        "Предварительная обработка текста, сохранение данных для повторного использования"
      ]
    },
    {
      "cell_type": "code",
      "metadata": {
        "id": "kDn0ZKLduJsv",
        "colab_type": "code",
        "colab": {}
      },
      "source": [
        "new_content = []\n",
        "stops = set(stopwords.words(\"english\")) | set(stopwords.words(\"russian\"))\n",
        "morph = MorphAnalyzer()\n",
        "for i,rev in enumerate(data.content):\n",
        "  new_content.append(text_preprocessing(rev, stops, morph))\n",
        "data['new_content'] = new_content\n",
        "data.to_pickle('./data.pkl')"
      ],
      "execution_count": null,
      "outputs": []
    },
    {
      "cell_type": "markdown",
      "metadata": {
        "id": "jAZbn0rBwxC7",
        "colab_type": "text"
      },
      "source": [
        "Загрузка и разбиение данных на учебную и тестовую выборки"
      ]
    },
    {
      "cell_type": "code",
      "metadata": {
        "id": "e0gUa-cMuJqb",
        "colab_type": "code",
        "colab": {}
      },
      "source": [
        "#data = pd.read_pickle('data.pkl')\n",
        "data.new_content = [' '.join(text) for text in data.new_content]\n",
        "x_train, x_test, y_train, y_test = train_test_split(data.new_content, data.label, test_size=0.2, stratify=data.label, random_state=42)"
      ],
      "execution_count": null,
      "outputs": []
    },
    {
      "cell_type": "markdown",
      "metadata": {
        "id": "C-8yOmlExJKq",
        "colab_type": "text"
      },
      "source": [
        "Начнем с самых простых моделей: BoW, TfIdf"
      ]
    },
    {
      "cell_type": "code",
      "metadata": {
        "id": "g6kJdyYXuJn-",
        "colab_type": "code",
        "colab": {
          "base_uri": "https://localhost:8080/",
          "height": 374
        },
        "outputId": "0c4ea182-d260-40ce-df63-245f737fa7c0"
      },
      "source": [
        "reg = make_pipeline(CountVectorizer(), LogisticRegression())\n",
        "reg.fit(x_train, y_train)\n",
        "print(classification_report(y_test, reg.predict(x_test)))\n",
        "print(round(roc_auc_score(y_test, reg.predict_proba(x_test), multi_class='ovo'), 3))"
      ],
      "execution_count": null,
      "outputs": [
        {
          "output_type": "stream",
          "text": [
            "/usr/local/lib/python3.6/dist-packages/sklearn/linear_model/_logistic.py:940: ConvergenceWarning: lbfgs failed to converge (status=1):\n",
            "STOP: TOTAL NO. of ITERATIONS REACHED LIMIT.\n",
            "\n",
            "Increase the number of iterations (max_iter) or scale the data as shown in:\n",
            "    https://scikit-learn.org/stable/modules/preprocessing.html\n",
            "Please also refer to the documentation for alternative solver options:\n",
            "    https://scikit-learn.org/stable/modules/linear_model.html#logistic-regression\n",
            "  extra_warning_msg=_LOGISTIC_SOLVER_CONVERGENCE_MSG)\n"
          ],
          "name": "stderr"
        },
        {
          "output_type": "stream",
          "text": [
            "              precision    recall  f1-score   support\n",
            "\n",
            "           0       0.55      0.54      0.55       778\n",
            "           1       0.31      0.31      0.31       756\n",
            "           2       0.27      0.28      0.27       751\n",
            "           3       0.31      0.29      0.30       797\n",
            "           4       0.50      0.52      0.51       774\n",
            "\n",
            "    accuracy                           0.39      3856\n",
            "   macro avg       0.39      0.39      0.39      3856\n",
            "weighted avg       0.39      0.39      0.39      3856\n",
            "\n",
            "0.69\n"
          ],
          "name": "stdout"
        }
      ]
    },
    {
      "cell_type": "code",
      "metadata": {
        "id": "wNLXgdmUuJlt",
        "colab_type": "code",
        "colab": {
          "base_uri": "https://localhost:8080/",
          "height": 374
        },
        "outputId": "abac59e8-fd1a-4e69-ec1b-2d6aa2b15288"
      },
      "source": [
        "reg = make_pipeline(TfidfVectorizer(), LogisticRegression())\n",
        "reg.fit(x_train, y_train)\n",
        "print(classification_report(y_test, reg.predict(x_test)))\n",
        "print(round(roc_auc_score(y_test, reg.predict_proba(x_test), multi_class='ovo'), 3))"
      ],
      "execution_count": null,
      "outputs": [
        {
          "output_type": "stream",
          "text": [
            "/usr/local/lib/python3.6/dist-packages/sklearn/linear_model/_logistic.py:940: ConvergenceWarning: lbfgs failed to converge (status=1):\n",
            "STOP: TOTAL NO. of ITERATIONS REACHED LIMIT.\n",
            "\n",
            "Increase the number of iterations (max_iter) or scale the data as shown in:\n",
            "    https://scikit-learn.org/stable/modules/preprocessing.html\n",
            "Please also refer to the documentation for alternative solver options:\n",
            "    https://scikit-learn.org/stable/modules/linear_model.html#logistic-regression\n",
            "  extra_warning_msg=_LOGISTIC_SOLVER_CONVERGENCE_MSG)\n"
          ],
          "name": "stderr"
        },
        {
          "output_type": "stream",
          "text": [
            "              precision    recall  f1-score   support\n",
            "\n",
            "           0       0.56      0.63      0.59       778\n",
            "           1       0.31      0.29      0.30       756\n",
            "           2       0.29      0.25      0.27       751\n",
            "           3       0.32      0.29      0.31       797\n",
            "           4       0.52      0.62      0.56       774\n",
            "\n",
            "    accuracy                           0.42      3856\n",
            "   macro avg       0.40      0.41      0.41      3856\n",
            "weighted avg       0.40      0.42      0.41      3856\n",
            "\n",
            "0.757\n"
          ],
          "name": "stdout"
        }
      ]
    },
    {
      "cell_type": "markdown",
      "metadata": {
        "id": "0RQatMJdy4qG",
        "colab_type": "text"
      },
      "source": [
        "Обучение Word2Vec модели на наших данных"
      ]
    },
    {
      "cell_type": "code",
      "metadata": {
        "id": "AhvzUe4fuJgz",
        "colab_type": "code",
        "colab": {}
      },
      "source": [
        "habr_model = Word2Vec(data.new_content.str.split(), size=300, window=10)"
      ],
      "execution_count": null,
      "outputs": []
    },
    {
      "cell_type": "markdown",
      "metadata": {
        "id": "Mzy0SaOby63D",
        "colab_type": "text"
      },
      "source": [
        "Функция для усреднения полученных представлений для каждой статьи"
      ]
    },
    {
      "cell_type": "code",
      "metadata": {
        "id": "9DNCnbi0uJeb",
        "colab_type": "code",
        "colab": {}
      },
      "source": [
        "def get_doc_vec(words, model):\n",
        "    good_words = []\n",
        "    for word in words:\n",
        "        try:\n",
        "            if model[word] is not None:\n",
        "                good_words.append(word)\n",
        "        except:\n",
        "            continue\n",
        "    if len(good_words) == 0:\n",
        "        return None\n",
        "    return model[good_words].mean(axis=0)"
      ],
      "execution_count": null,
      "outputs": []
    },
    {
      "cell_type": "markdown",
      "metadata": {
        "id": "V-op5RLVzjHE",
        "colab_type": "text"
      },
      "source": [
        "Усреднение представлений и разбиение данных на учебную и тестовую выборки"
      ]
    },
    {
      "cell_type": "code",
      "metadata": {
        "id": "SO3rRmExuJcD",
        "colab_type": "code",
        "colab": {
          "base_uri": "https://localhost:8080/",
          "height": 85
        },
        "outputId": "891bbd16-3227-4b80-c08d-986450fc0c24"
      },
      "source": [
        "x = data.new_content.str.split().map(lambda text: get_doc_vec(text, habr_model))\n",
        "x_train, x_test, y_train, y_test = train_test_split(np.stack(x), data.label, test_size=0.2, stratify=data.label, random_state=42)"
      ],
      "execution_count": null,
      "outputs": [
        {
          "output_type": "stream",
          "text": [
            "/usr/local/lib/python3.6/dist-packages/ipykernel_launcher.py:5: DeprecationWarning: Call to deprecated `__getitem__` (Method will be removed in 4.0.0, use self.wv.__getitem__() instead).\n",
            "  \"\"\"\n",
            "/usr/local/lib/python3.6/dist-packages/ipykernel_launcher.py:11: DeprecationWarning: Call to deprecated `__getitem__` (Method will be removed in 4.0.0, use self.wv.__getitem__() instead).\n",
            "  # This is added back by InteractiveShellApp.init_path()\n"
          ],
          "name": "stderr"
        }
      ]
    },
    {
      "cell_type": "markdown",
      "metadata": {
        "id": "nsushst50OU_",
        "colab_type": "text"
      },
      "source": [
        "Логистическая регрессия на word2vec представлениях"
      ]
    },
    {
      "cell_type": "code",
      "metadata": {
        "id": "afC10x6AuJZn",
        "colab_type": "code",
        "colab": {
          "base_uri": "https://localhost:8080/",
          "height": 374
        },
        "outputId": "9a0ee10d-de2c-438f-9d74-e22ae7838746"
      },
      "source": [
        "reg = LogisticRegression()\n",
        "reg.fit(x_train, y_train)\n",
        "print(classification_report(y_test, reg.predict(x_test)))\n",
        "print(round(roc_auc_score(y_test, reg.predict_proba(x_test), multi_class='ovo'), 3))"
      ],
      "execution_count": null,
      "outputs": [
        {
          "output_type": "stream",
          "text": [
            "              precision    recall  f1-score   support\n",
            "\n",
            "           0       0.52      0.58      0.55       778\n",
            "           1       0.28      0.29      0.29       756\n",
            "           2       0.30      0.22      0.25       751\n",
            "           3       0.33      0.30      0.31       797\n",
            "           4       0.48      0.59      0.53       774\n",
            "\n",
            "    accuracy                           0.40      3856\n",
            "   macro avg       0.38      0.40      0.39      3856\n",
            "weighted avg       0.39      0.40      0.39      3856\n",
            "\n",
            "0.733\n"
          ],
          "name": "stdout"
        },
        {
          "output_type": "stream",
          "text": [
            "/usr/local/lib/python3.6/dist-packages/sklearn/linear_model/_logistic.py:940: ConvergenceWarning: lbfgs failed to converge (status=1):\n",
            "STOP: TOTAL NO. of ITERATIONS REACHED LIMIT.\n",
            "\n",
            "Increase the number of iterations (max_iter) or scale the data as shown in:\n",
            "    https://scikit-learn.org/stable/modules/preprocessing.html\n",
            "Please also refer to the documentation for alternative solver options:\n",
            "    https://scikit-learn.org/stable/modules/linear_model.html#logistic-regression\n",
            "  extra_warning_msg=_LOGISTIC_SOLVER_CONVERGENCE_MSG)\n"
          ],
          "name": "stderr"
        }
      ]
    },
    {
      "cell_type": "markdown",
      "metadata": {
        "id": "wfP_lXhJ061G",
        "colab_type": "text"
      },
      "source": [
        "Воспользуемся более сложной моделью. Опишем небольшую нейросеть"
      ]
    },
    {
      "cell_type": "code",
      "metadata": {
        "id": "PNQuUiH4uJXD",
        "colab_type": "code",
        "colab": {
          "base_uri": "https://localhost:8080/",
          "height": 391
        },
        "outputId": "13b7f335-9949-451a-f7c5-8c0be16696a9"
      },
      "source": [
        "from tensorflow.keras.models import Sequential\n",
        "from tensorflow.keras.layers import Dense, Dropout, Activation\n",
        "from tensorflow.keras.callbacks import ModelCheckpoint\n",
        "\n",
        "model = Sequential()\n",
        "model.add(Dense(512, input_shape=(300,), activation='relu'))\n",
        "model.add(Dropout(0.5))\n",
        "model.add(Dense(256, activation='relu'))\n",
        "model.add(Dropout(0.5))\n",
        "model.add(Dense(128, activation='relu'))\n",
        "model.add(Dropout(0.5))\n",
        "model.add(Dense(5, activation='softmax'))\n",
        "model.compile(loss='sparse_categorical_crossentropy', optimizer='adam')\n",
        "model.summary()"
      ],
      "execution_count": null,
      "outputs": [
        {
          "output_type": "stream",
          "text": [
            "Model: \"sequential_3\"\n",
            "_________________________________________________________________\n",
            "Layer (type)                 Output Shape              Param #   \n",
            "=================================================================\n",
            "dense_13 (Dense)             (None, 512)               154112    \n",
            "_________________________________________________________________\n",
            "dropout_10 (Dropout)         (None, 512)               0         \n",
            "_________________________________________________________________\n",
            "dense_14 (Dense)             (None, 256)               131328    \n",
            "_________________________________________________________________\n",
            "dropout_11 (Dropout)         (None, 256)               0         \n",
            "_________________________________________________________________\n",
            "dense_15 (Dense)             (None, 128)               32896     \n",
            "_________________________________________________________________\n",
            "dropout_12 (Dropout)         (None, 128)               0         \n",
            "_________________________________________________________________\n",
            "dense_16 (Dense)             (None, 5)                 645       \n",
            "=================================================================\n",
            "Total params: 318,981\n",
            "Trainable params: 318,981\n",
            "Non-trainable params: 0\n",
            "_________________________________________________________________\n"
          ],
          "name": "stdout"
        }
      ]
    },
    {
      "cell_type": "markdown",
      "metadata": {
        "id": "Jz12HmW11Rm2",
        "colab_type": "text"
      },
      "source": [
        "Обучим модель на протяжении 20 эпох и сохраним лучшие веса"
      ]
    },
    {
      "cell_type": "code",
      "metadata": {
        "id": "tET8YHzVuJUD",
        "colab_type": "code",
        "colab": {
          "base_uri": "https://localhost:8080/",
          "height": 1000
        },
        "outputId": "8b2a7ef6-607f-4d52-f6d4-3f7295b87e98"
      },
      "source": [
        "checkpointer = ModelCheckpoint(filepath='top-weights.hdf5', verbose=1, save_best_only=True)\n",
        "model.fit(x_train, y_train, batch_size=32, epochs=20, callbacks=[checkpointer], validation_data=(x_test, y_test))"
      ],
      "execution_count": null,
      "outputs": [
        {
          "output_type": "stream",
          "text": [
            "Epoch 1/20\n",
            "482/482 [==============================] - ETA: 0s - loss: 1.4578\n",
            "Epoch 00001: val_loss improved from inf to 1.36066, saving model to top-weights.hdf5\n",
            "482/482 [==============================] - 3s 6ms/step - loss: 1.4578 - val_loss: 1.3607\n",
            "Epoch 2/20\n",
            "474/482 [============================>.] - ETA: 0s - loss: 1.3896\n",
            "Epoch 00002: val_loss improved from 1.36066 to 1.34010, saving model to top-weights.hdf5\n",
            "482/482 [==============================] - 2s 5ms/step - loss: 1.3880 - val_loss: 1.3401\n",
            "Epoch 3/20\n",
            "478/482 [============================>.] - ETA: 0s - loss: 1.3711\n",
            "Epoch 00003: val_loss did not improve from 1.34010\n",
            "482/482 [==============================] - 2s 5ms/step - loss: 1.3707 - val_loss: 1.3482\n",
            "Epoch 4/20\n",
            "478/482 [============================>.] - ETA: 0s - loss: 1.3607\n",
            "Epoch 00004: val_loss did not improve from 1.34010\n",
            "482/482 [==============================] - 2s 5ms/step - loss: 1.3602 - val_loss: 1.3478\n",
            "Epoch 5/20\n",
            "480/482 [============================>.] - ETA: 0s - loss: 1.3452\n",
            "Epoch 00005: val_loss improved from 1.34010 to 1.32309, saving model to top-weights.hdf5\n",
            "482/482 [==============================] - 3s 5ms/step - loss: 1.3454 - val_loss: 1.3231\n",
            "Epoch 6/20\n",
            "477/482 [============================>.] - ETA: 0s - loss: 1.3350\n",
            "Epoch 00006: val_loss did not improve from 1.32309\n",
            "482/482 [==============================] - 2s 5ms/step - loss: 1.3354 - val_loss: 1.3249\n",
            "Epoch 7/20\n",
            "477/482 [============================>.] - ETA: 0s - loss: 1.3345\n",
            "Epoch 00007: val_loss improved from 1.32309 to 1.31842, saving model to top-weights.hdf5\n",
            "482/482 [==============================] - 3s 5ms/step - loss: 1.3342 - val_loss: 1.3184\n",
            "Epoch 8/20\n",
            "474/482 [============================>.] - ETA: 0s - loss: 1.3263\n",
            "Epoch 00008: val_loss improved from 1.31842 to 1.30999, saving model to top-weights.hdf5\n",
            "482/482 [==============================] - 3s 5ms/step - loss: 1.3258 - val_loss: 1.3100\n",
            "Epoch 9/20\n",
            "474/482 [============================>.] - ETA: 0s - loss: 1.3192\n",
            "Epoch 00009: val_loss did not improve from 1.30999\n",
            "482/482 [==============================] - 3s 5ms/step - loss: 1.3199 - val_loss: 1.3201\n",
            "Epoch 10/20\n",
            "472/482 [============================>.] - ETA: 0s - loss: 1.3159\n",
            "Epoch 00010: val_loss improved from 1.30999 to 1.30016, saving model to top-weights.hdf5\n",
            "482/482 [==============================] - 3s 5ms/step - loss: 1.3153 - val_loss: 1.3002\n",
            "Epoch 11/20\n",
            "475/482 [============================>.] - ETA: 0s - loss: 1.3138\n",
            "Epoch 00011: val_loss did not improve from 1.30016\n",
            "482/482 [==============================] - 2s 5ms/step - loss: 1.3133 - val_loss: 1.3055\n",
            "Epoch 12/20\n",
            "473/482 [============================>.] - ETA: 0s - loss: 1.3084\n",
            "Epoch 00012: val_loss did not improve from 1.30016\n",
            "482/482 [==============================] - 2s 5ms/step - loss: 1.3091 - val_loss: 1.3146\n",
            "Epoch 13/20\n",
            "471/482 [============================>.] - ETA: 0s - loss: 1.3044\n",
            "Epoch 00013: val_loss did not improve from 1.30016\n",
            "482/482 [==============================] - 3s 5ms/step - loss: 1.3037 - val_loss: 1.3084\n",
            "Epoch 14/20\n",
            "482/482 [==============================] - ETA: 0s - loss: 1.3013\n",
            "Epoch 00014: val_loss improved from 1.30016 to 1.29274, saving model to top-weights.hdf5\n",
            "482/482 [==============================] - 3s 7ms/step - loss: 1.3013 - val_loss: 1.2927\n",
            "Epoch 15/20\n",
            "482/482 [==============================] - ETA: 0s - loss: 1.2945\n",
            "Epoch 00015: val_loss did not improve from 1.29274\n",
            "482/482 [==============================] - 2s 5ms/step - loss: 1.2945 - val_loss: 1.2958\n",
            "Epoch 16/20\n",
            "482/482 [==============================] - ETA: 0s - loss: 1.2909\n",
            "Epoch 00016: val_loss did not improve from 1.29274\n",
            "482/482 [==============================] - 2s 5ms/step - loss: 1.2909 - val_loss: 1.3046\n",
            "Epoch 17/20\n",
            "471/482 [============================>.] - ETA: 0s - loss: 1.2837\n",
            "Epoch 00017: val_loss did not improve from 1.29274\n",
            "482/482 [==============================] - 2s 5ms/step - loss: 1.2832 - val_loss: 1.2965\n",
            "Epoch 18/20\n",
            "472/482 [============================>.] - ETA: 0s - loss: 1.2820\n",
            "Epoch 00018: val_loss did not improve from 1.29274\n",
            "482/482 [==============================] - 2s 5ms/step - loss: 1.2826 - val_loss: 1.3012\n",
            "Epoch 19/20\n",
            "474/482 [============================>.] - ETA: 0s - loss: 1.2807\n",
            "Epoch 00019: val_loss did not improve from 1.29274\n",
            "482/482 [==============================] - 2s 5ms/step - loss: 1.2801 - val_loss: 1.2956\n",
            "Epoch 20/20\n",
            "478/482 [============================>.] - ETA: 0s - loss: 1.2732\n",
            "Epoch 00020: val_loss did not improve from 1.29274\n",
            "482/482 [==============================] - 2s 5ms/step - loss: 1.2732 - val_loss: 1.2976\n"
          ],
          "name": "stdout"
        },
        {
          "output_type": "execute_result",
          "data": {
            "text/plain": [
              "<tensorflow.python.keras.callbacks.History at 0x7fb2e1bd9278>"
            ]
          },
          "metadata": {
            "tags": []
          },
          "execution_count": 34
        }
      ]
    },
    {
      "cell_type": "code",
      "metadata": {
        "id": "QymqD4omuJP7",
        "colab_type": "code",
        "colab": {
          "base_uri": "https://localhost:8080/",
          "height": 238
        },
        "outputId": "1a374952-8ec8-4bd9-d3fe-9e9934591f1f"
      },
      "source": [
        "model.load_weights('top-weights.hdf5')\n",
        "print(classification_report(y_test, np.argmax(model.predict(x_test),axis=1)))\n",
        "print(round(roc_auc_score(y_test, model.predict(x_test), multi_class='ovo'),3))"
      ],
      "execution_count": null,
      "outputs": [
        {
          "output_type": "stream",
          "text": [
            "              precision    recall  f1-score   support\n",
            "\n",
            "           0       0.57      0.60      0.59       778\n",
            "           1       0.32      0.33      0.33       756\n",
            "           2       0.29      0.16      0.20       751\n",
            "           3       0.32      0.35      0.33       797\n",
            "           4       0.51      0.66      0.58       774\n",
            "\n",
            "    accuracy                           0.42      3856\n",
            "   macro avg       0.40      0.42      0.41      3856\n",
            "weighted avg       0.40      0.42      0.41      3856\n",
            "\n",
            "0.751\n"
          ],
          "name": "stdout"
        }
      ]
    },
    {
      "cell_type": "markdown",
      "metadata": {
        "id": "nUv2LS7X-XnQ",
        "colab_type": "text"
      },
      "source": [
        "Попробуем использовать для нашей задачи предобученную модель BERT, на выход который добавим полносвязный слой"
      ]
    },
    {
      "cell_type": "code",
      "metadata": {
        "id": "NGwRc0sJuJHT",
        "colab_type": "code",
        "colab": {}
      },
      "source": [
        "x_train, x_test, y_train, y_test = train_test_split(data.new_content, data.label, test_size=0.2, stratify=data.label, random_state=42)\n",
        "train = pd.DataFrame({'content':x_train, 'label':y_train})\n",
        "test = pd.DataFrame({'content':x_test, 'label':y_test})\n",
        "del x_train, x_test, y_train, y_test, data"
      ],
      "execution_count": 2,
      "outputs": []
    },
    {
      "cell_type": "markdown",
      "metadata": {
        "id": "EJwowkSv-nVB",
        "colab_type": "text"
      },
      "source": [
        "Импортируем tensorflow, а также некоторые необходимые файлы для работы BERTa"
      ]
    },
    {
      "cell_type": "code",
      "metadata": {
        "id": "4Ia_jbtezxLj",
        "colab_type": "code",
        "colab": {}
      },
      "source": [
        "import tensorflow.compat.v1 as tf\n",
        "import tensorflow_hub as hub\n",
        "import run_classifier\n",
        "import optimization\n",
        "import tokenization"
      ],
      "execution_count": 3,
      "outputs": []
    },
    {
      "cell_type": "code",
      "metadata": {
        "id": "FQ-CjBdX0o5c",
        "colab_type": "code",
        "colab": {}
      },
      "source": [
        "train_InputExamples = train.apply(lambda x: run_classifier.InputExample(guid=None, text_a = x['content'], text_b = None, label = x['label']), axis = 1)\n",
        "test_InputExamples = test.apply(lambda x: run_classifier.InputExample(guid=None, text_a = x['content'], text_b = None, label = x['label']), axis = 1)"
      ],
      "execution_count": 4,
      "outputs": []
    },
    {
      "cell_type": "code",
      "metadata": {
        "id": "Nw93IWW301k5",
        "colab_type": "code",
        "colab": {
          "base_uri": "https://localhost:8080/",
          "height": 51
        },
        "outputId": "46805956-642e-403a-a88f-b009dab6fbd7"
      },
      "source": [
        "BERT_MODEL_HUB = 'https://tfhub.dev/google/bert_multi_cased_L-12_H-768_A-12/1'\n",
        "def create_tokenizer_from_hub_module():\n",
        "  with tf.Graph().as_default():\n",
        "    bert_module = hub.Module(BERT_MODEL_HUB)\n",
        "    tokenization_info = bert_module(signature=\"tokenization_info\", as_dict=True)\n",
        "    with tf.Session() as sess:\n",
        "      vocab_file, do_lower_case = sess.run([tokenization_info[\"vocab_file\"], tokenization_info[\"do_lower_case\"]])\n",
        "  return tokenization.FullTokenizer(vocab_file=vocab_file, do_lower_case=do_lower_case)\n",
        "\n",
        "tokenizer = create_tokenizer_from_hub_module()"
      ],
      "execution_count": 5,
      "outputs": [
        {
          "output_type": "stream",
          "text": [
            "INFO:tensorflow:Saver not created because there are no variables in the graph to restore\n"
          ],
          "name": "stdout"
        },
        {
          "output_type": "stream",
          "text": [
            "INFO:tensorflow:Saver not created because there are no variables in the graph to restore\n"
          ],
          "name": "stderr"
        }
      ]
    },
    {
      "cell_type": "markdown",
      "metadata": {
        "id": "bYyVm1MN_Fwp",
        "colab_type": "text"
      },
      "source": [
        "Преобразование текста в подходящий формат"
      ]
    },
    {
      "cell_type": "code",
      "metadata": {
        "id": "M09Ugm5J2h0y",
        "colab_type": "code",
        "colab": {
          "base_uri": "https://localhost:8080/",
          "height": 1000
        },
        "outputId": "995c8c59-5c8c-496c-c179-0d88b173c47a"
      },
      "source": [
        "MAX_SEQ_LENGTH = 384\n",
        "label_list = [0,1,2,3,4]\n",
        "train_features = run_classifier.convert_examples_to_features(train_InputExamples, label_list, MAX_SEQ_LENGTH, tokenizer)\n",
        "test_features = run_classifier.convert_examples_to_features(test_InputExamples, label_list, MAX_SEQ_LENGTH, tokenizer)"
      ],
      "execution_count": 6,
      "outputs": [
        {
          "output_type": "stream",
          "text": [
            "INFO:tensorflow:Writing example 0 of 15424\n"
          ],
          "name": "stdout"
        },
        {
          "output_type": "stream",
          "text": [
            "INFO:tensorflow:Writing example 0 of 15424\n"
          ],
          "name": "stderr"
        },
        {
          "output_type": "stream",
          "text": [
            "INFO:tensorflow:*** Example ***\n"
          ],
          "name": "stdout"
        },
        {
          "output_type": "stream",
          "text": [
            "INFO:tensorflow:*** Example ***\n"
          ],
          "name": "stderr"
        },
        {
          "output_type": "stream",
          "text": [
            "INFO:tensorflow:guid: None\n"
          ],
          "name": "stdout"
        },
        {
          "output_type": "stream",
          "text": [
            "INFO:tensorflow:guid: None\n"
          ],
          "name": "stderr"
        },
        {
          "output_type": "stream",
          "text": [
            "INFO:tensorflow:tokens: [CLS] герой да ##ть за ##мет ##ка got ##way m ##cm не ##ког ##да топ ##овый кол ##ес ##о который быть новый ма ##кс ##има ##льный комп ##лект ##ация про ##ез ##жать шесть ##де ##сят километр ма ##кс ##има ##льный скорость около три ##дцать километр час н ##ын ##че кол ##ес ##о ос ##тать ##ся за ##менить по ##чини ##ть ба ##тар ##ея кол ##ес ##о ма ##рка kings ##ong кон ##тро ##ллер е ##же ##ли память из ##мен ##ять got ##way m ##cm м ##отор сто ##ять под ##ши ##п ##ник г ##п ##з корпус па ##ян ##ый шп ##ат ##лева ##н по ##к ##рас ##ить за ##мет ##ка основа ##ть качестве ##нный ф ##ото ##графия который сделать время ремонт перед ##ел ##ка тот кто п ##уга ##ть бу ##ква про ##сить ка ##т наш раз ##бор ##ка начин ##ать от ##вора ##чив ##ать само ##рез ##а который с ##к ##ре ##п ##лять два половина корпус затем мы не ##об ##ходи ##мый от ##к ##ру ##тить ви ##нт который со ##еди ##нять корпус др ##опа ##ут сто ##йка п ##еда ##ль вид другой р ##аку ##рс ви ##нт в ##ечно вы ##пада ##ть несмотря ф ##ик ##са ##тор р ##ез ##ьба по ##сем ##у за ##менить бол ##т м ##о ##чь за ##метить корпус кол ##ес ##о су ##жать ##ся низ к ##ре ##п ##ко при ##жим ##аться др ##опа ##ут с ##бор ##ка пол ##овин ##ка корпус сначала при ##к ##ру ##чив ##ать др ##опа ##ут све ##рху они остава ##ться за ##зор пара сан ##тим ##ет ##р с ##к ##ру ##чив ##ать корпус нам ##ерт ##во при ##жим ##ать др ##опа ##ут это тех ##нический решение приводит ##ь тот м ##о ##чь просто с ##д ##ёр ##нуть корпус вв ##ерх да ##ба за ##кле ##ить кам ##ера мы при ##ходить ##ся практически полностью раз ##бира ##ть кол ##ес ##о самый не ##пр ##ият ##ный е ##же ##ли по ##тер ##ять в ##ерх ##ний ви ##нт к ##ре ##пление др ##опа ##ут при ##к ##ру ##тить место раз ##бор кол ##ес ##о за ##час ##тую бы ##вать не ##возможно и ##бо от ##вер ##сти ##е корпус сов ##пада ##ть от ##вер ##сти ##е др ##опа ##ут сов ##рем ##енный кол ##ес ##о уз ##ел вы ##по ##лни ##ть чел ##ове ##чески [SEP]\n"
          ],
          "name": "stdout"
        },
        {
          "output_type": "stream",
          "text": [
            "INFO:tensorflow:tokens: [CLS] герой да ##ть за ##мет ##ка got ##way m ##cm не ##ког ##да топ ##овый кол ##ес ##о который быть новый ма ##кс ##има ##льный комп ##лект ##ация про ##ез ##жать шесть ##де ##сят километр ма ##кс ##има ##льный скорость около три ##дцать километр час н ##ын ##че кол ##ес ##о ос ##тать ##ся за ##менить по ##чини ##ть ба ##тар ##ея кол ##ес ##о ма ##рка kings ##ong кон ##тро ##ллер е ##же ##ли память из ##мен ##ять got ##way m ##cm м ##отор сто ##ять под ##ши ##п ##ник г ##п ##з корпус па ##ян ##ый шп ##ат ##лева ##н по ##к ##рас ##ить за ##мет ##ка основа ##ть качестве ##нный ф ##ото ##графия который сделать время ремонт перед ##ел ##ка тот кто п ##уга ##ть бу ##ква про ##сить ка ##т наш раз ##бор ##ка начин ##ать от ##вора ##чив ##ать само ##рез ##а который с ##к ##ре ##п ##лять два половина корпус затем мы не ##об ##ходи ##мый от ##к ##ру ##тить ви ##нт который со ##еди ##нять корпус др ##опа ##ут сто ##йка п ##еда ##ль вид другой р ##аку ##рс ви ##нт в ##ечно вы ##пада ##ть несмотря ф ##ик ##са ##тор р ##ез ##ьба по ##сем ##у за ##менить бол ##т м ##о ##чь за ##метить корпус кол ##ес ##о су ##жать ##ся низ к ##ре ##п ##ко при ##жим ##аться др ##опа ##ут с ##бор ##ка пол ##овин ##ка корпус сначала при ##к ##ру ##чив ##ать др ##опа ##ут све ##рху они остава ##ться за ##зор пара сан ##тим ##ет ##р с ##к ##ру ##чив ##ать корпус нам ##ерт ##во при ##жим ##ать др ##опа ##ут это тех ##нический решение приводит ##ь тот м ##о ##чь просто с ##д ##ёр ##нуть корпус вв ##ерх да ##ба за ##кле ##ить кам ##ера мы при ##ходить ##ся практически полностью раз ##бира ##ть кол ##ес ##о самый не ##пр ##ият ##ный е ##же ##ли по ##тер ##ять в ##ерх ##ний ви ##нт к ##ре ##пление др ##опа ##ут при ##к ##ру ##тить место раз ##бор кол ##ес ##о за ##час ##тую бы ##вать не ##возможно и ##бо от ##вер ##сти ##е корпус сов ##пада ##ть от ##вер ##сти ##е др ##опа ##ут сов ##рем ##енный кол ##ес ##о уз ##ел вы ##по ##лни ##ть чел ##ове ##чески [SEP]\n"
          ],
          "name": "stderr"
        },
        {
          "output_type": "stream",
          "text": [
            "INFO:tensorflow:input_ids: 101 48074 10405 11258 10234 50362 10521 19556 14132 181 27528 10375 29476 10987 56575 43206 90363 17488 10316 12968 17631 30994 97744 18705 17804 23323 58210 100405 38878 12709 32934 59919 60406 12265 83125 89242 97744 18705 17804 23323 61735 13753 13251 93283 89242 12562 554 12119 13873 90363 17488 10316 85854 91119 10625 10234 94002 10297 32615 11258 13571 13780 24377 90363 17488 10316 97744 23739 79836 13891 33023 62735 84758 546 15920 10783 52649 10387 14402 20177 19556 14132 181 27528 553 95972 108804 20177 11429 13523 11078 11718 544 11078 11571 29785 12634 18971 13865 13568 12378 72412 10267 10297 10510 56680 15356 10234 50362 10521 53277 11258 17164 28501 561 19517 31798 12968 58073 11657 90282 18731 13519 10521 24486 35261 556 40362 11258 18261 34790 12709 99366 56280 10351 79590 17257 20545 10521 27353 18235 10332 59788 40181 18235 14847 102233 10179 12968 558 10510 14348 11078 32589 12500 50178 29785 16907 35818 10375 33276 58933 50911 10332 10510 14360 53407 88504 17078 12968 10956 84865 46886 29785 16522 68917 19691 108804 88138 556 63253 12118 16133 28698 557 74865 45760 88504 17078 543 75051 96195 49548 11258 47753 561 14407 12016 18256 557 32934 50789 10297 23629 10227 10234 94002 46239 10351 553 10316 40697 10234 88794 29785 90363 17488 10316 10587 59919 10625 33235 551 14348 11078 11623 10913 101509 55125 16522 68917 19691 558 20545 10521 23750 87876 10521 29785 51174 10913 10510 14360 40181 18235 16522 68917 19691 25544 94153 14274 63124 14133 10234 48645 67626 43426 50512 11613 10519 558 10510 14360 40181 18235 29785 59221 92190 15275 10913 101509 18235 16522 68917 19691 12999 32323 99887 27319 73578 10851 24486 553 10316 40697 31108 558 10746 24799 46769 29785 60345 57935 10405 13390 10234 72203 15356 62873 14961 35818 10913 47387 10625 36670 29305 17257 64815 11258 90363 17488 10316 63600 10375 35415 62106 11092 546 15920 10783 10297 15469 20177 543 57935 11532 88504 17078 551 14348 95894 16522 68917 19691 10913 10510 14360 53407 13323 17257 20545 90363 17488 10316 10234 45046 56214 22504 27013 10375 110426 549 29709 10332 32418 12189 10205 29785 98903 49548 11258 10332 32418 12189 10205 16522 68917 19691 98903 54701 33287 90363 17488 10316 41733 13519 96195 53204 22523 11258 25877 16030 24373 102\n"
          ],
          "name": "stdout"
        },
        {
          "output_type": "stream",
          "text": [
            "INFO:tensorflow:input_ids: 101 48074 10405 11258 10234 50362 10521 19556 14132 181 27528 10375 29476 10987 56575 43206 90363 17488 10316 12968 17631 30994 97744 18705 17804 23323 58210 100405 38878 12709 32934 59919 60406 12265 83125 89242 97744 18705 17804 23323 61735 13753 13251 93283 89242 12562 554 12119 13873 90363 17488 10316 85854 91119 10625 10234 94002 10297 32615 11258 13571 13780 24377 90363 17488 10316 97744 23739 79836 13891 33023 62735 84758 546 15920 10783 52649 10387 14402 20177 19556 14132 181 27528 553 95972 108804 20177 11429 13523 11078 11718 544 11078 11571 29785 12634 18971 13865 13568 12378 72412 10267 10297 10510 56680 15356 10234 50362 10521 53277 11258 17164 28501 561 19517 31798 12968 58073 11657 90282 18731 13519 10521 24486 35261 556 40362 11258 18261 34790 12709 99366 56280 10351 79590 17257 20545 10521 27353 18235 10332 59788 40181 18235 14847 102233 10179 12968 558 10510 14348 11078 32589 12500 50178 29785 16907 35818 10375 33276 58933 50911 10332 10510 14360 53407 88504 17078 12968 10956 84865 46886 29785 16522 68917 19691 108804 88138 556 63253 12118 16133 28698 557 74865 45760 88504 17078 543 75051 96195 49548 11258 47753 561 14407 12016 18256 557 32934 50789 10297 23629 10227 10234 94002 46239 10351 553 10316 40697 10234 88794 29785 90363 17488 10316 10587 59919 10625 33235 551 14348 11078 11623 10913 101509 55125 16522 68917 19691 558 20545 10521 23750 87876 10521 29785 51174 10913 10510 14360 40181 18235 16522 68917 19691 25544 94153 14274 63124 14133 10234 48645 67626 43426 50512 11613 10519 558 10510 14360 40181 18235 29785 59221 92190 15275 10913 101509 18235 16522 68917 19691 12999 32323 99887 27319 73578 10851 24486 553 10316 40697 31108 558 10746 24799 46769 29785 60345 57935 10405 13390 10234 72203 15356 62873 14961 35818 10913 47387 10625 36670 29305 17257 64815 11258 90363 17488 10316 63600 10375 35415 62106 11092 546 15920 10783 10297 15469 20177 543 57935 11532 88504 17078 551 14348 95894 16522 68917 19691 10913 10510 14360 53407 13323 17257 20545 90363 17488 10316 10234 45046 56214 22504 27013 10375 110426 549 29709 10332 32418 12189 10205 29785 98903 49548 11258 10332 32418 12189 10205 16522 68917 19691 98903 54701 33287 90363 17488 10316 41733 13519 96195 53204 22523 11258 25877 16030 24373 102\n"
          ],
          "name": "stderr"
        },
        {
          "output_type": "stream",
          "text": [
            "INFO:tensorflow:input_mask: 1 1 1 1 1 1 1 1 1 1 1 1 1 1 1 1 1 1 1 1 1 1 1 1 1 1 1 1 1 1 1 1 1 1 1 1 1 1 1 1 1 1 1 1 1 1 1 1 1 1 1 1 1 1 1 1 1 1 1 1 1 1 1 1 1 1 1 1 1 1 1 1 1 1 1 1 1 1 1 1 1 1 1 1 1 1 1 1 1 1 1 1 1 1 1 1 1 1 1 1 1 1 1 1 1 1 1 1 1 1 1 1 1 1 1 1 1 1 1 1 1 1 1 1 1 1 1 1 1 1 1 1 1 1 1 1 1 1 1 1 1 1 1 1 1 1 1 1 1 1 1 1 1 1 1 1 1 1 1 1 1 1 1 1 1 1 1 1 1 1 1 1 1 1 1 1 1 1 1 1 1 1 1 1 1 1 1 1 1 1 1 1 1 1 1 1 1 1 1 1 1 1 1 1 1 1 1 1 1 1 1 1 1 1 1 1 1 1 1 1 1 1 1 1 1 1 1 1 1 1 1 1 1 1 1 1 1 1 1 1 1 1 1 1 1 1 1 1 1 1 1 1 1 1 1 1 1 1 1 1 1 1 1 1 1 1 1 1 1 1 1 1 1 1 1 1 1 1 1 1 1 1 1 1 1 1 1 1 1 1 1 1 1 1 1 1 1 1 1 1 1 1 1 1 1 1 1 1 1 1 1 1 1 1 1 1 1 1 1 1 1 1 1 1 1 1 1 1 1 1 1 1 1 1 1 1 1 1 1 1 1 1 1 1 1 1 1 1 1 1 1 1 1 1 1 1 1 1 1 1 1 1 1 1 1 1 1 1 1 1 1 1 1 1 1 1 1 1 1 1 1 1 1 1\n"
          ],
          "name": "stdout"
        },
        {
          "output_type": "stream",
          "text": [
            "INFO:tensorflow:input_mask: 1 1 1 1 1 1 1 1 1 1 1 1 1 1 1 1 1 1 1 1 1 1 1 1 1 1 1 1 1 1 1 1 1 1 1 1 1 1 1 1 1 1 1 1 1 1 1 1 1 1 1 1 1 1 1 1 1 1 1 1 1 1 1 1 1 1 1 1 1 1 1 1 1 1 1 1 1 1 1 1 1 1 1 1 1 1 1 1 1 1 1 1 1 1 1 1 1 1 1 1 1 1 1 1 1 1 1 1 1 1 1 1 1 1 1 1 1 1 1 1 1 1 1 1 1 1 1 1 1 1 1 1 1 1 1 1 1 1 1 1 1 1 1 1 1 1 1 1 1 1 1 1 1 1 1 1 1 1 1 1 1 1 1 1 1 1 1 1 1 1 1 1 1 1 1 1 1 1 1 1 1 1 1 1 1 1 1 1 1 1 1 1 1 1 1 1 1 1 1 1 1 1 1 1 1 1 1 1 1 1 1 1 1 1 1 1 1 1 1 1 1 1 1 1 1 1 1 1 1 1 1 1 1 1 1 1 1 1 1 1 1 1 1 1 1 1 1 1 1 1 1 1 1 1 1 1 1 1 1 1 1 1 1 1 1 1 1 1 1 1 1 1 1 1 1 1 1 1 1 1 1 1 1 1 1 1 1 1 1 1 1 1 1 1 1 1 1 1 1 1 1 1 1 1 1 1 1 1 1 1 1 1 1 1 1 1 1 1 1 1 1 1 1 1 1 1 1 1 1 1 1 1 1 1 1 1 1 1 1 1 1 1 1 1 1 1 1 1 1 1 1 1 1 1 1 1 1 1 1 1 1 1 1 1 1 1 1 1 1 1 1 1 1 1 1 1 1 1 1 1 1 1 1 1\n"
          ],
          "name": "stderr"
        },
        {
          "output_type": "stream",
          "text": [
            "INFO:tensorflow:segment_ids: 0 0 0 0 0 0 0 0 0 0 0 0 0 0 0 0 0 0 0 0 0 0 0 0 0 0 0 0 0 0 0 0 0 0 0 0 0 0 0 0 0 0 0 0 0 0 0 0 0 0 0 0 0 0 0 0 0 0 0 0 0 0 0 0 0 0 0 0 0 0 0 0 0 0 0 0 0 0 0 0 0 0 0 0 0 0 0 0 0 0 0 0 0 0 0 0 0 0 0 0 0 0 0 0 0 0 0 0 0 0 0 0 0 0 0 0 0 0 0 0 0 0 0 0 0 0 0 0 0 0 0 0 0 0 0 0 0 0 0 0 0 0 0 0 0 0 0 0 0 0 0 0 0 0 0 0 0 0 0 0 0 0 0 0 0 0 0 0 0 0 0 0 0 0 0 0 0 0 0 0 0 0 0 0 0 0 0 0 0 0 0 0 0 0 0 0 0 0 0 0 0 0 0 0 0 0 0 0 0 0 0 0 0 0 0 0 0 0 0 0 0 0 0 0 0 0 0 0 0 0 0 0 0 0 0 0 0 0 0 0 0 0 0 0 0 0 0 0 0 0 0 0 0 0 0 0 0 0 0 0 0 0 0 0 0 0 0 0 0 0 0 0 0 0 0 0 0 0 0 0 0 0 0 0 0 0 0 0 0 0 0 0 0 0 0 0 0 0 0 0 0 0 0 0 0 0 0 0 0 0 0 0 0 0 0 0 0 0 0 0 0 0 0 0 0 0 0 0 0 0 0 0 0 0 0 0 0 0 0 0 0 0 0 0 0 0 0 0 0 0 0 0 0 0 0 0 0 0 0 0 0 0 0 0 0 0 0 0 0 0 0 0 0 0 0 0 0 0 0 0 0 0 0 0\n"
          ],
          "name": "stdout"
        },
        {
          "output_type": "stream",
          "text": [
            "INFO:tensorflow:segment_ids: 0 0 0 0 0 0 0 0 0 0 0 0 0 0 0 0 0 0 0 0 0 0 0 0 0 0 0 0 0 0 0 0 0 0 0 0 0 0 0 0 0 0 0 0 0 0 0 0 0 0 0 0 0 0 0 0 0 0 0 0 0 0 0 0 0 0 0 0 0 0 0 0 0 0 0 0 0 0 0 0 0 0 0 0 0 0 0 0 0 0 0 0 0 0 0 0 0 0 0 0 0 0 0 0 0 0 0 0 0 0 0 0 0 0 0 0 0 0 0 0 0 0 0 0 0 0 0 0 0 0 0 0 0 0 0 0 0 0 0 0 0 0 0 0 0 0 0 0 0 0 0 0 0 0 0 0 0 0 0 0 0 0 0 0 0 0 0 0 0 0 0 0 0 0 0 0 0 0 0 0 0 0 0 0 0 0 0 0 0 0 0 0 0 0 0 0 0 0 0 0 0 0 0 0 0 0 0 0 0 0 0 0 0 0 0 0 0 0 0 0 0 0 0 0 0 0 0 0 0 0 0 0 0 0 0 0 0 0 0 0 0 0 0 0 0 0 0 0 0 0 0 0 0 0 0 0 0 0 0 0 0 0 0 0 0 0 0 0 0 0 0 0 0 0 0 0 0 0 0 0 0 0 0 0 0 0 0 0 0 0 0 0 0 0 0 0 0 0 0 0 0 0 0 0 0 0 0 0 0 0 0 0 0 0 0 0 0 0 0 0 0 0 0 0 0 0 0 0 0 0 0 0 0 0 0 0 0 0 0 0 0 0 0 0 0 0 0 0 0 0 0 0 0 0 0 0 0 0 0 0 0 0 0 0 0 0 0 0 0 0 0 0 0 0 0 0 0 0 0 0 0 0 0 0\n"
          ],
          "name": "stderr"
        },
        {
          "output_type": "stream",
          "text": [
            "INFO:tensorflow:label: 3 (id = 3)\n"
          ],
          "name": "stdout"
        },
        {
          "output_type": "stream",
          "text": [
            "INFO:tensorflow:label: 3 (id = 3)\n"
          ],
          "name": "stderr"
        },
        {
          "output_type": "stream",
          "text": [
            "INFO:tensorflow:*** Example ***\n"
          ],
          "name": "stdout"
        },
        {
          "output_type": "stream",
          "text": [
            "INFO:tensorflow:*** Example ***\n"
          ],
          "name": "stderr"
        },
        {
          "output_type": "stream",
          "text": [
            "INFO:tensorflow:guid: None\n"
          ],
          "name": "stdout"
        },
        {
          "output_type": "stream",
          "text": [
            "INFO:tensorflow:guid: None\n"
          ],
          "name": "stderr"
        },
        {
          "output_type": "stream",
          "text": [
            "INFO:tensorflow:tokens: [CLS] ф ##ото gr ##over net cc один наш пред ##ы ##ду ##щий материал п ##иса ##ть новый раз ##работка с ##фера х ##ранение да ##ть ia ##as про ##вай ##дер очень интерес ##овать тех ##нология с ##пособ ##ный из ##менить наш представлен ##ие дата центр р ##еши ##ть у ##дел ##ить немного время х ##рани ##лище да ##ть очень ё ##мки ##й х ##рани ##лище да ##ть год компания sea ##gate ан ##он ##си ##ровать свой новый диск ##овый на ##коп ##итель kin ##eti ##c h ##dd ин ##тер ##фей ##с et ##her ##net про ##из ##водит ##ельно ##сть который несколько пре ##вы ##сить про ##из ##водит ##ельно ##сть су ##ществ ##ую ##щий момент продукт компания новое из ##об ##рет ##ение у ##про ##щать процесс создание программ ##ный а ##п ##парат ##ный архитектура х ##ранение да ##ть с ##ни ##жать сов ##ок ##уп ##ный сто ##имость в ##ладение т ##со по ##зв ##оля ##ть опера ##тивно р ##е ##аг ##ировать р ##аст ##и по ##тр ##ебно ##сть обл ##ач ##ный ин ##ф ##рас ##труктура система х ##ранение да ##ть каждый диск kin ##eti ##c h ##dd ги ##га ##бит ##ный et ##her ##net порт каждый свой i ##p ад ##рес платформа kin ##eti ##c open storage дава ##ть возможность приложение х ##ост св ##яз ##ывать ##ся друг друг на ##пр ##ям ##ую ж ##ёс ##тки ##й диск помощь t ##c ##p i ##p ин ##ф ##рас ##труктура дата центр использовать открыт ##ый api под ##об ##ный тех ##нология се ##рь з ##но пре ##об ##раз ##ить ин ##ф ##рас ##труктура дата центр и ##т ин ##ду ##стри ##я цел ##ое другой раз ##работка sea ##gate быть который за ##кл ##ю ##чать ##ся че ##ре ##пи ##чный тех ##нология запись shi ##ng ##led magnetic recording sm ##r ле ##чь основа четыре милли ##он на ##коп ##итель который поста ##вить р ##ын ##ок год момент е за ##пуск производство особенно ##сть тех ##нология sm ##r за ##кл ##ю ##чать ##ся запись информация диск до ##ро ##жка на ##клад ##ывать ##ся друг друг это по ##зв ##оля ##ть у ##вели ##чить количество до ##ро ##жка каждый п ##лас ##тина со ##к ##рати ##ть р ##ас ##стояние они очередь приводит ##ь пов ##ыш ##ение ё ##м ##кость диск проблема низ ##ка скорость запись да ##ть случай [SEP]\n"
          ],
          "name": "stdout"
        },
        {
          "output_type": "stream",
          "text": [
            "INFO:tensorflow:tokens: [CLS] ф ##ото gr ##over net cc один наш пред ##ы ##ду ##щий материал п ##иса ##ть новый раз ##работка с ##фера х ##ранение да ##ть ia ##as про ##вай ##дер очень интерес ##овать тех ##нология с ##пособ ##ный из ##менить наш представлен ##ие дата центр р ##еши ##ть у ##дел ##ить немного время х ##рани ##лище да ##ть очень ё ##мки ##й х ##рани ##лище да ##ть год компания sea ##gate ан ##он ##си ##ровать свой новый диск ##овый на ##коп ##итель kin ##eti ##c h ##dd ин ##тер ##фей ##с et ##her ##net про ##из ##водит ##ельно ##сть который несколько пре ##вы ##сить про ##из ##водит ##ельно ##сть су ##ществ ##ую ##щий момент продукт компания новое из ##об ##рет ##ение у ##про ##щать процесс создание программ ##ный а ##п ##парат ##ный архитектура х ##ранение да ##ть с ##ни ##жать сов ##ок ##уп ##ный сто ##имость в ##ладение т ##со по ##зв ##оля ##ть опера ##тивно р ##е ##аг ##ировать р ##аст ##и по ##тр ##ебно ##сть обл ##ач ##ный ин ##ф ##рас ##труктура система х ##ранение да ##ть каждый диск kin ##eti ##c h ##dd ги ##га ##бит ##ный et ##her ##net порт каждый свой i ##p ад ##рес платформа kin ##eti ##c open storage дава ##ть возможность приложение х ##ост св ##яз ##ывать ##ся друг друг на ##пр ##ям ##ую ж ##ёс ##тки ##й диск помощь t ##c ##p i ##p ин ##ф ##рас ##труктура дата центр использовать открыт ##ый api под ##об ##ный тех ##нология се ##рь з ##но пре ##об ##раз ##ить ин ##ф ##рас ##труктура дата центр и ##т ин ##ду ##стри ##я цел ##ое другой раз ##работка sea ##gate быть который за ##кл ##ю ##чать ##ся че ##ре ##пи ##чный тех ##нология запись shi ##ng ##led magnetic recording sm ##r ле ##чь основа четыре милли ##он на ##коп ##итель который поста ##вить р ##ын ##ок год момент е за ##пуск производство особенно ##сть тех ##нология sm ##r за ##кл ##ю ##чать ##ся запись информация диск до ##ро ##жка на ##клад ##ывать ##ся друг друг это по ##зв ##оля ##ть у ##вели ##чить количество до ##ро ##жка каждый п ##лас ##тина со ##к ##рати ##ть р ##ас ##стояние они очередь приводит ##ь пов ##ыш ##ение ё ##м ##кость диск проблема низ ##ка скорость запись да ##ть случай [SEP]\n"
          ],
          "name": "stderr"
        },
        {
          "output_type": "stream",
          "text": [
            "INFO:tensorflow:input_ids: 101 561 19517 30518 16666 11988 13774 13713 79590 23807 10292 15986 27312 67409 556 51116 11258 30994 17257 44097 558 52263 562 110511 10405 11258 12729 10403 12709 37914 22605 20598 59075 55017 32323 80282 558 97205 11092 10387 94002 79590 90005 12686 58154 15840 557 95135 11258 560 44030 15356 90126 11657 562 32229 89990 10405 11258 20598 574 54929 10384 562 32229 89990 10405 11258 11974 30115 14931 21305 69864 11579 13700 34234 20820 30994 69407 43206 10122 82947 49280 37403 16490 10350 176 12969 27796 15469 89168 10513 10131 14206 12978 12709 39457 69290 49161 12737 12968 15981 38494 18221 99366 12709 39457 69290 49161 12737 10587 92157 14611 27312 20658 65501 30115 65647 10387 33276 40035 16241 560 104082 80288 45234 56875 84515 11092 541 11078 41895 11092 84506 562 110511 10405 11258 558 10656 59919 98903 11899 53190 11092 108804 73434 543 93928 559 30604 10297 105283 74269 11258 57972 45709 557 10205 51229 79187 557 31016 10191 10297 46672 102298 12737 58742 47990 11092 27796 13582 56680 106269 18663 562 110511 10405 11258 48295 69407 37403 16490 10350 176 12969 15649 11347 51167 11092 10131 14206 12978 27999 48295 20820 177 10410 15622 39726 70603 37403 16490 10350 14087 38112 56582 11258 34835 62213 562 33580 37629 78070 72060 10625 26218 26218 10122 35415 27429 14611 547 102840 23350 10384 69407 53532 188 10350 10410 177 10410 27796 13582 56680 106269 58154 15840 45683 60427 13865 35073 11429 33276 11092 32323 80282 10277 28301 548 10636 38494 33276 34556 15356 27796 13582 56680 106269 58154 15840 549 10351 27796 15986 76727 10385 40951 17117 28698 17257 44097 14931 21305 17631 12968 10234 53869 10593 37020 10625 14816 14348 20785 25711 32323 80282 102167 57667 10376 16376 55026 19880 39709 10129 94693 40697 53277 31496 90134 11579 10122 82947 49280 12968 80765 60797 557 12119 11899 11974 20658 546 10234 54018 33750 36428 12737 32323 80282 39709 10129 10234 53869 10593 37020 10625 102167 55407 69407 10344 14315 33615 10122 43067 72060 10625 26218 26218 12999 10297 105283 74269 11258 560 53615 34702 24750 10344 14315 33615 48295 556 38445 28980 10956 10510 44678 11258 557 18291 83868 14274 43314 73578 10851 30148 23879 16241 574 10241 107840 69407 66657 33235 10521 61735 102167 10405 11258 68242 102\n"
          ],
          "name": "stdout"
        },
        {
          "output_type": "stream",
          "text": [
            "INFO:tensorflow:input_ids: 101 561 19517 30518 16666 11988 13774 13713 79590 23807 10292 15986 27312 67409 556 51116 11258 30994 17257 44097 558 52263 562 110511 10405 11258 12729 10403 12709 37914 22605 20598 59075 55017 32323 80282 558 97205 11092 10387 94002 79590 90005 12686 58154 15840 557 95135 11258 560 44030 15356 90126 11657 562 32229 89990 10405 11258 20598 574 54929 10384 562 32229 89990 10405 11258 11974 30115 14931 21305 69864 11579 13700 34234 20820 30994 69407 43206 10122 82947 49280 37403 16490 10350 176 12969 27796 15469 89168 10513 10131 14206 12978 12709 39457 69290 49161 12737 12968 15981 38494 18221 99366 12709 39457 69290 49161 12737 10587 92157 14611 27312 20658 65501 30115 65647 10387 33276 40035 16241 560 104082 80288 45234 56875 84515 11092 541 11078 41895 11092 84506 562 110511 10405 11258 558 10656 59919 98903 11899 53190 11092 108804 73434 543 93928 559 30604 10297 105283 74269 11258 57972 45709 557 10205 51229 79187 557 31016 10191 10297 46672 102298 12737 58742 47990 11092 27796 13582 56680 106269 18663 562 110511 10405 11258 48295 69407 37403 16490 10350 176 12969 15649 11347 51167 11092 10131 14206 12978 27999 48295 20820 177 10410 15622 39726 70603 37403 16490 10350 14087 38112 56582 11258 34835 62213 562 33580 37629 78070 72060 10625 26218 26218 10122 35415 27429 14611 547 102840 23350 10384 69407 53532 188 10350 10410 177 10410 27796 13582 56680 106269 58154 15840 45683 60427 13865 35073 11429 33276 11092 32323 80282 10277 28301 548 10636 38494 33276 34556 15356 27796 13582 56680 106269 58154 15840 549 10351 27796 15986 76727 10385 40951 17117 28698 17257 44097 14931 21305 17631 12968 10234 53869 10593 37020 10625 14816 14348 20785 25711 32323 80282 102167 57667 10376 16376 55026 19880 39709 10129 94693 40697 53277 31496 90134 11579 10122 82947 49280 12968 80765 60797 557 12119 11899 11974 20658 546 10234 54018 33750 36428 12737 32323 80282 39709 10129 10234 53869 10593 37020 10625 102167 55407 69407 10344 14315 33615 10122 43067 72060 10625 26218 26218 12999 10297 105283 74269 11258 560 53615 34702 24750 10344 14315 33615 48295 556 38445 28980 10956 10510 44678 11258 557 18291 83868 14274 43314 73578 10851 30148 23879 16241 574 10241 107840 69407 66657 33235 10521 61735 102167 10405 11258 68242 102\n"
          ],
          "name": "stderr"
        },
        {
          "output_type": "stream",
          "text": [
            "INFO:tensorflow:input_mask: 1 1 1 1 1 1 1 1 1 1 1 1 1 1 1 1 1 1 1 1 1 1 1 1 1 1 1 1 1 1 1 1 1 1 1 1 1 1 1 1 1 1 1 1 1 1 1 1 1 1 1 1 1 1 1 1 1 1 1 1 1 1 1 1 1 1 1 1 1 1 1 1 1 1 1 1 1 1 1 1 1 1 1 1 1 1 1 1 1 1 1 1 1 1 1 1 1 1 1 1 1 1 1 1 1 1 1 1 1 1 1 1 1 1 1 1 1 1 1 1 1 1 1 1 1 1 1 1 1 1 1 1 1 1 1 1 1 1 1 1 1 1 1 1 1 1 1 1 1 1 1 1 1 1 1 1 1 1 1 1 1 1 1 1 1 1 1 1 1 1 1 1 1 1 1 1 1 1 1 1 1 1 1 1 1 1 1 1 1 1 1 1 1 1 1 1 1 1 1 1 1 1 1 1 1 1 1 1 1 1 1 1 1 1 1 1 1 1 1 1 1 1 1 1 1 1 1 1 1 1 1 1 1 1 1 1 1 1 1 1 1 1 1 1 1 1 1 1 1 1 1 1 1 1 1 1 1 1 1 1 1 1 1 1 1 1 1 1 1 1 1 1 1 1 1 1 1 1 1 1 1 1 1 1 1 1 1 1 1 1 1 1 1 1 1 1 1 1 1 1 1 1 1 1 1 1 1 1 1 1 1 1 1 1 1 1 1 1 1 1 1 1 1 1 1 1 1 1 1 1 1 1 1 1 1 1 1 1 1 1 1 1 1 1 1 1 1 1 1 1 1 1 1 1 1 1 1 1 1 1 1 1 1 1 1 1 1 1 1 1 1 1 1 1 1 1 1 1 1 1 1 1 1 1\n"
          ],
          "name": "stdout"
        },
        {
          "output_type": "stream",
          "text": [
            "INFO:tensorflow:input_mask: 1 1 1 1 1 1 1 1 1 1 1 1 1 1 1 1 1 1 1 1 1 1 1 1 1 1 1 1 1 1 1 1 1 1 1 1 1 1 1 1 1 1 1 1 1 1 1 1 1 1 1 1 1 1 1 1 1 1 1 1 1 1 1 1 1 1 1 1 1 1 1 1 1 1 1 1 1 1 1 1 1 1 1 1 1 1 1 1 1 1 1 1 1 1 1 1 1 1 1 1 1 1 1 1 1 1 1 1 1 1 1 1 1 1 1 1 1 1 1 1 1 1 1 1 1 1 1 1 1 1 1 1 1 1 1 1 1 1 1 1 1 1 1 1 1 1 1 1 1 1 1 1 1 1 1 1 1 1 1 1 1 1 1 1 1 1 1 1 1 1 1 1 1 1 1 1 1 1 1 1 1 1 1 1 1 1 1 1 1 1 1 1 1 1 1 1 1 1 1 1 1 1 1 1 1 1 1 1 1 1 1 1 1 1 1 1 1 1 1 1 1 1 1 1 1 1 1 1 1 1 1 1 1 1 1 1 1 1 1 1 1 1 1 1 1 1 1 1 1 1 1 1 1 1 1 1 1 1 1 1 1 1 1 1 1 1 1 1 1 1 1 1 1 1 1 1 1 1 1 1 1 1 1 1 1 1 1 1 1 1 1 1 1 1 1 1 1 1 1 1 1 1 1 1 1 1 1 1 1 1 1 1 1 1 1 1 1 1 1 1 1 1 1 1 1 1 1 1 1 1 1 1 1 1 1 1 1 1 1 1 1 1 1 1 1 1 1 1 1 1 1 1 1 1 1 1 1 1 1 1 1 1 1 1 1 1 1 1 1 1 1 1 1 1 1 1 1 1 1 1 1 1 1 1\n"
          ],
          "name": "stderr"
        },
        {
          "output_type": "stream",
          "text": [
            "INFO:tensorflow:segment_ids: 0 0 0 0 0 0 0 0 0 0 0 0 0 0 0 0 0 0 0 0 0 0 0 0 0 0 0 0 0 0 0 0 0 0 0 0 0 0 0 0 0 0 0 0 0 0 0 0 0 0 0 0 0 0 0 0 0 0 0 0 0 0 0 0 0 0 0 0 0 0 0 0 0 0 0 0 0 0 0 0 0 0 0 0 0 0 0 0 0 0 0 0 0 0 0 0 0 0 0 0 0 0 0 0 0 0 0 0 0 0 0 0 0 0 0 0 0 0 0 0 0 0 0 0 0 0 0 0 0 0 0 0 0 0 0 0 0 0 0 0 0 0 0 0 0 0 0 0 0 0 0 0 0 0 0 0 0 0 0 0 0 0 0 0 0 0 0 0 0 0 0 0 0 0 0 0 0 0 0 0 0 0 0 0 0 0 0 0 0 0 0 0 0 0 0 0 0 0 0 0 0 0 0 0 0 0 0 0 0 0 0 0 0 0 0 0 0 0 0 0 0 0 0 0 0 0 0 0 0 0 0 0 0 0 0 0 0 0 0 0 0 0 0 0 0 0 0 0 0 0 0 0 0 0 0 0 0 0 0 0 0 0 0 0 0 0 0 0 0 0 0 0 0 0 0 0 0 0 0 0 0 0 0 0 0 0 0 0 0 0 0 0 0 0 0 0 0 0 0 0 0 0 0 0 0 0 0 0 0 0 0 0 0 0 0 0 0 0 0 0 0 0 0 0 0 0 0 0 0 0 0 0 0 0 0 0 0 0 0 0 0 0 0 0 0 0 0 0 0 0 0 0 0 0 0 0 0 0 0 0 0 0 0 0 0 0 0 0 0 0 0 0 0 0 0 0 0 0 0 0 0 0 0 0\n"
          ],
          "name": "stdout"
        },
        {
          "output_type": "stream",
          "text": [
            "INFO:tensorflow:segment_ids: 0 0 0 0 0 0 0 0 0 0 0 0 0 0 0 0 0 0 0 0 0 0 0 0 0 0 0 0 0 0 0 0 0 0 0 0 0 0 0 0 0 0 0 0 0 0 0 0 0 0 0 0 0 0 0 0 0 0 0 0 0 0 0 0 0 0 0 0 0 0 0 0 0 0 0 0 0 0 0 0 0 0 0 0 0 0 0 0 0 0 0 0 0 0 0 0 0 0 0 0 0 0 0 0 0 0 0 0 0 0 0 0 0 0 0 0 0 0 0 0 0 0 0 0 0 0 0 0 0 0 0 0 0 0 0 0 0 0 0 0 0 0 0 0 0 0 0 0 0 0 0 0 0 0 0 0 0 0 0 0 0 0 0 0 0 0 0 0 0 0 0 0 0 0 0 0 0 0 0 0 0 0 0 0 0 0 0 0 0 0 0 0 0 0 0 0 0 0 0 0 0 0 0 0 0 0 0 0 0 0 0 0 0 0 0 0 0 0 0 0 0 0 0 0 0 0 0 0 0 0 0 0 0 0 0 0 0 0 0 0 0 0 0 0 0 0 0 0 0 0 0 0 0 0 0 0 0 0 0 0 0 0 0 0 0 0 0 0 0 0 0 0 0 0 0 0 0 0 0 0 0 0 0 0 0 0 0 0 0 0 0 0 0 0 0 0 0 0 0 0 0 0 0 0 0 0 0 0 0 0 0 0 0 0 0 0 0 0 0 0 0 0 0 0 0 0 0 0 0 0 0 0 0 0 0 0 0 0 0 0 0 0 0 0 0 0 0 0 0 0 0 0 0 0 0 0 0 0 0 0 0 0 0 0 0 0 0 0 0 0 0 0 0 0 0 0 0 0 0 0 0 0 0 0\n"
          ],
          "name": "stderr"
        },
        {
          "output_type": "stream",
          "text": [
            "INFO:tensorflow:label: 2 (id = 2)\n"
          ],
          "name": "stdout"
        },
        {
          "output_type": "stream",
          "text": [
            "INFO:tensorflow:label: 2 (id = 2)\n"
          ],
          "name": "stderr"
        },
        {
          "output_type": "stream",
          "text": [
            "INFO:tensorflow:*** Example ***\n"
          ],
          "name": "stdout"
        },
        {
          "output_type": "stream",
          "text": [
            "INFO:tensorflow:*** Example ***\n"
          ],
          "name": "stderr"
        },
        {
          "output_type": "stream",
          "text": [
            "INFO:tensorflow:guid: None\n"
          ],
          "name": "stdout"
        },
        {
          "output_type": "stream",
          "text": [
            "INFO:tensorflow:guid: None\n"
          ],
          "name": "stderr"
        },
        {
          "output_type": "stream",
          "text": [
            "INFO:tensorflow:tokens: [CLS] ка ##др фильм space ##ball ##s январь ма ##ис ##овый пол на ##ходить ##ся территория в ##ье ##тнам ##ский провинция й ##ен ##бай у ##пас ##ть металл ##ический шар военный вы ##ска ##за ##ть пред ##положен ##ие ки ##лог ##рам ##мов ##ый шар м ##о ##чь ко ##с ##ми ##ческий му ##сор пер ##еж ##ить пад ##ение о ##рби ##та в ##еда т ##ся р ##ас ##след ##ование ин ##ци ##дент известно шар со ##дер ##жим ##ый в ##з ##рыв ##чат ##ый веществ ##о о ##пас ##ный здоров ##ье материал военный у ##тве ##рж ##дать проводить ни ##како ##й у ##чение исп ##ыта ##ние район страна о ##чев ##ид ##ец р ##ассказы ##вать у ##сл ##ыш ##ать звук на ##по ##до ##бие гр ##ом шар у ##пас ##ть небо мест ##ный газета thanh nie ##n по ##с ##пе ##шить со ##об ##щи ##ть пред ##вари ##тельный р ##ас ##след ##ование при ##шлы ##й вы ##вод российский про ##исхождение этот стран ##ный шар ##ов м ##о ##чь частью ракета ко ##с ##ми ##ческий корабль по ##чему сделать вы ##вод пока не ##из ##вестно поскольку ф ##ото ##графия шар ##ов вид ##но ни ##како ##й о ##по ##знав ##атель ##ный знак профессор н ##гу ##йный ко ##а со ##н nguy ##en khoa son за ##нят ##ый а ##эр ##око ##с ##ми ##ческий программа страна за ##яви ##ть шар м ##о ##чь часть не ##уда ##чно за ##пус ##тить с ##пу ##тник слово шар пов ##реди ##ть м ##о ##чь у ##пас ##ть высота вплоть километр конец год нам ##иби ##я также приз ##ем ##лить ##ся шар не ##пон ##ят ##ный про ##исхождение ди ##аметр около метр в ##ес порядок ки ##лог ##рам ##м ноябрь год территория исп ##ания у ##пас ##ть объект и ##дент ##и ##фи ##ци ##ровать ко ##с ##ми ##ческий му ##сор данные нас ##а о ##рби ##та на ##ходить ##ся пол ##ми ##лли ##она обл ##омо ##к рук ##от ##вор ##ный объект из ##оби ##ли ##е начин ##ать пред ##став ##лять се ##рь з ##ный проблема различн ##ый план из ##ба ##вление о ##рби ##та му ##сор период ##ически в ##с ##п ##лы ##вать нов ##ость проблема пока е ##щ на ##чать р ##еш ##ать все ##рь з [SEP]\n"
          ],
          "name": "stdout"
        },
        {
          "output_type": "stream",
          "text": [
            "INFO:tensorflow:tokens: [CLS] ка ##др фильм space ##ball ##s январь ма ##ис ##овый пол на ##ходить ##ся территория в ##ье ##тнам ##ский провинция й ##ен ##бай у ##пас ##ть металл ##ический шар военный вы ##ска ##за ##ть пред ##положен ##ие ки ##лог ##рам ##мов ##ый шар м ##о ##чь ко ##с ##ми ##ческий му ##сор пер ##еж ##ить пад ##ение о ##рби ##та в ##еда т ##ся р ##ас ##след ##ование ин ##ци ##дент известно шар со ##дер ##жим ##ый в ##з ##рыв ##чат ##ый веществ ##о о ##пас ##ный здоров ##ье материал военный у ##тве ##рж ##дать проводить ни ##како ##й у ##чение исп ##ыта ##ние район страна о ##чев ##ид ##ец р ##ассказы ##вать у ##сл ##ыш ##ать звук на ##по ##до ##бие гр ##ом шар у ##пас ##ть небо мест ##ный газета thanh nie ##n по ##с ##пе ##шить со ##об ##щи ##ть пред ##вари ##тельный р ##ас ##след ##ование при ##шлы ##й вы ##вод российский про ##исхождение этот стран ##ный шар ##ов м ##о ##чь частью ракета ко ##с ##ми ##ческий корабль по ##чему сделать вы ##вод пока не ##из ##вестно поскольку ф ##ото ##графия шар ##ов вид ##но ни ##како ##й о ##по ##знав ##атель ##ный знак профессор н ##гу ##йный ко ##а со ##н nguy ##en khoa son за ##нят ##ый а ##эр ##око ##с ##ми ##ческий программа страна за ##яви ##ть шар м ##о ##чь часть не ##уда ##чно за ##пус ##тить с ##пу ##тник слово шар пов ##реди ##ть м ##о ##чь у ##пас ##ть высота вплоть километр конец год нам ##иби ##я также приз ##ем ##лить ##ся шар не ##пон ##ят ##ный про ##исхождение ди ##аметр около метр в ##ес порядок ки ##лог ##рам ##м ноябрь год территория исп ##ания у ##пас ##ть объект и ##дент ##и ##фи ##ци ##ровать ко ##с ##ми ##ческий му ##сор данные нас ##а о ##рби ##та на ##ходить ##ся пол ##ми ##лли ##она обл ##омо ##к рук ##от ##вор ##ный объект из ##оби ##ли ##е начин ##ать пред ##став ##лять се ##рь з ##ный проблема различн ##ый план из ##ба ##вление о ##рби ##та му ##сор период ##ически в ##с ##п ##лы ##вать нов ##ость проблема пока е ##щ на ##чать р ##еш ##ать все ##рь з [SEP]\n"
          ],
          "name": "stderr"
        },
        {
          "output_type": "stream",
          "text": [
            "INFO:tensorflow:input_ids: 101 56280 51965 20350 16199 19805 10107 19895 97744 19120 43206 23750 10122 47387 10625 65228 543 20554 89743 11386 44431 550 10928 38886 560 36168 11258 100702 27139 108858 55490 96195 12184 13594 11258 23807 71950 12686 14708 22141 42495 33170 13865 108858 553 10316 40697 59781 10513 10508 21551 12388 108493 61381 49867 15356 20279 16241 555 75611 10367 543 63253 559 10625 557 18291 73759 43881 27796 12012 87161 40262 108858 10956 22605 101509 13865 543 11571 77851 48579 13865 103040 10316 555 36168 11092 77770 20554 67409 55490 560 35795 60872 57548 88184 19544 67967 10384 560 21137 37410 86360 13541 14659 18512 555 32702 22415 16688 557 86251 27013 560 102572 23879 18235 83336 10122 53204 17961 108306 55895 10364 108858 560 36168 11258 39483 40592 11092 38459 38762 11058 10115 10297 10513 19820 61260 10956 33276 19682 11258 23807 60048 34548 557 18291 73759 43881 10913 108364 10384 96195 45597 35413 12709 92824 19558 32619 11092 108858 10433 553 10316 40697 36615 88580 59781 10513 10508 21551 68772 10297 96506 58073 96195 45597 45899 10375 39457 68140 35356 561 19517 31798 108858 10433 16133 10636 19544 67967 10384 555 53204 86996 102600 11092 33430 21686 554 15528 74518 59781 10179 10956 10267 75578 10136 11685 10312 10234 87455 13865 541 19837 53503 10513 10508 21551 66893 18512 10234 77954 11258 108858 553 10316 40697 15848 10375 27154 14757 10234 101012 53407 558 35280 43372 42638 108858 30148 63796 11258 553 10316 40697 560 36168 11258 86399 58729 89242 77431 11974 59221 80366 10385 11448 74308 12579 106364 10625 108858 10375 91925 13081 11092 12709 92824 48575 98569 13753 25656 543 17488 74545 14708 22141 42495 10241 42768 11974 65228 37410 23341 560 36168 11258 76811 549 87161 10191 26245 12012 34234 59781 10513 10508 21551 12388 108493 41065 32001 10179 555 75611 10367 10122 47387 10625 23750 10508 51117 14614 58742 67583 10510 84043 11016 29973 11092 76811 10387 48390 10783 10205 27353 18235 23807 47151 32589 10277 28301 548 11092 66657 84542 13865 35718 10387 13390 78068 555 75611 10367 12388 108493 15990 37472 543 10513 11078 13257 27013 61966 40780 66657 45899 546 18565 10122 37020 557 31751 18235 13686 28301 548 102 0 0 0 0 0 0 0 0 0 0 0 0 0\n"
          ],
          "name": "stdout"
        },
        {
          "output_type": "stream",
          "text": [
            "INFO:tensorflow:input_ids: 101 56280 51965 20350 16199 19805 10107 19895 97744 19120 43206 23750 10122 47387 10625 65228 543 20554 89743 11386 44431 550 10928 38886 560 36168 11258 100702 27139 108858 55490 96195 12184 13594 11258 23807 71950 12686 14708 22141 42495 33170 13865 108858 553 10316 40697 59781 10513 10508 21551 12388 108493 61381 49867 15356 20279 16241 555 75611 10367 543 63253 559 10625 557 18291 73759 43881 27796 12012 87161 40262 108858 10956 22605 101509 13865 543 11571 77851 48579 13865 103040 10316 555 36168 11092 77770 20554 67409 55490 560 35795 60872 57548 88184 19544 67967 10384 560 21137 37410 86360 13541 14659 18512 555 32702 22415 16688 557 86251 27013 560 102572 23879 18235 83336 10122 53204 17961 108306 55895 10364 108858 560 36168 11258 39483 40592 11092 38459 38762 11058 10115 10297 10513 19820 61260 10956 33276 19682 11258 23807 60048 34548 557 18291 73759 43881 10913 108364 10384 96195 45597 35413 12709 92824 19558 32619 11092 108858 10433 553 10316 40697 36615 88580 59781 10513 10508 21551 68772 10297 96506 58073 96195 45597 45899 10375 39457 68140 35356 561 19517 31798 108858 10433 16133 10636 19544 67967 10384 555 53204 86996 102600 11092 33430 21686 554 15528 74518 59781 10179 10956 10267 75578 10136 11685 10312 10234 87455 13865 541 19837 53503 10513 10508 21551 66893 18512 10234 77954 11258 108858 553 10316 40697 15848 10375 27154 14757 10234 101012 53407 558 35280 43372 42638 108858 30148 63796 11258 553 10316 40697 560 36168 11258 86399 58729 89242 77431 11974 59221 80366 10385 11448 74308 12579 106364 10625 108858 10375 91925 13081 11092 12709 92824 48575 98569 13753 25656 543 17488 74545 14708 22141 42495 10241 42768 11974 65228 37410 23341 560 36168 11258 76811 549 87161 10191 26245 12012 34234 59781 10513 10508 21551 12388 108493 41065 32001 10179 555 75611 10367 10122 47387 10625 23750 10508 51117 14614 58742 67583 10510 84043 11016 29973 11092 76811 10387 48390 10783 10205 27353 18235 23807 47151 32589 10277 28301 548 11092 66657 84542 13865 35718 10387 13390 78068 555 75611 10367 12388 108493 15990 37472 543 10513 11078 13257 27013 61966 40780 66657 45899 546 18565 10122 37020 557 31751 18235 13686 28301 548 102 0 0 0 0 0 0 0 0 0 0 0 0 0\n"
          ],
          "name": "stderr"
        },
        {
          "output_type": "stream",
          "text": [
            "INFO:tensorflow:input_mask: 1 1 1 1 1 1 1 1 1 1 1 1 1 1 1 1 1 1 1 1 1 1 1 1 1 1 1 1 1 1 1 1 1 1 1 1 1 1 1 1 1 1 1 1 1 1 1 1 1 1 1 1 1 1 1 1 1 1 1 1 1 1 1 1 1 1 1 1 1 1 1 1 1 1 1 1 1 1 1 1 1 1 1 1 1 1 1 1 1 1 1 1 1 1 1 1 1 1 1 1 1 1 1 1 1 1 1 1 1 1 1 1 1 1 1 1 1 1 1 1 1 1 1 1 1 1 1 1 1 1 1 1 1 1 1 1 1 1 1 1 1 1 1 1 1 1 1 1 1 1 1 1 1 1 1 1 1 1 1 1 1 1 1 1 1 1 1 1 1 1 1 1 1 1 1 1 1 1 1 1 1 1 1 1 1 1 1 1 1 1 1 1 1 1 1 1 1 1 1 1 1 1 1 1 1 1 1 1 1 1 1 1 1 1 1 1 1 1 1 1 1 1 1 1 1 1 1 1 1 1 1 1 1 1 1 1 1 1 1 1 1 1 1 1 1 1 1 1 1 1 1 1 1 1 1 1 1 1 1 1 1 1 1 1 1 1 1 1 1 1 1 1 1 1 1 1 1 1 1 1 1 1 1 1 1 1 1 1 1 1 1 1 1 1 1 1 1 1 1 1 1 1 1 1 1 1 1 1 1 1 1 1 1 1 1 1 1 1 1 1 1 1 1 1 1 1 1 1 1 1 1 1 1 1 1 1 1 1 1 1 1 1 1 1 1 1 1 1 1 1 1 1 1 1 1 1 1 1 1 1 1 1 1 1 1 1 1 1 1 1 1 0 0 0 0 0 0 0 0 0 0 0 0 0\n"
          ],
          "name": "stdout"
        },
        {
          "output_type": "stream",
          "text": [
            "INFO:tensorflow:input_mask: 1 1 1 1 1 1 1 1 1 1 1 1 1 1 1 1 1 1 1 1 1 1 1 1 1 1 1 1 1 1 1 1 1 1 1 1 1 1 1 1 1 1 1 1 1 1 1 1 1 1 1 1 1 1 1 1 1 1 1 1 1 1 1 1 1 1 1 1 1 1 1 1 1 1 1 1 1 1 1 1 1 1 1 1 1 1 1 1 1 1 1 1 1 1 1 1 1 1 1 1 1 1 1 1 1 1 1 1 1 1 1 1 1 1 1 1 1 1 1 1 1 1 1 1 1 1 1 1 1 1 1 1 1 1 1 1 1 1 1 1 1 1 1 1 1 1 1 1 1 1 1 1 1 1 1 1 1 1 1 1 1 1 1 1 1 1 1 1 1 1 1 1 1 1 1 1 1 1 1 1 1 1 1 1 1 1 1 1 1 1 1 1 1 1 1 1 1 1 1 1 1 1 1 1 1 1 1 1 1 1 1 1 1 1 1 1 1 1 1 1 1 1 1 1 1 1 1 1 1 1 1 1 1 1 1 1 1 1 1 1 1 1 1 1 1 1 1 1 1 1 1 1 1 1 1 1 1 1 1 1 1 1 1 1 1 1 1 1 1 1 1 1 1 1 1 1 1 1 1 1 1 1 1 1 1 1 1 1 1 1 1 1 1 1 1 1 1 1 1 1 1 1 1 1 1 1 1 1 1 1 1 1 1 1 1 1 1 1 1 1 1 1 1 1 1 1 1 1 1 1 1 1 1 1 1 1 1 1 1 1 1 1 1 1 1 1 1 1 1 1 1 1 1 1 1 1 1 1 1 1 1 1 1 1 1 1 1 1 1 1 1 0 0 0 0 0 0 0 0 0 0 0 0 0\n"
          ],
          "name": "stderr"
        },
        {
          "output_type": "stream",
          "text": [
            "INFO:tensorflow:segment_ids: 0 0 0 0 0 0 0 0 0 0 0 0 0 0 0 0 0 0 0 0 0 0 0 0 0 0 0 0 0 0 0 0 0 0 0 0 0 0 0 0 0 0 0 0 0 0 0 0 0 0 0 0 0 0 0 0 0 0 0 0 0 0 0 0 0 0 0 0 0 0 0 0 0 0 0 0 0 0 0 0 0 0 0 0 0 0 0 0 0 0 0 0 0 0 0 0 0 0 0 0 0 0 0 0 0 0 0 0 0 0 0 0 0 0 0 0 0 0 0 0 0 0 0 0 0 0 0 0 0 0 0 0 0 0 0 0 0 0 0 0 0 0 0 0 0 0 0 0 0 0 0 0 0 0 0 0 0 0 0 0 0 0 0 0 0 0 0 0 0 0 0 0 0 0 0 0 0 0 0 0 0 0 0 0 0 0 0 0 0 0 0 0 0 0 0 0 0 0 0 0 0 0 0 0 0 0 0 0 0 0 0 0 0 0 0 0 0 0 0 0 0 0 0 0 0 0 0 0 0 0 0 0 0 0 0 0 0 0 0 0 0 0 0 0 0 0 0 0 0 0 0 0 0 0 0 0 0 0 0 0 0 0 0 0 0 0 0 0 0 0 0 0 0 0 0 0 0 0 0 0 0 0 0 0 0 0 0 0 0 0 0 0 0 0 0 0 0 0 0 0 0 0 0 0 0 0 0 0 0 0 0 0 0 0 0 0 0 0 0 0 0 0 0 0 0 0 0 0 0 0 0 0 0 0 0 0 0 0 0 0 0 0 0 0 0 0 0 0 0 0 0 0 0 0 0 0 0 0 0 0 0 0 0 0 0 0 0 0 0 0 0 0 0 0 0 0 0 0 0 0 0 0 0 0\n"
          ],
          "name": "stdout"
        },
        {
          "output_type": "stream",
          "text": [
            "INFO:tensorflow:segment_ids: 0 0 0 0 0 0 0 0 0 0 0 0 0 0 0 0 0 0 0 0 0 0 0 0 0 0 0 0 0 0 0 0 0 0 0 0 0 0 0 0 0 0 0 0 0 0 0 0 0 0 0 0 0 0 0 0 0 0 0 0 0 0 0 0 0 0 0 0 0 0 0 0 0 0 0 0 0 0 0 0 0 0 0 0 0 0 0 0 0 0 0 0 0 0 0 0 0 0 0 0 0 0 0 0 0 0 0 0 0 0 0 0 0 0 0 0 0 0 0 0 0 0 0 0 0 0 0 0 0 0 0 0 0 0 0 0 0 0 0 0 0 0 0 0 0 0 0 0 0 0 0 0 0 0 0 0 0 0 0 0 0 0 0 0 0 0 0 0 0 0 0 0 0 0 0 0 0 0 0 0 0 0 0 0 0 0 0 0 0 0 0 0 0 0 0 0 0 0 0 0 0 0 0 0 0 0 0 0 0 0 0 0 0 0 0 0 0 0 0 0 0 0 0 0 0 0 0 0 0 0 0 0 0 0 0 0 0 0 0 0 0 0 0 0 0 0 0 0 0 0 0 0 0 0 0 0 0 0 0 0 0 0 0 0 0 0 0 0 0 0 0 0 0 0 0 0 0 0 0 0 0 0 0 0 0 0 0 0 0 0 0 0 0 0 0 0 0 0 0 0 0 0 0 0 0 0 0 0 0 0 0 0 0 0 0 0 0 0 0 0 0 0 0 0 0 0 0 0 0 0 0 0 0 0 0 0 0 0 0 0 0 0 0 0 0 0 0 0 0 0 0 0 0 0 0 0 0 0 0 0 0 0 0 0 0 0 0 0 0 0 0 0 0 0 0 0 0 0 0 0 0 0 0 0\n"
          ],
          "name": "stderr"
        },
        {
          "output_type": "stream",
          "text": [
            "INFO:tensorflow:label: 1 (id = 1)\n"
          ],
          "name": "stdout"
        },
        {
          "output_type": "stream",
          "text": [
            "INFO:tensorflow:label: 1 (id = 1)\n"
          ],
          "name": "stderr"
        },
        {
          "output_type": "stream",
          "text": [
            "INFO:tensorflow:*** Example ***\n"
          ],
          "name": "stdout"
        },
        {
          "output_type": "stream",
          "text": [
            "INFO:tensorflow:*** Example ***\n"
          ],
          "name": "stderr"
        },
        {
          "output_type": "stream",
          "text": [
            "INFO:tensorflow:guid: None\n"
          ],
          "name": "stdout"
        },
        {
          "output_type": "stream",
          "text": [
            "INFO:tensorflow:guid: None\n"
          ],
          "name": "stderr"
        },
        {
          "output_type": "stream",
          "text": [
            "INFO:tensorflow:tokens: [CLS] весь при ##вет давно п ##иса ##ть х ##аб ##ра который конец про ##шло ##е год вы ##пус ##тить новый версия wire ##n board кон ##тро ##ллер а ##вт ##ома ##ти ##зация открыт ##ый сегодня р ##ассказ ##ать ка ##т с ##ки ##дка вы ##пус ##тить новый версия исп ##рав ##ить н ##рав ##иться пол ##ь ##зова ##тель мы сам у ##вели ##чить в ##д ##вое количество опера ##тив ##ный память м ##бай ##т d ##dr р ##ас ##шир ##ить за ##од ##но ди ##ап ##аз ##он рабочий температура за ##менить по ##тен ##циал ##ьно не ##над ж ##ный карта память micro ##sd ка ##чество п ##зу в ##стр ##ои ##ть память em ##m ##c г ##бай ##т сделать кон ##тро ##ллер м ##оду ##льный м ##о ##чь доба ##в ##лять функция у ##стана ##в ##лива ##ть плато ##к р ##ас ##шир ##ение в ##нут ##рь корпус е ##щ у ##вели ##чив ##ать количество в ##ход выход под ##кл ##ю ##чать бо ##ковой м ##оду ##ль также доба ##вить несколько м ##од ##ный ф ##иш ##ка blue ##to ##oth число low energy порт ин ##ф ##рак ##рас ##ный порт p ##di ##f ц ##и ##ф ##рово ##й звук это ва ##жный из ##менение др ##об ##ный ниже описание устройство очень кратко wire ##n board устройство который работать центра ##льный кон ##тро ##ллер система а ##вт ##ома ##ти ##зация м ##они ##тори ##нг например ум ##ный дом кон ##тро ##ллер у ##пра ##в ##ле ##ять ос ##ве ##щение климат ##ика с ##нимать пока ##зани ##е да ##т ##чик климат о ##х ##ран ##ный да ##т ##чик кон ##тро ##ллер работать раз ##ный вне ##шний устройство вы ##по ##л ##нять раз ##ный правило сценарий заниматься со ##х ##ранение ви ##зу ##али ##зация да ##ть тип ##овой задача ди ##с ##пет ##че ##ри ##зация м ##они ##тори ##нг кон ##тро ##ллер выступать про ##д ##вин ##уть у ##с ##п ##д со ##бира ##ть да ##ть различн ##ый устройство например при ##бор у ##ч тот х ##рани ##ть ло ##кал ##ьный история пока ##зы ##вать мне ##мос ##хема ло ##кал ##ьный управление от ##пра ##в ##лять да ##ть на ##вер ##х кон ##тро ##ллер пост ##рои ##ть м ##о ##щ ##ный процесс ##ор работать управление li ##nu ##x иметь множество в ##стр ##ои ##ть про ##вод [SEP]\n"
          ],
          "name": "stdout"
        },
        {
          "output_type": "stream",
          "text": [
            "INFO:tensorflow:tokens: [CLS] весь при ##вет давно п ##иса ##ть х ##аб ##ра который конец про ##шло ##е год вы ##пус ##тить новый версия wire ##n board кон ##тро ##ллер а ##вт ##ома ##ти ##зация открыт ##ый сегодня р ##ассказ ##ать ка ##т с ##ки ##дка вы ##пус ##тить новый версия исп ##рав ##ить н ##рав ##иться пол ##ь ##зова ##тель мы сам у ##вели ##чить в ##д ##вое количество опера ##тив ##ный память м ##бай ##т d ##dr р ##ас ##шир ##ить за ##од ##но ди ##ап ##аз ##он рабочий температура за ##менить по ##тен ##циал ##ьно не ##над ж ##ный карта память micro ##sd ка ##чество п ##зу в ##стр ##ои ##ть память em ##m ##c г ##бай ##т сделать кон ##тро ##ллер м ##оду ##льный м ##о ##чь доба ##в ##лять функция у ##стана ##в ##лива ##ть плато ##к р ##ас ##шир ##ение в ##нут ##рь корпус е ##щ у ##вели ##чив ##ать количество в ##ход выход под ##кл ##ю ##чать бо ##ковой м ##оду ##ль также доба ##вить несколько м ##од ##ный ф ##иш ##ка blue ##to ##oth число low energy порт ин ##ф ##рак ##рас ##ный порт p ##di ##f ц ##и ##ф ##рово ##й звук это ва ##жный из ##менение др ##об ##ный ниже описание устройство очень кратко wire ##n board устройство который работать центра ##льный кон ##тро ##ллер система а ##вт ##ома ##ти ##зация м ##они ##тори ##нг например ум ##ный дом кон ##тро ##ллер у ##пра ##в ##ле ##ять ос ##ве ##щение климат ##ика с ##нимать пока ##зани ##е да ##т ##чик климат о ##х ##ран ##ный да ##т ##чик кон ##тро ##ллер работать раз ##ный вне ##шний устройство вы ##по ##л ##нять раз ##ный правило сценарий заниматься со ##х ##ранение ви ##зу ##али ##зация да ##ть тип ##овой задача ди ##с ##пет ##че ##ри ##зация м ##они ##тори ##нг кон ##тро ##ллер выступать про ##д ##вин ##уть у ##с ##п ##д со ##бира ##ть да ##ть различн ##ый устройство например при ##бор у ##ч тот х ##рани ##ть ло ##кал ##ьный история пока ##зы ##вать мне ##мос ##хема ло ##кал ##ьный управление от ##пра ##в ##лять да ##ть на ##вер ##х кон ##тро ##ллер пост ##рои ##ть м ##о ##щ ##ный процесс ##ор работать управление li ##nu ##x иметь множество в ##стр ##ои ##ть про ##вод [SEP]\n"
          ],
          "name": "stderr"
        },
        {
          "output_type": "stream",
          "text": [
            "INFO:tensorflow:input_ids: 101 42977 10913 41102 102213 556 51116 11258 562 50889 11079 12968 77431 12709 30474 10205 11974 96195 101012 53407 30994 36560 68033 10115 17936 33023 62735 84758 541 94454 27159 10960 53826 60427 13865 72166 557 95559 18235 56280 10351 558 10648 34885 96195 101012 53407 30994 36560 37410 41410 15356 554 41410 56051 23750 10851 78130 19212 35818 19654 560 53615 34702 543 10746 57798 24750 57972 37921 11092 52649 553 38886 10351 172 59464 557 18291 94219 15356 10234 16625 10636 48575 36744 26313 11579 102732 30405 10234 94002 10297 25263 72459 24675 10375 64086 547 11092 54158 52649 54396 82836 56280 34150 556 19692 543 52685 26891 11258 52649 10266 10147 10350 544 38886 10351 58073 33023 62735 84758 553 54356 23323 553 10316 40697 71516 10541 32589 89977 560 60327 10541 35777 11258 99878 10510 557 18291 94219 16241 543 75029 28301 29785 546 18565 560 53615 40181 18235 24750 543 23089 99914 11429 53869 10593 37020 18481 89738 553 54356 12118 11448 71516 60797 15981 553 16625 11092 561 59164 10521 23254 10340 60364 22630 15626 18603 27999 27796 13582 28397 56680 11092 27999 184 10703 10575 563 10191 13582 55048 10384 83336 12999 12450 30239 10387 89154 16522 33276 11092 45674 88967 75581 20598 96548 68033 10115 17936 75581 12968 45680 21973 23323 33023 62735 84758 18663 541 94454 27159 10960 53826 553 25219 59486 26720 20050 39510 11092 21487 33023 62735 84758 560 76880 10541 11851 20177 85854 14149 26692 13031 15238 558 68446 45899 75319 10205 10405 10351 25299 13031 555 10353 16346 11092 10405 10351 25299 33023 62735 84758 45680 17257 11092 103072 56417 75581 96195 53204 10517 46886 17257 11092 29349 86052 75713 10956 10353 110511 88504 19692 15710 53826 10405 11258 20844 17780 80281 48575 10513 107006 13873 11777 53826 553 25219 59486 26720 33023 62735 84758 103639 12709 10746 49048 29911 560 10513 11078 10746 10956 64815 11258 10405 11258 84542 13865 75581 20050 10913 20545 560 11746 24486 562 32229 11258 30977 48225 23196 27361 45899 20387 27013 67251 102006 87172 30977 48225 23196 34020 10332 76880 10541 32589 10405 11258 10122 32418 10353 33023 62735 84758 32825 61150 11258 553 10316 18565 11092 45234 13097 45680 34020 11614 11147 10686 72393 31900 543 52685 26891 11258 12709 45597 102\n"
          ],
          "name": "stdout"
        },
        {
          "output_type": "stream",
          "text": [
            "INFO:tensorflow:input_ids: 101 42977 10913 41102 102213 556 51116 11258 562 50889 11079 12968 77431 12709 30474 10205 11974 96195 101012 53407 30994 36560 68033 10115 17936 33023 62735 84758 541 94454 27159 10960 53826 60427 13865 72166 557 95559 18235 56280 10351 558 10648 34885 96195 101012 53407 30994 36560 37410 41410 15356 554 41410 56051 23750 10851 78130 19212 35818 19654 560 53615 34702 543 10746 57798 24750 57972 37921 11092 52649 553 38886 10351 172 59464 557 18291 94219 15356 10234 16625 10636 48575 36744 26313 11579 102732 30405 10234 94002 10297 25263 72459 24675 10375 64086 547 11092 54158 52649 54396 82836 56280 34150 556 19692 543 52685 26891 11258 52649 10266 10147 10350 544 38886 10351 58073 33023 62735 84758 553 54356 23323 553 10316 40697 71516 10541 32589 89977 560 60327 10541 35777 11258 99878 10510 557 18291 94219 16241 543 75029 28301 29785 546 18565 560 53615 40181 18235 24750 543 23089 99914 11429 53869 10593 37020 18481 89738 553 54356 12118 11448 71516 60797 15981 553 16625 11092 561 59164 10521 23254 10340 60364 22630 15626 18603 27999 27796 13582 28397 56680 11092 27999 184 10703 10575 563 10191 13582 55048 10384 83336 12999 12450 30239 10387 89154 16522 33276 11092 45674 88967 75581 20598 96548 68033 10115 17936 75581 12968 45680 21973 23323 33023 62735 84758 18663 541 94454 27159 10960 53826 553 25219 59486 26720 20050 39510 11092 21487 33023 62735 84758 560 76880 10541 11851 20177 85854 14149 26692 13031 15238 558 68446 45899 75319 10205 10405 10351 25299 13031 555 10353 16346 11092 10405 10351 25299 33023 62735 84758 45680 17257 11092 103072 56417 75581 96195 53204 10517 46886 17257 11092 29349 86052 75713 10956 10353 110511 88504 19692 15710 53826 10405 11258 20844 17780 80281 48575 10513 107006 13873 11777 53826 553 25219 59486 26720 33023 62735 84758 103639 12709 10746 49048 29911 560 10513 11078 10746 10956 64815 11258 10405 11258 84542 13865 75581 20050 10913 20545 560 11746 24486 562 32229 11258 30977 48225 23196 27361 45899 20387 27013 67251 102006 87172 30977 48225 23196 34020 10332 76880 10541 32589 10405 11258 10122 32418 10353 33023 62735 84758 32825 61150 11258 553 10316 18565 11092 45234 13097 45680 34020 11614 11147 10686 72393 31900 543 52685 26891 11258 12709 45597 102\n"
          ],
          "name": "stderr"
        },
        {
          "output_type": "stream",
          "text": [
            "INFO:tensorflow:input_mask: 1 1 1 1 1 1 1 1 1 1 1 1 1 1 1 1 1 1 1 1 1 1 1 1 1 1 1 1 1 1 1 1 1 1 1 1 1 1 1 1 1 1 1 1 1 1 1 1 1 1 1 1 1 1 1 1 1 1 1 1 1 1 1 1 1 1 1 1 1 1 1 1 1 1 1 1 1 1 1 1 1 1 1 1 1 1 1 1 1 1 1 1 1 1 1 1 1 1 1 1 1 1 1 1 1 1 1 1 1 1 1 1 1 1 1 1 1 1 1 1 1 1 1 1 1 1 1 1 1 1 1 1 1 1 1 1 1 1 1 1 1 1 1 1 1 1 1 1 1 1 1 1 1 1 1 1 1 1 1 1 1 1 1 1 1 1 1 1 1 1 1 1 1 1 1 1 1 1 1 1 1 1 1 1 1 1 1 1 1 1 1 1 1 1 1 1 1 1 1 1 1 1 1 1 1 1 1 1 1 1 1 1 1 1 1 1 1 1 1 1 1 1 1 1 1 1 1 1 1 1 1 1 1 1 1 1 1 1 1 1 1 1 1 1 1 1 1 1 1 1 1 1 1 1 1 1 1 1 1 1 1 1 1 1 1 1 1 1 1 1 1 1 1 1 1 1 1 1 1 1 1 1 1 1 1 1 1 1 1 1 1 1 1 1 1 1 1 1 1 1 1 1 1 1 1 1 1 1 1 1 1 1 1 1 1 1 1 1 1 1 1 1 1 1 1 1 1 1 1 1 1 1 1 1 1 1 1 1 1 1 1 1 1 1 1 1 1 1 1 1 1 1 1 1 1 1 1 1 1 1 1 1 1 1 1 1 1 1 1 1 1 1 1 1 1 1 1 1 1 1 1 1 1 1\n"
          ],
          "name": "stdout"
        },
        {
          "output_type": "stream",
          "text": [
            "INFO:tensorflow:input_mask: 1 1 1 1 1 1 1 1 1 1 1 1 1 1 1 1 1 1 1 1 1 1 1 1 1 1 1 1 1 1 1 1 1 1 1 1 1 1 1 1 1 1 1 1 1 1 1 1 1 1 1 1 1 1 1 1 1 1 1 1 1 1 1 1 1 1 1 1 1 1 1 1 1 1 1 1 1 1 1 1 1 1 1 1 1 1 1 1 1 1 1 1 1 1 1 1 1 1 1 1 1 1 1 1 1 1 1 1 1 1 1 1 1 1 1 1 1 1 1 1 1 1 1 1 1 1 1 1 1 1 1 1 1 1 1 1 1 1 1 1 1 1 1 1 1 1 1 1 1 1 1 1 1 1 1 1 1 1 1 1 1 1 1 1 1 1 1 1 1 1 1 1 1 1 1 1 1 1 1 1 1 1 1 1 1 1 1 1 1 1 1 1 1 1 1 1 1 1 1 1 1 1 1 1 1 1 1 1 1 1 1 1 1 1 1 1 1 1 1 1 1 1 1 1 1 1 1 1 1 1 1 1 1 1 1 1 1 1 1 1 1 1 1 1 1 1 1 1 1 1 1 1 1 1 1 1 1 1 1 1 1 1 1 1 1 1 1 1 1 1 1 1 1 1 1 1 1 1 1 1 1 1 1 1 1 1 1 1 1 1 1 1 1 1 1 1 1 1 1 1 1 1 1 1 1 1 1 1 1 1 1 1 1 1 1 1 1 1 1 1 1 1 1 1 1 1 1 1 1 1 1 1 1 1 1 1 1 1 1 1 1 1 1 1 1 1 1 1 1 1 1 1 1 1 1 1 1 1 1 1 1 1 1 1 1 1 1 1 1 1 1 1 1 1 1 1 1 1 1 1 1 1 1 1\n"
          ],
          "name": "stderr"
        },
        {
          "output_type": "stream",
          "text": [
            "INFO:tensorflow:segment_ids: 0 0 0 0 0 0 0 0 0 0 0 0 0 0 0 0 0 0 0 0 0 0 0 0 0 0 0 0 0 0 0 0 0 0 0 0 0 0 0 0 0 0 0 0 0 0 0 0 0 0 0 0 0 0 0 0 0 0 0 0 0 0 0 0 0 0 0 0 0 0 0 0 0 0 0 0 0 0 0 0 0 0 0 0 0 0 0 0 0 0 0 0 0 0 0 0 0 0 0 0 0 0 0 0 0 0 0 0 0 0 0 0 0 0 0 0 0 0 0 0 0 0 0 0 0 0 0 0 0 0 0 0 0 0 0 0 0 0 0 0 0 0 0 0 0 0 0 0 0 0 0 0 0 0 0 0 0 0 0 0 0 0 0 0 0 0 0 0 0 0 0 0 0 0 0 0 0 0 0 0 0 0 0 0 0 0 0 0 0 0 0 0 0 0 0 0 0 0 0 0 0 0 0 0 0 0 0 0 0 0 0 0 0 0 0 0 0 0 0 0 0 0 0 0 0 0 0 0 0 0 0 0 0 0 0 0 0 0 0 0 0 0 0 0 0 0 0 0 0 0 0 0 0 0 0 0 0 0 0 0 0 0 0 0 0 0 0 0 0 0 0 0 0 0 0 0 0 0 0 0 0 0 0 0 0 0 0 0 0 0 0 0 0 0 0 0 0 0 0 0 0 0 0 0 0 0 0 0 0 0 0 0 0 0 0 0 0 0 0 0 0 0 0 0 0 0 0 0 0 0 0 0 0 0 0 0 0 0 0 0 0 0 0 0 0 0 0 0 0 0 0 0 0 0 0 0 0 0 0 0 0 0 0 0 0 0 0 0 0 0 0 0 0 0 0 0 0 0 0 0 0 0 0 0\n"
          ],
          "name": "stdout"
        },
        {
          "output_type": "stream",
          "text": [
            "INFO:tensorflow:segment_ids: 0 0 0 0 0 0 0 0 0 0 0 0 0 0 0 0 0 0 0 0 0 0 0 0 0 0 0 0 0 0 0 0 0 0 0 0 0 0 0 0 0 0 0 0 0 0 0 0 0 0 0 0 0 0 0 0 0 0 0 0 0 0 0 0 0 0 0 0 0 0 0 0 0 0 0 0 0 0 0 0 0 0 0 0 0 0 0 0 0 0 0 0 0 0 0 0 0 0 0 0 0 0 0 0 0 0 0 0 0 0 0 0 0 0 0 0 0 0 0 0 0 0 0 0 0 0 0 0 0 0 0 0 0 0 0 0 0 0 0 0 0 0 0 0 0 0 0 0 0 0 0 0 0 0 0 0 0 0 0 0 0 0 0 0 0 0 0 0 0 0 0 0 0 0 0 0 0 0 0 0 0 0 0 0 0 0 0 0 0 0 0 0 0 0 0 0 0 0 0 0 0 0 0 0 0 0 0 0 0 0 0 0 0 0 0 0 0 0 0 0 0 0 0 0 0 0 0 0 0 0 0 0 0 0 0 0 0 0 0 0 0 0 0 0 0 0 0 0 0 0 0 0 0 0 0 0 0 0 0 0 0 0 0 0 0 0 0 0 0 0 0 0 0 0 0 0 0 0 0 0 0 0 0 0 0 0 0 0 0 0 0 0 0 0 0 0 0 0 0 0 0 0 0 0 0 0 0 0 0 0 0 0 0 0 0 0 0 0 0 0 0 0 0 0 0 0 0 0 0 0 0 0 0 0 0 0 0 0 0 0 0 0 0 0 0 0 0 0 0 0 0 0 0 0 0 0 0 0 0 0 0 0 0 0 0 0 0 0 0 0 0 0 0 0 0 0 0 0 0 0 0 0 0 0\n"
          ],
          "name": "stderr"
        },
        {
          "output_type": "stream",
          "text": [
            "INFO:tensorflow:label: 4 (id = 4)\n"
          ],
          "name": "stdout"
        },
        {
          "output_type": "stream",
          "text": [
            "INFO:tensorflow:label: 4 (id = 4)\n"
          ],
          "name": "stderr"
        },
        {
          "output_type": "stream",
          "text": [
            "INFO:tensorflow:*** Example ***\n"
          ],
          "name": "stdout"
        },
        {
          "output_type": "stream",
          "text": [
            "INFO:tensorflow:*** Example ***\n"
          ],
          "name": "stderr"
        },
        {
          "output_type": "stream",
          "text": [
            "INFO:tensorflow:guid: None\n"
          ],
          "name": "stdout"
        },
        {
          "output_type": "stream",
          "text": [
            "INFO:tensorflow:guid: None\n"
          ],
          "name": "stderr"
        },
        {
          "output_type": "stream",
          "text": [
            "INFO:tensorflow:tokens: [CLS] про ##шло ##е о ##пус пов ##ерх ##ност ##но о ##писать т ##ре ##бов ##ание пол ##ь ##зова ##тель э ##кс ##п ##лу ##ата ##ционный документ ##ация элемент ##ный база не ##кото ##рый не ##дом ##ол ##вка про ##из ##водит ##ель ми ##к ##рос ##хема h ##m ##c hit ##tit ##e micro ##wave cor ##p да ##ть текст поста ##рат ##ься ос ##вет ##ить се ##рь ##ё ##з ##ный проблема ми ##к ##рос ##хема maa ##p про ##из ##водит ##ель mac ##om t ##s вы ##явление да ##ть проблема сост ##оят ##ься пред ##д ##вер ##ие ст ##ык ##ово ##чный исп ##ыта ##ние изд ##ели ##е по ##на ##чал ##у гр ##еши ##ть основно ##е конс ##тр ##укция наш проект ат ##мос ##фера про ##ни ##за ##ть от ##чая ##ние стать про ##вер ##яться самый без ##ум ##ный идея ф ##ант ##аст ##ический ги ##по ##теза нам ##еча ##ться о ##че ##редно ##й про ##щание семья но ##чной ин ##жени ##рин ##г ф ##аст ##а ф ##уд ко ##фе про ##чий пре ##лес ##ть м ##но ##же ##ственный поп ##ыт ##ка пер ##ек ##рои ##ть кон ##фи ##гура ##ция все ##рь ##ё ##з за ##дум ##аться возможность про ##из ##вод ##ственный брак mac ##om в ##зя ##ть ми ##к ##рос ##хема партия тот ер ##унда за ##к ##рас ##ться мы ##сль конс ##тр ##ук ##тив ##ный брак ми ##к ##рос ##хема зв ##он ##ок представитель ##ство компания в ##еж ##лив ##ый ответ ##ить да ##ть по ##нять пом ##о ##чь мы состояние м ##о ##чь лишь по ##сла ##ть за ##прос раз ##ра ##бо ##т ##чик оператор за ##дум ##аться какой время хотя по ##хо ##жий за ##прос несколько месяц назад проблема очень на ##пом ##ина ##ть ва ##ш получить контакт не ##из ##ве ##ст ##ный кол ##ле ##га това ##ри ##щ компания радио ##сер ##вис отдельный с ##паси ##бо пред ##ост ##ави ##ть помощь поп ##ов ва ##лери ##й па ##в ##ло теле ##фон о ##писать свой опыт работа ми ##к ##рос ##хема пред ##ло ##жить вариант решение ответ ок ##аза ##ться на ##ивно просто ##й у ##сили ##тель maa ##p не ##об ##ходи ##мый мы р ##ас ##ка ##чка им ##пу ##ль ##сны ##й часто ##та им ##пу ##ль ##с кг ##ц с ##ква ##жность м ##ощность l ди ##ап [SEP]\n"
          ],
          "name": "stdout"
        },
        {
          "output_type": "stream",
          "text": [
            "INFO:tensorflow:tokens: [CLS] про ##шло ##е о ##пус пов ##ерх ##ност ##но о ##писать т ##ре ##бов ##ание пол ##ь ##зова ##тель э ##кс ##п ##лу ##ата ##ционный документ ##ация элемент ##ный база не ##кото ##рый не ##дом ##ол ##вка про ##из ##водит ##ель ми ##к ##рос ##хема h ##m ##c hit ##tit ##e micro ##wave cor ##p да ##ть текст поста ##рат ##ься ос ##вет ##ить се ##рь ##ё ##з ##ный проблема ми ##к ##рос ##хема maa ##p про ##из ##водит ##ель mac ##om t ##s вы ##явление да ##ть проблема сост ##оят ##ься пред ##д ##вер ##ие ст ##ык ##ово ##чный исп ##ыта ##ние изд ##ели ##е по ##на ##чал ##у гр ##еши ##ть основно ##е конс ##тр ##укция наш проект ат ##мос ##фера про ##ни ##за ##ть от ##чая ##ние стать про ##вер ##яться самый без ##ум ##ный идея ф ##ант ##аст ##ический ги ##по ##теза нам ##еча ##ться о ##че ##редно ##й про ##щание семья но ##чной ин ##жени ##рин ##г ф ##аст ##а ф ##уд ко ##фе про ##чий пре ##лес ##ть м ##но ##же ##ственный поп ##ыт ##ка пер ##ек ##рои ##ть кон ##фи ##гура ##ция все ##рь ##ё ##з за ##дум ##аться возможность про ##из ##вод ##ственный брак mac ##om в ##зя ##ть ми ##к ##рос ##хема партия тот ер ##унда за ##к ##рас ##ться мы ##сль конс ##тр ##ук ##тив ##ный брак ми ##к ##рос ##хема зв ##он ##ок представитель ##ство компания в ##еж ##лив ##ый ответ ##ить да ##ть по ##нять пом ##о ##чь мы состояние м ##о ##чь лишь по ##сла ##ть за ##прос раз ##ра ##бо ##т ##чик оператор за ##дум ##аться какой время хотя по ##хо ##жий за ##прос несколько месяц назад проблема очень на ##пом ##ина ##ть ва ##ш получить контакт не ##из ##ве ##ст ##ный кол ##ле ##га това ##ри ##щ компания радио ##сер ##вис отдельный с ##паси ##бо пред ##ост ##ави ##ть помощь поп ##ов ва ##лери ##й па ##в ##ло теле ##фон о ##писать свой опыт работа ми ##к ##рос ##хема пред ##ло ##жить вариант решение ответ ок ##аза ##ться на ##ивно просто ##й у ##сили ##тель maa ##p не ##об ##ходи ##мый мы р ##ас ##ка ##чка им ##пу ##ль ##сны ##й часто ##та им ##пу ##ль ##с кг ##ц с ##ква ##жность м ##ощность l ди ##ап [SEP]\n"
          ],
          "name": "stderr"
        },
        {
          "output_type": "stream",
          "text": [
            "INFO:tensorflow:input_ids: 101 12709 30474 10205 555 101012 30148 57935 19364 10636 555 106115 559 14348 49455 27473 23750 10851 78130 19212 570 18705 11078 16111 16962 49973 85065 38878 102420 11092 50509 10375 39692 68172 10375 38419 17010 26198 12709 39457 69290 17371 37140 10510 44181 87172 176 10147 10350 14946 23516 10112 54396 85164 29162 10410 10405 11258 39734 80765 23444 26899 85854 41102 15356 10277 28301 25913 11571 11092 66657 37140 10510 44181 87172 49123 10410 12709 39457 69290 17371 57251 10692 188 10107 96195 63049 10405 11258 66657 91908 81802 26899 23807 10746 32418 12686 15888 25531 20007 25711 37410 86360 13541 21529 18400 10205 10297 10409 37322 10227 55895 95135 11258 94261 10205 32243 46672 70555 79590 24494 72701 102006 52263 12709 10656 13594 11258 10332 95156 13541 50121 12709 32418 55295 63600 13012 20392 11092 90636 561 38241 31016 27139 15649 53204 110360 59221 106173 14133 555 13873 97566 10384 12709 96316 66201 11279 28137 27796 84935 28922 10823 561 31016 10179 561 23147 59781 42695 12709 32402 38494 62903 11258 553 10636 15920 42877 48138 51786 10521 61381 15768 61150 11258 33023 26245 98614 12942 13686 28301 25913 11571 10234 100749 55125 34835 12709 39457 45597 42877 55343 57251 10692 543 81326 11258 37140 10510 44181 87172 30765 24486 65797 56098 10234 10510 56680 14133 35818 99044 32243 46672 20216 37921 11092 55343 37140 10510 44181 87172 21107 11579 11899 91950 12232 30115 543 49867 54926 13865 83415 15356 10405 11258 10297 46886 96358 10316 40697 35818 76266 553 10316 40697 20489 10297 37936 11258 10234 99842 17257 11079 29709 10351 25299 95046 10234 100749 55125 78351 11657 26380 10297 42940 74620 10234 99842 15981 84657 37178 66657 20598 10122 91363 13139 11258 12450 11148 59582 103700 10375 39457 14149 11567 11092 90363 11851 11347 16060 11777 18565 30115 31383 37168 110786 97307 558 107528 29709 23807 33580 50511 11258 53532 48138 10433 12450 92085 10384 12634 10541 11602 63721 49808 555 106115 20820 90281 27566 37140 10510 44181 87172 23807 11602 36760 52528 27319 83415 40936 34402 14133 10122 48031 31108 10384 560 94041 19212 49123 10410 10375 33276 58933 50911 35818 557 18291 10521 15116 13327 35280 12118 56464 10384 18685 10367 13327 35280 12118 10513 23787 12181 558 34790 87849 553 104417 180 48575 36744 102\n"
          ],
          "name": "stdout"
        },
        {
          "output_type": "stream",
          "text": [
            "INFO:tensorflow:input_ids: 101 12709 30474 10205 555 101012 30148 57935 19364 10636 555 106115 559 14348 49455 27473 23750 10851 78130 19212 570 18705 11078 16111 16962 49973 85065 38878 102420 11092 50509 10375 39692 68172 10375 38419 17010 26198 12709 39457 69290 17371 37140 10510 44181 87172 176 10147 10350 14946 23516 10112 54396 85164 29162 10410 10405 11258 39734 80765 23444 26899 85854 41102 15356 10277 28301 25913 11571 11092 66657 37140 10510 44181 87172 49123 10410 12709 39457 69290 17371 57251 10692 188 10107 96195 63049 10405 11258 66657 91908 81802 26899 23807 10746 32418 12686 15888 25531 20007 25711 37410 86360 13541 21529 18400 10205 10297 10409 37322 10227 55895 95135 11258 94261 10205 32243 46672 70555 79590 24494 72701 102006 52263 12709 10656 13594 11258 10332 95156 13541 50121 12709 32418 55295 63600 13012 20392 11092 90636 561 38241 31016 27139 15649 53204 110360 59221 106173 14133 555 13873 97566 10384 12709 96316 66201 11279 28137 27796 84935 28922 10823 561 31016 10179 561 23147 59781 42695 12709 32402 38494 62903 11258 553 10636 15920 42877 48138 51786 10521 61381 15768 61150 11258 33023 26245 98614 12942 13686 28301 25913 11571 10234 100749 55125 34835 12709 39457 45597 42877 55343 57251 10692 543 81326 11258 37140 10510 44181 87172 30765 24486 65797 56098 10234 10510 56680 14133 35818 99044 32243 46672 20216 37921 11092 55343 37140 10510 44181 87172 21107 11579 11899 91950 12232 30115 543 49867 54926 13865 83415 15356 10405 11258 10297 46886 96358 10316 40697 35818 76266 553 10316 40697 20489 10297 37936 11258 10234 99842 17257 11079 29709 10351 25299 95046 10234 100749 55125 78351 11657 26380 10297 42940 74620 10234 99842 15981 84657 37178 66657 20598 10122 91363 13139 11258 12450 11148 59582 103700 10375 39457 14149 11567 11092 90363 11851 11347 16060 11777 18565 30115 31383 37168 110786 97307 558 107528 29709 23807 33580 50511 11258 53532 48138 10433 12450 92085 10384 12634 10541 11602 63721 49808 555 106115 20820 90281 27566 37140 10510 44181 87172 23807 11602 36760 52528 27319 83415 40936 34402 14133 10122 48031 31108 10384 560 94041 19212 49123 10410 10375 33276 58933 50911 35818 557 18291 10521 15116 13327 35280 12118 56464 10384 18685 10367 13327 35280 12118 10513 23787 12181 558 34790 87849 553 104417 180 48575 36744 102\n"
          ],
          "name": "stderr"
        },
        {
          "output_type": "stream",
          "text": [
            "INFO:tensorflow:input_mask: 1 1 1 1 1 1 1 1 1 1 1 1 1 1 1 1 1 1 1 1 1 1 1 1 1 1 1 1 1 1 1 1 1 1 1 1 1 1 1 1 1 1 1 1 1 1 1 1 1 1 1 1 1 1 1 1 1 1 1 1 1 1 1 1 1 1 1 1 1 1 1 1 1 1 1 1 1 1 1 1 1 1 1 1 1 1 1 1 1 1 1 1 1 1 1 1 1 1 1 1 1 1 1 1 1 1 1 1 1 1 1 1 1 1 1 1 1 1 1 1 1 1 1 1 1 1 1 1 1 1 1 1 1 1 1 1 1 1 1 1 1 1 1 1 1 1 1 1 1 1 1 1 1 1 1 1 1 1 1 1 1 1 1 1 1 1 1 1 1 1 1 1 1 1 1 1 1 1 1 1 1 1 1 1 1 1 1 1 1 1 1 1 1 1 1 1 1 1 1 1 1 1 1 1 1 1 1 1 1 1 1 1 1 1 1 1 1 1 1 1 1 1 1 1 1 1 1 1 1 1 1 1 1 1 1 1 1 1 1 1 1 1 1 1 1 1 1 1 1 1 1 1 1 1 1 1 1 1 1 1 1 1 1 1 1 1 1 1 1 1 1 1 1 1 1 1 1 1 1 1 1 1 1 1 1 1 1 1 1 1 1 1 1 1 1 1 1 1 1 1 1 1 1 1 1 1 1 1 1 1 1 1 1 1 1 1 1 1 1 1 1 1 1 1 1 1 1 1 1 1 1 1 1 1 1 1 1 1 1 1 1 1 1 1 1 1 1 1 1 1 1 1 1 1 1 1 1 1 1 1 1 1 1 1 1 1 1 1 1 1 1 1 1 1 1 1 1 1 1 1 1 1 1 1\n"
          ],
          "name": "stdout"
        },
        {
          "output_type": "stream",
          "text": [
            "INFO:tensorflow:input_mask: 1 1 1 1 1 1 1 1 1 1 1 1 1 1 1 1 1 1 1 1 1 1 1 1 1 1 1 1 1 1 1 1 1 1 1 1 1 1 1 1 1 1 1 1 1 1 1 1 1 1 1 1 1 1 1 1 1 1 1 1 1 1 1 1 1 1 1 1 1 1 1 1 1 1 1 1 1 1 1 1 1 1 1 1 1 1 1 1 1 1 1 1 1 1 1 1 1 1 1 1 1 1 1 1 1 1 1 1 1 1 1 1 1 1 1 1 1 1 1 1 1 1 1 1 1 1 1 1 1 1 1 1 1 1 1 1 1 1 1 1 1 1 1 1 1 1 1 1 1 1 1 1 1 1 1 1 1 1 1 1 1 1 1 1 1 1 1 1 1 1 1 1 1 1 1 1 1 1 1 1 1 1 1 1 1 1 1 1 1 1 1 1 1 1 1 1 1 1 1 1 1 1 1 1 1 1 1 1 1 1 1 1 1 1 1 1 1 1 1 1 1 1 1 1 1 1 1 1 1 1 1 1 1 1 1 1 1 1 1 1 1 1 1 1 1 1 1 1 1 1 1 1 1 1 1 1 1 1 1 1 1 1 1 1 1 1 1 1 1 1 1 1 1 1 1 1 1 1 1 1 1 1 1 1 1 1 1 1 1 1 1 1 1 1 1 1 1 1 1 1 1 1 1 1 1 1 1 1 1 1 1 1 1 1 1 1 1 1 1 1 1 1 1 1 1 1 1 1 1 1 1 1 1 1 1 1 1 1 1 1 1 1 1 1 1 1 1 1 1 1 1 1 1 1 1 1 1 1 1 1 1 1 1 1 1 1 1 1 1 1 1 1 1 1 1 1 1 1 1 1 1 1 1 1\n"
          ],
          "name": "stderr"
        },
        {
          "output_type": "stream",
          "text": [
            "INFO:tensorflow:segment_ids: 0 0 0 0 0 0 0 0 0 0 0 0 0 0 0 0 0 0 0 0 0 0 0 0 0 0 0 0 0 0 0 0 0 0 0 0 0 0 0 0 0 0 0 0 0 0 0 0 0 0 0 0 0 0 0 0 0 0 0 0 0 0 0 0 0 0 0 0 0 0 0 0 0 0 0 0 0 0 0 0 0 0 0 0 0 0 0 0 0 0 0 0 0 0 0 0 0 0 0 0 0 0 0 0 0 0 0 0 0 0 0 0 0 0 0 0 0 0 0 0 0 0 0 0 0 0 0 0 0 0 0 0 0 0 0 0 0 0 0 0 0 0 0 0 0 0 0 0 0 0 0 0 0 0 0 0 0 0 0 0 0 0 0 0 0 0 0 0 0 0 0 0 0 0 0 0 0 0 0 0 0 0 0 0 0 0 0 0 0 0 0 0 0 0 0 0 0 0 0 0 0 0 0 0 0 0 0 0 0 0 0 0 0 0 0 0 0 0 0 0 0 0 0 0 0 0 0 0 0 0 0 0 0 0 0 0 0 0 0 0 0 0 0 0 0 0 0 0 0 0 0 0 0 0 0 0 0 0 0 0 0 0 0 0 0 0 0 0 0 0 0 0 0 0 0 0 0 0 0 0 0 0 0 0 0 0 0 0 0 0 0 0 0 0 0 0 0 0 0 0 0 0 0 0 0 0 0 0 0 0 0 0 0 0 0 0 0 0 0 0 0 0 0 0 0 0 0 0 0 0 0 0 0 0 0 0 0 0 0 0 0 0 0 0 0 0 0 0 0 0 0 0 0 0 0 0 0 0 0 0 0 0 0 0 0 0 0 0 0 0 0 0 0 0 0 0 0 0 0 0 0 0 0 0\n"
          ],
          "name": "stdout"
        },
        {
          "output_type": "stream",
          "text": [
            "INFO:tensorflow:segment_ids: 0 0 0 0 0 0 0 0 0 0 0 0 0 0 0 0 0 0 0 0 0 0 0 0 0 0 0 0 0 0 0 0 0 0 0 0 0 0 0 0 0 0 0 0 0 0 0 0 0 0 0 0 0 0 0 0 0 0 0 0 0 0 0 0 0 0 0 0 0 0 0 0 0 0 0 0 0 0 0 0 0 0 0 0 0 0 0 0 0 0 0 0 0 0 0 0 0 0 0 0 0 0 0 0 0 0 0 0 0 0 0 0 0 0 0 0 0 0 0 0 0 0 0 0 0 0 0 0 0 0 0 0 0 0 0 0 0 0 0 0 0 0 0 0 0 0 0 0 0 0 0 0 0 0 0 0 0 0 0 0 0 0 0 0 0 0 0 0 0 0 0 0 0 0 0 0 0 0 0 0 0 0 0 0 0 0 0 0 0 0 0 0 0 0 0 0 0 0 0 0 0 0 0 0 0 0 0 0 0 0 0 0 0 0 0 0 0 0 0 0 0 0 0 0 0 0 0 0 0 0 0 0 0 0 0 0 0 0 0 0 0 0 0 0 0 0 0 0 0 0 0 0 0 0 0 0 0 0 0 0 0 0 0 0 0 0 0 0 0 0 0 0 0 0 0 0 0 0 0 0 0 0 0 0 0 0 0 0 0 0 0 0 0 0 0 0 0 0 0 0 0 0 0 0 0 0 0 0 0 0 0 0 0 0 0 0 0 0 0 0 0 0 0 0 0 0 0 0 0 0 0 0 0 0 0 0 0 0 0 0 0 0 0 0 0 0 0 0 0 0 0 0 0 0 0 0 0 0 0 0 0 0 0 0 0 0 0 0 0 0 0 0 0 0 0 0 0 0 0 0 0 0 0 0\n"
          ],
          "name": "stderr"
        },
        {
          "output_type": "stream",
          "text": [
            "INFO:tensorflow:label: 1 (id = 1)\n"
          ],
          "name": "stdout"
        },
        {
          "output_type": "stream",
          "text": [
            "INFO:tensorflow:label: 1 (id = 1)\n"
          ],
          "name": "stderr"
        },
        {
          "output_type": "stream",
          "text": [
            "INFO:tensorflow:Writing example 10000 of 15424\n"
          ],
          "name": "stdout"
        },
        {
          "output_type": "stream",
          "text": [
            "INFO:tensorflow:Writing example 10000 of 15424\n"
          ],
          "name": "stderr"
        },
        {
          "output_type": "stream",
          "text": [
            "INFO:tensorflow:Writing example 0 of 3856\n"
          ],
          "name": "stdout"
        },
        {
          "output_type": "stream",
          "text": [
            "INFO:tensorflow:Writing example 0 of 3856\n"
          ],
          "name": "stderr"
        },
        {
          "output_type": "stream",
          "text": [
            "INFO:tensorflow:*** Example ***\n"
          ],
          "name": "stdout"
        },
        {
          "output_type": "stream",
          "text": [
            "INFO:tensorflow:*** Example ***\n"
          ],
          "name": "stderr"
        },
        {
          "output_type": "stream",
          "text": [
            "INFO:tensorflow:guid: None\n"
          ],
          "name": "stdout"
        },
        {
          "output_type": "stream",
          "text": [
            "INFO:tensorflow:guid: None\n"
          ],
          "name": "stderr"
        },
        {
          "output_type": "stream",
          "text": [
            "INFO:tensorflow:tokens: [CLS] мы не ##из ##ве ##ст ##ный при ##рода том я матери ##я том я э ##нергия состав ##лять наш все ##ленная значи ##т это теория большой в ##з ##рыв под ##ле ##жать со ##м ##нение ва ##ш теория б ##ес ##кон ##ечно ##сть именно этот место пер ##ест том о ##пис ##ывать р ##е ##ально ##сть ко ##с ##мос род ##иться большой в ##з ##рыв б ##ес ##кон ##еч ##ный мы при ##ходить ##ся в ##ери ##ть мг ##нов ##енно стать б ##ес ##кон ##ечно больш ##ий это аб ##су ##рд жа ##нна ле ##вин это не ##кото ##рый род чу ##до несмотря наш з ##нание до ##бы ##ть помощь научный исследование в ##с е ##щ стал ##ки ##ваться вопрос который ответ каждый не ##деля ст ##ара ##ться о ##гор ##ош ##ить м ##ой е ##жен ##еде ##льный коло ##нка свой вопрос предложение не ##деля чи ##тат ##ель j ##lna ##nce с ##пра ##шив ##ать у ##ч н ##ые у ##вер ##ить по ##нимать э ##вол ##ю ##ция все ##ленная прямо самый начало большой в ##з ##рыв у ##вер ##ить все ##ленная сост ##оят ##ь том я матери ##я че ##й состав не ##из ##ве ##ст ##ный е ди ##нами ##к у ##пра ##в ##ляться том я э ##нергия который также из ##учи ##ть слабо это новый сила возможно сделать э ##кс ##тра ##поля ##ция большой в ##з ##рыв матери ##я сила все ##ленная известно мало это ва ##жный вопрос ко ##тор стоит ##ь за ##дава ##ть каждый полу ##чение новый факт правил ##ьный наш ст ##ары ##й образ мы ##ш ##ление дава ##ть вы ##яс ##нить след ##овать на ##пом ##нить откуда по ##яви ##ться теория большой в ##з ##рыв исторически про ##из ##ой ##ти несколько со ##бы ##тие зал ##о ##жить ф ##унда ##мент по ##нима ##ние который вы ##ра ##бо ##тать со ##бы ##тие следующий раз ##ра ##бо ##тать об ##щий теория относительно ##сть новый теория грав ##ита ##ция е пред ##ска ##зани ##е под ##тве ##рди ##ться изначально должны ##й об ##ъя ##сни ##ть о ##рби ##тал ##ьный пре ##це ##ссия м ##ер ##ку ##рий вокруг сол ##нце пред ##ска ##за ##ть большой набор ф ##еном ##ен под ##тве ##рди ##ть число от ##кло ##нение свет да ##ть ки ##х зв з ##д ма ##сса грав ##ита ##ционный [SEP]\n"
          ],
          "name": "stdout"
        },
        {
          "output_type": "stream",
          "text": [
            "INFO:tensorflow:tokens: [CLS] мы не ##из ##ве ##ст ##ный при ##рода том я матери ##я том я э ##нергия состав ##лять наш все ##ленная значи ##т это теория большой в ##з ##рыв под ##ле ##жать со ##м ##нение ва ##ш теория б ##ес ##кон ##ечно ##сть именно этот место пер ##ест том о ##пис ##ывать р ##е ##ально ##сть ко ##с ##мос род ##иться большой в ##з ##рыв б ##ес ##кон ##еч ##ный мы при ##ходить ##ся в ##ери ##ть мг ##нов ##енно стать б ##ес ##кон ##ечно больш ##ий это аб ##су ##рд жа ##нна ле ##вин это не ##кото ##рый род чу ##до несмотря наш з ##нание до ##бы ##ть помощь научный исследование в ##с е ##щ стал ##ки ##ваться вопрос который ответ каждый не ##деля ст ##ара ##ться о ##гор ##ош ##ить м ##ой е ##жен ##еде ##льный коло ##нка свой вопрос предложение не ##деля чи ##тат ##ель j ##lna ##nce с ##пра ##шив ##ать у ##ч н ##ые у ##вер ##ить по ##нимать э ##вол ##ю ##ция все ##ленная прямо самый начало большой в ##з ##рыв у ##вер ##ить все ##ленная сост ##оят ##ь том я матери ##я че ##й состав не ##из ##ве ##ст ##ный е ди ##нами ##к у ##пра ##в ##ляться том я э ##нергия который также из ##учи ##ть слабо это новый сила возможно сделать э ##кс ##тра ##поля ##ция большой в ##з ##рыв матери ##я сила все ##ленная известно мало это ва ##жный вопрос ко ##тор стоит ##ь за ##дава ##ть каждый полу ##чение новый факт правил ##ьный наш ст ##ары ##й образ мы ##ш ##ление дава ##ть вы ##яс ##нить след ##овать на ##пом ##нить откуда по ##яви ##ться теория большой в ##з ##рыв исторически про ##из ##ой ##ти несколько со ##бы ##тие зал ##о ##жить ф ##унда ##мент по ##нима ##ние который вы ##ра ##бо ##тать со ##бы ##тие следующий раз ##ра ##бо ##тать об ##щий теория относительно ##сть новый теория грав ##ита ##ция е пред ##ска ##зани ##е под ##тве ##рди ##ться изначально должны ##й об ##ъя ##сни ##ть о ##рби ##тал ##ьный пре ##це ##ссия м ##ер ##ку ##рий вокруг сол ##нце пред ##ска ##за ##ть большой набор ф ##еном ##ен под ##тве ##рди ##ть число от ##кло ##нение свет да ##ть ки ##х зв з ##д ма ##сса грав ##ита ##ционный [SEP]\n"
          ],
          "name": "stderr"
        },
        {
          "output_type": "stream",
          "text": [
            "INFO:tensorflow:input_ids: 101 35818 10375 39457 14149 11567 11092 10913 45614 12433 572 63588 10385 12433 572 570 66963 13701 32589 79590 13686 96816 59737 10351 12999 61792 31308 543 11571 77851 11429 11851 59919 10956 10241 36896 12450 11148 61792 542 17488 72437 75051 12737 32870 19558 13323 61381 28547 12433 555 29678 72060 557 10205 55486 12737 59781 10513 102006 17517 56051 31308 543 11571 77851 542 17488 72437 46044 11092 35818 10913 47387 10625 543 22656 11258 93427 18383 56717 50121 542 17488 72437 75051 39119 11550 12999 17816 16417 23479 73899 26404 94693 49048 12999 10375 39692 68172 17517 59172 17961 47753 79590 548 83095 10344 18766 11258 53532 79688 106918 543 10513 546 18565 13462 10648 91717 58099 12968 83415 48295 10375 103185 15888 16682 14133 555 48289 43155 15356 553 11292 546 23855 87097 23323 38252 22287 20820 58099 87803 10375 103185 17891 61215 17371 178 24626 12150 558 76880 45813 18235 560 11746 554 14578 560 32418 15356 10297 68446 570 110687 10593 12942 13686 96816 75552 63600 33431 31308 543 11571 77851 560 32418 15356 13686 96816 91908 81802 10851 12433 572 63588 10385 14816 10384 13701 10375 39457 14149 11567 11092 546 48575 46502 10510 560 76880 10541 61409 12433 572 570 66963 12968 11448 10387 83856 11258 88535 12999 30994 39653 44504 58073 570 18705 29672 100521 12942 31308 543 11571 77851 63588 10385 39653 13686 96816 40262 33489 12999 12450 30239 58099 59781 18256 75363 10851 10234 83181 11258 48295 91258 21137 30994 61481 75529 23196 79590 15888 26322 10384 52515 35818 11148 20539 56582 11258 96195 89887 61540 16246 55017 10122 91363 61540 97432 10297 77954 14133 61792 31308 543 11571 77851 102779 12709 39457 11292 10960 15981 10956 18766 47072 69424 10316 36760 561 56098 29286 10297 97582 13541 12968 96195 11079 29709 91119 10956 18766 47072 55779 17257 11079 29709 91119 13248 27312 61792 50964 12737 30994 61792 57187 33227 12942 546 23807 12184 75319 10205 11429 35795 64228 14133 94425 38874 10384 13248 89982 40543 11258 555 75611 44422 23196 38494 13317 53063 553 11977 11191 38864 48181 26367 67345 23807 12184 13594 11258 31308 108784 561 60002 10928 11429 35795 64228 11258 22630 10332 67455 36896 40363 10405 11258 14708 10353 21107 548 10746 97744 48621 57187 33227 49973 102\n"
          ],
          "name": "stdout"
        },
        {
          "output_type": "stream",
          "text": [
            "INFO:tensorflow:input_ids: 101 35818 10375 39457 14149 11567 11092 10913 45614 12433 572 63588 10385 12433 572 570 66963 13701 32589 79590 13686 96816 59737 10351 12999 61792 31308 543 11571 77851 11429 11851 59919 10956 10241 36896 12450 11148 61792 542 17488 72437 75051 12737 32870 19558 13323 61381 28547 12433 555 29678 72060 557 10205 55486 12737 59781 10513 102006 17517 56051 31308 543 11571 77851 542 17488 72437 46044 11092 35818 10913 47387 10625 543 22656 11258 93427 18383 56717 50121 542 17488 72437 75051 39119 11550 12999 17816 16417 23479 73899 26404 94693 49048 12999 10375 39692 68172 17517 59172 17961 47753 79590 548 83095 10344 18766 11258 53532 79688 106918 543 10513 546 18565 13462 10648 91717 58099 12968 83415 48295 10375 103185 15888 16682 14133 555 48289 43155 15356 553 11292 546 23855 87097 23323 38252 22287 20820 58099 87803 10375 103185 17891 61215 17371 178 24626 12150 558 76880 45813 18235 560 11746 554 14578 560 32418 15356 10297 68446 570 110687 10593 12942 13686 96816 75552 63600 33431 31308 543 11571 77851 560 32418 15356 13686 96816 91908 81802 10851 12433 572 63588 10385 14816 10384 13701 10375 39457 14149 11567 11092 546 48575 46502 10510 560 76880 10541 61409 12433 572 570 66963 12968 11448 10387 83856 11258 88535 12999 30994 39653 44504 58073 570 18705 29672 100521 12942 31308 543 11571 77851 63588 10385 39653 13686 96816 40262 33489 12999 12450 30239 58099 59781 18256 75363 10851 10234 83181 11258 48295 91258 21137 30994 61481 75529 23196 79590 15888 26322 10384 52515 35818 11148 20539 56582 11258 96195 89887 61540 16246 55017 10122 91363 61540 97432 10297 77954 14133 61792 31308 543 11571 77851 102779 12709 39457 11292 10960 15981 10956 18766 47072 69424 10316 36760 561 56098 29286 10297 97582 13541 12968 96195 11079 29709 91119 10956 18766 47072 55779 17257 11079 29709 91119 13248 27312 61792 50964 12737 30994 61792 57187 33227 12942 546 23807 12184 75319 10205 11429 35795 64228 14133 94425 38874 10384 13248 89982 40543 11258 555 75611 44422 23196 38494 13317 53063 553 11977 11191 38864 48181 26367 67345 23807 12184 13594 11258 31308 108784 561 60002 10928 11429 35795 64228 11258 22630 10332 67455 36896 40363 10405 11258 14708 10353 21107 548 10746 97744 48621 57187 33227 49973 102\n"
          ],
          "name": "stderr"
        },
        {
          "output_type": "stream",
          "text": [
            "INFO:tensorflow:input_mask: 1 1 1 1 1 1 1 1 1 1 1 1 1 1 1 1 1 1 1 1 1 1 1 1 1 1 1 1 1 1 1 1 1 1 1 1 1 1 1 1 1 1 1 1 1 1 1 1 1 1 1 1 1 1 1 1 1 1 1 1 1 1 1 1 1 1 1 1 1 1 1 1 1 1 1 1 1 1 1 1 1 1 1 1 1 1 1 1 1 1 1 1 1 1 1 1 1 1 1 1 1 1 1 1 1 1 1 1 1 1 1 1 1 1 1 1 1 1 1 1 1 1 1 1 1 1 1 1 1 1 1 1 1 1 1 1 1 1 1 1 1 1 1 1 1 1 1 1 1 1 1 1 1 1 1 1 1 1 1 1 1 1 1 1 1 1 1 1 1 1 1 1 1 1 1 1 1 1 1 1 1 1 1 1 1 1 1 1 1 1 1 1 1 1 1 1 1 1 1 1 1 1 1 1 1 1 1 1 1 1 1 1 1 1 1 1 1 1 1 1 1 1 1 1 1 1 1 1 1 1 1 1 1 1 1 1 1 1 1 1 1 1 1 1 1 1 1 1 1 1 1 1 1 1 1 1 1 1 1 1 1 1 1 1 1 1 1 1 1 1 1 1 1 1 1 1 1 1 1 1 1 1 1 1 1 1 1 1 1 1 1 1 1 1 1 1 1 1 1 1 1 1 1 1 1 1 1 1 1 1 1 1 1 1 1 1 1 1 1 1 1 1 1 1 1 1 1 1 1 1 1 1 1 1 1 1 1 1 1 1 1 1 1 1 1 1 1 1 1 1 1 1 1 1 1 1 1 1 1 1 1 1 1 1 1 1 1 1 1 1 1 1 1 1 1 1 1 1 1 1 1 1 1 1\n"
          ],
          "name": "stdout"
        },
        {
          "output_type": "stream",
          "text": [
            "INFO:tensorflow:input_mask: 1 1 1 1 1 1 1 1 1 1 1 1 1 1 1 1 1 1 1 1 1 1 1 1 1 1 1 1 1 1 1 1 1 1 1 1 1 1 1 1 1 1 1 1 1 1 1 1 1 1 1 1 1 1 1 1 1 1 1 1 1 1 1 1 1 1 1 1 1 1 1 1 1 1 1 1 1 1 1 1 1 1 1 1 1 1 1 1 1 1 1 1 1 1 1 1 1 1 1 1 1 1 1 1 1 1 1 1 1 1 1 1 1 1 1 1 1 1 1 1 1 1 1 1 1 1 1 1 1 1 1 1 1 1 1 1 1 1 1 1 1 1 1 1 1 1 1 1 1 1 1 1 1 1 1 1 1 1 1 1 1 1 1 1 1 1 1 1 1 1 1 1 1 1 1 1 1 1 1 1 1 1 1 1 1 1 1 1 1 1 1 1 1 1 1 1 1 1 1 1 1 1 1 1 1 1 1 1 1 1 1 1 1 1 1 1 1 1 1 1 1 1 1 1 1 1 1 1 1 1 1 1 1 1 1 1 1 1 1 1 1 1 1 1 1 1 1 1 1 1 1 1 1 1 1 1 1 1 1 1 1 1 1 1 1 1 1 1 1 1 1 1 1 1 1 1 1 1 1 1 1 1 1 1 1 1 1 1 1 1 1 1 1 1 1 1 1 1 1 1 1 1 1 1 1 1 1 1 1 1 1 1 1 1 1 1 1 1 1 1 1 1 1 1 1 1 1 1 1 1 1 1 1 1 1 1 1 1 1 1 1 1 1 1 1 1 1 1 1 1 1 1 1 1 1 1 1 1 1 1 1 1 1 1 1 1 1 1 1 1 1 1 1 1 1 1 1 1 1 1 1 1 1 1\n"
          ],
          "name": "stderr"
        },
        {
          "output_type": "stream",
          "text": [
            "INFO:tensorflow:segment_ids: 0 0 0 0 0 0 0 0 0 0 0 0 0 0 0 0 0 0 0 0 0 0 0 0 0 0 0 0 0 0 0 0 0 0 0 0 0 0 0 0 0 0 0 0 0 0 0 0 0 0 0 0 0 0 0 0 0 0 0 0 0 0 0 0 0 0 0 0 0 0 0 0 0 0 0 0 0 0 0 0 0 0 0 0 0 0 0 0 0 0 0 0 0 0 0 0 0 0 0 0 0 0 0 0 0 0 0 0 0 0 0 0 0 0 0 0 0 0 0 0 0 0 0 0 0 0 0 0 0 0 0 0 0 0 0 0 0 0 0 0 0 0 0 0 0 0 0 0 0 0 0 0 0 0 0 0 0 0 0 0 0 0 0 0 0 0 0 0 0 0 0 0 0 0 0 0 0 0 0 0 0 0 0 0 0 0 0 0 0 0 0 0 0 0 0 0 0 0 0 0 0 0 0 0 0 0 0 0 0 0 0 0 0 0 0 0 0 0 0 0 0 0 0 0 0 0 0 0 0 0 0 0 0 0 0 0 0 0 0 0 0 0 0 0 0 0 0 0 0 0 0 0 0 0 0 0 0 0 0 0 0 0 0 0 0 0 0 0 0 0 0 0 0 0 0 0 0 0 0 0 0 0 0 0 0 0 0 0 0 0 0 0 0 0 0 0 0 0 0 0 0 0 0 0 0 0 0 0 0 0 0 0 0 0 0 0 0 0 0 0 0 0 0 0 0 0 0 0 0 0 0 0 0 0 0 0 0 0 0 0 0 0 0 0 0 0 0 0 0 0 0 0 0 0 0 0 0 0 0 0 0 0 0 0 0 0 0 0 0 0 0 0 0 0 0 0 0 0 0 0 0 0 0 0\n"
          ],
          "name": "stdout"
        },
        {
          "output_type": "stream",
          "text": [
            "INFO:tensorflow:segment_ids: 0 0 0 0 0 0 0 0 0 0 0 0 0 0 0 0 0 0 0 0 0 0 0 0 0 0 0 0 0 0 0 0 0 0 0 0 0 0 0 0 0 0 0 0 0 0 0 0 0 0 0 0 0 0 0 0 0 0 0 0 0 0 0 0 0 0 0 0 0 0 0 0 0 0 0 0 0 0 0 0 0 0 0 0 0 0 0 0 0 0 0 0 0 0 0 0 0 0 0 0 0 0 0 0 0 0 0 0 0 0 0 0 0 0 0 0 0 0 0 0 0 0 0 0 0 0 0 0 0 0 0 0 0 0 0 0 0 0 0 0 0 0 0 0 0 0 0 0 0 0 0 0 0 0 0 0 0 0 0 0 0 0 0 0 0 0 0 0 0 0 0 0 0 0 0 0 0 0 0 0 0 0 0 0 0 0 0 0 0 0 0 0 0 0 0 0 0 0 0 0 0 0 0 0 0 0 0 0 0 0 0 0 0 0 0 0 0 0 0 0 0 0 0 0 0 0 0 0 0 0 0 0 0 0 0 0 0 0 0 0 0 0 0 0 0 0 0 0 0 0 0 0 0 0 0 0 0 0 0 0 0 0 0 0 0 0 0 0 0 0 0 0 0 0 0 0 0 0 0 0 0 0 0 0 0 0 0 0 0 0 0 0 0 0 0 0 0 0 0 0 0 0 0 0 0 0 0 0 0 0 0 0 0 0 0 0 0 0 0 0 0 0 0 0 0 0 0 0 0 0 0 0 0 0 0 0 0 0 0 0 0 0 0 0 0 0 0 0 0 0 0 0 0 0 0 0 0 0 0 0 0 0 0 0 0 0 0 0 0 0 0 0 0 0 0 0 0 0 0 0 0 0 0 0\n"
          ],
          "name": "stderr"
        },
        {
          "output_type": "stream",
          "text": [
            "INFO:tensorflow:label: 0 (id = 0)\n"
          ],
          "name": "stdout"
        },
        {
          "output_type": "stream",
          "text": [
            "INFO:tensorflow:label: 0 (id = 0)\n"
          ],
          "name": "stderr"
        },
        {
          "output_type": "stream",
          "text": [
            "INFO:tensorflow:*** Example ***\n"
          ],
          "name": "stdout"
        },
        {
          "output_type": "stream",
          "text": [
            "INFO:tensorflow:*** Example ***\n"
          ],
          "name": "stderr"
        },
        {
          "output_type": "stream",
          "text": [
            "INFO:tensorflow:guid: None\n"
          ],
          "name": "stdout"
        },
        {
          "output_type": "stream",
          "text": [
            "INFO:tensorflow:guid: None\n"
          ],
          "name": "stderr"
        },
        {
          "output_type": "stream",
          "text": [
            "INFO:tensorflow:tokens: [CLS] автор ни ##кол ##ай х ##аба ##р senior em ##bedded developer data ##art статья р ##ассказ ##ать создать со ##б ##ственный устройство веб ин ##тер ##фей ##с дома ##шний сеть использовать новый версия про ##шив ##ка device ##hi ##ve ми ##к ##рос ##хема es ##p начало дава ##ть раз ##об ##рат ##ь новое по ##яви ##ться самый про ##шив ##ка основной нов ##ов ##ведение св ##яз ##ать возможность а ##вт ##оном ##ный работа ло ##кал ##ьный сеть пред ##ы ##ду ##щий статья цикл io ##t ко ##пе ##йка device ##hi ##ve io ##t ко ##пе ##йка практически ##й руководство часть а ##п ##парат ##ный б ##ес ##про ##вод ##ный нас ##тро ##йка es ##p про ##шив ##ка device ##hi ##ve v io ##t ко ##пе ##йка практически ##й руководство часть со ##фт ##вар ##ный от ##ли ##чный нов ##ость об ##нов ##иться про ##шив ##ка device ##hi ##ve es ##p версия тот под ##за ##бы ##ть з ##нать на ##пом ##ина ##ть этот про ##шив ##ка я ##в ##ляться р ##е ##али ##зация под ##ключение се ##рве ##р device ##hi ##ve внутри ми ##к ##рос ##хема es ##p новое возможность про ##шив ##ка по ##зв ##оля ##ть работать чи ##п ло ##кал ##ьный сеть ка ##чество око ##не ##чный устройство со ##б ##ственный веб ин ##тер ##фей ##с не ##об ##яз ##атель ##но использовать се ##рве ##р размещение веб страница хотя весь ф ##ун ##к ##цио ##нал под ##ключение у ##дал ##ённый се ##рве ##р со ##х ##ран ##ный использовать совместно ло ##кал ##ьный решение с ##ка ##чать последний версия про ##шив ##ка gi ##th ##ub о ##зна ##ком ##иться и ##сход ##ный код про ##шив ##ка и ##так нове ##нь ##кий ло ##кал ##ьный rest ##ful api каждый чи ##п порт ##у р ##ас ##по ##ло ##жить про ##стен ##ький http се ##рве ##р rest ##ful api команда полностью пов ##тор ##ять обл ##ач ##ный команда и ##ск ##люч ##ение возможность использовать пре ##рыва ##ние пол ##ный список команда о ##зна ##ком ##иться документ например хот ##еть уз ##нать состояние вы ##вод ми ##к ##рос ##хема нужно использовать команда g ##pio read случай к ##лау ##д просто от ##пра ##в ##лять команда се ##рве ##р м ##о ##чь поп ##рос ##ту об ##рати ##ться ло ##кал ##ьный rest ##ful api ад [SEP]\n"
          ],
          "name": "stdout"
        },
        {
          "output_type": "stream",
          "text": [
            "INFO:tensorflow:tokens: [CLS] автор ни ##кол ##ай х ##аба ##р senior em ##bedded developer data ##art статья р ##ассказ ##ать создать со ##б ##ственный устройство веб ин ##тер ##фей ##с дома ##шний сеть использовать новый версия про ##шив ##ка device ##hi ##ve ми ##к ##рос ##хема es ##p начало дава ##ть раз ##об ##рат ##ь новое по ##яви ##ться самый про ##шив ##ка основной нов ##ов ##ведение св ##яз ##ать возможность а ##вт ##оном ##ный работа ло ##кал ##ьный сеть пред ##ы ##ду ##щий статья цикл io ##t ко ##пе ##йка device ##hi ##ve io ##t ко ##пе ##йка практически ##й руководство часть а ##п ##парат ##ный б ##ес ##про ##вод ##ный нас ##тро ##йка es ##p про ##шив ##ка device ##hi ##ve v io ##t ко ##пе ##йка практически ##й руководство часть со ##фт ##вар ##ный от ##ли ##чный нов ##ость об ##нов ##иться про ##шив ##ка device ##hi ##ve es ##p версия тот под ##за ##бы ##ть з ##нать на ##пом ##ина ##ть этот про ##шив ##ка я ##в ##ляться р ##е ##али ##зация под ##ключение се ##рве ##р device ##hi ##ve внутри ми ##к ##рос ##хема es ##p новое возможность про ##шив ##ка по ##зв ##оля ##ть работать чи ##п ло ##кал ##ьный сеть ка ##чество око ##не ##чный устройство со ##б ##ственный веб ин ##тер ##фей ##с не ##об ##яз ##атель ##но использовать се ##рве ##р размещение веб страница хотя весь ф ##ун ##к ##цио ##нал под ##ключение у ##дал ##ённый се ##рве ##р со ##х ##ран ##ный использовать совместно ло ##кал ##ьный решение с ##ка ##чать последний версия про ##шив ##ка gi ##th ##ub о ##зна ##ком ##иться и ##сход ##ный код про ##шив ##ка и ##так нове ##нь ##кий ло ##кал ##ьный rest ##ful api каждый чи ##п порт ##у р ##ас ##по ##ло ##жить про ##стен ##ький http се ##рве ##р rest ##ful api команда полностью пов ##тор ##ять обл ##ач ##ный команда и ##ск ##люч ##ение возможность использовать пре ##рыва ##ние пол ##ный список команда о ##зна ##ком ##иться документ например хот ##еть уз ##нать состояние вы ##вод ми ##к ##рос ##хема нужно использовать команда g ##pio read случай к ##лау ##д просто от ##пра ##в ##лять команда се ##рве ##р м ##о ##чь поп ##рос ##ту об ##рати ##ться ло ##кал ##ьный rest ##ful api ад [SEP]\n"
          ],
          "name": "stderr"
        },
        {
          "output_type": "stream",
          "text": [
            "INFO:tensorflow:input_ids: 101 24064 19544 48613 16481 562 64654 10519 17843 10266 85727 80614 11165 15391 73089 557 95559 18235 78224 10956 12528 42877 75581 44002 27796 15469 89168 10513 24818 56417 81700 45683 30994 36560 12709 45813 10521 33091 11924 10612 37140 10510 44181 87172 10196 10410 33431 56582 11258 17257 33276 23444 10851 65647 10297 77954 14133 63600 12709 45813 10521 46864 61966 10433 47154 37629 78070 18235 34835 541 94454 49569 11092 27566 30977 48225 23196 81700 23807 10292 15986 27312 73089 74455 41449 10123 59781 19820 88138 33091 11924 10612 41449 10123 59781 19820 88138 36670 10384 72362 15848 541 11078 41895 11092 542 17488 104082 45597 11092 32001 62735 88138 10196 10410 12709 45813 10521 33091 11924 10612 190 41449 10123 59781 19820 88138 36670 10384 72362 15848 10956 37762 44146 11092 10332 10783 25711 61966 40780 13248 18383 56051 12709 45813 10521 33091 11924 10612 10196 10410 36560 24486 11429 13594 18766 11258 548 71422 10122 91363 13139 11258 19558 12709 45813 10521 572 10541 61409 557 10205 15710 53826 11429 77274 10277 106116 10519 33091 11924 10612 63614 37140 10510 44181 87172 10196 10410 65647 34835 12709 45813 10521 10297 105283 74269 11258 45680 17891 11078 30977 48225 23196 81700 56280 34150 18792 10695 25711 75581 10956 12528 42877 44002 27796 15469 89168 10513 10375 33276 78070 102600 10636 45683 10277 106116 10519 61002 44002 75011 26380 42977 561 16657 10510 86228 25829 11429 77274 560 28354 71233 10277 106116 10519 10956 10353 16346 11092 45683 37573 30977 48225 23196 27319 558 10521 37020 49783 36560 12709 45813 10521 38356 11143 20664 555 45572 13393 56051 549 68874 11092 15296 12709 45813 10521 549 64855 62497 15266 17006 30977 48225 23196 17333 14446 35073 48295 17891 11078 27999 10227 557 18291 53204 11602 36760 12709 49271 21160 10556 10277 106116 10519 17333 14446 35073 24052 29305 30148 18256 20177 58742 47990 11092 24052 549 14958 96806 16241 34835 45683 38494 84113 13541 23750 11092 39673 24052 555 45572 13393 56051 85065 20050 99064 43737 41733 71422 76266 96195 45597 37140 10510 44181 87172 71004 45683 24052 175 22196 24944 68242 551 30200 10746 31108 10332 76880 10541 32589 24052 10277 106116 10519 553 10316 40697 48138 44181 12803 13248 44678 14133 30977 48225 23196 17333 14446 35073 15622 102\n"
          ],
          "name": "stdout"
        },
        {
          "output_type": "stream",
          "text": [
            "INFO:tensorflow:input_ids: 101 24064 19544 48613 16481 562 64654 10519 17843 10266 85727 80614 11165 15391 73089 557 95559 18235 78224 10956 12528 42877 75581 44002 27796 15469 89168 10513 24818 56417 81700 45683 30994 36560 12709 45813 10521 33091 11924 10612 37140 10510 44181 87172 10196 10410 33431 56582 11258 17257 33276 23444 10851 65647 10297 77954 14133 63600 12709 45813 10521 46864 61966 10433 47154 37629 78070 18235 34835 541 94454 49569 11092 27566 30977 48225 23196 81700 23807 10292 15986 27312 73089 74455 41449 10123 59781 19820 88138 33091 11924 10612 41449 10123 59781 19820 88138 36670 10384 72362 15848 541 11078 41895 11092 542 17488 104082 45597 11092 32001 62735 88138 10196 10410 12709 45813 10521 33091 11924 10612 190 41449 10123 59781 19820 88138 36670 10384 72362 15848 10956 37762 44146 11092 10332 10783 25711 61966 40780 13248 18383 56051 12709 45813 10521 33091 11924 10612 10196 10410 36560 24486 11429 13594 18766 11258 548 71422 10122 91363 13139 11258 19558 12709 45813 10521 572 10541 61409 557 10205 15710 53826 11429 77274 10277 106116 10519 33091 11924 10612 63614 37140 10510 44181 87172 10196 10410 65647 34835 12709 45813 10521 10297 105283 74269 11258 45680 17891 11078 30977 48225 23196 81700 56280 34150 18792 10695 25711 75581 10956 12528 42877 44002 27796 15469 89168 10513 10375 33276 78070 102600 10636 45683 10277 106116 10519 61002 44002 75011 26380 42977 561 16657 10510 86228 25829 11429 77274 560 28354 71233 10277 106116 10519 10956 10353 16346 11092 45683 37573 30977 48225 23196 27319 558 10521 37020 49783 36560 12709 45813 10521 38356 11143 20664 555 45572 13393 56051 549 68874 11092 15296 12709 45813 10521 549 64855 62497 15266 17006 30977 48225 23196 17333 14446 35073 48295 17891 11078 27999 10227 557 18291 53204 11602 36760 12709 49271 21160 10556 10277 106116 10519 17333 14446 35073 24052 29305 30148 18256 20177 58742 47990 11092 24052 549 14958 96806 16241 34835 45683 38494 84113 13541 23750 11092 39673 24052 555 45572 13393 56051 85065 20050 99064 43737 41733 71422 76266 96195 45597 37140 10510 44181 87172 71004 45683 24052 175 22196 24944 68242 551 30200 10746 31108 10332 76880 10541 32589 24052 10277 106116 10519 553 10316 40697 48138 44181 12803 13248 44678 14133 30977 48225 23196 17333 14446 35073 15622 102\n"
          ],
          "name": "stderr"
        },
        {
          "output_type": "stream",
          "text": [
            "INFO:tensorflow:input_mask: 1 1 1 1 1 1 1 1 1 1 1 1 1 1 1 1 1 1 1 1 1 1 1 1 1 1 1 1 1 1 1 1 1 1 1 1 1 1 1 1 1 1 1 1 1 1 1 1 1 1 1 1 1 1 1 1 1 1 1 1 1 1 1 1 1 1 1 1 1 1 1 1 1 1 1 1 1 1 1 1 1 1 1 1 1 1 1 1 1 1 1 1 1 1 1 1 1 1 1 1 1 1 1 1 1 1 1 1 1 1 1 1 1 1 1 1 1 1 1 1 1 1 1 1 1 1 1 1 1 1 1 1 1 1 1 1 1 1 1 1 1 1 1 1 1 1 1 1 1 1 1 1 1 1 1 1 1 1 1 1 1 1 1 1 1 1 1 1 1 1 1 1 1 1 1 1 1 1 1 1 1 1 1 1 1 1 1 1 1 1 1 1 1 1 1 1 1 1 1 1 1 1 1 1 1 1 1 1 1 1 1 1 1 1 1 1 1 1 1 1 1 1 1 1 1 1 1 1 1 1 1 1 1 1 1 1 1 1 1 1 1 1 1 1 1 1 1 1 1 1 1 1 1 1 1 1 1 1 1 1 1 1 1 1 1 1 1 1 1 1 1 1 1 1 1 1 1 1 1 1 1 1 1 1 1 1 1 1 1 1 1 1 1 1 1 1 1 1 1 1 1 1 1 1 1 1 1 1 1 1 1 1 1 1 1 1 1 1 1 1 1 1 1 1 1 1 1 1 1 1 1 1 1 1 1 1 1 1 1 1 1 1 1 1 1 1 1 1 1 1 1 1 1 1 1 1 1 1 1 1 1 1 1 1 1 1 1 1 1 1 1 1 1 1 1 1 1 1 1 1 1 1 1 1\n"
          ],
          "name": "stdout"
        },
        {
          "output_type": "stream",
          "text": [
            "INFO:tensorflow:input_mask: 1 1 1 1 1 1 1 1 1 1 1 1 1 1 1 1 1 1 1 1 1 1 1 1 1 1 1 1 1 1 1 1 1 1 1 1 1 1 1 1 1 1 1 1 1 1 1 1 1 1 1 1 1 1 1 1 1 1 1 1 1 1 1 1 1 1 1 1 1 1 1 1 1 1 1 1 1 1 1 1 1 1 1 1 1 1 1 1 1 1 1 1 1 1 1 1 1 1 1 1 1 1 1 1 1 1 1 1 1 1 1 1 1 1 1 1 1 1 1 1 1 1 1 1 1 1 1 1 1 1 1 1 1 1 1 1 1 1 1 1 1 1 1 1 1 1 1 1 1 1 1 1 1 1 1 1 1 1 1 1 1 1 1 1 1 1 1 1 1 1 1 1 1 1 1 1 1 1 1 1 1 1 1 1 1 1 1 1 1 1 1 1 1 1 1 1 1 1 1 1 1 1 1 1 1 1 1 1 1 1 1 1 1 1 1 1 1 1 1 1 1 1 1 1 1 1 1 1 1 1 1 1 1 1 1 1 1 1 1 1 1 1 1 1 1 1 1 1 1 1 1 1 1 1 1 1 1 1 1 1 1 1 1 1 1 1 1 1 1 1 1 1 1 1 1 1 1 1 1 1 1 1 1 1 1 1 1 1 1 1 1 1 1 1 1 1 1 1 1 1 1 1 1 1 1 1 1 1 1 1 1 1 1 1 1 1 1 1 1 1 1 1 1 1 1 1 1 1 1 1 1 1 1 1 1 1 1 1 1 1 1 1 1 1 1 1 1 1 1 1 1 1 1 1 1 1 1 1 1 1 1 1 1 1 1 1 1 1 1 1 1 1 1 1 1 1 1 1 1 1 1 1 1 1\n"
          ],
          "name": "stderr"
        },
        {
          "output_type": "stream",
          "text": [
            "INFO:tensorflow:segment_ids: 0 0 0 0 0 0 0 0 0 0 0 0 0 0 0 0 0 0 0 0 0 0 0 0 0 0 0 0 0 0 0 0 0 0 0 0 0 0 0 0 0 0 0 0 0 0 0 0 0 0 0 0 0 0 0 0 0 0 0 0 0 0 0 0 0 0 0 0 0 0 0 0 0 0 0 0 0 0 0 0 0 0 0 0 0 0 0 0 0 0 0 0 0 0 0 0 0 0 0 0 0 0 0 0 0 0 0 0 0 0 0 0 0 0 0 0 0 0 0 0 0 0 0 0 0 0 0 0 0 0 0 0 0 0 0 0 0 0 0 0 0 0 0 0 0 0 0 0 0 0 0 0 0 0 0 0 0 0 0 0 0 0 0 0 0 0 0 0 0 0 0 0 0 0 0 0 0 0 0 0 0 0 0 0 0 0 0 0 0 0 0 0 0 0 0 0 0 0 0 0 0 0 0 0 0 0 0 0 0 0 0 0 0 0 0 0 0 0 0 0 0 0 0 0 0 0 0 0 0 0 0 0 0 0 0 0 0 0 0 0 0 0 0 0 0 0 0 0 0 0 0 0 0 0 0 0 0 0 0 0 0 0 0 0 0 0 0 0 0 0 0 0 0 0 0 0 0 0 0 0 0 0 0 0 0 0 0 0 0 0 0 0 0 0 0 0 0 0 0 0 0 0 0 0 0 0 0 0 0 0 0 0 0 0 0 0 0 0 0 0 0 0 0 0 0 0 0 0 0 0 0 0 0 0 0 0 0 0 0 0 0 0 0 0 0 0 0 0 0 0 0 0 0 0 0 0 0 0 0 0 0 0 0 0 0 0 0 0 0 0 0 0 0 0 0 0 0 0 0 0 0 0 0 0\n"
          ],
          "name": "stdout"
        },
        {
          "output_type": "stream",
          "text": [
            "INFO:tensorflow:segment_ids: 0 0 0 0 0 0 0 0 0 0 0 0 0 0 0 0 0 0 0 0 0 0 0 0 0 0 0 0 0 0 0 0 0 0 0 0 0 0 0 0 0 0 0 0 0 0 0 0 0 0 0 0 0 0 0 0 0 0 0 0 0 0 0 0 0 0 0 0 0 0 0 0 0 0 0 0 0 0 0 0 0 0 0 0 0 0 0 0 0 0 0 0 0 0 0 0 0 0 0 0 0 0 0 0 0 0 0 0 0 0 0 0 0 0 0 0 0 0 0 0 0 0 0 0 0 0 0 0 0 0 0 0 0 0 0 0 0 0 0 0 0 0 0 0 0 0 0 0 0 0 0 0 0 0 0 0 0 0 0 0 0 0 0 0 0 0 0 0 0 0 0 0 0 0 0 0 0 0 0 0 0 0 0 0 0 0 0 0 0 0 0 0 0 0 0 0 0 0 0 0 0 0 0 0 0 0 0 0 0 0 0 0 0 0 0 0 0 0 0 0 0 0 0 0 0 0 0 0 0 0 0 0 0 0 0 0 0 0 0 0 0 0 0 0 0 0 0 0 0 0 0 0 0 0 0 0 0 0 0 0 0 0 0 0 0 0 0 0 0 0 0 0 0 0 0 0 0 0 0 0 0 0 0 0 0 0 0 0 0 0 0 0 0 0 0 0 0 0 0 0 0 0 0 0 0 0 0 0 0 0 0 0 0 0 0 0 0 0 0 0 0 0 0 0 0 0 0 0 0 0 0 0 0 0 0 0 0 0 0 0 0 0 0 0 0 0 0 0 0 0 0 0 0 0 0 0 0 0 0 0 0 0 0 0 0 0 0 0 0 0 0 0 0 0 0 0 0 0 0 0 0 0 0 0\n"
          ],
          "name": "stderr"
        },
        {
          "output_type": "stream",
          "text": [
            "INFO:tensorflow:label: 4 (id = 4)\n"
          ],
          "name": "stdout"
        },
        {
          "output_type": "stream",
          "text": [
            "INFO:tensorflow:label: 4 (id = 4)\n"
          ],
          "name": "stderr"
        },
        {
          "output_type": "stream",
          "text": [
            "INFO:tensorflow:*** Example ***\n"
          ],
          "name": "stdout"
        },
        {
          "output_type": "stream",
          "text": [
            "INFO:tensorflow:*** Example ***\n"
          ],
          "name": "stderr"
        },
        {
          "output_type": "stream",
          "text": [
            "INFO:tensorflow:guid: None\n"
          ],
          "name": "stdout"
        },
        {
          "output_type": "stream",
          "text": [
            "INFO:tensorflow:guid: None\n"
          ],
          "name": "stderr"
        },
        {
          "output_type": "stream",
          "text": [
            "INFO:tensorflow:tokens: [CLS] результат год скорость ответ к ##ли ##ент ##ский под ##дер ##жка parallel ##s t ##wit ##ter состав ##ить порядок минута причём зв ##уч ##ать в ##пе ##чат ##ля ##ющий до ##сти ##жение результат не ##сом ##нен ##но про ##дела ##ть работа го ##тов ##ый под ##ели ##ться не ##кото ##рый момент который м ##о ##чь пом ##о ##чь опера ##тивно качестве ##нно об ##ра ##бат ##ывать за ##прос со ##ц ##сет ##ь один ва ##жный м ##ери ##ло тех ##по ##д ##дер ##жка со ##ц ##сет ##ь с ##читать ##ся скорость р ##е ##акция ответ вопрос к ##ли ##ент человек тема на ##зы ##вать это art average response time согласно не ##за ##вис ##им ##ый исследование к ##ли ##ент об ##рати ##ться компания со ##циальный сеть о ##жи ##дать ответ течение один час другой данные большинство компания р ##е ##аг ##ировать за ##прос име ##йл течение часы это у ##сло ##вие обе ##щать ответ получить правило течение часы человек л ##ю ##бить зв ##они ##ть тех ##по ##д ##дер ##жка компания причина тот помимо о ##писать человек хот ##еть полностью от ##в ##лек ##аться свой дело у ##деля ##ть решение проблем ##ный вопрос д ##лите ##льный время именно поэтому со ##ц ##сет ##ь наш время выходит ##ь один план это место по ##жал ##овать ##ся свой друг вы ##ло ##жить ф ##ото ##графия свой обе ##д опера ##тивно р ##еши ##ть свой вопрос компания который пред ##ост ##ав ##лять ты у ##слуг ##а това ##р вы ##став ##лять правил ##ьный о ##жи ##дание ва ##ш а ##к ##ка ##ун ##т т ##ви ##т ##тер об ##ра ##бат ##ывать за ##прос х об ##яз ##атель ##но у ##пом ##ян ##уть часы работа описание а ##к ##ка ##ун ##т а ##к ##ка ##ун ##т сл ##яд ##еть д ##н ##ём ночь ##ю информация ук ##азы ##вать об ##яз ##атель ##но часы работа вы ##стави ##ть вопрос к ##ли ##ент при ##йти например ночь ##ю ни ##кто след ##ить по ##ток к ##ли ##ент р ##иско ##вать про ##ждат ##ь часы пока при ##йти о ##фи ##с из ##мер ##ять скорость ответ соответственно нужно также либо х рабочий часы б ##ес ##п ##лат ##ный с ##пособ из ##мер ##ить другой правда гл ##уб ##оки ##й анализ в ##еро ##ят ##ный при ##йти ##сь органи ##зова [SEP]\n"
          ],
          "name": "stdout"
        },
        {
          "output_type": "stream",
          "text": [
            "INFO:tensorflow:tokens: [CLS] результат год скорость ответ к ##ли ##ент ##ский под ##дер ##жка parallel ##s t ##wit ##ter состав ##ить порядок минута причём зв ##уч ##ать в ##пе ##чат ##ля ##ющий до ##сти ##жение результат не ##сом ##нен ##но про ##дела ##ть работа го ##тов ##ый под ##ели ##ться не ##кото ##рый момент который м ##о ##чь пом ##о ##чь опера ##тивно качестве ##нно об ##ра ##бат ##ывать за ##прос со ##ц ##сет ##ь один ва ##жный м ##ери ##ло тех ##по ##д ##дер ##жка со ##ц ##сет ##ь с ##читать ##ся скорость р ##е ##акция ответ вопрос к ##ли ##ент человек тема на ##зы ##вать это art average response time согласно не ##за ##вис ##им ##ый исследование к ##ли ##ент об ##рати ##ться компания со ##циальный сеть о ##жи ##дать ответ течение один час другой данные большинство компания р ##е ##аг ##ировать за ##прос име ##йл течение часы это у ##сло ##вие обе ##щать ответ получить правило течение часы человек л ##ю ##бить зв ##они ##ть тех ##по ##д ##дер ##жка компания причина тот помимо о ##писать человек хот ##еть полностью от ##в ##лек ##аться свой дело у ##деля ##ть решение проблем ##ный вопрос д ##лите ##льный время именно поэтому со ##ц ##сет ##ь наш время выходит ##ь один план это место по ##жал ##овать ##ся свой друг вы ##ло ##жить ф ##ото ##графия свой обе ##д опера ##тивно р ##еши ##ть свой вопрос компания который пред ##ост ##ав ##лять ты у ##слуг ##а това ##р вы ##став ##лять правил ##ьный о ##жи ##дание ва ##ш а ##к ##ка ##ун ##т т ##ви ##т ##тер об ##ра ##бат ##ывать за ##прос х об ##яз ##атель ##но у ##пом ##ян ##уть часы работа описание а ##к ##ка ##ун ##т а ##к ##ка ##ун ##т сл ##яд ##еть д ##н ##ём ночь ##ю информация ук ##азы ##вать об ##яз ##атель ##но часы работа вы ##стави ##ть вопрос к ##ли ##ент при ##йти например ночь ##ю ни ##кто след ##ить по ##ток к ##ли ##ент р ##иско ##вать про ##ждат ##ь часы пока при ##йти о ##фи ##с из ##мер ##ять скорость ответ соответственно нужно также либо х рабочий часы б ##ес ##п ##лат ##ный с ##пособ из ##мер ##ить другой правда гл ##уб ##оки ##й анализ в ##еро ##ят ##ный при ##йти ##сь органи ##зова [SEP]\n"
          ],
          "name": "stderr"
        },
        {
          "output_type": "stream",
          "text": [
            "INFO:tensorflow:input_ids: 101 54162 11974 61735 83415 551 10783 28252 11386 11429 22605 33615 26280 10107 188 56082 10877 13701 15356 74545 109301 69070 21107 49299 18235 543 19820 48579 13826 20716 10344 12189 23976 54162 10375 33412 23045 10636 12709 77318 11258 27566 11495 16503 13865 11429 18400 14133 10375 39692 68172 20658 12968 553 10316 40697 96358 10316 40697 57972 45709 17164 46625 13248 11079 74329 72060 10234 99842 10956 12181 77870 10851 13713 12450 30239 553 22656 11602 32323 53204 10746 22605 33615 10956 12181 77870 10851 558 91162 10625 61735 557 10205 89094 83415 58099 551 10783 28252 13181 65829 10122 20387 27013 12999 11938 13551 21001 10635 32740 10375 13594 110786 13478 13865 106918 551 10783 28252 13248 44678 14133 30115 10956 89828 81700 555 14974 57548 83415 21148 13713 12562 28698 41065 47561 30115 557 10205 51229 79187 10234 99842 24504 70301 21148 109787 12999 560 55984 55763 70135 80288 83415 59582 29349 21148 109787 13181 552 10593 81303 21107 25219 11258 32323 53204 10746 22605 33615 30115 80161 24486 90550 555 106115 13181 99064 43737 29305 10332 10541 30150 55125 20820 29112 560 103185 11258 27319 35607 11092 58099 545 43432 23323 11657 32870 33910 10956 12181 77870 10851 79590 11657 76140 10851 13713 35718 12999 13323 10297 29483 55017 10625 20820 26218 96195 11602 36760 561 19517 31798 20820 70135 10746 57972 45709 557 95135 11258 20820 58099 30115 12968 23807 33580 18197 32589 79141 560 55918 10179 16060 10519 96195 47151 32589 75529 23196 555 14974 54630 12450 11148 541 10510 10521 16657 10351 559 13791 10351 15469 13248 11079 74329 72060 10234 99842 562 13248 78070 102600 10636 560 91363 18971 29911 109787 27566 88967 541 10510 10521 16657 10351 541 10510 10521 16657 10351 52399 35528 43737 545 10267 23009 60092 10593 55407 51941 98445 27013 13248 78070 102600 10636 109787 27566 96195 96098 11258 58099 551 10783 28252 10913 37756 20050 60092 10593 19544 106263 16246 15356 10297 20422 551 10783 28252 557 98280 27013 12709 101862 10851 109787 45899 10913 37756 555 26245 10513 10387 33930 20177 61735 83415 53680 71004 11448 23624 562 102732 109787 542 17488 11078 30828 11092 558 97205 10387 33930 15356 28698 70637 55367 40124 61905 10384 68416 543 78094 13081 11092 10913 37756 11833 97658 78130 102\n"
          ],
          "name": "stdout"
        },
        {
          "output_type": "stream",
          "text": [
            "INFO:tensorflow:input_ids: 101 54162 11974 61735 83415 551 10783 28252 11386 11429 22605 33615 26280 10107 188 56082 10877 13701 15356 74545 109301 69070 21107 49299 18235 543 19820 48579 13826 20716 10344 12189 23976 54162 10375 33412 23045 10636 12709 77318 11258 27566 11495 16503 13865 11429 18400 14133 10375 39692 68172 20658 12968 553 10316 40697 96358 10316 40697 57972 45709 17164 46625 13248 11079 74329 72060 10234 99842 10956 12181 77870 10851 13713 12450 30239 553 22656 11602 32323 53204 10746 22605 33615 10956 12181 77870 10851 558 91162 10625 61735 557 10205 89094 83415 58099 551 10783 28252 13181 65829 10122 20387 27013 12999 11938 13551 21001 10635 32740 10375 13594 110786 13478 13865 106918 551 10783 28252 13248 44678 14133 30115 10956 89828 81700 555 14974 57548 83415 21148 13713 12562 28698 41065 47561 30115 557 10205 51229 79187 10234 99842 24504 70301 21148 109787 12999 560 55984 55763 70135 80288 83415 59582 29349 21148 109787 13181 552 10593 81303 21107 25219 11258 32323 53204 10746 22605 33615 30115 80161 24486 90550 555 106115 13181 99064 43737 29305 10332 10541 30150 55125 20820 29112 560 103185 11258 27319 35607 11092 58099 545 43432 23323 11657 32870 33910 10956 12181 77870 10851 79590 11657 76140 10851 13713 35718 12999 13323 10297 29483 55017 10625 20820 26218 96195 11602 36760 561 19517 31798 20820 70135 10746 57972 45709 557 95135 11258 20820 58099 30115 12968 23807 33580 18197 32589 79141 560 55918 10179 16060 10519 96195 47151 32589 75529 23196 555 14974 54630 12450 11148 541 10510 10521 16657 10351 559 13791 10351 15469 13248 11079 74329 72060 10234 99842 562 13248 78070 102600 10636 560 91363 18971 29911 109787 27566 88967 541 10510 10521 16657 10351 541 10510 10521 16657 10351 52399 35528 43737 545 10267 23009 60092 10593 55407 51941 98445 27013 13248 78070 102600 10636 109787 27566 96195 96098 11258 58099 551 10783 28252 10913 37756 20050 60092 10593 19544 106263 16246 15356 10297 20422 551 10783 28252 557 98280 27013 12709 101862 10851 109787 45899 10913 37756 555 26245 10513 10387 33930 20177 61735 83415 53680 71004 11448 23624 562 102732 109787 542 17488 11078 30828 11092 558 97205 10387 33930 15356 28698 70637 55367 40124 61905 10384 68416 543 78094 13081 11092 10913 37756 11833 97658 78130 102\n"
          ],
          "name": "stderr"
        },
        {
          "output_type": "stream",
          "text": [
            "INFO:tensorflow:input_mask: 1 1 1 1 1 1 1 1 1 1 1 1 1 1 1 1 1 1 1 1 1 1 1 1 1 1 1 1 1 1 1 1 1 1 1 1 1 1 1 1 1 1 1 1 1 1 1 1 1 1 1 1 1 1 1 1 1 1 1 1 1 1 1 1 1 1 1 1 1 1 1 1 1 1 1 1 1 1 1 1 1 1 1 1 1 1 1 1 1 1 1 1 1 1 1 1 1 1 1 1 1 1 1 1 1 1 1 1 1 1 1 1 1 1 1 1 1 1 1 1 1 1 1 1 1 1 1 1 1 1 1 1 1 1 1 1 1 1 1 1 1 1 1 1 1 1 1 1 1 1 1 1 1 1 1 1 1 1 1 1 1 1 1 1 1 1 1 1 1 1 1 1 1 1 1 1 1 1 1 1 1 1 1 1 1 1 1 1 1 1 1 1 1 1 1 1 1 1 1 1 1 1 1 1 1 1 1 1 1 1 1 1 1 1 1 1 1 1 1 1 1 1 1 1 1 1 1 1 1 1 1 1 1 1 1 1 1 1 1 1 1 1 1 1 1 1 1 1 1 1 1 1 1 1 1 1 1 1 1 1 1 1 1 1 1 1 1 1 1 1 1 1 1 1 1 1 1 1 1 1 1 1 1 1 1 1 1 1 1 1 1 1 1 1 1 1 1 1 1 1 1 1 1 1 1 1 1 1 1 1 1 1 1 1 1 1 1 1 1 1 1 1 1 1 1 1 1 1 1 1 1 1 1 1 1 1 1 1 1 1 1 1 1 1 1 1 1 1 1 1 1 1 1 1 1 1 1 1 1 1 1 1 1 1 1 1 1 1 1 1 1 1 1 1 1 1 1 1 1 1 1 1 1 1\n"
          ],
          "name": "stdout"
        },
        {
          "output_type": "stream",
          "text": [
            "INFO:tensorflow:input_mask: 1 1 1 1 1 1 1 1 1 1 1 1 1 1 1 1 1 1 1 1 1 1 1 1 1 1 1 1 1 1 1 1 1 1 1 1 1 1 1 1 1 1 1 1 1 1 1 1 1 1 1 1 1 1 1 1 1 1 1 1 1 1 1 1 1 1 1 1 1 1 1 1 1 1 1 1 1 1 1 1 1 1 1 1 1 1 1 1 1 1 1 1 1 1 1 1 1 1 1 1 1 1 1 1 1 1 1 1 1 1 1 1 1 1 1 1 1 1 1 1 1 1 1 1 1 1 1 1 1 1 1 1 1 1 1 1 1 1 1 1 1 1 1 1 1 1 1 1 1 1 1 1 1 1 1 1 1 1 1 1 1 1 1 1 1 1 1 1 1 1 1 1 1 1 1 1 1 1 1 1 1 1 1 1 1 1 1 1 1 1 1 1 1 1 1 1 1 1 1 1 1 1 1 1 1 1 1 1 1 1 1 1 1 1 1 1 1 1 1 1 1 1 1 1 1 1 1 1 1 1 1 1 1 1 1 1 1 1 1 1 1 1 1 1 1 1 1 1 1 1 1 1 1 1 1 1 1 1 1 1 1 1 1 1 1 1 1 1 1 1 1 1 1 1 1 1 1 1 1 1 1 1 1 1 1 1 1 1 1 1 1 1 1 1 1 1 1 1 1 1 1 1 1 1 1 1 1 1 1 1 1 1 1 1 1 1 1 1 1 1 1 1 1 1 1 1 1 1 1 1 1 1 1 1 1 1 1 1 1 1 1 1 1 1 1 1 1 1 1 1 1 1 1 1 1 1 1 1 1 1 1 1 1 1 1 1 1 1 1 1 1 1 1 1 1 1 1 1 1 1 1 1 1 1\n"
          ],
          "name": "stderr"
        },
        {
          "output_type": "stream",
          "text": [
            "INFO:tensorflow:segment_ids: 0 0 0 0 0 0 0 0 0 0 0 0 0 0 0 0 0 0 0 0 0 0 0 0 0 0 0 0 0 0 0 0 0 0 0 0 0 0 0 0 0 0 0 0 0 0 0 0 0 0 0 0 0 0 0 0 0 0 0 0 0 0 0 0 0 0 0 0 0 0 0 0 0 0 0 0 0 0 0 0 0 0 0 0 0 0 0 0 0 0 0 0 0 0 0 0 0 0 0 0 0 0 0 0 0 0 0 0 0 0 0 0 0 0 0 0 0 0 0 0 0 0 0 0 0 0 0 0 0 0 0 0 0 0 0 0 0 0 0 0 0 0 0 0 0 0 0 0 0 0 0 0 0 0 0 0 0 0 0 0 0 0 0 0 0 0 0 0 0 0 0 0 0 0 0 0 0 0 0 0 0 0 0 0 0 0 0 0 0 0 0 0 0 0 0 0 0 0 0 0 0 0 0 0 0 0 0 0 0 0 0 0 0 0 0 0 0 0 0 0 0 0 0 0 0 0 0 0 0 0 0 0 0 0 0 0 0 0 0 0 0 0 0 0 0 0 0 0 0 0 0 0 0 0 0 0 0 0 0 0 0 0 0 0 0 0 0 0 0 0 0 0 0 0 0 0 0 0 0 0 0 0 0 0 0 0 0 0 0 0 0 0 0 0 0 0 0 0 0 0 0 0 0 0 0 0 0 0 0 0 0 0 0 0 0 0 0 0 0 0 0 0 0 0 0 0 0 0 0 0 0 0 0 0 0 0 0 0 0 0 0 0 0 0 0 0 0 0 0 0 0 0 0 0 0 0 0 0 0 0 0 0 0 0 0 0 0 0 0 0 0 0 0 0 0 0 0 0 0 0 0 0 0 0\n"
          ],
          "name": "stdout"
        },
        {
          "output_type": "stream",
          "text": [
            "INFO:tensorflow:segment_ids: 0 0 0 0 0 0 0 0 0 0 0 0 0 0 0 0 0 0 0 0 0 0 0 0 0 0 0 0 0 0 0 0 0 0 0 0 0 0 0 0 0 0 0 0 0 0 0 0 0 0 0 0 0 0 0 0 0 0 0 0 0 0 0 0 0 0 0 0 0 0 0 0 0 0 0 0 0 0 0 0 0 0 0 0 0 0 0 0 0 0 0 0 0 0 0 0 0 0 0 0 0 0 0 0 0 0 0 0 0 0 0 0 0 0 0 0 0 0 0 0 0 0 0 0 0 0 0 0 0 0 0 0 0 0 0 0 0 0 0 0 0 0 0 0 0 0 0 0 0 0 0 0 0 0 0 0 0 0 0 0 0 0 0 0 0 0 0 0 0 0 0 0 0 0 0 0 0 0 0 0 0 0 0 0 0 0 0 0 0 0 0 0 0 0 0 0 0 0 0 0 0 0 0 0 0 0 0 0 0 0 0 0 0 0 0 0 0 0 0 0 0 0 0 0 0 0 0 0 0 0 0 0 0 0 0 0 0 0 0 0 0 0 0 0 0 0 0 0 0 0 0 0 0 0 0 0 0 0 0 0 0 0 0 0 0 0 0 0 0 0 0 0 0 0 0 0 0 0 0 0 0 0 0 0 0 0 0 0 0 0 0 0 0 0 0 0 0 0 0 0 0 0 0 0 0 0 0 0 0 0 0 0 0 0 0 0 0 0 0 0 0 0 0 0 0 0 0 0 0 0 0 0 0 0 0 0 0 0 0 0 0 0 0 0 0 0 0 0 0 0 0 0 0 0 0 0 0 0 0 0 0 0 0 0 0 0 0 0 0 0 0 0 0 0 0 0 0 0 0 0 0 0 0 0\n"
          ],
          "name": "stderr"
        },
        {
          "output_type": "stream",
          "text": [
            "INFO:tensorflow:label: 1 (id = 1)\n"
          ],
          "name": "stdout"
        },
        {
          "output_type": "stream",
          "text": [
            "INFO:tensorflow:label: 1 (id = 1)\n"
          ],
          "name": "stderr"
        },
        {
          "output_type": "stream",
          "text": [
            "INFO:tensorflow:*** Example ***\n"
          ],
          "name": "stdout"
        },
        {
          "output_type": "stream",
          "text": [
            "INFO:tensorflow:*** Example ***\n"
          ],
          "name": "stderr"
        },
        {
          "output_type": "stream",
          "text": [
            "INFO:tensorflow:guid: None\n"
          ],
          "name": "stdout"
        },
        {
          "output_type": "stream",
          "text": [
            "INFO:tensorflow:guid: None\n"
          ],
          "name": "stderr"
        },
        {
          "output_type": "stream",
          "text": [
            "INFO:tensorflow:tokens: [CLS] последний время ч ##ат бо ##т об ##рест ##и не ##шу ##то ##чный поп ##уля ##рность пре ##вра ##тить ##ся раз ##в ##ле ##чение ги ##к едва must ф ##ич все ##во ##зм ##о ##жный м ##есс ##енд ##жер со ##ц ##сет ##ь сайт при ##ч метр м ##ног ##ий случай ч ##ат бо ##т использовать ##ся раз ##в ##ле ##чение праз ##дный п ##уб ##лика решение совершенно се ##рь з ##ный бизнес задача просто дела ##ть это др ##у ##же ##лю ##бно до ##вер ##итель ##но совершенно е ##сте ##ственный человек форма ди ##алог форма ин ##ди ##вид ##уа ##льный пер ##еп ##иска сегодня е ##сте ##ственный э ##поха интернет м ##есс ##енд ##жер см ##арт ##фон каждый кар ##ман поэтому за ##дум ##аться ос ##нас ##тить наш обл ##ач ##ный се ##рви ##с бит ##рик ##с организация работа компания такой поле ##з ##ный во ##стр ##еб ##овать ин ##струмент месяц назад вы ##пус ##тить со ##б ##ственный платформа создание ч ##ат бо ##т ч ##ат бо ##т это приложение с ##пособ ##ный под ##держать п ##ись ##мен ##ный ди ##алог пол ##ь ##зова ##тель вы ##бира ##ть ответ база да ##ть р ##е ##аг ##ировать неки ##й набор команда сегодня р ##ын ##ок основно ##е пред ##стави ##ть ч ##ат бо ##т се ##г ##мент к ##ли ##ент к ##ли ##ент это ин ##струмент об ##щение раз ##в ##ле ##чение об ##ы ##чный пол ##ь ##зова ##тель платформа ад ##ап ##ти ##ровать решение бизнес задача мал ##ень ##кий какой задача м ##о ##чь р ##еш ##ать ч ##ат бо ##т бизнес се ##г ##мент вы ##полнение р ##ути ##нный операция какой достаточно просто ##й одно ##об ##раз ##ный задача который хот ##еть ##ся т ##рати ##ть время сотрудник который вполне сила ч ##ат бо ##т ч ##ат бо ##т нужно за ##став ##лять пор ##аб ##ота ##ть у ##гов ##ари ##вать в ##зя ##ться с ##ку ##чный дело вы ##по ##лни ##ть в ##с быстро без ##ош ##иб ##очно нас ##колько по ##зв ##оли ##ть ал ##горитм по ##иск а ##гр ##ега ##ция да ##ть ч ##ат бо ##т использовать с ##бор материал после ##ду ##ющий ан ##али ##тика е ##сте ##ственно это дела ##ться об ##щение человек также ч ##ат бо ##т м ##о ##чь выступать св ##ое ##об [SEP]\n"
          ],
          "name": "stdout"
        },
        {
          "output_type": "stream",
          "text": [
            "INFO:tensorflow:tokens: [CLS] последний время ч ##ат бо ##т об ##рест ##и не ##шу ##то ##чный поп ##уля ##рность пре ##вра ##тить ##ся раз ##в ##ле ##чение ги ##к едва must ф ##ич все ##во ##зм ##о ##жный м ##есс ##енд ##жер со ##ц ##сет ##ь сайт при ##ч метр м ##ног ##ий случай ч ##ат бо ##т использовать ##ся раз ##в ##ле ##чение праз ##дный п ##уб ##лика решение совершенно се ##рь з ##ный бизнес задача просто дела ##ть это др ##у ##же ##лю ##бно до ##вер ##итель ##но совершенно е ##сте ##ственный человек форма ди ##алог форма ин ##ди ##вид ##уа ##льный пер ##еп ##иска сегодня е ##сте ##ственный э ##поха интернет м ##есс ##енд ##жер см ##арт ##фон каждый кар ##ман поэтому за ##дум ##аться ос ##нас ##тить наш обл ##ач ##ный се ##рви ##с бит ##рик ##с организация работа компания такой поле ##з ##ный во ##стр ##еб ##овать ин ##струмент месяц назад вы ##пус ##тить со ##б ##ственный платформа создание ч ##ат бо ##т ч ##ат бо ##т это приложение с ##пособ ##ный под ##держать п ##ись ##мен ##ный ди ##алог пол ##ь ##зова ##тель вы ##бира ##ть ответ база да ##ть р ##е ##аг ##ировать неки ##й набор команда сегодня р ##ын ##ок основно ##е пред ##стави ##ть ч ##ат бо ##т се ##г ##мент к ##ли ##ент к ##ли ##ент это ин ##струмент об ##щение раз ##в ##ле ##чение об ##ы ##чный пол ##ь ##зова ##тель платформа ад ##ап ##ти ##ровать решение бизнес задача мал ##ень ##кий какой задача м ##о ##чь р ##еш ##ать ч ##ат бо ##т бизнес се ##г ##мент вы ##полнение р ##ути ##нный операция какой достаточно просто ##й одно ##об ##раз ##ный задача который хот ##еть ##ся т ##рати ##ть время сотрудник который вполне сила ч ##ат бо ##т ч ##ат бо ##т нужно за ##став ##лять пор ##аб ##ота ##ть у ##гов ##ари ##вать в ##зя ##ться с ##ку ##чный дело вы ##по ##лни ##ть в ##с быстро без ##ош ##иб ##очно нас ##колько по ##зв ##оли ##ть ал ##горитм по ##иск а ##гр ##ега ##ция да ##ть ч ##ат бо ##т использовать с ##бор материал после ##ду ##ющий ан ##али ##тика е ##сте ##ственно это дела ##ться об ##щение человек также ч ##ат бо ##т м ##о ##чь выступать св ##ое ##об [SEP]\n"
          ],
          "name": "stderr"
        },
        {
          "output_type": "stream",
          "text": [
            "INFO:tensorflow:input_ids: 101 49783 11657 564 12378 18481 10351 13248 47274 10191 10375 27176 10752 25711 48138 85118 81497 38494 65259 53407 10625 17257 10541 11851 21137 15649 10510 77615 14982 561 18669 13686 15275 20306 10316 30239 553 110612 92154 73739 10956 12181 77870 10851 23285 10913 11746 25656 553 20684 11550 68242 564 12378 18481 10351 45683 10625 17257 10541 11851 21137 59784 71427 556 40124 51002 27319 86879 10277 28301 548 11092 69080 80281 31108 25195 11258 12999 16522 10227 15920 21190 40671 10344 32418 49280 10636 86879 546 31918 42877 13181 29300 48575 107457 29300 27796 12753 53156 37804 23323 61381 29749 54581 72166 546 31918 42877 570 96370 51754 553 110612 92154 73739 16541 46466 49808 48295 27196 14405 33910 10234 100749 55125 85854 74971 53407 79590 58742 47990 11092 10277 93162 10513 97367 33605 10513 41317 27566 30115 44106 24375 11571 11092 10439 52685 59373 55017 27796 88385 84657 37178 96195 101012 53407 10956 12528 42877 70603 56875 564 12378 18481 10351 564 12378 18481 10351 12999 62213 558 97205 11092 11429 107031 556 19935 14402 11092 48575 107457 23750 10851 78130 19212 96195 64815 11258 83415 50509 10405 11258 557 10205 51229 79187 94484 10384 108784 24052 72166 557 12119 11899 94261 10205 23807 96098 11258 564 12378 18481 10351 10277 10823 29286 551 10783 28252 551 10783 28252 12999 27796 88385 13248 26692 17257 10541 11851 21137 13248 10292 25711 23750 10851 78130 19212 70603 15622 36744 10960 34234 27319 69080 80281 50818 19557 17006 78351 80281 553 10316 40697 557 31751 18235 564 12378 18481 10351 69080 10277 10823 29286 96195 90135 557 54330 28501 68831 78351 45923 31108 10384 41543 33276 34556 11092 80281 12968 99064 43737 10625 559 44678 11258 11657 89356 12968 110530 39653 564 12378 18481 10351 564 12378 18481 10351 71004 10234 47151 32589 41436 50889 25211 11258 560 47204 30090 27013 543 81326 14133 558 11191 25711 29112 96195 53204 22523 11258 543 10513 48823 13012 43155 98446 48127 32001 101351 10297 105283 42634 11258 21720 104668 10297 59465 541 63596 48372 12942 10405 11258 564 12378 18481 10351 45683 558 20545 67409 11921 15986 20716 69864 15710 24612 546 31918 49199 12999 25195 14133 13248 26692 13181 11448 564 12378 18481 10351 553 10316 40697 103639 37629 17117 33276 102\n"
          ],
          "name": "stdout"
        },
        {
          "output_type": "stream",
          "text": [
            "INFO:tensorflow:input_ids: 101 49783 11657 564 12378 18481 10351 13248 47274 10191 10375 27176 10752 25711 48138 85118 81497 38494 65259 53407 10625 17257 10541 11851 21137 15649 10510 77615 14982 561 18669 13686 15275 20306 10316 30239 553 110612 92154 73739 10956 12181 77870 10851 23285 10913 11746 25656 553 20684 11550 68242 564 12378 18481 10351 45683 10625 17257 10541 11851 21137 59784 71427 556 40124 51002 27319 86879 10277 28301 548 11092 69080 80281 31108 25195 11258 12999 16522 10227 15920 21190 40671 10344 32418 49280 10636 86879 546 31918 42877 13181 29300 48575 107457 29300 27796 12753 53156 37804 23323 61381 29749 54581 72166 546 31918 42877 570 96370 51754 553 110612 92154 73739 16541 46466 49808 48295 27196 14405 33910 10234 100749 55125 85854 74971 53407 79590 58742 47990 11092 10277 93162 10513 97367 33605 10513 41317 27566 30115 44106 24375 11571 11092 10439 52685 59373 55017 27796 88385 84657 37178 96195 101012 53407 10956 12528 42877 70603 56875 564 12378 18481 10351 564 12378 18481 10351 12999 62213 558 97205 11092 11429 107031 556 19935 14402 11092 48575 107457 23750 10851 78130 19212 96195 64815 11258 83415 50509 10405 11258 557 10205 51229 79187 94484 10384 108784 24052 72166 557 12119 11899 94261 10205 23807 96098 11258 564 12378 18481 10351 10277 10823 29286 551 10783 28252 551 10783 28252 12999 27796 88385 13248 26692 17257 10541 11851 21137 13248 10292 25711 23750 10851 78130 19212 70603 15622 36744 10960 34234 27319 69080 80281 50818 19557 17006 78351 80281 553 10316 40697 557 31751 18235 564 12378 18481 10351 69080 10277 10823 29286 96195 90135 557 54330 28501 68831 78351 45923 31108 10384 41543 33276 34556 11092 80281 12968 99064 43737 10625 559 44678 11258 11657 89356 12968 110530 39653 564 12378 18481 10351 564 12378 18481 10351 71004 10234 47151 32589 41436 50889 25211 11258 560 47204 30090 27013 543 81326 14133 558 11191 25711 29112 96195 53204 22523 11258 543 10513 48823 13012 43155 98446 48127 32001 101351 10297 105283 42634 11258 21720 104668 10297 59465 541 63596 48372 12942 10405 11258 564 12378 18481 10351 45683 558 20545 67409 11921 15986 20716 69864 15710 24612 546 31918 49199 12999 25195 14133 13248 26692 13181 11448 564 12378 18481 10351 553 10316 40697 103639 37629 17117 33276 102\n"
          ],
          "name": "stderr"
        },
        {
          "output_type": "stream",
          "text": [
            "INFO:tensorflow:input_mask: 1 1 1 1 1 1 1 1 1 1 1 1 1 1 1 1 1 1 1 1 1 1 1 1 1 1 1 1 1 1 1 1 1 1 1 1 1 1 1 1 1 1 1 1 1 1 1 1 1 1 1 1 1 1 1 1 1 1 1 1 1 1 1 1 1 1 1 1 1 1 1 1 1 1 1 1 1 1 1 1 1 1 1 1 1 1 1 1 1 1 1 1 1 1 1 1 1 1 1 1 1 1 1 1 1 1 1 1 1 1 1 1 1 1 1 1 1 1 1 1 1 1 1 1 1 1 1 1 1 1 1 1 1 1 1 1 1 1 1 1 1 1 1 1 1 1 1 1 1 1 1 1 1 1 1 1 1 1 1 1 1 1 1 1 1 1 1 1 1 1 1 1 1 1 1 1 1 1 1 1 1 1 1 1 1 1 1 1 1 1 1 1 1 1 1 1 1 1 1 1 1 1 1 1 1 1 1 1 1 1 1 1 1 1 1 1 1 1 1 1 1 1 1 1 1 1 1 1 1 1 1 1 1 1 1 1 1 1 1 1 1 1 1 1 1 1 1 1 1 1 1 1 1 1 1 1 1 1 1 1 1 1 1 1 1 1 1 1 1 1 1 1 1 1 1 1 1 1 1 1 1 1 1 1 1 1 1 1 1 1 1 1 1 1 1 1 1 1 1 1 1 1 1 1 1 1 1 1 1 1 1 1 1 1 1 1 1 1 1 1 1 1 1 1 1 1 1 1 1 1 1 1 1 1 1 1 1 1 1 1 1 1 1 1 1 1 1 1 1 1 1 1 1 1 1 1 1 1 1 1 1 1 1 1 1 1 1 1 1 1 1 1 1 1 1 1 1 1 1 1 1 1 1 1\n"
          ],
          "name": "stdout"
        },
        {
          "output_type": "stream",
          "text": [
            "INFO:tensorflow:input_mask: 1 1 1 1 1 1 1 1 1 1 1 1 1 1 1 1 1 1 1 1 1 1 1 1 1 1 1 1 1 1 1 1 1 1 1 1 1 1 1 1 1 1 1 1 1 1 1 1 1 1 1 1 1 1 1 1 1 1 1 1 1 1 1 1 1 1 1 1 1 1 1 1 1 1 1 1 1 1 1 1 1 1 1 1 1 1 1 1 1 1 1 1 1 1 1 1 1 1 1 1 1 1 1 1 1 1 1 1 1 1 1 1 1 1 1 1 1 1 1 1 1 1 1 1 1 1 1 1 1 1 1 1 1 1 1 1 1 1 1 1 1 1 1 1 1 1 1 1 1 1 1 1 1 1 1 1 1 1 1 1 1 1 1 1 1 1 1 1 1 1 1 1 1 1 1 1 1 1 1 1 1 1 1 1 1 1 1 1 1 1 1 1 1 1 1 1 1 1 1 1 1 1 1 1 1 1 1 1 1 1 1 1 1 1 1 1 1 1 1 1 1 1 1 1 1 1 1 1 1 1 1 1 1 1 1 1 1 1 1 1 1 1 1 1 1 1 1 1 1 1 1 1 1 1 1 1 1 1 1 1 1 1 1 1 1 1 1 1 1 1 1 1 1 1 1 1 1 1 1 1 1 1 1 1 1 1 1 1 1 1 1 1 1 1 1 1 1 1 1 1 1 1 1 1 1 1 1 1 1 1 1 1 1 1 1 1 1 1 1 1 1 1 1 1 1 1 1 1 1 1 1 1 1 1 1 1 1 1 1 1 1 1 1 1 1 1 1 1 1 1 1 1 1 1 1 1 1 1 1 1 1 1 1 1 1 1 1 1 1 1 1 1 1 1 1 1 1 1 1 1 1 1 1 1\n"
          ],
          "name": "stderr"
        },
        {
          "output_type": "stream",
          "text": [
            "INFO:tensorflow:segment_ids: 0 0 0 0 0 0 0 0 0 0 0 0 0 0 0 0 0 0 0 0 0 0 0 0 0 0 0 0 0 0 0 0 0 0 0 0 0 0 0 0 0 0 0 0 0 0 0 0 0 0 0 0 0 0 0 0 0 0 0 0 0 0 0 0 0 0 0 0 0 0 0 0 0 0 0 0 0 0 0 0 0 0 0 0 0 0 0 0 0 0 0 0 0 0 0 0 0 0 0 0 0 0 0 0 0 0 0 0 0 0 0 0 0 0 0 0 0 0 0 0 0 0 0 0 0 0 0 0 0 0 0 0 0 0 0 0 0 0 0 0 0 0 0 0 0 0 0 0 0 0 0 0 0 0 0 0 0 0 0 0 0 0 0 0 0 0 0 0 0 0 0 0 0 0 0 0 0 0 0 0 0 0 0 0 0 0 0 0 0 0 0 0 0 0 0 0 0 0 0 0 0 0 0 0 0 0 0 0 0 0 0 0 0 0 0 0 0 0 0 0 0 0 0 0 0 0 0 0 0 0 0 0 0 0 0 0 0 0 0 0 0 0 0 0 0 0 0 0 0 0 0 0 0 0 0 0 0 0 0 0 0 0 0 0 0 0 0 0 0 0 0 0 0 0 0 0 0 0 0 0 0 0 0 0 0 0 0 0 0 0 0 0 0 0 0 0 0 0 0 0 0 0 0 0 0 0 0 0 0 0 0 0 0 0 0 0 0 0 0 0 0 0 0 0 0 0 0 0 0 0 0 0 0 0 0 0 0 0 0 0 0 0 0 0 0 0 0 0 0 0 0 0 0 0 0 0 0 0 0 0 0 0 0 0 0 0 0 0 0 0 0 0 0 0 0 0 0 0 0 0 0 0 0 0\n"
          ],
          "name": "stdout"
        },
        {
          "output_type": "stream",
          "text": [
            "INFO:tensorflow:segment_ids: 0 0 0 0 0 0 0 0 0 0 0 0 0 0 0 0 0 0 0 0 0 0 0 0 0 0 0 0 0 0 0 0 0 0 0 0 0 0 0 0 0 0 0 0 0 0 0 0 0 0 0 0 0 0 0 0 0 0 0 0 0 0 0 0 0 0 0 0 0 0 0 0 0 0 0 0 0 0 0 0 0 0 0 0 0 0 0 0 0 0 0 0 0 0 0 0 0 0 0 0 0 0 0 0 0 0 0 0 0 0 0 0 0 0 0 0 0 0 0 0 0 0 0 0 0 0 0 0 0 0 0 0 0 0 0 0 0 0 0 0 0 0 0 0 0 0 0 0 0 0 0 0 0 0 0 0 0 0 0 0 0 0 0 0 0 0 0 0 0 0 0 0 0 0 0 0 0 0 0 0 0 0 0 0 0 0 0 0 0 0 0 0 0 0 0 0 0 0 0 0 0 0 0 0 0 0 0 0 0 0 0 0 0 0 0 0 0 0 0 0 0 0 0 0 0 0 0 0 0 0 0 0 0 0 0 0 0 0 0 0 0 0 0 0 0 0 0 0 0 0 0 0 0 0 0 0 0 0 0 0 0 0 0 0 0 0 0 0 0 0 0 0 0 0 0 0 0 0 0 0 0 0 0 0 0 0 0 0 0 0 0 0 0 0 0 0 0 0 0 0 0 0 0 0 0 0 0 0 0 0 0 0 0 0 0 0 0 0 0 0 0 0 0 0 0 0 0 0 0 0 0 0 0 0 0 0 0 0 0 0 0 0 0 0 0 0 0 0 0 0 0 0 0 0 0 0 0 0 0 0 0 0 0 0 0 0 0 0 0 0 0 0 0 0 0 0 0 0 0 0 0 0 0 0\n"
          ],
          "name": "stderr"
        },
        {
          "output_type": "stream",
          "text": [
            "INFO:tensorflow:label: 3 (id = 3)\n"
          ],
          "name": "stdout"
        },
        {
          "output_type": "stream",
          "text": [
            "INFO:tensorflow:label: 3 (id = 3)\n"
          ],
          "name": "stderr"
        },
        {
          "output_type": "stream",
          "text": [
            "INFO:tensorflow:*** Example ***\n"
          ],
          "name": "stdout"
        },
        {
          "output_type": "stream",
          "text": [
            "INFO:tensorflow:*** Example ***\n"
          ],
          "name": "stderr"
        },
        {
          "output_type": "stream",
          "text": [
            "INFO:tensorflow:guid: None\n"
          ],
          "name": "stdout"
        },
        {
          "output_type": "stream",
          "text": [
            "INFO:tensorflow:guid: None\n"
          ],
          "name": "stderr"
        },
        {
          "output_type": "stream",
          "text": [
            "INFO:tensorflow:tokens: [CLS] до ##бр ##ый у ##тро да ##ма го ##с ##по ##дин в ##нима ##тельный чи ##тат ##ель за ##метить российский р ##ын ##ок вновь про ##кл ##ю ##нуть ##ся перевод ##ный книга тема комп ##ью ##тер ##ный з ##рение также м ##о ##чь за ##ин ##тер ##ес ##овать следующий книга поскольку тех ##нология комп ##ью ##тер ##ный з ##рение значи ##тельный степень за ##вя ##за ##ть p ##yth ##on c под ##об ##рат ##ь статья раз ##бор задача код оба язык кроме и ##ск ##рен ##не над ##ея ##ться дев ##ушка ка ##т по ##н ##рав ##иться статья р ##ассказ ##ать с ##ген ##ери ##ровать у ##с ##ред ##нить изображение лицо помощь библиотека open ##c ##v c p ##yth ##on р ##ис женщина из ##об ##раз ##ить р ##ис большинство чи ##тат ##ель пока ##за ##ться си ##м ##пат ##ич ##ный м ##о ##чь у ##га ##дать на ##цио ##нал ##ьность по ##чему такой р ##ов ##ный ко ##жа правил ##ьно женщина су ##щество ##вать с ##каз ##ать это полностью ви ##рту ##альный изображение это у ##с ##ред ##нить портрет со ##тр ##уд ##ница м ##ой компания sight commerce in ##c состояние примерно год на ##цио ##нал ##ьность сл ##о ##жно о ##пр ##еде ##лить работать дев ##ушка евро ##пе ##йский лат ##ино ##ам ##ери ##кан ##ский во ##сточно ##ази ##ат ##ский ин ##дий ##ский кор ##ень история у ##с ##ред ##нение лицо просто у ##в ##лек ##атель ##ный на ##чать ##ся исследование фр ##енс ##иса га ##ль ##тон к ##уз ##ен ч ##ар ##ль ##з дар ##вин который год из ##об ##рест ##и новый ф ##ото ##графический при ##ём на ##учи ##ться ко ##м ##бин ##ировать лицо состав ##лять один ф ##отор ##об ##от пола ##гать ко ##м ##бин ##ировать лицо пре ##ступ ##ник см ##оде ##ли ##ровать про ##тот ##ип ##ический лицо у ##гол ##овник впоследствии р ##ас ##по ##знав ##ать по ##тен ##циальный пре ##ступ ##ник че ##рта лицо ок ##аза ##ться этот ги ##по ##теза о ##ши ##бо ##чный р ##ас ##с ##мот ##реть че ##й либо ф ##ото ##графия не ##возможно о ##пр ##еде ##лить с ##кло ##нно ##сть пре ##ступление однако га ##ль ##тон за ##метить у ##с ##ред ##нить лицо вы ##гляд ##еть при ##в ##лек ##атель ##ный состав ##лять лицо один пор ##ази ##тельный [SEP]\n"
          ],
          "name": "stdout"
        },
        {
          "output_type": "stream",
          "text": [
            "INFO:tensorflow:tokens: [CLS] до ##бр ##ый у ##тро да ##ма го ##с ##по ##дин в ##нима ##тельный чи ##тат ##ель за ##метить российский р ##ын ##ок вновь про ##кл ##ю ##нуть ##ся перевод ##ный книга тема комп ##ью ##тер ##ный з ##рение также м ##о ##чь за ##ин ##тер ##ес ##овать следующий книга поскольку тех ##нология комп ##ью ##тер ##ный з ##рение значи ##тельный степень за ##вя ##за ##ть p ##yth ##on c под ##об ##рат ##ь статья раз ##бор задача код оба язык кроме и ##ск ##рен ##не над ##ея ##ться дев ##ушка ка ##т по ##н ##рав ##иться статья р ##ассказ ##ать с ##ген ##ери ##ровать у ##с ##ред ##нить изображение лицо помощь библиотека open ##c ##v c p ##yth ##on р ##ис женщина из ##об ##раз ##ить р ##ис большинство чи ##тат ##ель пока ##за ##ться си ##м ##пат ##ич ##ный м ##о ##чь у ##га ##дать на ##цио ##нал ##ьность по ##чему такой р ##ов ##ный ко ##жа правил ##ьно женщина су ##щество ##вать с ##каз ##ать это полностью ви ##рту ##альный изображение это у ##с ##ред ##нить портрет со ##тр ##уд ##ница м ##ой компания sight commerce in ##c состояние примерно год на ##цио ##нал ##ьность сл ##о ##жно о ##пр ##еде ##лить работать дев ##ушка евро ##пе ##йский лат ##ино ##ам ##ери ##кан ##ский во ##сточно ##ази ##ат ##ский ин ##дий ##ский кор ##ень история у ##с ##ред ##нение лицо просто у ##в ##лек ##атель ##ный на ##чать ##ся исследование фр ##енс ##иса га ##ль ##тон к ##уз ##ен ч ##ар ##ль ##з дар ##вин который год из ##об ##рест ##и новый ф ##ото ##графический при ##ём на ##учи ##ться ко ##м ##бин ##ировать лицо состав ##лять один ф ##отор ##об ##от пола ##гать ко ##м ##бин ##ировать лицо пре ##ступ ##ник см ##оде ##ли ##ровать про ##тот ##ип ##ический лицо у ##гол ##овник впоследствии р ##ас ##по ##знав ##ать по ##тен ##циальный пре ##ступ ##ник че ##рта лицо ок ##аза ##ться этот ги ##по ##теза о ##ши ##бо ##чный р ##ас ##с ##мот ##реть че ##й либо ф ##ото ##графия не ##возможно о ##пр ##еде ##лить с ##кло ##нно ##сть пре ##ступление однако га ##ль ##тон за ##метить у ##с ##ред ##нить лицо вы ##гляд ##еть при ##в ##лек ##атель ##ный состав ##лять лицо один пор ##ази ##тельный [SEP]\n"
          ],
          "name": "stderr"
        },
        {
          "output_type": "stream",
          "text": [
            "INFO:tensorflow:input_ids: 101 10344 85584 13865 560 62735 10405 10993 11495 10513 53204 21657 543 97582 34548 17891 61215 17371 10234 88794 35413 557 12119 11899 25698 12709 53869 10593 46769 10625 70659 11092 26587 65829 58210 27025 15469 11092 548 43402 11448 553 10316 40697 10234 12029 15469 17488 55017 55779 26587 35356 32323 80282 58210 27025 15469 11092 548 43402 59737 34548 55803 10234 84322 13594 11258 184 96362 10263 171 11429 33276 23444 10851 73089 17257 20545 80281 15296 53513 29757 37213 549 14958 27332 10695 12614 24377 14133 109910 58610 56280 10351 10297 10267 41410 56051 73089 557 95559 18235 558 14276 22656 34234 560 10513 32400 61540 90999 107643 53532 41147 14087 10350 10477 171 184 96362 10263 557 19120 83010 10387 33276 34556 15356 557 19120 47561 17891 61215 17371 45899 13594 14133 12662 10241 70588 18669 11092 553 10316 40697 560 11347 57548 10122 86228 25829 91989 10297 96506 44106 557 10433 11092 59781 17254 75529 24675 83010 10587 57820 27013 558 41710 18235 12999 29305 88504 60800 37677 90999 12999 560 10513 32400 61540 88772 10956 46672 23147 17355 553 11292 30115 78327 22636 10106 10350 76266 34973 11974 10122 86228 25829 91989 52399 10316 24751 555 35415 87097 106364 45680 109910 58610 84816 19820 31730 17542 31587 13157 22656 17343 11386 10439 99925 50298 12378 11386 27796 37066 11386 80062 19557 27361 560 10513 32400 36896 107643 31108 560 10541 30150 102600 11092 10122 37020 10625 106918 15350 92008 51116 16616 12118 24565 551 45803 10928 564 12766 12118 11571 11820 49048 12968 11974 10387 33276 47274 10191 30994 561 19517 79500 10913 23009 10122 83856 14133 59781 10241 80117 79187 107643 13701 32589 13713 561 95972 33276 11016 80299 78353 59781 10241 80117 79187 107643 38494 63649 11718 16541 82562 10783 34234 12709 56497 30637 27139 107643 560 85952 93023 34680 557 18291 53204 86996 18235 10297 25263 89828 38494 63649 11718 14816 26042 107643 40936 34402 14133 19558 15649 53204 110360 555 13523 29709 25711 557 18291 10513 104722 101312 14816 10384 23624 561 19517 31798 10375 110426 555 35415 87097 106364 558 67455 46625 12737 38494 77857 17435 16616 12118 24565 10234 88794 560 10513 32400 61540 107643 96195 41824 43737 10913 10541 30150 102600 11092 13701 32589 107643 13713 41436 50298 34548 102\n"
          ],
          "name": "stdout"
        },
        {
          "output_type": "stream",
          "text": [
            "INFO:tensorflow:input_ids: 101 10344 85584 13865 560 62735 10405 10993 11495 10513 53204 21657 543 97582 34548 17891 61215 17371 10234 88794 35413 557 12119 11899 25698 12709 53869 10593 46769 10625 70659 11092 26587 65829 58210 27025 15469 11092 548 43402 11448 553 10316 40697 10234 12029 15469 17488 55017 55779 26587 35356 32323 80282 58210 27025 15469 11092 548 43402 59737 34548 55803 10234 84322 13594 11258 184 96362 10263 171 11429 33276 23444 10851 73089 17257 20545 80281 15296 53513 29757 37213 549 14958 27332 10695 12614 24377 14133 109910 58610 56280 10351 10297 10267 41410 56051 73089 557 95559 18235 558 14276 22656 34234 560 10513 32400 61540 90999 107643 53532 41147 14087 10350 10477 171 184 96362 10263 557 19120 83010 10387 33276 34556 15356 557 19120 47561 17891 61215 17371 45899 13594 14133 12662 10241 70588 18669 11092 553 10316 40697 560 11347 57548 10122 86228 25829 91989 10297 96506 44106 557 10433 11092 59781 17254 75529 24675 83010 10587 57820 27013 558 41710 18235 12999 29305 88504 60800 37677 90999 12999 560 10513 32400 61540 88772 10956 46672 23147 17355 553 11292 30115 78327 22636 10106 10350 76266 34973 11974 10122 86228 25829 91989 52399 10316 24751 555 35415 87097 106364 45680 109910 58610 84816 19820 31730 17542 31587 13157 22656 17343 11386 10439 99925 50298 12378 11386 27796 37066 11386 80062 19557 27361 560 10513 32400 36896 107643 31108 560 10541 30150 102600 11092 10122 37020 10625 106918 15350 92008 51116 16616 12118 24565 551 45803 10928 564 12766 12118 11571 11820 49048 12968 11974 10387 33276 47274 10191 30994 561 19517 79500 10913 23009 10122 83856 14133 59781 10241 80117 79187 107643 13701 32589 13713 561 95972 33276 11016 80299 78353 59781 10241 80117 79187 107643 38494 63649 11718 16541 82562 10783 34234 12709 56497 30637 27139 107643 560 85952 93023 34680 557 18291 53204 86996 18235 10297 25263 89828 38494 63649 11718 14816 26042 107643 40936 34402 14133 19558 15649 53204 110360 555 13523 29709 25711 557 18291 10513 104722 101312 14816 10384 23624 561 19517 31798 10375 110426 555 35415 87097 106364 558 67455 46625 12737 38494 77857 17435 16616 12118 24565 10234 88794 560 10513 32400 61540 107643 96195 41824 43737 10913 10541 30150 102600 11092 13701 32589 107643 13713 41436 50298 34548 102\n"
          ],
          "name": "stderr"
        },
        {
          "output_type": "stream",
          "text": [
            "INFO:tensorflow:input_mask: 1 1 1 1 1 1 1 1 1 1 1 1 1 1 1 1 1 1 1 1 1 1 1 1 1 1 1 1 1 1 1 1 1 1 1 1 1 1 1 1 1 1 1 1 1 1 1 1 1 1 1 1 1 1 1 1 1 1 1 1 1 1 1 1 1 1 1 1 1 1 1 1 1 1 1 1 1 1 1 1 1 1 1 1 1 1 1 1 1 1 1 1 1 1 1 1 1 1 1 1 1 1 1 1 1 1 1 1 1 1 1 1 1 1 1 1 1 1 1 1 1 1 1 1 1 1 1 1 1 1 1 1 1 1 1 1 1 1 1 1 1 1 1 1 1 1 1 1 1 1 1 1 1 1 1 1 1 1 1 1 1 1 1 1 1 1 1 1 1 1 1 1 1 1 1 1 1 1 1 1 1 1 1 1 1 1 1 1 1 1 1 1 1 1 1 1 1 1 1 1 1 1 1 1 1 1 1 1 1 1 1 1 1 1 1 1 1 1 1 1 1 1 1 1 1 1 1 1 1 1 1 1 1 1 1 1 1 1 1 1 1 1 1 1 1 1 1 1 1 1 1 1 1 1 1 1 1 1 1 1 1 1 1 1 1 1 1 1 1 1 1 1 1 1 1 1 1 1 1 1 1 1 1 1 1 1 1 1 1 1 1 1 1 1 1 1 1 1 1 1 1 1 1 1 1 1 1 1 1 1 1 1 1 1 1 1 1 1 1 1 1 1 1 1 1 1 1 1 1 1 1 1 1 1 1 1 1 1 1 1 1 1 1 1 1 1 1 1 1 1 1 1 1 1 1 1 1 1 1 1 1 1 1 1 1 1 1 1 1 1 1 1 1 1 1 1 1 1 1 1 1 1 1 1\n"
          ],
          "name": "stdout"
        },
        {
          "output_type": "stream",
          "text": [
            "INFO:tensorflow:input_mask: 1 1 1 1 1 1 1 1 1 1 1 1 1 1 1 1 1 1 1 1 1 1 1 1 1 1 1 1 1 1 1 1 1 1 1 1 1 1 1 1 1 1 1 1 1 1 1 1 1 1 1 1 1 1 1 1 1 1 1 1 1 1 1 1 1 1 1 1 1 1 1 1 1 1 1 1 1 1 1 1 1 1 1 1 1 1 1 1 1 1 1 1 1 1 1 1 1 1 1 1 1 1 1 1 1 1 1 1 1 1 1 1 1 1 1 1 1 1 1 1 1 1 1 1 1 1 1 1 1 1 1 1 1 1 1 1 1 1 1 1 1 1 1 1 1 1 1 1 1 1 1 1 1 1 1 1 1 1 1 1 1 1 1 1 1 1 1 1 1 1 1 1 1 1 1 1 1 1 1 1 1 1 1 1 1 1 1 1 1 1 1 1 1 1 1 1 1 1 1 1 1 1 1 1 1 1 1 1 1 1 1 1 1 1 1 1 1 1 1 1 1 1 1 1 1 1 1 1 1 1 1 1 1 1 1 1 1 1 1 1 1 1 1 1 1 1 1 1 1 1 1 1 1 1 1 1 1 1 1 1 1 1 1 1 1 1 1 1 1 1 1 1 1 1 1 1 1 1 1 1 1 1 1 1 1 1 1 1 1 1 1 1 1 1 1 1 1 1 1 1 1 1 1 1 1 1 1 1 1 1 1 1 1 1 1 1 1 1 1 1 1 1 1 1 1 1 1 1 1 1 1 1 1 1 1 1 1 1 1 1 1 1 1 1 1 1 1 1 1 1 1 1 1 1 1 1 1 1 1 1 1 1 1 1 1 1 1 1 1 1 1 1 1 1 1 1 1 1 1 1 1 1 1 1\n"
          ],
          "name": "stderr"
        },
        {
          "output_type": "stream",
          "text": [
            "INFO:tensorflow:segment_ids: 0 0 0 0 0 0 0 0 0 0 0 0 0 0 0 0 0 0 0 0 0 0 0 0 0 0 0 0 0 0 0 0 0 0 0 0 0 0 0 0 0 0 0 0 0 0 0 0 0 0 0 0 0 0 0 0 0 0 0 0 0 0 0 0 0 0 0 0 0 0 0 0 0 0 0 0 0 0 0 0 0 0 0 0 0 0 0 0 0 0 0 0 0 0 0 0 0 0 0 0 0 0 0 0 0 0 0 0 0 0 0 0 0 0 0 0 0 0 0 0 0 0 0 0 0 0 0 0 0 0 0 0 0 0 0 0 0 0 0 0 0 0 0 0 0 0 0 0 0 0 0 0 0 0 0 0 0 0 0 0 0 0 0 0 0 0 0 0 0 0 0 0 0 0 0 0 0 0 0 0 0 0 0 0 0 0 0 0 0 0 0 0 0 0 0 0 0 0 0 0 0 0 0 0 0 0 0 0 0 0 0 0 0 0 0 0 0 0 0 0 0 0 0 0 0 0 0 0 0 0 0 0 0 0 0 0 0 0 0 0 0 0 0 0 0 0 0 0 0 0 0 0 0 0 0 0 0 0 0 0 0 0 0 0 0 0 0 0 0 0 0 0 0 0 0 0 0 0 0 0 0 0 0 0 0 0 0 0 0 0 0 0 0 0 0 0 0 0 0 0 0 0 0 0 0 0 0 0 0 0 0 0 0 0 0 0 0 0 0 0 0 0 0 0 0 0 0 0 0 0 0 0 0 0 0 0 0 0 0 0 0 0 0 0 0 0 0 0 0 0 0 0 0 0 0 0 0 0 0 0 0 0 0 0 0 0 0 0 0 0 0 0 0 0 0 0 0 0 0 0 0 0 0 0\n"
          ],
          "name": "stdout"
        },
        {
          "output_type": "stream",
          "text": [
            "INFO:tensorflow:segment_ids: 0 0 0 0 0 0 0 0 0 0 0 0 0 0 0 0 0 0 0 0 0 0 0 0 0 0 0 0 0 0 0 0 0 0 0 0 0 0 0 0 0 0 0 0 0 0 0 0 0 0 0 0 0 0 0 0 0 0 0 0 0 0 0 0 0 0 0 0 0 0 0 0 0 0 0 0 0 0 0 0 0 0 0 0 0 0 0 0 0 0 0 0 0 0 0 0 0 0 0 0 0 0 0 0 0 0 0 0 0 0 0 0 0 0 0 0 0 0 0 0 0 0 0 0 0 0 0 0 0 0 0 0 0 0 0 0 0 0 0 0 0 0 0 0 0 0 0 0 0 0 0 0 0 0 0 0 0 0 0 0 0 0 0 0 0 0 0 0 0 0 0 0 0 0 0 0 0 0 0 0 0 0 0 0 0 0 0 0 0 0 0 0 0 0 0 0 0 0 0 0 0 0 0 0 0 0 0 0 0 0 0 0 0 0 0 0 0 0 0 0 0 0 0 0 0 0 0 0 0 0 0 0 0 0 0 0 0 0 0 0 0 0 0 0 0 0 0 0 0 0 0 0 0 0 0 0 0 0 0 0 0 0 0 0 0 0 0 0 0 0 0 0 0 0 0 0 0 0 0 0 0 0 0 0 0 0 0 0 0 0 0 0 0 0 0 0 0 0 0 0 0 0 0 0 0 0 0 0 0 0 0 0 0 0 0 0 0 0 0 0 0 0 0 0 0 0 0 0 0 0 0 0 0 0 0 0 0 0 0 0 0 0 0 0 0 0 0 0 0 0 0 0 0 0 0 0 0 0 0 0 0 0 0 0 0 0 0 0 0 0 0 0 0 0 0 0 0 0 0 0 0 0 0 0\n"
          ],
          "name": "stderr"
        },
        {
          "output_type": "stream",
          "text": [
            "INFO:tensorflow:label: 4 (id = 4)\n"
          ],
          "name": "stdout"
        },
        {
          "output_type": "stream",
          "text": [
            "INFO:tensorflow:label: 4 (id = 4)\n"
          ],
          "name": "stderr"
        }
      ]
    },
    {
      "cell_type": "markdown",
      "metadata": {
        "id": "Zb_Ffv1q_k7P",
        "colab_type": "text"
      },
      "source": [
        "Описание модели"
      ]
    },
    {
      "cell_type": "code",
      "metadata": {
        "id": "3lkec6Nj8zKY",
        "colab_type": "code",
        "colab": {}
      },
      "source": [
        "def create_model(is_predicting, input_ids, input_mask, segment_ids, labels, num_labels):\n",
        "  bert_module = hub.Module(BERT_MODEL_HUB, trainable=True)\n",
        "  bert_inputs = dict(input_ids=input_ids, input_mask=input_mask, segment_ids=segment_ids)\n",
        "  bert_outputs = bert_module(inputs=bert_inputs, signature=\"tokens\", as_dict=True)\n",
        "  output_layer = bert_outputs[\"pooled_output\"]\n",
        "  hidden_size = output_layer.shape[-1]\n",
        "\n",
        "  output_weights = tf.get_variable(\"output_weights\", [num_labels, hidden_size], initializer=tf.truncated_normal_initializer(stddev=0.02))\n",
        "  output_bias = tf.get_variable(\"output_bias\", [num_labels], initializer=tf.zeros_initializer())\n",
        "\n",
        "  with tf.variable_scope(\"loss\"):\n",
        "    output_layer = tf.nn.dropout(output_layer, rate=0.1)\n",
        "    logits = tf.nn.bias_add(tf.matmul(output_layer, output_weights, transpose_b=True), output_bias)\n",
        "    log_probs = tf.nn.log_softmax(logits, axis=-1)\n",
        "    predicted_labels = tf.squeeze(tf.argmax(log_probs, axis=-1, output_type=tf.int32)) \n",
        "    if is_predicting:\n",
        "      return (predicted_labels, log_probs) \n",
        "    one_hot_labels = tf.one_hot(labels, depth=num_labels, dtype=tf.float32) \n",
        "    loss = tf.reduce_mean(tf.nn.softmax_cross_entropy_with_logits_v2(logits=logits, labels=one_hot_labels)) \n",
        "    return (loss, predicted_labels, log_probs) \n",
        "\n",
        "def model_fn_builder(num_labels, learning_rate, num_train_steps, num_warmup_steps):\n",
        "  def model_fn(features, labels, mode, params):\n",
        "    input_ids = features[\"input_ids\"]\n",
        "    input_mask = features[\"input_mask\"]\n",
        "    segment_ids = features[\"segment_ids\"]\n",
        "    label_ids = features[\"label_ids\"]\n",
        "    is_predicting = (mode == tf.estimator.ModeKeys.PREDICT)\n",
        "    if not is_predicting:\n",
        "      (loss, predicted_labels, log_probs) = create_model(is_predicting, input_ids, input_mask, segment_ids, label_ids, num_labels) \n",
        "      train_op = optimization.create_optimizer(loss, learning_rate, num_train_steps, num_warmup_steps, use_tpu=False)\n",
        "      if mode == tf.estimator.ModeKeys.TRAIN:\n",
        "        return tf.estimator.EstimatorSpec(mode=mode, loss=loss, train_op=train_op)\n",
        "      else:\n",
        "          return tf.estimator.EstimatorSpec(mode=mode, loss=loss) \n",
        "    else:\n",
        "      (predicted_labels, log_probs) = create_model(is_predicting, input_ids, input_mask, segment_ids, label_ids, num_labels) \n",
        "      predictions = {'probabilities': log_probs, 'labels': predicted_labels} \n",
        "      return tf.estimator.EstimatorSpec(mode, predictions=predictions)\n",
        "  return model_fn"
      ],
      "execution_count": 7,
      "outputs": []
    },
    {
      "cell_type": "markdown",
      "metadata": {
        "id": "ScsteMtW_P14",
        "colab_type": "text"
      },
      "source": [
        "Параметры обучения заданы исходя из рекомендаций авторов BERTa"
      ]
    },
    {
      "cell_type": "code",
      "metadata": {
        "id": "5Z7TER9q-Bnc",
        "colab_type": "code",
        "colab": {}
      },
      "source": [
        "BATCH_SIZE = 4\n",
        "LEARNING_RATE = 2e-5\n",
        "NUM_TRAIN_EPOCHS = 4.0\n",
        "WARMUP_PROPORTION = 0.1\n",
        "SAVE_CHECKPOINTS_STEPS = 500\n",
        "SAVE_SUMMARY_STEPS = 100\n",
        "num_train_steps = int(len(train_features) / BATCH_SIZE * NUM_TRAIN_EPOCHS)\n",
        "num_warmup_steps = int(num_train_steps * WARMUP_PROPORTION)"
      ],
      "execution_count": 8,
      "outputs": []
    },
    {
      "cell_type": "code",
      "metadata": {
        "id": "3g21xQWJ-Ohg",
        "colab_type": "code",
        "colab": {
          "base_uri": "https://localhost:8080/",
          "height": 275
        },
        "outputId": "8590bd2a-1404-47f4-9d1d-fd49e9140df2"
      },
      "source": [
        "output_path = os.getcwd() + '/bert_output'\n",
        "run_config = tf.estimator.RunConfig(model_dir=output_path, save_summary_steps=SAVE_SUMMARY_STEPS, save_checkpoints_steps=SAVE_CHECKPOINTS_STEPS)\n",
        "model_fn = model_fn_builder(num_labels=len(label_list), learning_rate=LEARNING_RATE, num_train_steps=num_train_steps, num_warmup_steps=num_warmup_steps)\n",
        "estimator = tf.estimator.Estimator(model_fn=model_fn, config=run_config, params={\"batch_size\": BATCH_SIZE})\n",
        "train_input_fn = run_classifier.input_fn_builder(features=train_features, seq_length=MAX_SEQ_LENGTH, is_training=True, drop_remainder=False)"
      ],
      "execution_count": 11,
      "outputs": [
        {
          "output_type": "stream",
          "text": [
            "INFO:tensorflow:Using config: {'_model_dir': '/gdrive/My Drive/nlp/bert_output', '_tf_random_seed': None, '_save_summary_steps': 100, '_save_checkpoints_steps': 500, '_save_checkpoints_secs': None, '_session_config': allow_soft_placement: true\n",
            "graph_options {\n",
            "  rewrite_options {\n",
            "    meta_optimizer_iterations: ONE\n",
            "  }\n",
            "}\n",
            ", '_keep_checkpoint_max': 5, '_keep_checkpoint_every_n_hours': 10000, '_log_step_count_steps': 100, '_train_distribute': None, '_device_fn': None, '_protocol': None, '_eval_distribute': None, '_experimental_distribute': None, '_experimental_max_worker_delay_secs': None, '_session_creation_timeout_secs': 7200, '_service': None, '_cluster_spec': ClusterSpec({}), '_task_type': 'worker', '_task_id': 0, '_global_id_in_cluster': 0, '_master': '', '_evaluation_master': '', '_is_chief': True, '_num_ps_replicas': 0, '_num_worker_replicas': 1}\n"
          ],
          "name": "stdout"
        },
        {
          "output_type": "stream",
          "text": [
            "INFO:tensorflow:Using config: {'_model_dir': '/gdrive/My Drive/nlp/bert_output', '_tf_random_seed': None, '_save_summary_steps': 100, '_save_checkpoints_steps': 500, '_save_checkpoints_secs': None, '_session_config': allow_soft_placement: true\n",
            "graph_options {\n",
            "  rewrite_options {\n",
            "    meta_optimizer_iterations: ONE\n",
            "  }\n",
            "}\n",
            ", '_keep_checkpoint_max': 5, '_keep_checkpoint_every_n_hours': 10000, '_log_step_count_steps': 100, '_train_distribute': None, '_device_fn': None, '_protocol': None, '_eval_distribute': None, '_experimental_distribute': None, '_experimental_max_worker_delay_secs': None, '_session_creation_timeout_secs': 7200, '_service': None, '_cluster_spec': ClusterSpec({}), '_task_type': 'worker', '_task_id': 0, '_global_id_in_cluster': 0, '_master': '', '_evaluation_master': '', '_is_chief': True, '_num_ps_replicas': 0, '_num_worker_replicas': 1}\n"
          ],
          "name": "stderr"
        }
      ]
    },
    {
      "cell_type": "code",
      "metadata": {
        "id": "eUcWMkNN-QBp",
        "colab_type": "code",
        "colab": {
          "base_uri": "https://localhost:8080/",
          "height": 1000
        },
        "outputId": "ac3ace4d-c3d3-4c11-b12a-c2748de59110"
      },
      "source": [
        "estimator.train(input_fn=train_input_fn, max_steps=num_train_steps)"
      ],
      "execution_count": 12,
      "outputs": [
        {
          "output_type": "stream",
          "text": [
            "INFO:tensorflow:Calling model_fn.\n"
          ],
          "name": "stdout"
        },
        {
          "output_type": "stream",
          "text": [
            "INFO:tensorflow:Calling model_fn.\n"
          ],
          "name": "stderr"
        },
        {
          "output_type": "stream",
          "text": [
            "INFO:tensorflow:Saver not created because there are no variables in the graph to restore\n"
          ],
          "name": "stdout"
        },
        {
          "output_type": "stream",
          "text": [
            "INFO:tensorflow:Saver not created because there are no variables in the graph to restore\n",
            "/usr/local/lib/python3.6/dist-packages/tensorflow/python/framework/indexed_slices.py:434: UserWarning: Converting sparse IndexedSlices to a dense Tensor of unknown shape. This may consume a large amount of memory.\n",
            "  \"Converting sparse IndexedSlices to a dense Tensor of unknown shape. \"\n"
          ],
          "name": "stderr"
        },
        {
          "output_type": "stream",
          "text": [
            "INFO:tensorflow:Done calling model_fn.\n"
          ],
          "name": "stdout"
        },
        {
          "output_type": "stream",
          "text": [
            "INFO:tensorflow:Done calling model_fn.\n"
          ],
          "name": "stderr"
        },
        {
          "output_type": "stream",
          "text": [
            "INFO:tensorflow:Create CheckpointSaverHook.\n"
          ],
          "name": "stdout"
        },
        {
          "output_type": "stream",
          "text": [
            "INFO:tensorflow:Create CheckpointSaverHook.\n"
          ],
          "name": "stderr"
        },
        {
          "output_type": "stream",
          "text": [
            "INFO:tensorflow:Graph was finalized.\n"
          ],
          "name": "stdout"
        },
        {
          "output_type": "stream",
          "text": [
            "INFO:tensorflow:Graph was finalized.\n"
          ],
          "name": "stderr"
        },
        {
          "output_type": "stream",
          "text": [
            "INFO:tensorflow:Running local_init_op.\n"
          ],
          "name": "stdout"
        },
        {
          "output_type": "stream",
          "text": [
            "INFO:tensorflow:Running local_init_op.\n"
          ],
          "name": "stderr"
        },
        {
          "output_type": "stream",
          "text": [
            "INFO:tensorflow:Done running local_init_op.\n"
          ],
          "name": "stdout"
        },
        {
          "output_type": "stream",
          "text": [
            "INFO:tensorflow:Done running local_init_op.\n"
          ],
          "name": "stderr"
        },
        {
          "output_type": "stream",
          "text": [
            "INFO:tensorflow:Calling checkpoint listeners before saving checkpoint 0...\n"
          ],
          "name": "stdout"
        },
        {
          "output_type": "stream",
          "text": [
            "INFO:tensorflow:Calling checkpoint listeners before saving checkpoint 0...\n"
          ],
          "name": "stderr"
        },
        {
          "output_type": "stream",
          "text": [
            "INFO:tensorflow:Saving checkpoints for 0 into /gdrive/My Drive/nlp/bert_output/model.ckpt.\n"
          ],
          "name": "stdout"
        },
        {
          "output_type": "stream",
          "text": [
            "INFO:tensorflow:Saving checkpoints for 0 into /gdrive/My Drive/nlp/bert_output/model.ckpt.\n"
          ],
          "name": "stderr"
        },
        {
          "output_type": "stream",
          "text": [
            "INFO:tensorflow:Calling checkpoint listeners after saving checkpoint 0...\n"
          ],
          "name": "stdout"
        },
        {
          "output_type": "stream",
          "text": [
            "INFO:tensorflow:Calling checkpoint listeners after saving checkpoint 0...\n"
          ],
          "name": "stderr"
        },
        {
          "output_type": "stream",
          "text": [
            "INFO:tensorflow:loss = 1.6159848, step = 0\n"
          ],
          "name": "stdout"
        },
        {
          "output_type": "stream",
          "text": [
            "INFO:tensorflow:loss = 1.6159848, step = 0\n"
          ],
          "name": "stderr"
        },
        {
          "output_type": "stream",
          "text": [
            "INFO:tensorflow:global_step/sec: 2.55516\n"
          ],
          "name": "stdout"
        },
        {
          "output_type": "stream",
          "text": [
            "INFO:tensorflow:global_step/sec: 2.55516\n"
          ],
          "name": "stderr"
        },
        {
          "output_type": "stream",
          "text": [
            "INFO:tensorflow:loss = 1.6453881, step = 100 (39.137 sec)\n"
          ],
          "name": "stdout"
        },
        {
          "output_type": "stream",
          "text": [
            "INFO:tensorflow:loss = 1.6453881, step = 100 (39.137 sec)\n"
          ],
          "name": "stderr"
        },
        {
          "output_type": "stream",
          "text": [
            "INFO:tensorflow:global_step/sec: 3.96285\n"
          ],
          "name": "stdout"
        },
        {
          "output_type": "stream",
          "text": [
            "INFO:tensorflow:global_step/sec: 3.96285\n"
          ],
          "name": "stderr"
        },
        {
          "output_type": "stream",
          "text": [
            "INFO:tensorflow:loss = 1.5492545, step = 200 (25.235 sec)\n"
          ],
          "name": "stdout"
        },
        {
          "output_type": "stream",
          "text": [
            "INFO:tensorflow:loss = 1.5492545, step = 200 (25.235 sec)\n"
          ],
          "name": "stderr"
        },
        {
          "output_type": "stream",
          "text": [
            "INFO:tensorflow:global_step/sec: 3.98873\n"
          ],
          "name": "stdout"
        },
        {
          "output_type": "stream",
          "text": [
            "INFO:tensorflow:global_step/sec: 3.98873\n"
          ],
          "name": "stderr"
        },
        {
          "output_type": "stream",
          "text": [
            "INFO:tensorflow:loss = 1.5408924, step = 300 (25.073 sec)\n"
          ],
          "name": "stdout"
        },
        {
          "output_type": "stream",
          "text": [
            "INFO:tensorflow:loss = 1.5408924, step = 300 (25.073 sec)\n"
          ],
          "name": "stderr"
        },
        {
          "output_type": "stream",
          "text": [
            "INFO:tensorflow:global_step/sec: 3.99031\n"
          ],
          "name": "stdout"
        },
        {
          "output_type": "stream",
          "text": [
            "INFO:tensorflow:global_step/sec: 3.99031\n"
          ],
          "name": "stderr"
        },
        {
          "output_type": "stream",
          "text": [
            "INFO:tensorflow:loss = 1.5453387, step = 400 (25.059 sec)\n"
          ],
          "name": "stdout"
        },
        {
          "output_type": "stream",
          "text": [
            "INFO:tensorflow:loss = 1.5453387, step = 400 (25.059 sec)\n"
          ],
          "name": "stderr"
        },
        {
          "output_type": "stream",
          "text": [
            "INFO:tensorflow:Calling checkpoint listeners before saving checkpoint 500...\n"
          ],
          "name": "stdout"
        },
        {
          "output_type": "stream",
          "text": [
            "INFO:tensorflow:Calling checkpoint listeners before saving checkpoint 500...\n"
          ],
          "name": "stderr"
        },
        {
          "output_type": "stream",
          "text": [
            "INFO:tensorflow:Saving checkpoints for 500 into /gdrive/My Drive/nlp/bert_output/model.ckpt.\n"
          ],
          "name": "stdout"
        },
        {
          "output_type": "stream",
          "text": [
            "INFO:tensorflow:Saving checkpoints for 500 into /gdrive/My Drive/nlp/bert_output/model.ckpt.\n"
          ],
          "name": "stderr"
        },
        {
          "output_type": "stream",
          "text": [
            "INFO:tensorflow:Calling checkpoint listeners after saving checkpoint 500...\n"
          ],
          "name": "stdout"
        },
        {
          "output_type": "stream",
          "text": [
            "INFO:tensorflow:Calling checkpoint listeners after saving checkpoint 500...\n"
          ],
          "name": "stderr"
        },
        {
          "output_type": "stream",
          "text": [
            "INFO:tensorflow:global_step/sec: 1.89034\n"
          ],
          "name": "stdout"
        },
        {
          "output_type": "stream",
          "text": [
            "INFO:tensorflow:global_step/sec: 1.89034\n"
          ],
          "name": "stderr"
        },
        {
          "output_type": "stream",
          "text": [
            "INFO:tensorflow:loss = 1.3612717, step = 500 (52.901 sec)\n"
          ],
          "name": "stdout"
        },
        {
          "output_type": "stream",
          "text": [
            "INFO:tensorflow:loss = 1.3612717, step = 500 (52.901 sec)\n"
          ],
          "name": "stderr"
        },
        {
          "output_type": "stream",
          "text": [
            "INFO:tensorflow:global_step/sec: 3.98891\n"
          ],
          "name": "stdout"
        },
        {
          "output_type": "stream",
          "text": [
            "INFO:tensorflow:global_step/sec: 3.98891\n"
          ],
          "name": "stderr"
        },
        {
          "output_type": "stream",
          "text": [
            "INFO:tensorflow:loss = 1.206842, step = 600 (25.069 sec)\n"
          ],
          "name": "stdout"
        },
        {
          "output_type": "stream",
          "text": [
            "INFO:tensorflow:loss = 1.206842, step = 600 (25.069 sec)\n"
          ],
          "name": "stderr"
        },
        {
          "output_type": "stream",
          "text": [
            "INFO:tensorflow:global_step/sec: 3.99039\n"
          ],
          "name": "stdout"
        },
        {
          "output_type": "stream",
          "text": [
            "INFO:tensorflow:global_step/sec: 3.99039\n"
          ],
          "name": "stderr"
        },
        {
          "output_type": "stream",
          "text": [
            "INFO:tensorflow:loss = 1.5995555, step = 700 (25.060 sec)\n"
          ],
          "name": "stdout"
        },
        {
          "output_type": "stream",
          "text": [
            "INFO:tensorflow:loss = 1.5995555, step = 700 (25.060 sec)\n"
          ],
          "name": "stderr"
        },
        {
          "output_type": "stream",
          "text": [
            "INFO:tensorflow:global_step/sec: 3.99119\n"
          ],
          "name": "stdout"
        },
        {
          "output_type": "stream",
          "text": [
            "INFO:tensorflow:global_step/sec: 3.99119\n"
          ],
          "name": "stderr"
        },
        {
          "output_type": "stream",
          "text": [
            "INFO:tensorflow:loss = 1.5579041, step = 800 (25.056 sec)\n"
          ],
          "name": "stdout"
        },
        {
          "output_type": "stream",
          "text": [
            "INFO:tensorflow:loss = 1.5579041, step = 800 (25.056 sec)\n"
          ],
          "name": "stderr"
        },
        {
          "output_type": "stream",
          "text": [
            "INFO:tensorflow:global_step/sec: 3.98669\n"
          ],
          "name": "stdout"
        },
        {
          "output_type": "stream",
          "text": [
            "INFO:tensorflow:global_step/sec: 3.98669\n"
          ],
          "name": "stderr"
        },
        {
          "output_type": "stream",
          "text": [
            "INFO:tensorflow:loss = 1.0526524, step = 900 (25.083 sec)\n"
          ],
          "name": "stdout"
        },
        {
          "output_type": "stream",
          "text": [
            "INFO:tensorflow:loss = 1.0526524, step = 900 (25.083 sec)\n"
          ],
          "name": "stderr"
        },
        {
          "output_type": "stream",
          "text": [
            "INFO:tensorflow:Calling checkpoint listeners before saving checkpoint 1000...\n"
          ],
          "name": "stdout"
        },
        {
          "output_type": "stream",
          "text": [
            "INFO:tensorflow:Calling checkpoint listeners before saving checkpoint 1000...\n"
          ],
          "name": "stderr"
        },
        {
          "output_type": "stream",
          "text": [
            "INFO:tensorflow:Saving checkpoints for 1000 into /gdrive/My Drive/nlp/bert_output/model.ckpt.\n"
          ],
          "name": "stdout"
        },
        {
          "output_type": "stream",
          "text": [
            "INFO:tensorflow:Saving checkpoints for 1000 into /gdrive/My Drive/nlp/bert_output/model.ckpt.\n"
          ],
          "name": "stderr"
        },
        {
          "output_type": "stream",
          "text": [
            "INFO:tensorflow:Calling checkpoint listeners after saving checkpoint 1000...\n"
          ],
          "name": "stdout"
        },
        {
          "output_type": "stream",
          "text": [
            "INFO:tensorflow:Calling checkpoint listeners after saving checkpoint 1000...\n"
          ],
          "name": "stderr"
        },
        {
          "output_type": "stream",
          "text": [
            "INFO:tensorflow:global_step/sec: 1.89675\n"
          ],
          "name": "stdout"
        },
        {
          "output_type": "stream",
          "text": [
            "INFO:tensorflow:global_step/sec: 1.89675\n"
          ],
          "name": "stderr"
        },
        {
          "output_type": "stream",
          "text": [
            "INFO:tensorflow:loss = 0.7016697, step = 1000 (52.728 sec)\n"
          ],
          "name": "stdout"
        },
        {
          "output_type": "stream",
          "text": [
            "INFO:tensorflow:loss = 0.7016697, step = 1000 (52.728 sec)\n"
          ],
          "name": "stderr"
        },
        {
          "output_type": "stream",
          "text": [
            "INFO:tensorflow:global_step/sec: 3.98779\n"
          ],
          "name": "stdout"
        },
        {
          "output_type": "stream",
          "text": [
            "INFO:tensorflow:global_step/sec: 3.98779\n"
          ],
          "name": "stderr"
        },
        {
          "output_type": "stream",
          "text": [
            "INFO:tensorflow:loss = 1.2501563, step = 1100 (25.071 sec)\n"
          ],
          "name": "stdout"
        },
        {
          "output_type": "stream",
          "text": [
            "INFO:tensorflow:loss = 1.2501563, step = 1100 (25.071 sec)\n"
          ],
          "name": "stderr"
        },
        {
          "output_type": "stream",
          "text": [
            "INFO:tensorflow:global_step/sec: 3.98869\n"
          ],
          "name": "stdout"
        },
        {
          "output_type": "stream",
          "text": [
            "INFO:tensorflow:global_step/sec: 3.98869\n"
          ],
          "name": "stderr"
        },
        {
          "output_type": "stream",
          "text": [
            "INFO:tensorflow:loss = 1.1048623, step = 1200 (25.072 sec)\n"
          ],
          "name": "stdout"
        },
        {
          "output_type": "stream",
          "text": [
            "INFO:tensorflow:loss = 1.1048623, step = 1200 (25.072 sec)\n"
          ],
          "name": "stderr"
        },
        {
          "output_type": "stream",
          "text": [
            "INFO:tensorflow:global_step/sec: 3.99128\n"
          ],
          "name": "stdout"
        },
        {
          "output_type": "stream",
          "text": [
            "INFO:tensorflow:global_step/sec: 3.99128\n"
          ],
          "name": "stderr"
        },
        {
          "output_type": "stream",
          "text": [
            "INFO:tensorflow:loss = 1.2850266, step = 1300 (25.055 sec)\n"
          ],
          "name": "stdout"
        },
        {
          "output_type": "stream",
          "text": [
            "INFO:tensorflow:loss = 1.2850266, step = 1300 (25.055 sec)\n"
          ],
          "name": "stderr"
        },
        {
          "output_type": "stream",
          "text": [
            "INFO:tensorflow:global_step/sec: 3.98906\n"
          ],
          "name": "stdout"
        },
        {
          "output_type": "stream",
          "text": [
            "INFO:tensorflow:global_step/sec: 3.98906\n"
          ],
          "name": "stderr"
        },
        {
          "output_type": "stream",
          "text": [
            "INFO:tensorflow:loss = 1.4834605, step = 1400 (25.068 sec)\n"
          ],
          "name": "stdout"
        },
        {
          "output_type": "stream",
          "text": [
            "INFO:tensorflow:loss = 1.4834605, step = 1400 (25.068 sec)\n"
          ],
          "name": "stderr"
        },
        {
          "output_type": "stream",
          "text": [
            "INFO:tensorflow:Calling checkpoint listeners before saving checkpoint 1500...\n"
          ],
          "name": "stdout"
        },
        {
          "output_type": "stream",
          "text": [
            "INFO:tensorflow:Calling checkpoint listeners before saving checkpoint 1500...\n"
          ],
          "name": "stderr"
        },
        {
          "output_type": "stream",
          "text": [
            "INFO:tensorflow:Saving checkpoints for 1500 into /gdrive/My Drive/nlp/bert_output/model.ckpt.\n"
          ],
          "name": "stdout"
        },
        {
          "output_type": "stream",
          "text": [
            "INFO:tensorflow:Saving checkpoints for 1500 into /gdrive/My Drive/nlp/bert_output/model.ckpt.\n"
          ],
          "name": "stderr"
        },
        {
          "output_type": "stream",
          "text": [
            "INFO:tensorflow:Calling checkpoint listeners after saving checkpoint 1500...\n"
          ],
          "name": "stdout"
        },
        {
          "output_type": "stream",
          "text": [
            "INFO:tensorflow:Calling checkpoint listeners after saving checkpoint 1500...\n"
          ],
          "name": "stderr"
        },
        {
          "output_type": "stream",
          "text": [
            "INFO:tensorflow:global_step/sec: 1.88055\n"
          ],
          "name": "stdout"
        },
        {
          "output_type": "stream",
          "text": [
            "INFO:tensorflow:global_step/sec: 1.88055\n"
          ],
          "name": "stderr"
        },
        {
          "output_type": "stream",
          "text": [
            "INFO:tensorflow:loss = 2.2436457, step = 1500 (53.177 sec)\n"
          ],
          "name": "stdout"
        },
        {
          "output_type": "stream",
          "text": [
            "INFO:tensorflow:loss = 2.2436457, step = 1500 (53.177 sec)\n"
          ],
          "name": "stderr"
        },
        {
          "output_type": "stream",
          "text": [
            "INFO:tensorflow:global_step/sec: 3.99112\n"
          ],
          "name": "stdout"
        },
        {
          "output_type": "stream",
          "text": [
            "INFO:tensorflow:global_step/sec: 3.99112\n"
          ],
          "name": "stderr"
        },
        {
          "output_type": "stream",
          "text": [
            "INFO:tensorflow:loss = 1.2368033, step = 1600 (25.054 sec)\n"
          ],
          "name": "stdout"
        },
        {
          "output_type": "stream",
          "text": [
            "INFO:tensorflow:loss = 1.2368033, step = 1600 (25.054 sec)\n"
          ],
          "name": "stderr"
        },
        {
          "output_type": "stream",
          "text": [
            "INFO:tensorflow:global_step/sec: 3.99252\n"
          ],
          "name": "stdout"
        },
        {
          "output_type": "stream",
          "text": [
            "INFO:tensorflow:global_step/sec: 3.99252\n"
          ],
          "name": "stderr"
        },
        {
          "output_type": "stream",
          "text": [
            "INFO:tensorflow:loss = 1.2597568, step = 1700 (25.048 sec)\n"
          ],
          "name": "stdout"
        },
        {
          "output_type": "stream",
          "text": [
            "INFO:tensorflow:loss = 1.2597568, step = 1700 (25.048 sec)\n"
          ],
          "name": "stderr"
        },
        {
          "output_type": "stream",
          "text": [
            "INFO:tensorflow:global_step/sec: 3.9906\n"
          ],
          "name": "stdout"
        },
        {
          "output_type": "stream",
          "text": [
            "INFO:tensorflow:global_step/sec: 3.9906\n"
          ],
          "name": "stderr"
        },
        {
          "output_type": "stream",
          "text": [
            "INFO:tensorflow:loss = 1.0893413, step = 1800 (25.057 sec)\n"
          ],
          "name": "stdout"
        },
        {
          "output_type": "stream",
          "text": [
            "INFO:tensorflow:loss = 1.0893413, step = 1800 (25.057 sec)\n"
          ],
          "name": "stderr"
        },
        {
          "output_type": "stream",
          "text": [
            "INFO:tensorflow:global_step/sec: 3.99333\n"
          ],
          "name": "stdout"
        },
        {
          "output_type": "stream",
          "text": [
            "INFO:tensorflow:global_step/sec: 3.99333\n"
          ],
          "name": "stderr"
        },
        {
          "output_type": "stream",
          "text": [
            "INFO:tensorflow:loss = 1.3449558, step = 1900 (25.042 sec)\n"
          ],
          "name": "stdout"
        },
        {
          "output_type": "stream",
          "text": [
            "INFO:tensorflow:loss = 1.3449558, step = 1900 (25.042 sec)\n"
          ],
          "name": "stderr"
        },
        {
          "output_type": "stream",
          "text": [
            "INFO:tensorflow:Calling checkpoint listeners before saving checkpoint 2000...\n"
          ],
          "name": "stdout"
        },
        {
          "output_type": "stream",
          "text": [
            "INFO:tensorflow:Calling checkpoint listeners before saving checkpoint 2000...\n"
          ],
          "name": "stderr"
        },
        {
          "output_type": "stream",
          "text": [
            "INFO:tensorflow:Saving checkpoints for 2000 into /gdrive/My Drive/nlp/bert_output/model.ckpt.\n"
          ],
          "name": "stdout"
        },
        {
          "output_type": "stream",
          "text": [
            "INFO:tensorflow:Saving checkpoints for 2000 into /gdrive/My Drive/nlp/bert_output/model.ckpt.\n"
          ],
          "name": "stderr"
        },
        {
          "output_type": "stream",
          "text": [
            "INFO:tensorflow:Calling checkpoint listeners after saving checkpoint 2000...\n"
          ],
          "name": "stdout"
        },
        {
          "output_type": "stream",
          "text": [
            "INFO:tensorflow:Calling checkpoint listeners after saving checkpoint 2000...\n"
          ],
          "name": "stderr"
        },
        {
          "output_type": "stream",
          "text": [
            "INFO:tensorflow:global_step/sec: 1.8973\n"
          ],
          "name": "stdout"
        },
        {
          "output_type": "stream",
          "text": [
            "INFO:tensorflow:global_step/sec: 1.8973\n"
          ],
          "name": "stderr"
        },
        {
          "output_type": "stream",
          "text": [
            "INFO:tensorflow:loss = 1.5485427, step = 2000 (52.708 sec)\n"
          ],
          "name": "stdout"
        },
        {
          "output_type": "stream",
          "text": [
            "INFO:tensorflow:loss = 1.5485427, step = 2000 (52.708 sec)\n"
          ],
          "name": "stderr"
        },
        {
          "output_type": "stream",
          "text": [
            "INFO:tensorflow:global_step/sec: 3.98981\n"
          ],
          "name": "stdout"
        },
        {
          "output_type": "stream",
          "text": [
            "INFO:tensorflow:global_step/sec: 3.98981\n"
          ],
          "name": "stderr"
        },
        {
          "output_type": "stream",
          "text": [
            "INFO:tensorflow:loss = 1.9695507, step = 2100 (25.063 sec)\n"
          ],
          "name": "stdout"
        },
        {
          "output_type": "stream",
          "text": [
            "INFO:tensorflow:loss = 1.9695507, step = 2100 (25.063 sec)\n"
          ],
          "name": "stderr"
        },
        {
          "output_type": "stream",
          "text": [
            "INFO:tensorflow:global_step/sec: 3.99101\n"
          ],
          "name": "stdout"
        },
        {
          "output_type": "stream",
          "text": [
            "INFO:tensorflow:global_step/sec: 3.99101\n"
          ],
          "name": "stderr"
        },
        {
          "output_type": "stream",
          "text": [
            "INFO:tensorflow:loss = 1.6190767, step = 2200 (25.056 sec)\n"
          ],
          "name": "stdout"
        },
        {
          "output_type": "stream",
          "text": [
            "INFO:tensorflow:loss = 1.6190767, step = 2200 (25.056 sec)\n"
          ],
          "name": "stderr"
        },
        {
          "output_type": "stream",
          "text": [
            "INFO:tensorflow:global_step/sec: 3.99093\n"
          ],
          "name": "stdout"
        },
        {
          "output_type": "stream",
          "text": [
            "INFO:tensorflow:global_step/sec: 3.99093\n"
          ],
          "name": "stderr"
        },
        {
          "output_type": "stream",
          "text": [
            "INFO:tensorflow:loss = 1.5884473, step = 2300 (25.059 sec)\n"
          ],
          "name": "stdout"
        },
        {
          "output_type": "stream",
          "text": [
            "INFO:tensorflow:loss = 1.5884473, step = 2300 (25.059 sec)\n"
          ],
          "name": "stderr"
        },
        {
          "output_type": "stream",
          "text": [
            "INFO:tensorflow:global_step/sec: 3.98944\n"
          ],
          "name": "stdout"
        },
        {
          "output_type": "stream",
          "text": [
            "INFO:tensorflow:global_step/sec: 3.98944\n"
          ],
          "name": "stderr"
        },
        {
          "output_type": "stream",
          "text": [
            "INFO:tensorflow:loss = 1.4951795, step = 2400 (25.066 sec)\n"
          ],
          "name": "stdout"
        },
        {
          "output_type": "stream",
          "text": [
            "INFO:tensorflow:loss = 1.4951795, step = 2400 (25.066 sec)\n"
          ],
          "name": "stderr"
        },
        {
          "output_type": "stream",
          "text": [
            "INFO:tensorflow:Calling checkpoint listeners before saving checkpoint 2500...\n"
          ],
          "name": "stdout"
        },
        {
          "output_type": "stream",
          "text": [
            "INFO:tensorflow:Calling checkpoint listeners before saving checkpoint 2500...\n"
          ],
          "name": "stderr"
        },
        {
          "output_type": "stream",
          "text": [
            "INFO:tensorflow:Saving checkpoints for 2500 into /gdrive/My Drive/nlp/bert_output/model.ckpt.\n"
          ],
          "name": "stdout"
        },
        {
          "output_type": "stream",
          "text": [
            "INFO:tensorflow:Saving checkpoints for 2500 into /gdrive/My Drive/nlp/bert_output/model.ckpt.\n"
          ],
          "name": "stderr"
        },
        {
          "output_type": "stream",
          "text": [
            "WARNING:tensorflow:From /usr/local/lib/python3.6/dist-packages/tensorflow/python/training/saver.py:971: remove_checkpoint (from tensorflow.python.training.checkpoint_management) is deprecated and will be removed in a future version.\n",
            "Instructions for updating:\n",
            "Use standard file APIs to delete files with this prefix.\n"
          ],
          "name": "stdout"
        },
        {
          "output_type": "stream",
          "text": [
            "WARNING:tensorflow:From /usr/local/lib/python3.6/dist-packages/tensorflow/python/training/saver.py:971: remove_checkpoint (from tensorflow.python.training.checkpoint_management) is deprecated and will be removed in a future version.\n",
            "Instructions for updating:\n",
            "Use standard file APIs to delete files with this prefix.\n"
          ],
          "name": "stderr"
        },
        {
          "output_type": "stream",
          "text": [
            "INFO:tensorflow:Calling checkpoint listeners after saving checkpoint 2500...\n"
          ],
          "name": "stdout"
        },
        {
          "output_type": "stream",
          "text": [
            "INFO:tensorflow:Calling checkpoint listeners after saving checkpoint 2500...\n"
          ],
          "name": "stderr"
        },
        {
          "output_type": "stream",
          "text": [
            "INFO:tensorflow:global_step/sec: 1.89694\n"
          ],
          "name": "stdout"
        },
        {
          "output_type": "stream",
          "text": [
            "INFO:tensorflow:global_step/sec: 1.89694\n"
          ],
          "name": "stderr"
        },
        {
          "output_type": "stream",
          "text": [
            "INFO:tensorflow:loss = 1.4518652, step = 2500 (52.716 sec)\n"
          ],
          "name": "stdout"
        },
        {
          "output_type": "stream",
          "text": [
            "INFO:tensorflow:loss = 1.4518652, step = 2500 (52.716 sec)\n"
          ],
          "name": "stderr"
        },
        {
          "output_type": "stream",
          "text": [
            "INFO:tensorflow:global_step/sec: 3.98671\n"
          ],
          "name": "stdout"
        },
        {
          "output_type": "stream",
          "text": [
            "INFO:tensorflow:global_step/sec: 3.98671\n"
          ],
          "name": "stderr"
        },
        {
          "output_type": "stream",
          "text": [
            "INFO:tensorflow:loss = 1.3315828, step = 2600 (25.082 sec)\n"
          ],
          "name": "stdout"
        },
        {
          "output_type": "stream",
          "text": [
            "INFO:tensorflow:loss = 1.3315828, step = 2600 (25.082 sec)\n"
          ],
          "name": "stderr"
        },
        {
          "output_type": "stream",
          "text": [
            "INFO:tensorflow:global_step/sec: 3.98653\n"
          ],
          "name": "stdout"
        },
        {
          "output_type": "stream",
          "text": [
            "INFO:tensorflow:global_step/sec: 3.98653\n"
          ],
          "name": "stderr"
        },
        {
          "output_type": "stream",
          "text": [
            "INFO:tensorflow:loss = 1.5981146, step = 2700 (25.084 sec)\n"
          ],
          "name": "stdout"
        },
        {
          "output_type": "stream",
          "text": [
            "INFO:tensorflow:loss = 1.5981146, step = 2700 (25.084 sec)\n"
          ],
          "name": "stderr"
        },
        {
          "output_type": "stream",
          "text": [
            "INFO:tensorflow:global_step/sec: 3.98546\n"
          ],
          "name": "stdout"
        },
        {
          "output_type": "stream",
          "text": [
            "INFO:tensorflow:global_step/sec: 3.98546\n"
          ],
          "name": "stderr"
        },
        {
          "output_type": "stream",
          "text": [
            "INFO:tensorflow:loss = 1.2726544, step = 2800 (25.092 sec)\n"
          ],
          "name": "stdout"
        },
        {
          "output_type": "stream",
          "text": [
            "INFO:tensorflow:loss = 1.2726544, step = 2800 (25.092 sec)\n"
          ],
          "name": "stderr"
        },
        {
          "output_type": "stream",
          "text": [
            "INFO:tensorflow:global_step/sec: 3.98623\n"
          ],
          "name": "stdout"
        },
        {
          "output_type": "stream",
          "text": [
            "INFO:tensorflow:global_step/sec: 3.98623\n"
          ],
          "name": "stderr"
        },
        {
          "output_type": "stream",
          "text": [
            "INFO:tensorflow:loss = 1.3476348, step = 2900 (25.086 sec)\n"
          ],
          "name": "stdout"
        },
        {
          "output_type": "stream",
          "text": [
            "INFO:tensorflow:loss = 1.3476348, step = 2900 (25.086 sec)\n"
          ],
          "name": "stderr"
        },
        {
          "output_type": "stream",
          "text": [
            "INFO:tensorflow:Calling checkpoint listeners before saving checkpoint 3000...\n"
          ],
          "name": "stdout"
        },
        {
          "output_type": "stream",
          "text": [
            "INFO:tensorflow:Calling checkpoint listeners before saving checkpoint 3000...\n"
          ],
          "name": "stderr"
        },
        {
          "output_type": "stream",
          "text": [
            "INFO:tensorflow:Saving checkpoints for 3000 into /gdrive/My Drive/nlp/bert_output/model.ckpt.\n"
          ],
          "name": "stdout"
        },
        {
          "output_type": "stream",
          "text": [
            "INFO:tensorflow:Saving checkpoints for 3000 into /gdrive/My Drive/nlp/bert_output/model.ckpt.\n"
          ],
          "name": "stderr"
        },
        {
          "output_type": "stream",
          "text": [
            "INFO:tensorflow:Calling checkpoint listeners after saving checkpoint 3000...\n"
          ],
          "name": "stdout"
        },
        {
          "output_type": "stream",
          "text": [
            "INFO:tensorflow:Calling checkpoint listeners after saving checkpoint 3000...\n"
          ],
          "name": "stderr"
        },
        {
          "output_type": "stream",
          "text": [
            "INFO:tensorflow:global_step/sec: 1.85501\n"
          ],
          "name": "stdout"
        },
        {
          "output_type": "stream",
          "text": [
            "INFO:tensorflow:global_step/sec: 1.85501\n"
          ],
          "name": "stderr"
        },
        {
          "output_type": "stream",
          "text": [
            "INFO:tensorflow:loss = 1.4359944, step = 3000 (53.907 sec)\n"
          ],
          "name": "stdout"
        },
        {
          "output_type": "stream",
          "text": [
            "INFO:tensorflow:loss = 1.4359944, step = 3000 (53.907 sec)\n"
          ],
          "name": "stderr"
        },
        {
          "output_type": "stream",
          "text": [
            "INFO:tensorflow:global_step/sec: 3.98865\n"
          ],
          "name": "stdout"
        },
        {
          "output_type": "stream",
          "text": [
            "INFO:tensorflow:global_step/sec: 3.98865\n"
          ],
          "name": "stderr"
        },
        {
          "output_type": "stream",
          "text": [
            "INFO:tensorflow:loss = 1.1617849, step = 3100 (25.071 sec)\n"
          ],
          "name": "stdout"
        },
        {
          "output_type": "stream",
          "text": [
            "INFO:tensorflow:loss = 1.1617849, step = 3100 (25.071 sec)\n"
          ],
          "name": "stderr"
        },
        {
          "output_type": "stream",
          "text": [
            "INFO:tensorflow:global_step/sec: 3.98882\n"
          ],
          "name": "stdout"
        },
        {
          "output_type": "stream",
          "text": [
            "INFO:tensorflow:global_step/sec: 3.98882\n"
          ],
          "name": "stderr"
        },
        {
          "output_type": "stream",
          "text": [
            "INFO:tensorflow:loss = 1.8139688, step = 3200 (25.070 sec)\n"
          ],
          "name": "stdout"
        },
        {
          "output_type": "stream",
          "text": [
            "INFO:tensorflow:loss = 1.8139688, step = 3200 (25.070 sec)\n"
          ],
          "name": "stderr"
        },
        {
          "output_type": "stream",
          "text": [
            "INFO:tensorflow:global_step/sec: 3.98807\n"
          ],
          "name": "stdout"
        },
        {
          "output_type": "stream",
          "text": [
            "INFO:tensorflow:global_step/sec: 3.98807\n"
          ],
          "name": "stderr"
        },
        {
          "output_type": "stream",
          "text": [
            "INFO:tensorflow:loss = 1.3392045, step = 3300 (25.080 sec)\n"
          ],
          "name": "stdout"
        },
        {
          "output_type": "stream",
          "text": [
            "INFO:tensorflow:loss = 1.3392045, step = 3300 (25.080 sec)\n"
          ],
          "name": "stderr"
        },
        {
          "output_type": "stream",
          "text": [
            "INFO:tensorflow:global_step/sec: 3.9875\n"
          ],
          "name": "stdout"
        },
        {
          "output_type": "stream",
          "text": [
            "INFO:tensorflow:global_step/sec: 3.9875\n"
          ],
          "name": "stderr"
        },
        {
          "output_type": "stream",
          "text": [
            "INFO:tensorflow:loss = 1.2380147, step = 3400 (25.077 sec)\n"
          ],
          "name": "stdout"
        },
        {
          "output_type": "stream",
          "text": [
            "INFO:tensorflow:loss = 1.2380147, step = 3400 (25.077 sec)\n"
          ],
          "name": "stderr"
        },
        {
          "output_type": "stream",
          "text": [
            "INFO:tensorflow:Calling checkpoint listeners before saving checkpoint 3500...\n"
          ],
          "name": "stdout"
        },
        {
          "output_type": "stream",
          "text": [
            "INFO:tensorflow:Calling checkpoint listeners before saving checkpoint 3500...\n"
          ],
          "name": "stderr"
        },
        {
          "output_type": "stream",
          "text": [
            "INFO:tensorflow:Saving checkpoints for 3500 into /gdrive/My Drive/nlp/bert_output/model.ckpt.\n"
          ],
          "name": "stdout"
        },
        {
          "output_type": "stream",
          "text": [
            "INFO:tensorflow:Saving checkpoints for 3500 into /gdrive/My Drive/nlp/bert_output/model.ckpt.\n"
          ],
          "name": "stderr"
        },
        {
          "output_type": "stream",
          "text": [
            "INFO:tensorflow:Calling checkpoint listeners after saving checkpoint 3500...\n"
          ],
          "name": "stdout"
        },
        {
          "output_type": "stream",
          "text": [
            "INFO:tensorflow:Calling checkpoint listeners after saving checkpoint 3500...\n"
          ],
          "name": "stderr"
        },
        {
          "output_type": "stream",
          "text": [
            "INFO:tensorflow:global_step/sec: 1.8778\n"
          ],
          "name": "stdout"
        },
        {
          "output_type": "stream",
          "text": [
            "INFO:tensorflow:global_step/sec: 1.8778\n"
          ],
          "name": "stderr"
        },
        {
          "output_type": "stream",
          "text": [
            "INFO:tensorflow:loss = 1.1421425, step = 3500 (53.250 sec)\n"
          ],
          "name": "stdout"
        },
        {
          "output_type": "stream",
          "text": [
            "INFO:tensorflow:loss = 1.1421425, step = 3500 (53.250 sec)\n"
          ],
          "name": "stderr"
        },
        {
          "output_type": "stream",
          "text": [
            "INFO:tensorflow:global_step/sec: 3.98747\n"
          ],
          "name": "stdout"
        },
        {
          "output_type": "stream",
          "text": [
            "INFO:tensorflow:global_step/sec: 3.98747\n"
          ],
          "name": "stderr"
        },
        {
          "output_type": "stream",
          "text": [
            "INFO:tensorflow:loss = 1.3240347, step = 3600 (25.079 sec)\n"
          ],
          "name": "stdout"
        },
        {
          "output_type": "stream",
          "text": [
            "INFO:tensorflow:loss = 1.3240347, step = 3600 (25.079 sec)\n"
          ],
          "name": "stderr"
        },
        {
          "output_type": "stream",
          "text": [
            "INFO:tensorflow:global_step/sec: 3.98628\n"
          ],
          "name": "stdout"
        },
        {
          "output_type": "stream",
          "text": [
            "INFO:tensorflow:global_step/sec: 3.98628\n"
          ],
          "name": "stderr"
        },
        {
          "output_type": "stream",
          "text": [
            "INFO:tensorflow:loss = 0.8805869, step = 3700 (25.088 sec)\n"
          ],
          "name": "stdout"
        },
        {
          "output_type": "stream",
          "text": [
            "INFO:tensorflow:loss = 0.8805869, step = 3700 (25.088 sec)\n"
          ],
          "name": "stderr"
        },
        {
          "output_type": "stream",
          "text": [
            "INFO:tensorflow:global_step/sec: 3.98812\n"
          ],
          "name": "stdout"
        },
        {
          "output_type": "stream",
          "text": [
            "INFO:tensorflow:global_step/sec: 3.98812\n"
          ],
          "name": "stderr"
        },
        {
          "output_type": "stream",
          "text": [
            "INFO:tensorflow:loss = 1.9226861, step = 3800 (25.072 sec)\n"
          ],
          "name": "stdout"
        },
        {
          "output_type": "stream",
          "text": [
            "INFO:tensorflow:loss = 1.9226861, step = 3800 (25.072 sec)\n"
          ],
          "name": "stderr"
        },
        {
          "output_type": "stream",
          "text": [
            "INFO:tensorflow:global_step/sec: 3.98189\n"
          ],
          "name": "stdout"
        },
        {
          "output_type": "stream",
          "text": [
            "INFO:tensorflow:global_step/sec: 3.98189\n"
          ],
          "name": "stderr"
        },
        {
          "output_type": "stream",
          "text": [
            "INFO:tensorflow:loss = 1.4372108, step = 3900 (25.113 sec)\n"
          ],
          "name": "stdout"
        },
        {
          "output_type": "stream",
          "text": [
            "INFO:tensorflow:loss = 1.4372108, step = 3900 (25.113 sec)\n"
          ],
          "name": "stderr"
        },
        {
          "output_type": "stream",
          "text": [
            "INFO:tensorflow:Calling checkpoint listeners before saving checkpoint 4000...\n"
          ],
          "name": "stdout"
        },
        {
          "output_type": "stream",
          "text": [
            "INFO:tensorflow:Calling checkpoint listeners before saving checkpoint 4000...\n"
          ],
          "name": "stderr"
        },
        {
          "output_type": "stream",
          "text": [
            "INFO:tensorflow:Saving checkpoints for 4000 into /gdrive/My Drive/nlp/bert_output/model.ckpt.\n"
          ],
          "name": "stdout"
        },
        {
          "output_type": "stream",
          "text": [
            "INFO:tensorflow:Saving checkpoints for 4000 into /gdrive/My Drive/nlp/bert_output/model.ckpt.\n"
          ],
          "name": "stderr"
        },
        {
          "output_type": "stream",
          "text": [
            "INFO:tensorflow:Calling checkpoint listeners after saving checkpoint 4000...\n"
          ],
          "name": "stdout"
        },
        {
          "output_type": "stream",
          "text": [
            "INFO:tensorflow:Calling checkpoint listeners after saving checkpoint 4000...\n"
          ],
          "name": "stderr"
        },
        {
          "output_type": "stream",
          "text": [
            "INFO:tensorflow:global_step/sec: 1.89254\n"
          ],
          "name": "stdout"
        },
        {
          "output_type": "stream",
          "text": [
            "INFO:tensorflow:global_step/sec: 1.89254\n"
          ],
          "name": "stderr"
        },
        {
          "output_type": "stream",
          "text": [
            "INFO:tensorflow:loss = 1.8585606, step = 4000 (52.841 sec)\n"
          ],
          "name": "stdout"
        },
        {
          "output_type": "stream",
          "text": [
            "INFO:tensorflow:loss = 1.8585606, step = 4000 (52.841 sec)\n"
          ],
          "name": "stderr"
        },
        {
          "output_type": "stream",
          "text": [
            "INFO:tensorflow:global_step/sec: 3.98334\n"
          ],
          "name": "stdout"
        },
        {
          "output_type": "stream",
          "text": [
            "INFO:tensorflow:global_step/sec: 3.98334\n"
          ],
          "name": "stderr"
        },
        {
          "output_type": "stream",
          "text": [
            "INFO:tensorflow:loss = 1.4182674, step = 4100 (25.103 sec)\n"
          ],
          "name": "stdout"
        },
        {
          "output_type": "stream",
          "text": [
            "INFO:tensorflow:loss = 1.4182674, step = 4100 (25.103 sec)\n"
          ],
          "name": "stderr"
        },
        {
          "output_type": "stream",
          "text": [
            "INFO:tensorflow:global_step/sec: 3.98442\n"
          ],
          "name": "stdout"
        },
        {
          "output_type": "stream",
          "text": [
            "INFO:tensorflow:global_step/sec: 3.98442\n"
          ],
          "name": "stderr"
        },
        {
          "output_type": "stream",
          "text": [
            "INFO:tensorflow:loss = 1.4809308, step = 4200 (25.099 sec)\n"
          ],
          "name": "stdout"
        },
        {
          "output_type": "stream",
          "text": [
            "INFO:tensorflow:loss = 1.4809308, step = 4200 (25.099 sec)\n"
          ],
          "name": "stderr"
        },
        {
          "output_type": "stream",
          "text": [
            "INFO:tensorflow:global_step/sec: 3.98499\n"
          ],
          "name": "stdout"
        },
        {
          "output_type": "stream",
          "text": [
            "INFO:tensorflow:global_step/sec: 3.98499\n"
          ],
          "name": "stderr"
        },
        {
          "output_type": "stream",
          "text": [
            "INFO:tensorflow:loss = 2.05515, step = 4300 (25.093 sec)\n"
          ],
          "name": "stdout"
        },
        {
          "output_type": "stream",
          "text": [
            "INFO:tensorflow:loss = 2.05515, step = 4300 (25.093 sec)\n"
          ],
          "name": "stderr"
        },
        {
          "output_type": "stream",
          "text": [
            "INFO:tensorflow:global_step/sec: 3.98536\n"
          ],
          "name": "stdout"
        },
        {
          "output_type": "stream",
          "text": [
            "INFO:tensorflow:global_step/sec: 3.98536\n"
          ],
          "name": "stderr"
        },
        {
          "output_type": "stream",
          "text": [
            "INFO:tensorflow:loss = 1.2039452, step = 4400 (25.093 sec)\n"
          ],
          "name": "stdout"
        },
        {
          "output_type": "stream",
          "text": [
            "INFO:tensorflow:loss = 1.2039452, step = 4400 (25.093 sec)\n"
          ],
          "name": "stderr"
        },
        {
          "output_type": "stream",
          "text": [
            "INFO:tensorflow:Calling checkpoint listeners before saving checkpoint 4500...\n"
          ],
          "name": "stdout"
        },
        {
          "output_type": "stream",
          "text": [
            "INFO:tensorflow:Calling checkpoint listeners before saving checkpoint 4500...\n"
          ],
          "name": "stderr"
        },
        {
          "output_type": "stream",
          "text": [
            "INFO:tensorflow:Saving checkpoints for 4500 into /gdrive/My Drive/nlp/bert_output/model.ckpt.\n"
          ],
          "name": "stdout"
        },
        {
          "output_type": "stream",
          "text": [
            "INFO:tensorflow:Saving checkpoints for 4500 into /gdrive/My Drive/nlp/bert_output/model.ckpt.\n"
          ],
          "name": "stderr"
        },
        {
          "output_type": "stream",
          "text": [
            "INFO:tensorflow:Calling checkpoint listeners after saving checkpoint 4500...\n"
          ],
          "name": "stdout"
        },
        {
          "output_type": "stream",
          "text": [
            "INFO:tensorflow:Calling checkpoint listeners after saving checkpoint 4500...\n"
          ],
          "name": "stderr"
        },
        {
          "output_type": "stream",
          "text": [
            "INFO:tensorflow:global_step/sec: 1.86476\n"
          ],
          "name": "stdout"
        },
        {
          "output_type": "stream",
          "text": [
            "INFO:tensorflow:global_step/sec: 1.86476\n"
          ],
          "name": "stderr"
        },
        {
          "output_type": "stream",
          "text": [
            "INFO:tensorflow:loss = 1.1740932, step = 4500 (53.627 sec)\n"
          ],
          "name": "stdout"
        },
        {
          "output_type": "stream",
          "text": [
            "INFO:tensorflow:loss = 1.1740932, step = 4500 (53.627 sec)\n"
          ],
          "name": "stderr"
        },
        {
          "output_type": "stream",
          "text": [
            "INFO:tensorflow:global_step/sec: 3.98655\n"
          ],
          "name": "stdout"
        },
        {
          "output_type": "stream",
          "text": [
            "INFO:tensorflow:global_step/sec: 3.98655\n"
          ],
          "name": "stderr"
        },
        {
          "output_type": "stream",
          "text": [
            "INFO:tensorflow:loss = 1.3265455, step = 4600 (25.086 sec)\n"
          ],
          "name": "stdout"
        },
        {
          "output_type": "stream",
          "text": [
            "INFO:tensorflow:loss = 1.3265455, step = 4600 (25.086 sec)\n"
          ],
          "name": "stderr"
        },
        {
          "output_type": "stream",
          "text": [
            "INFO:tensorflow:global_step/sec: 3.98716\n"
          ],
          "name": "stdout"
        },
        {
          "output_type": "stream",
          "text": [
            "INFO:tensorflow:global_step/sec: 3.98716\n"
          ],
          "name": "stderr"
        },
        {
          "output_type": "stream",
          "text": [
            "INFO:tensorflow:loss = 0.64330566, step = 4700 (25.084 sec)\n"
          ],
          "name": "stdout"
        },
        {
          "output_type": "stream",
          "text": [
            "INFO:tensorflow:loss = 0.64330566, step = 4700 (25.084 sec)\n"
          ],
          "name": "stderr"
        },
        {
          "output_type": "stream",
          "text": [
            "INFO:tensorflow:global_step/sec: 3.9881\n"
          ],
          "name": "stdout"
        },
        {
          "output_type": "stream",
          "text": [
            "INFO:tensorflow:global_step/sec: 3.9881\n"
          ],
          "name": "stderr"
        },
        {
          "output_type": "stream",
          "text": [
            "INFO:tensorflow:loss = 1.0588568, step = 4800 (25.068 sec)\n"
          ],
          "name": "stdout"
        },
        {
          "output_type": "stream",
          "text": [
            "INFO:tensorflow:loss = 1.0588568, step = 4800 (25.068 sec)\n"
          ],
          "name": "stderr"
        },
        {
          "output_type": "stream",
          "text": [
            "INFO:tensorflow:global_step/sec: 3.98763\n"
          ],
          "name": "stdout"
        },
        {
          "output_type": "stream",
          "text": [
            "INFO:tensorflow:global_step/sec: 3.98763\n"
          ],
          "name": "stderr"
        },
        {
          "output_type": "stream",
          "text": [
            "INFO:tensorflow:loss = 1.3570038, step = 4900 (25.080 sec)\n"
          ],
          "name": "stdout"
        },
        {
          "output_type": "stream",
          "text": [
            "INFO:tensorflow:loss = 1.3570038, step = 4900 (25.080 sec)\n"
          ],
          "name": "stderr"
        },
        {
          "output_type": "stream",
          "text": [
            "INFO:tensorflow:Calling checkpoint listeners before saving checkpoint 5000...\n"
          ],
          "name": "stdout"
        },
        {
          "output_type": "stream",
          "text": [
            "INFO:tensorflow:Calling checkpoint listeners before saving checkpoint 5000...\n"
          ],
          "name": "stderr"
        },
        {
          "output_type": "stream",
          "text": [
            "INFO:tensorflow:Saving checkpoints for 5000 into /gdrive/My Drive/nlp/bert_output/model.ckpt.\n"
          ],
          "name": "stdout"
        },
        {
          "output_type": "stream",
          "text": [
            "INFO:tensorflow:Saving checkpoints for 5000 into /gdrive/My Drive/nlp/bert_output/model.ckpt.\n"
          ],
          "name": "stderr"
        },
        {
          "output_type": "stream",
          "text": [
            "INFO:tensorflow:Calling checkpoint listeners after saving checkpoint 5000...\n"
          ],
          "name": "stdout"
        },
        {
          "output_type": "stream",
          "text": [
            "INFO:tensorflow:Calling checkpoint listeners after saving checkpoint 5000...\n"
          ],
          "name": "stderr"
        },
        {
          "output_type": "stream",
          "text": [
            "INFO:tensorflow:global_step/sec: 1.88438\n"
          ],
          "name": "stdout"
        },
        {
          "output_type": "stream",
          "text": [
            "INFO:tensorflow:global_step/sec: 1.88438\n"
          ],
          "name": "stderr"
        },
        {
          "output_type": "stream",
          "text": [
            "INFO:tensorflow:loss = 1.8027549, step = 5000 (53.069 sec)\n"
          ],
          "name": "stdout"
        },
        {
          "output_type": "stream",
          "text": [
            "INFO:tensorflow:loss = 1.8027549, step = 5000 (53.069 sec)\n"
          ],
          "name": "stderr"
        },
        {
          "output_type": "stream",
          "text": [
            "INFO:tensorflow:global_step/sec: 3.98754\n"
          ],
          "name": "stdout"
        },
        {
          "output_type": "stream",
          "text": [
            "INFO:tensorflow:global_step/sec: 3.98754\n"
          ],
          "name": "stderr"
        },
        {
          "output_type": "stream",
          "text": [
            "INFO:tensorflow:loss = 1.3905783, step = 5100 (25.077 sec)\n"
          ],
          "name": "stdout"
        },
        {
          "output_type": "stream",
          "text": [
            "INFO:tensorflow:loss = 1.3905783, step = 5100 (25.077 sec)\n"
          ],
          "name": "stderr"
        },
        {
          "output_type": "stream",
          "text": [
            "INFO:tensorflow:global_step/sec: 3.98816\n"
          ],
          "name": "stdout"
        },
        {
          "output_type": "stream",
          "text": [
            "INFO:tensorflow:global_step/sec: 3.98816\n"
          ],
          "name": "stderr"
        },
        {
          "output_type": "stream",
          "text": [
            "INFO:tensorflow:loss = 1.1053715, step = 5200 (25.076 sec)\n"
          ],
          "name": "stdout"
        },
        {
          "output_type": "stream",
          "text": [
            "INFO:tensorflow:loss = 1.1053715, step = 5200 (25.076 sec)\n"
          ],
          "name": "stderr"
        },
        {
          "output_type": "stream",
          "text": [
            "INFO:tensorflow:global_step/sec: 3.97103\n"
          ],
          "name": "stdout"
        },
        {
          "output_type": "stream",
          "text": [
            "INFO:tensorflow:global_step/sec: 3.97103\n"
          ],
          "name": "stderr"
        },
        {
          "output_type": "stream",
          "text": [
            "INFO:tensorflow:loss = 0.66069365, step = 5300 (25.178 sec)\n"
          ],
          "name": "stdout"
        },
        {
          "output_type": "stream",
          "text": [
            "INFO:tensorflow:loss = 0.66069365, step = 5300 (25.178 sec)\n"
          ],
          "name": "stderr"
        },
        {
          "output_type": "stream",
          "text": [
            "INFO:tensorflow:global_step/sec: 3.96574\n"
          ],
          "name": "stdout"
        },
        {
          "output_type": "stream",
          "text": [
            "INFO:tensorflow:global_step/sec: 3.96574\n"
          ],
          "name": "stderr"
        },
        {
          "output_type": "stream",
          "text": [
            "INFO:tensorflow:loss = 1.4359443, step = 5400 (25.216 sec)\n"
          ],
          "name": "stdout"
        },
        {
          "output_type": "stream",
          "text": [
            "INFO:tensorflow:loss = 1.4359443, step = 5400 (25.216 sec)\n"
          ],
          "name": "stderr"
        },
        {
          "output_type": "stream",
          "text": [
            "INFO:tensorflow:Calling checkpoint listeners before saving checkpoint 5500...\n"
          ],
          "name": "stdout"
        },
        {
          "output_type": "stream",
          "text": [
            "INFO:tensorflow:Calling checkpoint listeners before saving checkpoint 5500...\n"
          ],
          "name": "stderr"
        },
        {
          "output_type": "stream",
          "text": [
            "INFO:tensorflow:Saving checkpoints for 5500 into /gdrive/My Drive/nlp/bert_output/model.ckpt.\n"
          ],
          "name": "stdout"
        },
        {
          "output_type": "stream",
          "text": [
            "INFO:tensorflow:Saving checkpoints for 5500 into /gdrive/My Drive/nlp/bert_output/model.ckpt.\n"
          ],
          "name": "stderr"
        },
        {
          "output_type": "stream",
          "text": [
            "INFO:tensorflow:Calling checkpoint listeners after saving checkpoint 5500...\n"
          ],
          "name": "stdout"
        },
        {
          "output_type": "stream",
          "text": [
            "INFO:tensorflow:Calling checkpoint listeners after saving checkpoint 5500...\n"
          ],
          "name": "stderr"
        },
        {
          "output_type": "stream",
          "text": [
            "INFO:tensorflow:global_step/sec: 0.353845\n"
          ],
          "name": "stdout"
        },
        {
          "output_type": "stream",
          "text": [
            "INFO:tensorflow:global_step/sec: 0.353845\n"
          ],
          "name": "stderr"
        },
        {
          "output_type": "stream",
          "text": [
            "INFO:tensorflow:loss = 2.6625059, step = 5500 (282.809 sec)\n"
          ],
          "name": "stdout"
        },
        {
          "output_type": "stream",
          "text": [
            "INFO:tensorflow:loss = 2.6625059, step = 5500 (282.809 sec)\n"
          ],
          "name": "stderr"
        },
        {
          "output_type": "stream",
          "text": [
            "INFO:tensorflow:global_step/sec: 3.91233\n"
          ],
          "name": "stdout"
        },
        {
          "output_type": "stream",
          "text": [
            "INFO:tensorflow:global_step/sec: 3.91233\n"
          ],
          "name": "stderr"
        },
        {
          "output_type": "stream",
          "text": [
            "INFO:tensorflow:loss = 0.8664678, step = 5600 (25.360 sec)\n"
          ],
          "name": "stdout"
        },
        {
          "output_type": "stream",
          "text": [
            "INFO:tensorflow:loss = 0.8664678, step = 5600 (25.360 sec)\n"
          ],
          "name": "stderr"
        },
        {
          "output_type": "stream",
          "text": [
            "INFO:tensorflow:global_step/sec: 3.96343\n"
          ],
          "name": "stdout"
        },
        {
          "output_type": "stream",
          "text": [
            "INFO:tensorflow:global_step/sec: 3.96343\n"
          ],
          "name": "stderr"
        },
        {
          "output_type": "stream",
          "text": [
            "INFO:tensorflow:loss = 1.6843847, step = 5700 (25.232 sec)\n"
          ],
          "name": "stdout"
        },
        {
          "output_type": "stream",
          "text": [
            "INFO:tensorflow:loss = 1.6843847, step = 5700 (25.232 sec)\n"
          ],
          "name": "stderr"
        },
        {
          "output_type": "stream",
          "text": [
            "INFO:tensorflow:global_step/sec: 3.96592\n"
          ],
          "name": "stdout"
        },
        {
          "output_type": "stream",
          "text": [
            "INFO:tensorflow:global_step/sec: 3.96592\n"
          ],
          "name": "stderr"
        },
        {
          "output_type": "stream",
          "text": [
            "INFO:tensorflow:loss = 1.315211, step = 5800 (25.217 sec)\n"
          ],
          "name": "stdout"
        },
        {
          "output_type": "stream",
          "text": [
            "INFO:tensorflow:loss = 1.315211, step = 5800 (25.217 sec)\n"
          ],
          "name": "stderr"
        },
        {
          "output_type": "stream",
          "text": [
            "INFO:tensorflow:global_step/sec: 3.96763\n"
          ],
          "name": "stdout"
        },
        {
          "output_type": "stream",
          "text": [
            "INFO:tensorflow:global_step/sec: 3.96763\n"
          ],
          "name": "stderr"
        },
        {
          "output_type": "stream",
          "text": [
            "INFO:tensorflow:loss = 0.86166936, step = 5900 (25.205 sec)\n"
          ],
          "name": "stdout"
        },
        {
          "output_type": "stream",
          "text": [
            "INFO:tensorflow:loss = 0.86166936, step = 5900 (25.205 sec)\n"
          ],
          "name": "stderr"
        },
        {
          "output_type": "stream",
          "text": [
            "INFO:tensorflow:Calling checkpoint listeners before saving checkpoint 6000...\n"
          ],
          "name": "stdout"
        },
        {
          "output_type": "stream",
          "text": [
            "INFO:tensorflow:Calling checkpoint listeners before saving checkpoint 6000...\n"
          ],
          "name": "stderr"
        },
        {
          "output_type": "stream",
          "text": [
            "INFO:tensorflow:Saving checkpoints for 6000 into /gdrive/My Drive/nlp/bert_output/model.ckpt.\n"
          ],
          "name": "stdout"
        },
        {
          "output_type": "stream",
          "text": [
            "INFO:tensorflow:Saving checkpoints for 6000 into /gdrive/My Drive/nlp/bert_output/model.ckpt.\n"
          ],
          "name": "stderr"
        },
        {
          "output_type": "stream",
          "text": [
            "INFO:tensorflow:Calling checkpoint listeners after saving checkpoint 6000...\n"
          ],
          "name": "stdout"
        },
        {
          "output_type": "stream",
          "text": [
            "INFO:tensorflow:Calling checkpoint listeners after saving checkpoint 6000...\n"
          ],
          "name": "stderr"
        },
        {
          "output_type": "stream",
          "text": [
            "INFO:tensorflow:global_step/sec: 0.465564\n"
          ],
          "name": "stdout"
        },
        {
          "output_type": "stream",
          "text": [
            "INFO:tensorflow:global_step/sec: 0.465564\n"
          ],
          "name": "stderr"
        },
        {
          "output_type": "stream",
          "text": [
            "INFO:tensorflow:loss = 1.1360005, step = 6000 (214.791 sec)\n"
          ],
          "name": "stdout"
        },
        {
          "output_type": "stream",
          "text": [
            "INFO:tensorflow:loss = 1.1360005, step = 6000 (214.791 sec)\n"
          ],
          "name": "stderr"
        },
        {
          "output_type": "stream",
          "text": [
            "INFO:tensorflow:global_step/sec: 3.98563\n"
          ],
          "name": "stdout"
        },
        {
          "output_type": "stream",
          "text": [
            "INFO:tensorflow:global_step/sec: 3.98563\n"
          ],
          "name": "stderr"
        },
        {
          "output_type": "stream",
          "text": [
            "INFO:tensorflow:loss = 1.4178839, step = 6100 (25.089 sec)\n"
          ],
          "name": "stdout"
        },
        {
          "output_type": "stream",
          "text": [
            "INFO:tensorflow:loss = 1.4178839, step = 6100 (25.089 sec)\n"
          ],
          "name": "stderr"
        },
        {
          "output_type": "stream",
          "text": [
            "INFO:tensorflow:global_step/sec: 3.98636\n"
          ],
          "name": "stdout"
        },
        {
          "output_type": "stream",
          "text": [
            "INFO:tensorflow:global_step/sec: 3.98636\n"
          ],
          "name": "stderr"
        },
        {
          "output_type": "stream",
          "text": [
            "INFO:tensorflow:loss = 1.0620339, step = 6200 (25.089 sec)\n"
          ],
          "name": "stdout"
        },
        {
          "output_type": "stream",
          "text": [
            "INFO:tensorflow:loss = 1.0620339, step = 6200 (25.089 sec)\n"
          ],
          "name": "stderr"
        },
        {
          "output_type": "stream",
          "text": [
            "INFO:tensorflow:global_step/sec: 3.98485\n"
          ],
          "name": "stdout"
        },
        {
          "output_type": "stream",
          "text": [
            "INFO:tensorflow:global_step/sec: 3.98485\n"
          ],
          "name": "stderr"
        },
        {
          "output_type": "stream",
          "text": [
            "INFO:tensorflow:loss = 1.5801481, step = 6300 (25.093 sec)\n"
          ],
          "name": "stdout"
        },
        {
          "output_type": "stream",
          "text": [
            "INFO:tensorflow:loss = 1.5801481, step = 6300 (25.093 sec)\n"
          ],
          "name": "stderr"
        },
        {
          "output_type": "stream",
          "text": [
            "INFO:tensorflow:global_step/sec: 3.98544\n"
          ],
          "name": "stdout"
        },
        {
          "output_type": "stream",
          "text": [
            "INFO:tensorflow:global_step/sec: 3.98544\n"
          ],
          "name": "stderr"
        },
        {
          "output_type": "stream",
          "text": [
            "INFO:tensorflow:loss = 1.1270555, step = 6400 (25.092 sec)\n"
          ],
          "name": "stdout"
        },
        {
          "output_type": "stream",
          "text": [
            "INFO:tensorflow:loss = 1.1270555, step = 6400 (25.092 sec)\n"
          ],
          "name": "stderr"
        },
        {
          "output_type": "stream",
          "text": [
            "INFO:tensorflow:Calling checkpoint listeners before saving checkpoint 6500...\n"
          ],
          "name": "stdout"
        },
        {
          "output_type": "stream",
          "text": [
            "INFO:tensorflow:Calling checkpoint listeners before saving checkpoint 6500...\n"
          ],
          "name": "stderr"
        },
        {
          "output_type": "stream",
          "text": [
            "INFO:tensorflow:Saving checkpoints for 6500 into /gdrive/My Drive/nlp/bert_output/model.ckpt.\n"
          ],
          "name": "stdout"
        },
        {
          "output_type": "stream",
          "text": [
            "INFO:tensorflow:Saving checkpoints for 6500 into /gdrive/My Drive/nlp/bert_output/model.ckpt.\n"
          ],
          "name": "stderr"
        },
        {
          "output_type": "stream",
          "text": [
            "INFO:tensorflow:Calling checkpoint listeners after saving checkpoint 6500...\n"
          ],
          "name": "stdout"
        },
        {
          "output_type": "stream",
          "text": [
            "INFO:tensorflow:Calling checkpoint listeners after saving checkpoint 6500...\n"
          ],
          "name": "stderr"
        },
        {
          "output_type": "stream",
          "text": [
            "INFO:tensorflow:global_step/sec: 0.397333\n"
          ],
          "name": "stdout"
        },
        {
          "output_type": "stream",
          "text": [
            "INFO:tensorflow:global_step/sec: 0.397333\n"
          ],
          "name": "stderr"
        },
        {
          "output_type": "stream",
          "text": [
            "INFO:tensorflow:loss = 1.6594278, step = 6500 (251.676 sec)\n"
          ],
          "name": "stdout"
        },
        {
          "output_type": "stream",
          "text": [
            "INFO:tensorflow:loss = 1.6594278, step = 6500 (251.676 sec)\n"
          ],
          "name": "stderr"
        },
        {
          "output_type": "stream",
          "text": [
            "INFO:tensorflow:global_step/sec: 3.94644\n"
          ],
          "name": "stdout"
        },
        {
          "output_type": "stream",
          "text": [
            "INFO:tensorflow:global_step/sec: 3.94644\n"
          ],
          "name": "stderr"
        },
        {
          "output_type": "stream",
          "text": [
            "INFO:tensorflow:loss = 1.46702, step = 6600 (25.340 sec)\n"
          ],
          "name": "stdout"
        },
        {
          "output_type": "stream",
          "text": [
            "INFO:tensorflow:loss = 1.46702, step = 6600 (25.340 sec)\n"
          ],
          "name": "stderr"
        },
        {
          "output_type": "stream",
          "text": [
            "INFO:tensorflow:global_step/sec: 3.94927\n"
          ],
          "name": "stdout"
        },
        {
          "output_type": "stream",
          "text": [
            "INFO:tensorflow:global_step/sec: 3.94927\n"
          ],
          "name": "stderr"
        },
        {
          "output_type": "stream",
          "text": [
            "INFO:tensorflow:loss = 1.3182864, step = 6700 (25.319 sec)\n"
          ],
          "name": "stdout"
        },
        {
          "output_type": "stream",
          "text": [
            "INFO:tensorflow:loss = 1.3182864, step = 6700 (25.319 sec)\n"
          ],
          "name": "stderr"
        },
        {
          "output_type": "stream",
          "text": [
            "INFO:tensorflow:global_step/sec: 3.95421\n"
          ],
          "name": "stdout"
        },
        {
          "output_type": "stream",
          "text": [
            "INFO:tensorflow:global_step/sec: 3.95421\n"
          ],
          "name": "stderr"
        },
        {
          "output_type": "stream",
          "text": [
            "INFO:tensorflow:loss = 1.2802618, step = 6800 (25.290 sec)\n"
          ],
          "name": "stdout"
        },
        {
          "output_type": "stream",
          "text": [
            "INFO:tensorflow:loss = 1.2802618, step = 6800 (25.290 sec)\n"
          ],
          "name": "stderr"
        },
        {
          "output_type": "stream",
          "text": [
            "INFO:tensorflow:global_step/sec: 3.95119\n"
          ],
          "name": "stdout"
        },
        {
          "output_type": "stream",
          "text": [
            "INFO:tensorflow:global_step/sec: 3.95119\n"
          ],
          "name": "stderr"
        },
        {
          "output_type": "stream",
          "text": [
            "INFO:tensorflow:loss = 0.9710053, step = 6900 (25.310 sec)\n"
          ],
          "name": "stdout"
        },
        {
          "output_type": "stream",
          "text": [
            "INFO:tensorflow:loss = 0.9710053, step = 6900 (25.310 sec)\n"
          ],
          "name": "stderr"
        },
        {
          "output_type": "stream",
          "text": [
            "INFO:tensorflow:Calling checkpoint listeners before saving checkpoint 7000...\n"
          ],
          "name": "stdout"
        },
        {
          "output_type": "stream",
          "text": [
            "INFO:tensorflow:Calling checkpoint listeners before saving checkpoint 7000...\n"
          ],
          "name": "stderr"
        },
        {
          "output_type": "stream",
          "text": [
            "INFO:tensorflow:Saving checkpoints for 7000 into /gdrive/My Drive/nlp/bert_output/model.ckpt.\n"
          ],
          "name": "stdout"
        },
        {
          "output_type": "stream",
          "text": [
            "INFO:tensorflow:Saving checkpoints for 7000 into /gdrive/My Drive/nlp/bert_output/model.ckpt.\n"
          ],
          "name": "stderr"
        },
        {
          "output_type": "stream",
          "text": [
            "INFO:tensorflow:Calling checkpoint listeners after saving checkpoint 7000...\n"
          ],
          "name": "stdout"
        },
        {
          "output_type": "stream",
          "text": [
            "INFO:tensorflow:Calling checkpoint listeners after saving checkpoint 7000...\n"
          ],
          "name": "stderr"
        },
        {
          "output_type": "stream",
          "text": [
            "INFO:tensorflow:global_step/sec: 1.68122\n"
          ],
          "name": "stdout"
        },
        {
          "output_type": "stream",
          "text": [
            "INFO:tensorflow:global_step/sec: 1.68122\n"
          ],
          "name": "stderr"
        },
        {
          "output_type": "stream",
          "text": [
            "INFO:tensorflow:loss = 0.80469775, step = 7000 (59.479 sec)\n"
          ],
          "name": "stdout"
        },
        {
          "output_type": "stream",
          "text": [
            "INFO:tensorflow:loss = 0.80469775, step = 7000 (59.479 sec)\n"
          ],
          "name": "stderr"
        },
        {
          "output_type": "stream",
          "text": [
            "INFO:tensorflow:global_step/sec: 3.95238\n"
          ],
          "name": "stdout"
        },
        {
          "output_type": "stream",
          "text": [
            "INFO:tensorflow:global_step/sec: 3.95238\n"
          ],
          "name": "stderr"
        },
        {
          "output_type": "stream",
          "text": [
            "INFO:tensorflow:loss = 1.9690058, step = 7100 (25.301 sec)\n"
          ],
          "name": "stdout"
        },
        {
          "output_type": "stream",
          "text": [
            "INFO:tensorflow:loss = 1.9690058, step = 7100 (25.301 sec)\n"
          ],
          "name": "stderr"
        },
        {
          "output_type": "stream",
          "text": [
            "INFO:tensorflow:global_step/sec: 3.94103\n"
          ],
          "name": "stdout"
        },
        {
          "output_type": "stream",
          "text": [
            "INFO:tensorflow:global_step/sec: 3.94103\n"
          ],
          "name": "stderr"
        },
        {
          "output_type": "stream",
          "text": [
            "INFO:tensorflow:loss = 1.8092707, step = 7200 (25.374 sec)\n"
          ],
          "name": "stdout"
        },
        {
          "output_type": "stream",
          "text": [
            "INFO:tensorflow:loss = 1.8092707, step = 7200 (25.374 sec)\n"
          ],
          "name": "stderr"
        },
        {
          "output_type": "stream",
          "text": [
            "INFO:tensorflow:global_step/sec: 3.95032\n"
          ],
          "name": "stdout"
        },
        {
          "output_type": "stream",
          "text": [
            "INFO:tensorflow:global_step/sec: 3.95032\n"
          ],
          "name": "stderr"
        },
        {
          "output_type": "stream",
          "text": [
            "INFO:tensorflow:loss = 1.0733206, step = 7300 (25.317 sec)\n"
          ],
          "name": "stdout"
        },
        {
          "output_type": "stream",
          "text": [
            "INFO:tensorflow:loss = 1.0733206, step = 7300 (25.317 sec)\n"
          ],
          "name": "stderr"
        },
        {
          "output_type": "stream",
          "text": [
            "INFO:tensorflow:global_step/sec: 3.95109\n"
          ],
          "name": "stdout"
        },
        {
          "output_type": "stream",
          "text": [
            "INFO:tensorflow:global_step/sec: 3.95109\n"
          ],
          "name": "stderr"
        },
        {
          "output_type": "stream",
          "text": [
            "INFO:tensorflow:loss = 1.2086152, step = 7400 (25.309 sec)\n"
          ],
          "name": "stdout"
        },
        {
          "output_type": "stream",
          "text": [
            "INFO:tensorflow:loss = 1.2086152, step = 7400 (25.309 sec)\n"
          ],
          "name": "stderr"
        },
        {
          "output_type": "stream",
          "text": [
            "INFO:tensorflow:Calling checkpoint listeners before saving checkpoint 7500...\n"
          ],
          "name": "stdout"
        },
        {
          "output_type": "stream",
          "text": [
            "INFO:tensorflow:Calling checkpoint listeners before saving checkpoint 7500...\n"
          ],
          "name": "stderr"
        },
        {
          "output_type": "stream",
          "text": [
            "INFO:tensorflow:Saving checkpoints for 7500 into /gdrive/My Drive/nlp/bert_output/model.ckpt.\n"
          ],
          "name": "stdout"
        },
        {
          "output_type": "stream",
          "text": [
            "INFO:tensorflow:Saving checkpoints for 7500 into /gdrive/My Drive/nlp/bert_output/model.ckpt.\n"
          ],
          "name": "stderr"
        },
        {
          "output_type": "stream",
          "text": [
            "INFO:tensorflow:Calling checkpoint listeners after saving checkpoint 7500...\n"
          ],
          "name": "stdout"
        },
        {
          "output_type": "stream",
          "text": [
            "INFO:tensorflow:Calling checkpoint listeners after saving checkpoint 7500...\n"
          ],
          "name": "stderr"
        },
        {
          "output_type": "stream",
          "text": [
            "INFO:tensorflow:global_step/sec: 1.24437\n"
          ],
          "name": "stdout"
        },
        {
          "output_type": "stream",
          "text": [
            "INFO:tensorflow:global_step/sec: 1.24437\n"
          ],
          "name": "stderr"
        },
        {
          "output_type": "stream",
          "text": [
            "INFO:tensorflow:loss = 1.013599, step = 7500 (80.362 sec)\n"
          ],
          "name": "stdout"
        },
        {
          "output_type": "stream",
          "text": [
            "INFO:tensorflow:loss = 1.013599, step = 7500 (80.362 sec)\n"
          ],
          "name": "stderr"
        },
        {
          "output_type": "stream",
          "text": [
            "INFO:tensorflow:global_step/sec: 3.95813\n"
          ],
          "name": "stdout"
        },
        {
          "output_type": "stream",
          "text": [
            "INFO:tensorflow:global_step/sec: 3.95813\n"
          ],
          "name": "stderr"
        },
        {
          "output_type": "stream",
          "text": [
            "INFO:tensorflow:loss = 0.47696787, step = 7600 (25.265 sec)\n"
          ],
          "name": "stdout"
        },
        {
          "output_type": "stream",
          "text": [
            "INFO:tensorflow:loss = 0.47696787, step = 7600 (25.265 sec)\n"
          ],
          "name": "stderr"
        },
        {
          "output_type": "stream",
          "text": [
            "INFO:tensorflow:global_step/sec: 3.96201\n"
          ],
          "name": "stdout"
        },
        {
          "output_type": "stream",
          "text": [
            "INFO:tensorflow:global_step/sec: 3.96201\n"
          ],
          "name": "stderr"
        },
        {
          "output_type": "stream",
          "text": [
            "INFO:tensorflow:loss = 0.62085116, step = 7700 (25.238 sec)\n"
          ],
          "name": "stdout"
        },
        {
          "output_type": "stream",
          "text": [
            "INFO:tensorflow:loss = 0.62085116, step = 7700 (25.238 sec)\n"
          ],
          "name": "stderr"
        },
        {
          "output_type": "stream",
          "text": [
            "INFO:tensorflow:global_step/sec: 3.96267\n"
          ],
          "name": "stdout"
        },
        {
          "output_type": "stream",
          "text": [
            "INFO:tensorflow:global_step/sec: 3.96267\n"
          ],
          "name": "stderr"
        },
        {
          "output_type": "stream",
          "text": [
            "INFO:tensorflow:loss = 1.1735471, step = 7800 (25.237 sec)\n"
          ],
          "name": "stdout"
        },
        {
          "output_type": "stream",
          "text": [
            "INFO:tensorflow:loss = 1.1735471, step = 7800 (25.237 sec)\n"
          ],
          "name": "stderr"
        },
        {
          "output_type": "stream",
          "text": [
            "INFO:tensorflow:global_step/sec: 3.97139\n"
          ],
          "name": "stdout"
        },
        {
          "output_type": "stream",
          "text": [
            "INFO:tensorflow:global_step/sec: 3.97139\n"
          ],
          "name": "stderr"
        },
        {
          "output_type": "stream",
          "text": [
            "INFO:tensorflow:loss = 1.1824076, step = 7900 (25.178 sec)\n"
          ],
          "name": "stdout"
        },
        {
          "output_type": "stream",
          "text": [
            "INFO:tensorflow:loss = 1.1824076, step = 7900 (25.178 sec)\n"
          ],
          "name": "stderr"
        },
        {
          "output_type": "stream",
          "text": [
            "INFO:tensorflow:Calling checkpoint listeners before saving checkpoint 8000...\n"
          ],
          "name": "stdout"
        },
        {
          "output_type": "stream",
          "text": [
            "INFO:tensorflow:Calling checkpoint listeners before saving checkpoint 8000...\n"
          ],
          "name": "stderr"
        },
        {
          "output_type": "stream",
          "text": [
            "INFO:tensorflow:Saving checkpoints for 8000 into /gdrive/My Drive/nlp/bert_output/model.ckpt.\n"
          ],
          "name": "stdout"
        },
        {
          "output_type": "stream",
          "text": [
            "INFO:tensorflow:Saving checkpoints for 8000 into /gdrive/My Drive/nlp/bert_output/model.ckpt.\n"
          ],
          "name": "stderr"
        },
        {
          "output_type": "stream",
          "text": [
            "INFO:tensorflow:Calling checkpoint listeners after saving checkpoint 8000...\n"
          ],
          "name": "stdout"
        },
        {
          "output_type": "stream",
          "text": [
            "INFO:tensorflow:Calling checkpoint listeners after saving checkpoint 8000...\n"
          ],
          "name": "stderr"
        },
        {
          "output_type": "stream",
          "text": [
            "INFO:tensorflow:global_step/sec: 1.92371\n"
          ],
          "name": "stdout"
        },
        {
          "output_type": "stream",
          "text": [
            "INFO:tensorflow:global_step/sec: 1.92371\n"
          ],
          "name": "stderr"
        },
        {
          "output_type": "stream",
          "text": [
            "INFO:tensorflow:loss = 1.2516522, step = 8000 (51.983 sec)\n"
          ],
          "name": "stdout"
        },
        {
          "output_type": "stream",
          "text": [
            "INFO:tensorflow:loss = 1.2516522, step = 8000 (51.983 sec)\n"
          ],
          "name": "stderr"
        },
        {
          "output_type": "stream",
          "text": [
            "INFO:tensorflow:global_step/sec: 3.96469\n"
          ],
          "name": "stdout"
        },
        {
          "output_type": "stream",
          "text": [
            "INFO:tensorflow:global_step/sec: 3.96469\n"
          ],
          "name": "stderr"
        },
        {
          "output_type": "stream",
          "text": [
            "INFO:tensorflow:loss = 1.6134238, step = 8100 (25.223 sec)\n"
          ],
          "name": "stdout"
        },
        {
          "output_type": "stream",
          "text": [
            "INFO:tensorflow:loss = 1.6134238, step = 8100 (25.223 sec)\n"
          ],
          "name": "stderr"
        },
        {
          "output_type": "stream",
          "text": [
            "INFO:tensorflow:global_step/sec: 3.95701\n"
          ],
          "name": "stdout"
        },
        {
          "output_type": "stream",
          "text": [
            "INFO:tensorflow:global_step/sec: 3.95701\n"
          ],
          "name": "stderr"
        },
        {
          "output_type": "stream",
          "text": [
            "INFO:tensorflow:loss = 1.3566147, step = 8200 (25.271 sec)\n"
          ],
          "name": "stdout"
        },
        {
          "output_type": "stream",
          "text": [
            "INFO:tensorflow:loss = 1.3566147, step = 8200 (25.271 sec)\n"
          ],
          "name": "stderr"
        },
        {
          "output_type": "stream",
          "text": [
            "INFO:tensorflow:global_step/sec: 3.96431\n"
          ],
          "name": "stdout"
        },
        {
          "output_type": "stream",
          "text": [
            "INFO:tensorflow:global_step/sec: 3.96431\n"
          ],
          "name": "stderr"
        },
        {
          "output_type": "stream",
          "text": [
            "INFO:tensorflow:loss = 1.1720388, step = 8300 (25.228 sec)\n"
          ],
          "name": "stdout"
        },
        {
          "output_type": "stream",
          "text": [
            "INFO:tensorflow:loss = 1.1720388, step = 8300 (25.228 sec)\n"
          ],
          "name": "stderr"
        },
        {
          "output_type": "stream",
          "text": [
            "INFO:tensorflow:global_step/sec: 3.97002\n"
          ],
          "name": "stdout"
        },
        {
          "output_type": "stream",
          "text": [
            "INFO:tensorflow:global_step/sec: 3.97002\n"
          ],
          "name": "stderr"
        },
        {
          "output_type": "stream",
          "text": [
            "INFO:tensorflow:loss = 1.0176563, step = 8400 (25.188 sec)\n"
          ],
          "name": "stdout"
        },
        {
          "output_type": "stream",
          "text": [
            "INFO:tensorflow:loss = 1.0176563, step = 8400 (25.188 sec)\n"
          ],
          "name": "stderr"
        },
        {
          "output_type": "stream",
          "text": [
            "INFO:tensorflow:Calling checkpoint listeners before saving checkpoint 8500...\n"
          ],
          "name": "stdout"
        },
        {
          "output_type": "stream",
          "text": [
            "INFO:tensorflow:Calling checkpoint listeners before saving checkpoint 8500...\n"
          ],
          "name": "stderr"
        },
        {
          "output_type": "stream",
          "text": [
            "INFO:tensorflow:Saving checkpoints for 8500 into /gdrive/My Drive/nlp/bert_output/model.ckpt.\n"
          ],
          "name": "stdout"
        },
        {
          "output_type": "stream",
          "text": [
            "INFO:tensorflow:Saving checkpoints for 8500 into /gdrive/My Drive/nlp/bert_output/model.ckpt.\n"
          ],
          "name": "stderr"
        },
        {
          "output_type": "stream",
          "text": [
            "INFO:tensorflow:Calling checkpoint listeners after saving checkpoint 8500...\n"
          ],
          "name": "stdout"
        },
        {
          "output_type": "stream",
          "text": [
            "INFO:tensorflow:Calling checkpoint listeners after saving checkpoint 8500...\n"
          ],
          "name": "stderr"
        },
        {
          "output_type": "stream",
          "text": [
            "INFO:tensorflow:global_step/sec: 1.88743\n"
          ],
          "name": "stdout"
        },
        {
          "output_type": "stream",
          "text": [
            "INFO:tensorflow:global_step/sec: 1.88743\n"
          ],
          "name": "stderr"
        },
        {
          "output_type": "stream",
          "text": [
            "INFO:tensorflow:loss = 1.4733435, step = 8500 (52.982 sec)\n"
          ],
          "name": "stdout"
        },
        {
          "output_type": "stream",
          "text": [
            "INFO:tensorflow:loss = 1.4733435, step = 8500 (52.982 sec)\n"
          ],
          "name": "stderr"
        },
        {
          "output_type": "stream",
          "text": [
            "INFO:tensorflow:global_step/sec: 3.95606\n"
          ],
          "name": "stdout"
        },
        {
          "output_type": "stream",
          "text": [
            "INFO:tensorflow:global_step/sec: 3.95606\n"
          ],
          "name": "stderr"
        },
        {
          "output_type": "stream",
          "text": [
            "INFO:tensorflow:loss = 1.0609379, step = 8600 (25.277 sec)\n"
          ],
          "name": "stdout"
        },
        {
          "output_type": "stream",
          "text": [
            "INFO:tensorflow:loss = 1.0609379, step = 8600 (25.277 sec)\n"
          ],
          "name": "stderr"
        },
        {
          "output_type": "stream",
          "text": [
            "INFO:tensorflow:global_step/sec: 3.95453\n"
          ],
          "name": "stdout"
        },
        {
          "output_type": "stream",
          "text": [
            "INFO:tensorflow:global_step/sec: 3.95453\n"
          ],
          "name": "stderr"
        },
        {
          "output_type": "stream",
          "text": [
            "INFO:tensorflow:loss = 0.64736164, step = 8700 (25.286 sec)\n"
          ],
          "name": "stdout"
        },
        {
          "output_type": "stream",
          "text": [
            "INFO:tensorflow:loss = 0.64736164, step = 8700 (25.286 sec)\n"
          ],
          "name": "stderr"
        },
        {
          "output_type": "stream",
          "text": [
            "INFO:tensorflow:global_step/sec: 3.96588\n"
          ],
          "name": "stdout"
        },
        {
          "output_type": "stream",
          "text": [
            "INFO:tensorflow:global_step/sec: 3.96588\n"
          ],
          "name": "stderr"
        },
        {
          "output_type": "stream",
          "text": [
            "INFO:tensorflow:loss = 1.1735615, step = 8800 (25.216 sec)\n"
          ],
          "name": "stdout"
        },
        {
          "output_type": "stream",
          "text": [
            "INFO:tensorflow:loss = 1.1735615, step = 8800 (25.216 sec)\n"
          ],
          "name": "stderr"
        },
        {
          "output_type": "stream",
          "text": [
            "INFO:tensorflow:global_step/sec: 3.96797\n"
          ],
          "name": "stdout"
        },
        {
          "output_type": "stream",
          "text": [
            "INFO:tensorflow:global_step/sec: 3.96797\n"
          ],
          "name": "stderr"
        },
        {
          "output_type": "stream",
          "text": [
            "INFO:tensorflow:loss = 0.78225267, step = 8900 (25.201 sec)\n"
          ],
          "name": "stdout"
        },
        {
          "output_type": "stream",
          "text": [
            "INFO:tensorflow:loss = 0.78225267, step = 8900 (25.201 sec)\n"
          ],
          "name": "stderr"
        },
        {
          "output_type": "stream",
          "text": [
            "INFO:tensorflow:Calling checkpoint listeners before saving checkpoint 9000...\n"
          ],
          "name": "stdout"
        },
        {
          "output_type": "stream",
          "text": [
            "INFO:tensorflow:Calling checkpoint listeners before saving checkpoint 9000...\n"
          ],
          "name": "stderr"
        },
        {
          "output_type": "stream",
          "text": [
            "INFO:tensorflow:Saving checkpoints for 9000 into /gdrive/My Drive/nlp/bert_output/model.ckpt.\n"
          ],
          "name": "stdout"
        },
        {
          "output_type": "stream",
          "text": [
            "INFO:tensorflow:Saving checkpoints for 9000 into /gdrive/My Drive/nlp/bert_output/model.ckpt.\n"
          ],
          "name": "stderr"
        },
        {
          "output_type": "stream",
          "text": [
            "INFO:tensorflow:Calling checkpoint listeners after saving checkpoint 9000...\n"
          ],
          "name": "stdout"
        },
        {
          "output_type": "stream",
          "text": [
            "INFO:tensorflow:Calling checkpoint listeners after saving checkpoint 9000...\n"
          ],
          "name": "stderr"
        },
        {
          "output_type": "stream",
          "text": [
            "INFO:tensorflow:global_step/sec: 1.92023\n"
          ],
          "name": "stdout"
        },
        {
          "output_type": "stream",
          "text": [
            "INFO:tensorflow:global_step/sec: 1.92023\n"
          ],
          "name": "stderr"
        },
        {
          "output_type": "stream",
          "text": [
            "INFO:tensorflow:loss = 1.0917623, step = 9000 (52.077 sec)\n"
          ],
          "name": "stdout"
        },
        {
          "output_type": "stream",
          "text": [
            "INFO:tensorflow:loss = 1.0917623, step = 9000 (52.077 sec)\n"
          ],
          "name": "stderr"
        },
        {
          "output_type": "stream",
          "text": [
            "INFO:tensorflow:global_step/sec: 3.95886\n"
          ],
          "name": "stdout"
        },
        {
          "output_type": "stream",
          "text": [
            "INFO:tensorflow:global_step/sec: 3.95886\n"
          ],
          "name": "stderr"
        },
        {
          "output_type": "stream",
          "text": [
            "INFO:tensorflow:loss = 1.70444, step = 9100 (25.263 sec)\n"
          ],
          "name": "stdout"
        },
        {
          "output_type": "stream",
          "text": [
            "INFO:tensorflow:loss = 1.70444, step = 9100 (25.263 sec)\n"
          ],
          "name": "stderr"
        },
        {
          "output_type": "stream",
          "text": [
            "INFO:tensorflow:global_step/sec: 3.95219\n"
          ],
          "name": "stdout"
        },
        {
          "output_type": "stream",
          "text": [
            "INFO:tensorflow:global_step/sec: 3.95219\n"
          ],
          "name": "stderr"
        },
        {
          "output_type": "stream",
          "text": [
            "INFO:tensorflow:loss = 1.5411203, step = 9200 (25.299 sec)\n"
          ],
          "name": "stdout"
        },
        {
          "output_type": "stream",
          "text": [
            "INFO:tensorflow:loss = 1.5411203, step = 9200 (25.299 sec)\n"
          ],
          "name": "stderr"
        },
        {
          "output_type": "stream",
          "text": [
            "INFO:tensorflow:global_step/sec: 3.96007\n"
          ],
          "name": "stdout"
        },
        {
          "output_type": "stream",
          "text": [
            "INFO:tensorflow:global_step/sec: 3.96007\n"
          ],
          "name": "stderr"
        },
        {
          "output_type": "stream",
          "text": [
            "INFO:tensorflow:loss = 0.74116933, step = 9300 (25.252 sec)\n"
          ],
          "name": "stdout"
        },
        {
          "output_type": "stream",
          "text": [
            "INFO:tensorflow:loss = 0.74116933, step = 9300 (25.252 sec)\n"
          ],
          "name": "stderr"
        },
        {
          "output_type": "stream",
          "text": [
            "INFO:tensorflow:global_step/sec: 3.97232\n"
          ],
          "name": "stdout"
        },
        {
          "output_type": "stream",
          "text": [
            "INFO:tensorflow:global_step/sec: 3.97232\n"
          ],
          "name": "stderr"
        },
        {
          "output_type": "stream",
          "text": [
            "INFO:tensorflow:loss = 0.7430161, step = 9400 (25.175 sec)\n"
          ],
          "name": "stdout"
        },
        {
          "output_type": "stream",
          "text": [
            "INFO:tensorflow:loss = 0.7430161, step = 9400 (25.175 sec)\n"
          ],
          "name": "stderr"
        },
        {
          "output_type": "stream",
          "text": [
            "INFO:tensorflow:Calling checkpoint listeners before saving checkpoint 9500...\n"
          ],
          "name": "stdout"
        },
        {
          "output_type": "stream",
          "text": [
            "INFO:tensorflow:Calling checkpoint listeners before saving checkpoint 9500...\n"
          ],
          "name": "stderr"
        },
        {
          "output_type": "stream",
          "text": [
            "INFO:tensorflow:Saving checkpoints for 9500 into /gdrive/My Drive/nlp/bert_output/model.ckpt.\n"
          ],
          "name": "stdout"
        },
        {
          "output_type": "stream",
          "text": [
            "INFO:tensorflow:Saving checkpoints for 9500 into /gdrive/My Drive/nlp/bert_output/model.ckpt.\n"
          ],
          "name": "stderr"
        },
        {
          "output_type": "stream",
          "text": [
            "INFO:tensorflow:Calling checkpoint listeners after saving checkpoint 9500...\n"
          ],
          "name": "stdout"
        },
        {
          "output_type": "stream",
          "text": [
            "INFO:tensorflow:Calling checkpoint listeners after saving checkpoint 9500...\n"
          ],
          "name": "stderr"
        },
        {
          "output_type": "stream",
          "text": [
            "INFO:tensorflow:global_step/sec: 1.91714\n"
          ],
          "name": "stdout"
        },
        {
          "output_type": "stream",
          "text": [
            "INFO:tensorflow:global_step/sec: 1.91714\n"
          ],
          "name": "stderr"
        },
        {
          "output_type": "stream",
          "text": [
            "INFO:tensorflow:loss = 1.2113662, step = 9500 (52.161 sec)\n"
          ],
          "name": "stdout"
        },
        {
          "output_type": "stream",
          "text": [
            "INFO:tensorflow:loss = 1.2113662, step = 9500 (52.161 sec)\n"
          ],
          "name": "stderr"
        },
        {
          "output_type": "stream",
          "text": [
            "INFO:tensorflow:global_step/sec: 3.9624\n"
          ],
          "name": "stdout"
        },
        {
          "output_type": "stream",
          "text": [
            "INFO:tensorflow:global_step/sec: 3.9624\n"
          ],
          "name": "stderr"
        },
        {
          "output_type": "stream",
          "text": [
            "INFO:tensorflow:loss = 0.8692696, step = 9600 (25.239 sec)\n"
          ],
          "name": "stdout"
        },
        {
          "output_type": "stream",
          "text": [
            "INFO:tensorflow:loss = 0.8692696, step = 9600 (25.239 sec)\n"
          ],
          "name": "stderr"
        },
        {
          "output_type": "stream",
          "text": [
            "INFO:tensorflow:global_step/sec: 3.95043\n"
          ],
          "name": "stdout"
        },
        {
          "output_type": "stream",
          "text": [
            "INFO:tensorflow:global_step/sec: 3.95043\n"
          ],
          "name": "stderr"
        },
        {
          "output_type": "stream",
          "text": [
            "INFO:tensorflow:loss = 0.5929278, step = 9700 (25.317 sec)\n"
          ],
          "name": "stdout"
        },
        {
          "output_type": "stream",
          "text": [
            "INFO:tensorflow:loss = 0.5929278, step = 9700 (25.317 sec)\n"
          ],
          "name": "stderr"
        },
        {
          "output_type": "stream",
          "text": [
            "INFO:tensorflow:global_step/sec: 3.95975\n"
          ],
          "name": "stdout"
        },
        {
          "output_type": "stream",
          "text": [
            "INFO:tensorflow:global_step/sec: 3.95975\n"
          ],
          "name": "stderr"
        },
        {
          "output_type": "stream",
          "text": [
            "INFO:tensorflow:loss = 1.3012675, step = 9800 (25.250 sec)\n"
          ],
          "name": "stdout"
        },
        {
          "output_type": "stream",
          "text": [
            "INFO:tensorflow:loss = 1.3012675, step = 9800 (25.250 sec)\n"
          ],
          "name": "stderr"
        },
        {
          "output_type": "stream",
          "text": [
            "INFO:tensorflow:global_step/sec: 3.96709\n"
          ],
          "name": "stdout"
        },
        {
          "output_type": "stream",
          "text": [
            "INFO:tensorflow:global_step/sec: 3.96709\n"
          ],
          "name": "stderr"
        },
        {
          "output_type": "stream",
          "text": [
            "INFO:tensorflow:loss = 1.2950381, step = 9900 (25.209 sec)\n"
          ],
          "name": "stdout"
        },
        {
          "output_type": "stream",
          "text": [
            "INFO:tensorflow:loss = 1.2950381, step = 9900 (25.209 sec)\n"
          ],
          "name": "stderr"
        },
        {
          "output_type": "stream",
          "text": [
            "INFO:tensorflow:Calling checkpoint listeners before saving checkpoint 10000...\n"
          ],
          "name": "stdout"
        },
        {
          "output_type": "stream",
          "text": [
            "INFO:tensorflow:Calling checkpoint listeners before saving checkpoint 10000...\n"
          ],
          "name": "stderr"
        },
        {
          "output_type": "stream",
          "text": [
            "INFO:tensorflow:Saving checkpoints for 10000 into /gdrive/My Drive/nlp/bert_output/model.ckpt.\n"
          ],
          "name": "stdout"
        },
        {
          "output_type": "stream",
          "text": [
            "INFO:tensorflow:Saving checkpoints for 10000 into /gdrive/My Drive/nlp/bert_output/model.ckpt.\n"
          ],
          "name": "stderr"
        },
        {
          "output_type": "stream",
          "text": [
            "INFO:tensorflow:Calling checkpoint listeners after saving checkpoint 10000...\n"
          ],
          "name": "stdout"
        },
        {
          "output_type": "stream",
          "text": [
            "INFO:tensorflow:Calling checkpoint listeners after saving checkpoint 10000...\n"
          ],
          "name": "stderr"
        },
        {
          "output_type": "stream",
          "text": [
            "INFO:tensorflow:global_step/sec: 1.851\n"
          ],
          "name": "stdout"
        },
        {
          "output_type": "stream",
          "text": [
            "INFO:tensorflow:global_step/sec: 1.851\n"
          ],
          "name": "stderr"
        },
        {
          "output_type": "stream",
          "text": [
            "INFO:tensorflow:loss = 1.1590526, step = 10000 (54.027 sec)\n"
          ],
          "name": "stdout"
        },
        {
          "output_type": "stream",
          "text": [
            "INFO:tensorflow:loss = 1.1590526, step = 10000 (54.027 sec)\n"
          ],
          "name": "stderr"
        },
        {
          "output_type": "stream",
          "text": [
            "INFO:tensorflow:global_step/sec: 3.96276\n"
          ],
          "name": "stdout"
        },
        {
          "output_type": "stream",
          "text": [
            "INFO:tensorflow:global_step/sec: 3.96276\n"
          ],
          "name": "stderr"
        },
        {
          "output_type": "stream",
          "text": [
            "INFO:tensorflow:loss = 0.56503665, step = 10100 (25.229 sec)\n"
          ],
          "name": "stdout"
        },
        {
          "output_type": "stream",
          "text": [
            "INFO:tensorflow:loss = 0.56503665, step = 10100 (25.229 sec)\n"
          ],
          "name": "stderr"
        },
        {
          "output_type": "stream",
          "text": [
            "INFO:tensorflow:global_step/sec: 3.95514\n"
          ],
          "name": "stdout"
        },
        {
          "output_type": "stream",
          "text": [
            "INFO:tensorflow:global_step/sec: 3.95514\n"
          ],
          "name": "stderr"
        },
        {
          "output_type": "stream",
          "text": [
            "INFO:tensorflow:loss = 1.0145532, step = 10200 (25.284 sec)\n"
          ],
          "name": "stdout"
        },
        {
          "output_type": "stream",
          "text": [
            "INFO:tensorflow:loss = 1.0145532, step = 10200 (25.284 sec)\n"
          ],
          "name": "stderr"
        },
        {
          "output_type": "stream",
          "text": [
            "INFO:tensorflow:global_step/sec: 3.96102\n"
          ],
          "name": "stdout"
        },
        {
          "output_type": "stream",
          "text": [
            "INFO:tensorflow:global_step/sec: 3.96102\n"
          ],
          "name": "stderr"
        },
        {
          "output_type": "stream",
          "text": [
            "INFO:tensorflow:loss = 1.121066, step = 10300 (25.246 sec)\n"
          ],
          "name": "stdout"
        },
        {
          "output_type": "stream",
          "text": [
            "INFO:tensorflow:loss = 1.121066, step = 10300 (25.246 sec)\n"
          ],
          "name": "stderr"
        },
        {
          "output_type": "stream",
          "text": [
            "INFO:tensorflow:global_step/sec: 3.96904\n"
          ],
          "name": "stdout"
        },
        {
          "output_type": "stream",
          "text": [
            "INFO:tensorflow:global_step/sec: 3.96904\n"
          ],
          "name": "stderr"
        },
        {
          "output_type": "stream",
          "text": [
            "INFO:tensorflow:loss = 1.1722112, step = 10400 (25.195 sec)\n"
          ],
          "name": "stdout"
        },
        {
          "output_type": "stream",
          "text": [
            "INFO:tensorflow:loss = 1.1722112, step = 10400 (25.195 sec)\n"
          ],
          "name": "stderr"
        },
        {
          "output_type": "stream",
          "text": [
            "INFO:tensorflow:Calling checkpoint listeners before saving checkpoint 10500...\n"
          ],
          "name": "stdout"
        },
        {
          "output_type": "stream",
          "text": [
            "INFO:tensorflow:Calling checkpoint listeners before saving checkpoint 10500...\n"
          ],
          "name": "stderr"
        },
        {
          "output_type": "stream",
          "text": [
            "INFO:tensorflow:Saving checkpoints for 10500 into /gdrive/My Drive/nlp/bert_output/model.ckpt.\n"
          ],
          "name": "stdout"
        },
        {
          "output_type": "stream",
          "text": [
            "INFO:tensorflow:Saving checkpoints for 10500 into /gdrive/My Drive/nlp/bert_output/model.ckpt.\n"
          ],
          "name": "stderr"
        },
        {
          "output_type": "stream",
          "text": [
            "INFO:tensorflow:Calling checkpoint listeners after saving checkpoint 10500...\n"
          ],
          "name": "stdout"
        },
        {
          "output_type": "stream",
          "text": [
            "INFO:tensorflow:Calling checkpoint listeners after saving checkpoint 10500...\n"
          ],
          "name": "stderr"
        },
        {
          "output_type": "stream",
          "text": [
            "INFO:tensorflow:global_step/sec: 1.92363\n"
          ],
          "name": "stdout"
        },
        {
          "output_type": "stream",
          "text": [
            "INFO:tensorflow:global_step/sec: 1.92363\n"
          ],
          "name": "stderr"
        },
        {
          "output_type": "stream",
          "text": [
            "INFO:tensorflow:loss = 1.2043111, step = 10500 (51.985 sec)\n"
          ],
          "name": "stdout"
        },
        {
          "output_type": "stream",
          "text": [
            "INFO:tensorflow:loss = 1.2043111, step = 10500 (51.985 sec)\n"
          ],
          "name": "stderr"
        },
        {
          "output_type": "stream",
          "text": [
            "INFO:tensorflow:global_step/sec: 3.96057\n"
          ],
          "name": "stdout"
        },
        {
          "output_type": "stream",
          "text": [
            "INFO:tensorflow:global_step/sec: 3.96057\n"
          ],
          "name": "stderr"
        },
        {
          "output_type": "stream",
          "text": [
            "INFO:tensorflow:loss = 1.5628448, step = 10600 (25.249 sec)\n"
          ],
          "name": "stdout"
        },
        {
          "output_type": "stream",
          "text": [
            "INFO:tensorflow:loss = 1.5628448, step = 10600 (25.249 sec)\n"
          ],
          "name": "stderr"
        },
        {
          "output_type": "stream",
          "text": [
            "INFO:tensorflow:global_step/sec: 3.9597\n"
          ],
          "name": "stdout"
        },
        {
          "output_type": "stream",
          "text": [
            "INFO:tensorflow:global_step/sec: 3.9597\n"
          ],
          "name": "stderr"
        },
        {
          "output_type": "stream",
          "text": [
            "INFO:tensorflow:loss = 0.55876696, step = 10700 (25.255 sec)\n"
          ],
          "name": "stdout"
        },
        {
          "output_type": "stream",
          "text": [
            "INFO:tensorflow:loss = 0.55876696, step = 10700 (25.255 sec)\n"
          ],
          "name": "stderr"
        },
        {
          "output_type": "stream",
          "text": [
            "INFO:tensorflow:global_step/sec: 3.9627\n"
          ],
          "name": "stdout"
        },
        {
          "output_type": "stream",
          "text": [
            "INFO:tensorflow:global_step/sec: 3.9627\n"
          ],
          "name": "stderr"
        },
        {
          "output_type": "stream",
          "text": [
            "INFO:tensorflow:loss = 1.4733943, step = 10800 (25.235 sec)\n"
          ],
          "name": "stdout"
        },
        {
          "output_type": "stream",
          "text": [
            "INFO:tensorflow:loss = 1.4733943, step = 10800 (25.235 sec)\n"
          ],
          "name": "stderr"
        },
        {
          "output_type": "stream",
          "text": [
            "INFO:tensorflow:global_step/sec: 3.96825\n"
          ],
          "name": "stdout"
        },
        {
          "output_type": "stream",
          "text": [
            "INFO:tensorflow:global_step/sec: 3.96825\n"
          ],
          "name": "stderr"
        },
        {
          "output_type": "stream",
          "text": [
            "INFO:tensorflow:loss = 1.8229603, step = 10900 (25.200 sec)\n"
          ],
          "name": "stdout"
        },
        {
          "output_type": "stream",
          "text": [
            "INFO:tensorflow:loss = 1.8229603, step = 10900 (25.200 sec)\n"
          ],
          "name": "stderr"
        },
        {
          "output_type": "stream",
          "text": [
            "INFO:tensorflow:Calling checkpoint listeners before saving checkpoint 11000...\n"
          ],
          "name": "stdout"
        },
        {
          "output_type": "stream",
          "text": [
            "INFO:tensorflow:Calling checkpoint listeners before saving checkpoint 11000...\n"
          ],
          "name": "stderr"
        },
        {
          "output_type": "stream",
          "text": [
            "INFO:tensorflow:Saving checkpoints for 11000 into /gdrive/My Drive/nlp/bert_output/model.ckpt.\n"
          ],
          "name": "stdout"
        },
        {
          "output_type": "stream",
          "text": [
            "INFO:tensorflow:Saving checkpoints for 11000 into /gdrive/My Drive/nlp/bert_output/model.ckpt.\n"
          ],
          "name": "stderr"
        },
        {
          "output_type": "stream",
          "text": [
            "INFO:tensorflow:Calling checkpoint listeners after saving checkpoint 11000...\n"
          ],
          "name": "stdout"
        },
        {
          "output_type": "stream",
          "text": [
            "INFO:tensorflow:Calling checkpoint listeners after saving checkpoint 11000...\n"
          ],
          "name": "stderr"
        },
        {
          "output_type": "stream",
          "text": [
            "INFO:tensorflow:global_step/sec: 1.88743\n"
          ],
          "name": "stdout"
        },
        {
          "output_type": "stream",
          "text": [
            "INFO:tensorflow:global_step/sec: 1.88743\n"
          ],
          "name": "stderr"
        },
        {
          "output_type": "stream",
          "text": [
            "INFO:tensorflow:loss = 0.57552296, step = 11000 (52.984 sec)\n"
          ],
          "name": "stdout"
        },
        {
          "output_type": "stream",
          "text": [
            "INFO:tensorflow:loss = 0.57552296, step = 11000 (52.984 sec)\n"
          ],
          "name": "stderr"
        },
        {
          "output_type": "stream",
          "text": [
            "INFO:tensorflow:global_step/sec: 3.95968\n"
          ],
          "name": "stdout"
        },
        {
          "output_type": "stream",
          "text": [
            "INFO:tensorflow:global_step/sec: 3.95968\n"
          ],
          "name": "stderr"
        },
        {
          "output_type": "stream",
          "text": [
            "INFO:tensorflow:loss = 1.7329481, step = 11100 (25.253 sec)\n"
          ],
          "name": "stdout"
        },
        {
          "output_type": "stream",
          "text": [
            "INFO:tensorflow:loss = 1.7329481, step = 11100 (25.253 sec)\n"
          ],
          "name": "stderr"
        },
        {
          "output_type": "stream",
          "text": [
            "INFO:tensorflow:global_step/sec: 3.95961\n"
          ],
          "name": "stdout"
        },
        {
          "output_type": "stream",
          "text": [
            "INFO:tensorflow:global_step/sec: 3.95961\n"
          ],
          "name": "stderr"
        },
        {
          "output_type": "stream",
          "text": [
            "INFO:tensorflow:loss = 0.97760856, step = 11200 (25.255 sec)\n"
          ],
          "name": "stdout"
        },
        {
          "output_type": "stream",
          "text": [
            "INFO:tensorflow:loss = 0.97760856, step = 11200 (25.255 sec)\n"
          ],
          "name": "stderr"
        },
        {
          "output_type": "stream",
          "text": [
            "INFO:tensorflow:global_step/sec: 3.96383\n"
          ],
          "name": "stdout"
        },
        {
          "output_type": "stream",
          "text": [
            "INFO:tensorflow:global_step/sec: 3.96383\n"
          ],
          "name": "stderr"
        },
        {
          "output_type": "stream",
          "text": [
            "INFO:tensorflow:loss = 1.8929203, step = 11300 (25.232 sec)\n"
          ],
          "name": "stdout"
        },
        {
          "output_type": "stream",
          "text": [
            "INFO:tensorflow:loss = 1.8929203, step = 11300 (25.232 sec)\n"
          ],
          "name": "stderr"
        },
        {
          "output_type": "stream",
          "text": [
            "INFO:tensorflow:global_step/sec: 3.97038\n"
          ],
          "name": "stdout"
        },
        {
          "output_type": "stream",
          "text": [
            "INFO:tensorflow:global_step/sec: 3.97038\n"
          ],
          "name": "stderr"
        },
        {
          "output_type": "stream",
          "text": [
            "INFO:tensorflow:loss = 0.85894644, step = 11400 (25.185 sec)\n"
          ],
          "name": "stdout"
        },
        {
          "output_type": "stream",
          "text": [
            "INFO:tensorflow:loss = 0.85894644, step = 11400 (25.185 sec)\n"
          ],
          "name": "stderr"
        },
        {
          "output_type": "stream",
          "text": [
            "INFO:tensorflow:Calling checkpoint listeners before saving checkpoint 11500...\n"
          ],
          "name": "stdout"
        },
        {
          "output_type": "stream",
          "text": [
            "INFO:tensorflow:Calling checkpoint listeners before saving checkpoint 11500...\n"
          ],
          "name": "stderr"
        },
        {
          "output_type": "stream",
          "text": [
            "INFO:tensorflow:Saving checkpoints for 11500 into /gdrive/My Drive/nlp/bert_output/model.ckpt.\n"
          ],
          "name": "stdout"
        },
        {
          "output_type": "stream",
          "text": [
            "INFO:tensorflow:Saving checkpoints for 11500 into /gdrive/My Drive/nlp/bert_output/model.ckpt.\n"
          ],
          "name": "stderr"
        },
        {
          "output_type": "stream",
          "text": [
            "INFO:tensorflow:Calling checkpoint listeners after saving checkpoint 11500...\n"
          ],
          "name": "stdout"
        },
        {
          "output_type": "stream",
          "text": [
            "INFO:tensorflow:Calling checkpoint listeners after saving checkpoint 11500...\n"
          ],
          "name": "stderr"
        },
        {
          "output_type": "stream",
          "text": [
            "INFO:tensorflow:global_step/sec: 1.87983\n"
          ],
          "name": "stdout"
        },
        {
          "output_type": "stream",
          "text": [
            "INFO:tensorflow:global_step/sec: 1.87983\n"
          ],
          "name": "stderr"
        },
        {
          "output_type": "stream",
          "text": [
            "INFO:tensorflow:loss = 0.9478322, step = 11500 (53.194 sec)\n"
          ],
          "name": "stdout"
        },
        {
          "output_type": "stream",
          "text": [
            "INFO:tensorflow:loss = 0.9478322, step = 11500 (53.194 sec)\n"
          ],
          "name": "stderr"
        },
        {
          "output_type": "stream",
          "text": [
            "INFO:tensorflow:global_step/sec: 3.93054\n"
          ],
          "name": "stdout"
        },
        {
          "output_type": "stream",
          "text": [
            "INFO:tensorflow:global_step/sec: 3.93054\n"
          ],
          "name": "stderr"
        },
        {
          "output_type": "stream",
          "text": [
            "INFO:tensorflow:loss = 1.0256168, step = 11600 (25.442 sec)\n"
          ],
          "name": "stdout"
        },
        {
          "output_type": "stream",
          "text": [
            "INFO:tensorflow:loss = 1.0256168, step = 11600 (25.442 sec)\n"
          ],
          "name": "stderr"
        },
        {
          "output_type": "stream",
          "text": [
            "INFO:tensorflow:global_step/sec: 3.95829\n"
          ],
          "name": "stdout"
        },
        {
          "output_type": "stream",
          "text": [
            "INFO:tensorflow:global_step/sec: 3.95829\n"
          ],
          "name": "stderr"
        },
        {
          "output_type": "stream",
          "text": [
            "INFO:tensorflow:loss = 1.1376088, step = 11700 (25.264 sec)\n"
          ],
          "name": "stdout"
        },
        {
          "output_type": "stream",
          "text": [
            "INFO:tensorflow:loss = 1.1376088, step = 11700 (25.264 sec)\n"
          ],
          "name": "stderr"
        },
        {
          "output_type": "stream",
          "text": [
            "INFO:tensorflow:global_step/sec: 3.96488\n"
          ],
          "name": "stdout"
        },
        {
          "output_type": "stream",
          "text": [
            "INFO:tensorflow:global_step/sec: 3.96488\n"
          ],
          "name": "stderr"
        },
        {
          "output_type": "stream",
          "text": [
            "INFO:tensorflow:loss = 1.2255995, step = 11800 (25.221 sec)\n"
          ],
          "name": "stdout"
        },
        {
          "output_type": "stream",
          "text": [
            "INFO:tensorflow:loss = 1.2255995, step = 11800 (25.221 sec)\n"
          ],
          "name": "stderr"
        },
        {
          "output_type": "stream",
          "text": [
            "INFO:tensorflow:global_step/sec: 3.9692\n"
          ],
          "name": "stdout"
        },
        {
          "output_type": "stream",
          "text": [
            "INFO:tensorflow:global_step/sec: 3.9692\n"
          ],
          "name": "stderr"
        },
        {
          "output_type": "stream",
          "text": [
            "INFO:tensorflow:loss = 0.8958666, step = 11900 (25.194 sec)\n"
          ],
          "name": "stdout"
        },
        {
          "output_type": "stream",
          "text": [
            "INFO:tensorflow:loss = 0.8958666, step = 11900 (25.194 sec)\n"
          ],
          "name": "stderr"
        },
        {
          "output_type": "stream",
          "text": [
            "INFO:tensorflow:Calling checkpoint listeners before saving checkpoint 12000...\n"
          ],
          "name": "stdout"
        },
        {
          "output_type": "stream",
          "text": [
            "INFO:tensorflow:Calling checkpoint listeners before saving checkpoint 12000...\n"
          ],
          "name": "stderr"
        },
        {
          "output_type": "stream",
          "text": [
            "INFO:tensorflow:Saving checkpoints for 12000 into /gdrive/My Drive/nlp/bert_output/model.ckpt.\n"
          ],
          "name": "stdout"
        },
        {
          "output_type": "stream",
          "text": [
            "INFO:tensorflow:Saving checkpoints for 12000 into /gdrive/My Drive/nlp/bert_output/model.ckpt.\n"
          ],
          "name": "stderr"
        },
        {
          "output_type": "stream",
          "text": [
            "INFO:tensorflow:Calling checkpoint listeners after saving checkpoint 12000...\n"
          ],
          "name": "stdout"
        },
        {
          "output_type": "stream",
          "text": [
            "INFO:tensorflow:Calling checkpoint listeners after saving checkpoint 12000...\n"
          ],
          "name": "stderr"
        },
        {
          "output_type": "stream",
          "text": [
            "INFO:tensorflow:global_step/sec: 1.85712\n"
          ],
          "name": "stdout"
        },
        {
          "output_type": "stream",
          "text": [
            "INFO:tensorflow:global_step/sec: 1.85712\n"
          ],
          "name": "stderr"
        },
        {
          "output_type": "stream",
          "text": [
            "INFO:tensorflow:loss = 0.98620915, step = 12000 (53.847 sec)\n"
          ],
          "name": "stdout"
        },
        {
          "output_type": "stream",
          "text": [
            "INFO:tensorflow:loss = 0.98620915, step = 12000 (53.847 sec)\n"
          ],
          "name": "stderr"
        },
        {
          "output_type": "stream",
          "text": [
            "INFO:tensorflow:global_step/sec: 3.96404\n"
          ],
          "name": "stdout"
        },
        {
          "output_type": "stream",
          "text": [
            "INFO:tensorflow:global_step/sec: 3.96404\n"
          ],
          "name": "stderr"
        },
        {
          "output_type": "stream",
          "text": [
            "INFO:tensorflow:loss = 0.7877749, step = 12100 (25.227 sec)\n"
          ],
          "name": "stdout"
        },
        {
          "output_type": "stream",
          "text": [
            "INFO:tensorflow:loss = 0.7877749, step = 12100 (25.227 sec)\n"
          ],
          "name": "stderr"
        },
        {
          "output_type": "stream",
          "text": [
            "INFO:tensorflow:global_step/sec: 3.96203\n"
          ],
          "name": "stdout"
        },
        {
          "output_type": "stream",
          "text": [
            "INFO:tensorflow:global_step/sec: 3.96203\n"
          ],
          "name": "stderr"
        },
        {
          "output_type": "stream",
          "text": [
            "INFO:tensorflow:loss = 1.4850886, step = 12200 (25.247 sec)\n"
          ],
          "name": "stdout"
        },
        {
          "output_type": "stream",
          "text": [
            "INFO:tensorflow:loss = 1.4850886, step = 12200 (25.247 sec)\n"
          ],
          "name": "stderr"
        },
        {
          "output_type": "stream",
          "text": [
            "INFO:tensorflow:global_step/sec: 3.96213\n"
          ],
          "name": "stdout"
        },
        {
          "output_type": "stream",
          "text": [
            "INFO:tensorflow:global_step/sec: 3.96213\n"
          ],
          "name": "stderr"
        },
        {
          "output_type": "stream",
          "text": [
            "INFO:tensorflow:loss = 1.2751895, step = 12300 (25.232 sec)\n"
          ],
          "name": "stdout"
        },
        {
          "output_type": "stream",
          "text": [
            "INFO:tensorflow:loss = 1.2751895, step = 12300 (25.232 sec)\n"
          ],
          "name": "stderr"
        },
        {
          "output_type": "stream",
          "text": [
            "INFO:tensorflow:global_step/sec: 3.97149\n"
          ],
          "name": "stdout"
        },
        {
          "output_type": "stream",
          "text": [
            "INFO:tensorflow:global_step/sec: 3.97149\n"
          ],
          "name": "stderr"
        },
        {
          "output_type": "stream",
          "text": [
            "INFO:tensorflow:loss = 0.64993685, step = 12400 (25.180 sec)\n"
          ],
          "name": "stdout"
        },
        {
          "output_type": "stream",
          "text": [
            "INFO:tensorflow:loss = 0.64993685, step = 12400 (25.180 sec)\n"
          ],
          "name": "stderr"
        },
        {
          "output_type": "stream",
          "text": [
            "INFO:tensorflow:Calling checkpoint listeners before saving checkpoint 12500...\n"
          ],
          "name": "stdout"
        },
        {
          "output_type": "stream",
          "text": [
            "INFO:tensorflow:Calling checkpoint listeners before saving checkpoint 12500...\n"
          ],
          "name": "stderr"
        },
        {
          "output_type": "stream",
          "text": [
            "INFO:tensorflow:Saving checkpoints for 12500 into /gdrive/My Drive/nlp/bert_output/model.ckpt.\n"
          ],
          "name": "stdout"
        },
        {
          "output_type": "stream",
          "text": [
            "INFO:tensorflow:Saving checkpoints for 12500 into /gdrive/My Drive/nlp/bert_output/model.ckpt.\n"
          ],
          "name": "stderr"
        },
        {
          "output_type": "stream",
          "text": [
            "INFO:tensorflow:Calling checkpoint listeners after saving checkpoint 12500...\n"
          ],
          "name": "stdout"
        },
        {
          "output_type": "stream",
          "text": [
            "INFO:tensorflow:Calling checkpoint listeners after saving checkpoint 12500...\n"
          ],
          "name": "stderr"
        },
        {
          "output_type": "stream",
          "text": [
            "INFO:tensorflow:global_step/sec: 1.89221\n"
          ],
          "name": "stdout"
        },
        {
          "output_type": "stream",
          "text": [
            "INFO:tensorflow:global_step/sec: 1.89221\n"
          ],
          "name": "stderr"
        },
        {
          "output_type": "stream",
          "text": [
            "INFO:tensorflow:loss = 1.4351795, step = 12500 (52.850 sec)\n"
          ],
          "name": "stdout"
        },
        {
          "output_type": "stream",
          "text": [
            "INFO:tensorflow:loss = 1.4351795, step = 12500 (52.850 sec)\n"
          ],
          "name": "stderr"
        },
        {
          "output_type": "stream",
          "text": [
            "INFO:tensorflow:global_step/sec: 3.96236\n"
          ],
          "name": "stdout"
        },
        {
          "output_type": "stream",
          "text": [
            "INFO:tensorflow:global_step/sec: 3.96236\n"
          ],
          "name": "stderr"
        },
        {
          "output_type": "stream",
          "text": [
            "INFO:tensorflow:loss = 0.4833984, step = 12600 (25.235 sec)\n"
          ],
          "name": "stdout"
        },
        {
          "output_type": "stream",
          "text": [
            "INFO:tensorflow:loss = 0.4833984, step = 12600 (25.235 sec)\n"
          ],
          "name": "stderr"
        },
        {
          "output_type": "stream",
          "text": [
            "INFO:tensorflow:global_step/sec: 3.95815\n"
          ],
          "name": "stdout"
        },
        {
          "output_type": "stream",
          "text": [
            "INFO:tensorflow:global_step/sec: 3.95815\n"
          ],
          "name": "stderr"
        },
        {
          "output_type": "stream",
          "text": [
            "INFO:tensorflow:loss = 1.3570521, step = 12700 (25.264 sec)\n"
          ],
          "name": "stdout"
        },
        {
          "output_type": "stream",
          "text": [
            "INFO:tensorflow:loss = 1.3570521, step = 12700 (25.264 sec)\n"
          ],
          "name": "stderr"
        },
        {
          "output_type": "stream",
          "text": [
            "INFO:tensorflow:global_step/sec: 3.9664\n"
          ],
          "name": "stdout"
        },
        {
          "output_type": "stream",
          "text": [
            "INFO:tensorflow:global_step/sec: 3.9664\n"
          ],
          "name": "stderr"
        },
        {
          "output_type": "stream",
          "text": [
            "INFO:tensorflow:loss = 0.6860795, step = 12800 (25.215 sec)\n"
          ],
          "name": "stdout"
        },
        {
          "output_type": "stream",
          "text": [
            "INFO:tensorflow:loss = 0.6860795, step = 12800 (25.215 sec)\n"
          ],
          "name": "stderr"
        },
        {
          "output_type": "stream",
          "text": [
            "INFO:tensorflow:global_step/sec: 3.9744\n"
          ],
          "name": "stdout"
        },
        {
          "output_type": "stream",
          "text": [
            "INFO:tensorflow:global_step/sec: 3.9744\n"
          ],
          "name": "stderr"
        },
        {
          "output_type": "stream",
          "text": [
            "INFO:tensorflow:loss = 0.42824137, step = 12900 (25.158 sec)\n"
          ],
          "name": "stdout"
        },
        {
          "output_type": "stream",
          "text": [
            "INFO:tensorflow:loss = 0.42824137, step = 12900 (25.158 sec)\n"
          ],
          "name": "stderr"
        },
        {
          "output_type": "stream",
          "text": [
            "INFO:tensorflow:Calling checkpoint listeners before saving checkpoint 13000...\n"
          ],
          "name": "stdout"
        },
        {
          "output_type": "stream",
          "text": [
            "INFO:tensorflow:Calling checkpoint listeners before saving checkpoint 13000...\n"
          ],
          "name": "stderr"
        },
        {
          "output_type": "stream",
          "text": [
            "INFO:tensorflow:Saving checkpoints for 13000 into /gdrive/My Drive/nlp/bert_output/model.ckpt.\n"
          ],
          "name": "stdout"
        },
        {
          "output_type": "stream",
          "text": [
            "INFO:tensorflow:Saving checkpoints for 13000 into /gdrive/My Drive/nlp/bert_output/model.ckpt.\n"
          ],
          "name": "stderr"
        },
        {
          "output_type": "stream",
          "text": [
            "INFO:tensorflow:Calling checkpoint listeners after saving checkpoint 13000...\n"
          ],
          "name": "stdout"
        },
        {
          "output_type": "stream",
          "text": [
            "INFO:tensorflow:Calling checkpoint listeners after saving checkpoint 13000...\n"
          ],
          "name": "stderr"
        },
        {
          "output_type": "stream",
          "text": [
            "INFO:tensorflow:global_step/sec: 1.89208\n"
          ],
          "name": "stdout"
        },
        {
          "output_type": "stream",
          "text": [
            "INFO:tensorflow:global_step/sec: 1.89208\n"
          ],
          "name": "stderr"
        },
        {
          "output_type": "stream",
          "text": [
            "INFO:tensorflow:loss = 0.3318752, step = 13000 (52.854 sec)\n"
          ],
          "name": "stdout"
        },
        {
          "output_type": "stream",
          "text": [
            "INFO:tensorflow:loss = 0.3318752, step = 13000 (52.854 sec)\n"
          ],
          "name": "stderr"
        },
        {
          "output_type": "stream",
          "text": [
            "INFO:tensorflow:global_step/sec: 3.9688\n"
          ],
          "name": "stdout"
        },
        {
          "output_type": "stream",
          "text": [
            "INFO:tensorflow:global_step/sec: 3.9688\n"
          ],
          "name": "stderr"
        },
        {
          "output_type": "stream",
          "text": [
            "INFO:tensorflow:loss = 1.0844469, step = 13100 (25.195 sec)\n"
          ],
          "name": "stdout"
        },
        {
          "output_type": "stream",
          "text": [
            "INFO:tensorflow:loss = 1.0844469, step = 13100 (25.195 sec)\n"
          ],
          "name": "stderr"
        },
        {
          "output_type": "stream",
          "text": [
            "INFO:tensorflow:global_step/sec: 3.95815\n"
          ],
          "name": "stdout"
        },
        {
          "output_type": "stream",
          "text": [
            "INFO:tensorflow:global_step/sec: 3.95815\n"
          ],
          "name": "stderr"
        },
        {
          "output_type": "stream",
          "text": [
            "INFO:tensorflow:loss = 0.89189994, step = 13200 (25.267 sec)\n"
          ],
          "name": "stdout"
        },
        {
          "output_type": "stream",
          "text": [
            "INFO:tensorflow:loss = 0.89189994, step = 13200 (25.267 sec)\n"
          ],
          "name": "stderr"
        },
        {
          "output_type": "stream",
          "text": [
            "INFO:tensorflow:global_step/sec: 3.96394\n"
          ],
          "name": "stdout"
        },
        {
          "output_type": "stream",
          "text": [
            "INFO:tensorflow:global_step/sec: 3.96394\n"
          ],
          "name": "stderr"
        },
        {
          "output_type": "stream",
          "text": [
            "INFO:tensorflow:loss = 0.43328834, step = 13300 (25.226 sec)\n"
          ],
          "name": "stdout"
        },
        {
          "output_type": "stream",
          "text": [
            "INFO:tensorflow:loss = 0.43328834, step = 13300 (25.226 sec)\n"
          ],
          "name": "stderr"
        },
        {
          "output_type": "stream",
          "text": [
            "INFO:tensorflow:global_step/sec: 3.97588\n"
          ],
          "name": "stdout"
        },
        {
          "output_type": "stream",
          "text": [
            "INFO:tensorflow:global_step/sec: 3.97588\n"
          ],
          "name": "stderr"
        },
        {
          "output_type": "stream",
          "text": [
            "INFO:tensorflow:loss = 0.8730545, step = 13400 (25.149 sec)\n"
          ],
          "name": "stdout"
        },
        {
          "output_type": "stream",
          "text": [
            "INFO:tensorflow:loss = 0.8730545, step = 13400 (25.149 sec)\n"
          ],
          "name": "stderr"
        },
        {
          "output_type": "stream",
          "text": [
            "INFO:tensorflow:Calling checkpoint listeners before saving checkpoint 13500...\n"
          ],
          "name": "stdout"
        },
        {
          "output_type": "stream",
          "text": [
            "INFO:tensorflow:Calling checkpoint listeners before saving checkpoint 13500...\n"
          ],
          "name": "stderr"
        },
        {
          "output_type": "stream",
          "text": [
            "INFO:tensorflow:Saving checkpoints for 13500 into /gdrive/My Drive/nlp/bert_output/model.ckpt.\n"
          ],
          "name": "stdout"
        },
        {
          "output_type": "stream",
          "text": [
            "INFO:tensorflow:Saving checkpoints for 13500 into /gdrive/My Drive/nlp/bert_output/model.ckpt.\n"
          ],
          "name": "stderr"
        },
        {
          "output_type": "stream",
          "text": [
            "INFO:tensorflow:Calling checkpoint listeners after saving checkpoint 13500...\n"
          ],
          "name": "stdout"
        },
        {
          "output_type": "stream",
          "text": [
            "INFO:tensorflow:Calling checkpoint listeners after saving checkpoint 13500...\n"
          ],
          "name": "stderr"
        },
        {
          "output_type": "stream",
          "text": [
            "INFO:tensorflow:global_step/sec: 1.90827\n"
          ],
          "name": "stdout"
        },
        {
          "output_type": "stream",
          "text": [
            "INFO:tensorflow:global_step/sec: 1.90827\n"
          ],
          "name": "stderr"
        },
        {
          "output_type": "stream",
          "text": [
            "INFO:tensorflow:loss = 0.9240129, step = 13500 (52.405 sec)\n"
          ],
          "name": "stdout"
        },
        {
          "output_type": "stream",
          "text": [
            "INFO:tensorflow:loss = 0.9240129, step = 13500 (52.405 sec)\n"
          ],
          "name": "stderr"
        },
        {
          "output_type": "stream",
          "text": [
            "INFO:tensorflow:global_step/sec: 3.96329\n"
          ],
          "name": "stdout"
        },
        {
          "output_type": "stream",
          "text": [
            "INFO:tensorflow:global_step/sec: 3.96329\n"
          ],
          "name": "stderr"
        },
        {
          "output_type": "stream",
          "text": [
            "INFO:tensorflow:loss = 0.63167006, step = 13600 (25.229 sec)\n"
          ],
          "name": "stdout"
        },
        {
          "output_type": "stream",
          "text": [
            "INFO:tensorflow:loss = 0.63167006, step = 13600 (25.229 sec)\n"
          ],
          "name": "stderr"
        },
        {
          "output_type": "stream",
          "text": [
            "INFO:tensorflow:global_step/sec: 3.95921\n"
          ],
          "name": "stdout"
        },
        {
          "output_type": "stream",
          "text": [
            "INFO:tensorflow:global_step/sec: 3.95921\n"
          ],
          "name": "stderr"
        },
        {
          "output_type": "stream",
          "text": [
            "INFO:tensorflow:loss = 0.93367696, step = 13700 (25.258 sec)\n"
          ],
          "name": "stdout"
        },
        {
          "output_type": "stream",
          "text": [
            "INFO:tensorflow:loss = 0.93367696, step = 13700 (25.258 sec)\n"
          ],
          "name": "stderr"
        },
        {
          "output_type": "stream",
          "text": [
            "INFO:tensorflow:global_step/sec: 3.95783\n"
          ],
          "name": "stdout"
        },
        {
          "output_type": "stream",
          "text": [
            "INFO:tensorflow:global_step/sec: 3.95783\n"
          ],
          "name": "stderr"
        },
        {
          "output_type": "stream",
          "text": [
            "INFO:tensorflow:loss = 0.1501441, step = 13800 (25.268 sec)\n"
          ],
          "name": "stdout"
        },
        {
          "output_type": "stream",
          "text": [
            "INFO:tensorflow:loss = 0.1501441, step = 13800 (25.268 sec)\n"
          ],
          "name": "stderr"
        },
        {
          "output_type": "stream",
          "text": [
            "INFO:tensorflow:global_step/sec: 3.96973\n"
          ],
          "name": "stdout"
        },
        {
          "output_type": "stream",
          "text": [
            "INFO:tensorflow:global_step/sec: 3.96973\n"
          ],
          "name": "stderr"
        },
        {
          "output_type": "stream",
          "text": [
            "INFO:tensorflow:loss = 0.39032832, step = 13900 (25.191 sec)\n"
          ],
          "name": "stdout"
        },
        {
          "output_type": "stream",
          "text": [
            "INFO:tensorflow:loss = 0.39032832, step = 13900 (25.191 sec)\n"
          ],
          "name": "stderr"
        },
        {
          "output_type": "stream",
          "text": [
            "INFO:tensorflow:Calling checkpoint listeners before saving checkpoint 14000...\n"
          ],
          "name": "stdout"
        },
        {
          "output_type": "stream",
          "text": [
            "INFO:tensorflow:Calling checkpoint listeners before saving checkpoint 14000...\n"
          ],
          "name": "stderr"
        },
        {
          "output_type": "stream",
          "text": [
            "INFO:tensorflow:Saving checkpoints for 14000 into /gdrive/My Drive/nlp/bert_output/model.ckpt.\n"
          ],
          "name": "stdout"
        },
        {
          "output_type": "stream",
          "text": [
            "INFO:tensorflow:Saving checkpoints for 14000 into /gdrive/My Drive/nlp/bert_output/model.ckpt.\n"
          ],
          "name": "stderr"
        },
        {
          "output_type": "stream",
          "text": [
            "INFO:tensorflow:Calling checkpoint listeners after saving checkpoint 14000...\n"
          ],
          "name": "stdout"
        },
        {
          "output_type": "stream",
          "text": [
            "INFO:tensorflow:Calling checkpoint listeners after saving checkpoint 14000...\n"
          ],
          "name": "stderr"
        },
        {
          "output_type": "stream",
          "text": [
            "INFO:tensorflow:global_step/sec: 1.89153\n"
          ],
          "name": "stdout"
        },
        {
          "output_type": "stream",
          "text": [
            "INFO:tensorflow:global_step/sec: 1.89153\n"
          ],
          "name": "stderr"
        },
        {
          "output_type": "stream",
          "text": [
            "INFO:tensorflow:loss = 0.9722512, step = 14000 (52.868 sec)\n"
          ],
          "name": "stdout"
        },
        {
          "output_type": "stream",
          "text": [
            "INFO:tensorflow:loss = 0.9722512, step = 14000 (52.868 sec)\n"
          ],
          "name": "stderr"
        },
        {
          "output_type": "stream",
          "text": [
            "INFO:tensorflow:global_step/sec: 3.95967\n"
          ],
          "name": "stdout"
        },
        {
          "output_type": "stream",
          "text": [
            "INFO:tensorflow:global_step/sec: 3.95967\n"
          ],
          "name": "stderr"
        },
        {
          "output_type": "stream",
          "text": [
            "INFO:tensorflow:loss = 0.5655307, step = 14100 (25.257 sec)\n"
          ],
          "name": "stdout"
        },
        {
          "output_type": "stream",
          "text": [
            "INFO:tensorflow:loss = 0.5655307, step = 14100 (25.257 sec)\n"
          ],
          "name": "stderr"
        },
        {
          "output_type": "stream",
          "text": [
            "INFO:tensorflow:global_step/sec: 3.95759\n"
          ],
          "name": "stdout"
        },
        {
          "output_type": "stream",
          "text": [
            "INFO:tensorflow:global_step/sec: 3.95759\n"
          ],
          "name": "stderr"
        },
        {
          "output_type": "stream",
          "text": [
            "INFO:tensorflow:loss = 0.39854446, step = 14200 (25.266 sec)\n"
          ],
          "name": "stdout"
        },
        {
          "output_type": "stream",
          "text": [
            "INFO:tensorflow:loss = 0.39854446, step = 14200 (25.266 sec)\n"
          ],
          "name": "stderr"
        },
        {
          "output_type": "stream",
          "text": [
            "INFO:tensorflow:global_step/sec: 3.96175\n"
          ],
          "name": "stdout"
        },
        {
          "output_type": "stream",
          "text": [
            "INFO:tensorflow:global_step/sec: 3.96175\n"
          ],
          "name": "stderr"
        },
        {
          "output_type": "stream",
          "text": [
            "INFO:tensorflow:loss = 0.30421805, step = 14300 (25.238 sec)\n"
          ],
          "name": "stdout"
        },
        {
          "output_type": "stream",
          "text": [
            "INFO:tensorflow:loss = 0.30421805, step = 14300 (25.238 sec)\n"
          ],
          "name": "stderr"
        },
        {
          "output_type": "stream",
          "text": [
            "INFO:tensorflow:global_step/sec: 3.97038\n"
          ],
          "name": "stdout"
        },
        {
          "output_type": "stream",
          "text": [
            "INFO:tensorflow:global_step/sec: 3.97038\n"
          ],
          "name": "stderr"
        },
        {
          "output_type": "stream",
          "text": [
            "INFO:tensorflow:loss = 2.0400834, step = 14400 (25.187 sec)\n"
          ],
          "name": "stdout"
        },
        {
          "output_type": "stream",
          "text": [
            "INFO:tensorflow:loss = 2.0400834, step = 14400 (25.187 sec)\n"
          ],
          "name": "stderr"
        },
        {
          "output_type": "stream",
          "text": [
            "INFO:tensorflow:Calling checkpoint listeners before saving checkpoint 14500...\n"
          ],
          "name": "stdout"
        },
        {
          "output_type": "stream",
          "text": [
            "INFO:tensorflow:Calling checkpoint listeners before saving checkpoint 14500...\n"
          ],
          "name": "stderr"
        },
        {
          "output_type": "stream",
          "text": [
            "INFO:tensorflow:Saving checkpoints for 14500 into /gdrive/My Drive/nlp/bert_output/model.ckpt.\n"
          ],
          "name": "stdout"
        },
        {
          "output_type": "stream",
          "text": [
            "INFO:tensorflow:Saving checkpoints for 14500 into /gdrive/My Drive/nlp/bert_output/model.ckpt.\n"
          ],
          "name": "stderr"
        },
        {
          "output_type": "stream",
          "text": [
            "INFO:tensorflow:Calling checkpoint listeners after saving checkpoint 14500...\n"
          ],
          "name": "stdout"
        },
        {
          "output_type": "stream",
          "text": [
            "INFO:tensorflow:Calling checkpoint listeners after saving checkpoint 14500...\n"
          ],
          "name": "stderr"
        },
        {
          "output_type": "stream",
          "text": [
            "INFO:tensorflow:global_step/sec: 1.91606\n"
          ],
          "name": "stdout"
        },
        {
          "output_type": "stream",
          "text": [
            "INFO:tensorflow:global_step/sec: 1.91606\n"
          ],
          "name": "stderr"
        },
        {
          "output_type": "stream",
          "text": [
            "INFO:tensorflow:loss = 0.81791544, step = 14500 (52.190 sec)\n"
          ],
          "name": "stdout"
        },
        {
          "output_type": "stream",
          "text": [
            "INFO:tensorflow:loss = 0.81791544, step = 14500 (52.190 sec)\n"
          ],
          "name": "stderr"
        },
        {
          "output_type": "stream",
          "text": [
            "INFO:tensorflow:global_step/sec: 3.96009\n"
          ],
          "name": "stdout"
        },
        {
          "output_type": "stream",
          "text": [
            "INFO:tensorflow:global_step/sec: 3.96009\n"
          ],
          "name": "stderr"
        },
        {
          "output_type": "stream",
          "text": [
            "INFO:tensorflow:loss = 0.18841225, step = 14600 (25.252 sec)\n"
          ],
          "name": "stdout"
        },
        {
          "output_type": "stream",
          "text": [
            "INFO:tensorflow:loss = 0.18841225, step = 14600 (25.252 sec)\n"
          ],
          "name": "stderr"
        },
        {
          "output_type": "stream",
          "text": [
            "INFO:tensorflow:global_step/sec: 3.96257\n"
          ],
          "name": "stdout"
        },
        {
          "output_type": "stream",
          "text": [
            "INFO:tensorflow:global_step/sec: 3.96257\n"
          ],
          "name": "stderr"
        },
        {
          "output_type": "stream",
          "text": [
            "INFO:tensorflow:loss = 1.6354138, step = 14700 (25.237 sec)\n"
          ],
          "name": "stdout"
        },
        {
          "output_type": "stream",
          "text": [
            "INFO:tensorflow:loss = 1.6354138, step = 14700 (25.237 sec)\n"
          ],
          "name": "stderr"
        },
        {
          "output_type": "stream",
          "text": [
            "INFO:tensorflow:global_step/sec: 3.96485\n"
          ],
          "name": "stdout"
        },
        {
          "output_type": "stream",
          "text": [
            "INFO:tensorflow:global_step/sec: 3.96485\n"
          ],
          "name": "stderr"
        },
        {
          "output_type": "stream",
          "text": [
            "INFO:tensorflow:loss = 1.140369, step = 14800 (25.222 sec)\n"
          ],
          "name": "stdout"
        },
        {
          "output_type": "stream",
          "text": [
            "INFO:tensorflow:loss = 1.140369, step = 14800 (25.222 sec)\n"
          ],
          "name": "stderr"
        },
        {
          "output_type": "stream",
          "text": [
            "INFO:tensorflow:global_step/sec: 3.97148\n"
          ],
          "name": "stdout"
        },
        {
          "output_type": "stream",
          "text": [
            "INFO:tensorflow:global_step/sec: 3.97148\n"
          ],
          "name": "stderr"
        },
        {
          "output_type": "stream",
          "text": [
            "INFO:tensorflow:loss = 0.8616246, step = 14900 (25.182 sec)\n"
          ],
          "name": "stdout"
        },
        {
          "output_type": "stream",
          "text": [
            "INFO:tensorflow:loss = 0.8616246, step = 14900 (25.182 sec)\n"
          ],
          "name": "stderr"
        },
        {
          "output_type": "stream",
          "text": [
            "INFO:tensorflow:Calling checkpoint listeners before saving checkpoint 15000...\n"
          ],
          "name": "stdout"
        },
        {
          "output_type": "stream",
          "text": [
            "INFO:tensorflow:Calling checkpoint listeners before saving checkpoint 15000...\n"
          ],
          "name": "stderr"
        },
        {
          "output_type": "stream",
          "text": [
            "INFO:tensorflow:Saving checkpoints for 15000 into /gdrive/My Drive/nlp/bert_output/model.ckpt.\n"
          ],
          "name": "stdout"
        },
        {
          "output_type": "stream",
          "text": [
            "INFO:tensorflow:Saving checkpoints for 15000 into /gdrive/My Drive/nlp/bert_output/model.ckpt.\n"
          ],
          "name": "stderr"
        },
        {
          "output_type": "stream",
          "text": [
            "INFO:tensorflow:Calling checkpoint listeners after saving checkpoint 15000...\n"
          ],
          "name": "stdout"
        },
        {
          "output_type": "stream",
          "text": [
            "INFO:tensorflow:Calling checkpoint listeners after saving checkpoint 15000...\n"
          ],
          "name": "stderr"
        },
        {
          "output_type": "stream",
          "text": [
            "INFO:tensorflow:global_step/sec: 1.88751\n"
          ],
          "name": "stdout"
        },
        {
          "output_type": "stream",
          "text": [
            "INFO:tensorflow:global_step/sec: 1.88751\n"
          ],
          "name": "stderr"
        },
        {
          "output_type": "stream",
          "text": [
            "INFO:tensorflow:loss = 0.64675516, step = 15000 (52.977 sec)\n"
          ],
          "name": "stdout"
        },
        {
          "output_type": "stream",
          "text": [
            "INFO:tensorflow:loss = 0.64675516, step = 15000 (52.977 sec)\n"
          ],
          "name": "stderr"
        },
        {
          "output_type": "stream",
          "text": [
            "INFO:tensorflow:global_step/sec: 3.9566\n"
          ],
          "name": "stdout"
        },
        {
          "output_type": "stream",
          "text": [
            "INFO:tensorflow:global_step/sec: 3.9566\n"
          ],
          "name": "stderr"
        },
        {
          "output_type": "stream",
          "text": [
            "INFO:tensorflow:loss = 0.19910634, step = 15100 (25.274 sec)\n"
          ],
          "name": "stdout"
        },
        {
          "output_type": "stream",
          "text": [
            "INFO:tensorflow:loss = 0.19910634, step = 15100 (25.274 sec)\n"
          ],
          "name": "stderr"
        },
        {
          "output_type": "stream",
          "text": [
            "INFO:tensorflow:global_step/sec: 3.95692\n"
          ],
          "name": "stdout"
        },
        {
          "output_type": "stream",
          "text": [
            "INFO:tensorflow:global_step/sec: 3.95692\n"
          ],
          "name": "stderr"
        },
        {
          "output_type": "stream",
          "text": [
            "INFO:tensorflow:loss = 0.6369163, step = 15200 (25.276 sec)\n"
          ],
          "name": "stdout"
        },
        {
          "output_type": "stream",
          "text": [
            "INFO:tensorflow:loss = 0.6369163, step = 15200 (25.276 sec)\n"
          ],
          "name": "stderr"
        },
        {
          "output_type": "stream",
          "text": [
            "INFO:tensorflow:global_step/sec: 3.96238\n"
          ],
          "name": "stdout"
        },
        {
          "output_type": "stream",
          "text": [
            "INFO:tensorflow:global_step/sec: 3.96238\n"
          ],
          "name": "stderr"
        },
        {
          "output_type": "stream",
          "text": [
            "INFO:tensorflow:loss = 0.66682816, step = 15300 (25.234 sec)\n"
          ],
          "name": "stdout"
        },
        {
          "output_type": "stream",
          "text": [
            "INFO:tensorflow:loss = 0.66682816, step = 15300 (25.234 sec)\n"
          ],
          "name": "stderr"
        },
        {
          "output_type": "stream",
          "text": [
            "INFO:tensorflow:global_step/sec: 3.97264\n"
          ],
          "name": "stdout"
        },
        {
          "output_type": "stream",
          "text": [
            "INFO:tensorflow:global_step/sec: 3.97264\n"
          ],
          "name": "stderr"
        },
        {
          "output_type": "stream",
          "text": [
            "INFO:tensorflow:loss = 0.687816, step = 15400 (25.176 sec)\n"
          ],
          "name": "stdout"
        },
        {
          "output_type": "stream",
          "text": [
            "INFO:tensorflow:loss = 0.687816, step = 15400 (25.176 sec)\n"
          ],
          "name": "stderr"
        },
        {
          "output_type": "stream",
          "text": [
            "INFO:tensorflow:Calling checkpoint listeners before saving checkpoint 15424...\n"
          ],
          "name": "stdout"
        },
        {
          "output_type": "stream",
          "text": [
            "INFO:tensorflow:Calling checkpoint listeners before saving checkpoint 15424...\n"
          ],
          "name": "stderr"
        },
        {
          "output_type": "stream",
          "text": [
            "INFO:tensorflow:Saving checkpoints for 15424 into /gdrive/My Drive/nlp/bert_output/model.ckpt.\n"
          ],
          "name": "stdout"
        },
        {
          "output_type": "stream",
          "text": [
            "INFO:tensorflow:Saving checkpoints for 15424 into /gdrive/My Drive/nlp/bert_output/model.ckpt.\n"
          ],
          "name": "stderr"
        },
        {
          "output_type": "stream",
          "text": [
            "INFO:tensorflow:Calling checkpoint listeners after saving checkpoint 15424...\n"
          ],
          "name": "stdout"
        },
        {
          "output_type": "stream",
          "text": [
            "INFO:tensorflow:Calling checkpoint listeners after saving checkpoint 15424...\n"
          ],
          "name": "stderr"
        },
        {
          "output_type": "stream",
          "text": [
            "INFO:tensorflow:Loss for final step: 1.4423735.\n"
          ],
          "name": "stdout"
        },
        {
          "output_type": "stream",
          "text": [
            "INFO:tensorflow:Loss for final step: 1.4423735.\n"
          ],
          "name": "stderr"
        },
        {
          "output_type": "execute_result",
          "data": {
            "text/plain": [
              "<tensorflow_estimator.python.estimator.estimator.Estimator at 0x7f219487ec18>"
            ]
          },
          "metadata": {
            "tags": []
          },
          "execution_count": 12
        }
      ]
    },
    {
      "cell_type": "markdown",
      "metadata": {
        "id": "B9HKbj2a_p3Q",
        "colab_type": "text"
      },
      "source": [
        "Сделаем предсказания"
      ]
    },
    {
      "cell_type": "code",
      "metadata": {
        "id": "zhErZQsu-SJZ",
        "colab_type": "code",
        "colab": {
          "base_uri": "https://localhost:8080/",
          "height": 255
        },
        "outputId": "aeda1729-13e9-47c5-ef16-4cb624fceda8"
      },
      "source": [
        "test_input_fn = run_classifier.input_fn_builder(features=test_features, seq_length=MAX_SEQ_LENGTH, is_training=False, drop_remainder=False)\n",
        "predictions = estimator.predict(test_input_fn, checkpoint_path='/gdrive/My Drive/nlp/bert_output/model.ckpt-13000')\n",
        "preds = [[prediction['labels'], prediction['probabilities']] for prediction in predictions]\n",
        "pred_labels = [i[0] for i in preds]\n",
        "pred_porbs = [i[1] for i in preds]"
      ],
      "execution_count": 34,
      "outputs": [
        {
          "output_type": "stream",
          "text": [
            "INFO:tensorflow:Calling model_fn.\n"
          ],
          "name": "stdout"
        },
        {
          "output_type": "stream",
          "text": [
            "INFO:tensorflow:Calling model_fn.\n"
          ],
          "name": "stderr"
        },
        {
          "output_type": "stream",
          "text": [
            "INFO:tensorflow:Saver not created because there are no variables in the graph to restore\n"
          ],
          "name": "stdout"
        },
        {
          "output_type": "stream",
          "text": [
            "INFO:tensorflow:Saver not created because there are no variables in the graph to restore\n"
          ],
          "name": "stderr"
        },
        {
          "output_type": "stream",
          "text": [
            "INFO:tensorflow:Done calling model_fn.\n"
          ],
          "name": "stdout"
        },
        {
          "output_type": "stream",
          "text": [
            "INFO:tensorflow:Done calling model_fn.\n"
          ],
          "name": "stderr"
        },
        {
          "output_type": "stream",
          "text": [
            "INFO:tensorflow:Graph was finalized.\n"
          ],
          "name": "stdout"
        },
        {
          "output_type": "stream",
          "text": [
            "INFO:tensorflow:Graph was finalized.\n"
          ],
          "name": "stderr"
        },
        {
          "output_type": "stream",
          "text": [
            "INFO:tensorflow:Restoring parameters from /gdrive/My Drive/nlp/bert_output/model.ckpt-13000\n"
          ],
          "name": "stdout"
        },
        {
          "output_type": "stream",
          "text": [
            "INFO:tensorflow:Restoring parameters from /gdrive/My Drive/nlp/bert_output/model.ckpt-13000\n"
          ],
          "name": "stderr"
        },
        {
          "output_type": "stream",
          "text": [
            "INFO:tensorflow:Running local_init_op.\n"
          ],
          "name": "stdout"
        },
        {
          "output_type": "stream",
          "text": [
            "INFO:tensorflow:Running local_init_op.\n"
          ],
          "name": "stderr"
        },
        {
          "output_type": "stream",
          "text": [
            "INFO:tensorflow:Done running local_init_op.\n"
          ],
          "name": "stdout"
        },
        {
          "output_type": "stream",
          "text": [
            "INFO:tensorflow:Done running local_init_op.\n"
          ],
          "name": "stderr"
        }
      ]
    },
    {
      "cell_type": "code",
      "metadata": {
        "id": "1dCUymXfwLiJ",
        "colab_type": "code",
        "colab": {
          "base_uri": "https://localhost:8080/",
          "height": 238
        },
        "outputId": "ddce7483-6ae7-4f09-964a-099348751bc5"
      },
      "source": [
        "print(classification_report(test.label, pred_labels))\n",
        "print(round(roc_auc_score(np.array(test.label), [list(map(math.exp, x)) for x in pred_porbs], multi_class='ovo'),3))"
      ],
      "execution_count": 42,
      "outputs": [
        {
          "output_type": "stream",
          "text": [
            "              precision    recall  f1-score   support\n",
            "\n",
            "           0       0.62      0.53      0.57       778\n",
            "           1       0.33      0.36      0.35       756\n",
            "           2       0.27      0.33      0.30       751\n",
            "           3       0.31      0.35      0.33       797\n",
            "           4       0.57      0.41      0.47       774\n",
            "\n",
            "    accuracy                           0.40      3856\n",
            "   macro avg       0.42      0.40      0.40      3856\n",
            "weighted avg       0.42      0.40      0.41      3856\n",
            "\n",
            "0.733\n"
          ],
          "name": "stdout"
        }
      ]
    }
  ]
}